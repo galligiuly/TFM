{
 "cells": [
  {
   "cell_type": "markdown",
   "metadata": {},
   "source": [
    "# The Reddit API"
   ]
  },
  {
   "cell_type": "code",
   "execution_count": 2,
   "metadata": {},
   "outputs": [],
   "source": [
    "import praw\n",
    "import pandas as pd\n",
    "import datetime as dt"
   ]
  },
  {
   "cell_type": "code",
   "execution_count": 3,
   "metadata": {},
   "outputs": [],
   "source": [
    "# script-type OAuth done, let's create instance of PRAW\n",
    "\n",
    "reddit = praw.Reddit(client_id='OUlLFyXe2Kb1Mg', \\\n",
    "                     client_secret='jp0pfe5d5j1En5Y1cmGuktB2dKY', \\\n",
    "                     user_agent='praw')"
   ]
  },
  {
   "cell_type": "code",
   "execution_count": 6,
   "metadata": {},
   "outputs": [
    {
     "data": {
      "text/plain": [
       "{'default_set': True,\n",
       " 'user_is_contributor': None,\n",
       " 'banner_img': '',\n",
       " 'disable_contributor_requests': False,\n",
       " 'user_is_banned': None,\n",
       " 'free_form_reports': True,\n",
       " 'community_icon': '',\n",
       " 'show_media': True,\n",
       " 'icon_color': '#FF585B',\n",
       " 'user_is_muted': None,\n",
       " 'display_name': 'u_jlgarhdez',\n",
       " 'header_img': None,\n",
       " 'title': '',\n",
       " 'over_18': False,\n",
       " 'icon_size': [256, 256],\n",
       " 'primary_color': '',\n",
       " 'icon_img': 'https://www.redditstatic.com/avatars/avatar_default_05_FF585B.png',\n",
       " 'description': '',\n",
       " 'header_size': None,\n",
       " 'restrict_posting': True,\n",
       " 'restrict_commenting': False,\n",
       " 'subscribers': 0,\n",
       " 'is_default_icon': True,\n",
       " 'link_flair_position': '',\n",
       " 'display_name_prefixed': 'u/jlgarhdez',\n",
       " 'key_color': '',\n",
       " 'name': 't5_cedh9',\n",
       " 'is_default_banner': True,\n",
       " 'url': '/user/jlgarhdez/',\n",
       " 'banner_size': None,\n",
       " 'user_is_moderator': None,\n",
       " 'public_description': '',\n",
       " 'link_flair_enabled': False,\n",
       " 'subreddit_type': 'user',\n",
       " 'user_is_subscriber': None}"
      ]
     },
     "execution_count": 6,
     "metadata": {},
     "output_type": "execute_result"
    }
   ],
   "source": [
    "reddit.redditor('jlgarhdez').subreddit"
   ]
  },
  {
   "cell_type": "code",
   "execution_count": null,
   "metadata": {},
   "outputs": [],
   "source": []
  }
 ],
 "metadata": {
  "kernelspec": {
   "display_name": "Python 3",
   "language": "python",
   "name": "python3"
  },
  "language_info": {
   "codemirror_mode": {
    "name": "ipython",
    "version": 3
   },
   "file_extension": ".py",
   "mimetype": "text/x-python",
   "name": "python",
   "nbconvert_exporter": "python",
   "pygments_lexer": "ipython3",
   "version": "3.6.7"
  }
 },
 "nbformat": 4,
 "nbformat_minor": 2
}
