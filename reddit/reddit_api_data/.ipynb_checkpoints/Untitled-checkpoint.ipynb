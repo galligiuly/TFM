{
 "cells": [
  {
   "cell_type": "markdown",
   "metadata": {},
   "source": [
    "# The Reddit API"
   ]
  },
  {
   "cell_type": "code",
   "execution_count": 1,
   "metadata": {},
   "outputs": [],
   "source": [
    "import praw\n",
    "import pandas as pd\n",
    "import datetime as dt"
   ]
  },
  {
   "cell_type": "code",
   "execution_count": 2,
   "metadata": {},
   "outputs": [],
   "source": [
    "# script-type OAuth done, let's create instance of PRAW\n",
    "\n",
    "reddit = praw.Reddit(client_id='OUlLFyXe2Kb1Mg', \\\n",
    "                     client_secret='jp0pfe5d5j1En5Y1cmGuktB2dKY', \\\n",
    "                     user_agent='praw')"
   ]
  },
  {
   "cell_type": "code",
   "execution_count": 3,
   "metadata": {},
   "outputs": [
    {
     "data": {
      "text/plain": [
       "{'default_set': True,\n",
       " 'user_is_contributor': None,\n",
       " 'banner_img': 'https://styles.redditmedia.com/t5_3rycy/styles/profileBanner_tj3oz3ryby001.png?width=1280&height=384&crop=1280:384,smart&s=9299d2e050194dfd46d2410c40e896c886b620d6',\n",
       " 'restrict_posting': True,\n",
       " 'user_is_banned': None,\n",
       " 'free_form_reports': True,\n",
       " 'community_icon': '',\n",
       " 'show_media': True,\n",
       " 'icon_color': '',\n",
       " 'user_is_muted': None,\n",
       " 'display_name': 'u_redditads',\n",
       " 'header_img': None,\n",
       " 'title': 'Reddit Ads',\n",
       " 'over_18': False,\n",
       " 'icon_size': [256, 256],\n",
       " 'primary_color': '',\n",
       " 'icon_img': 'https://styles.redditmedia.com/t5_3rycy/styles/profileIcon_mb69hitxby001.png?width=256&height=256&crop=256:256,smart&s=35847f29c71b4d787149fcff8a911b4a46d1e03f',\n",
       " 'description': '',\n",
       " 'submit_link_label': '',\n",
       " 'header_size': None,\n",
       " 'restrict_commenting': False,\n",
       " 'subscribers': 0,\n",
       " 'submit_text_label': '',\n",
       " 'is_default_icon': False,\n",
       " 'link_flair_position': '',\n",
       " 'display_name_prefixed': 'u/redditads',\n",
       " 'key_color': '',\n",
       " 'name': 't5_3rycy',\n",
       " 'is_default_banner': False,\n",
       " 'url': '/user/redditads/',\n",
       " 'banner_size': [1280, 384],\n",
       " 'user_is_moderator': None,\n",
       " 'public_description': 'Upvote your advertising!',\n",
       " 'link_flair_enabled': False,\n",
       " 'disable_contributor_requests': False,\n",
       " 'subreddit_type': 'user',\n",
       " 'user_is_subscriber': None}"
      ]
     },
     "execution_count": 3,
     "metadata": {},
     "output_type": "execute_result"
    }
   ],
   "source": [
    "reddit.redditor('redditads').subreddit"
   ]
  },
  {
   "cell_type": "code",
   "execution_count": 4,
   "metadata": {},
   "outputs": [],
   "source": [
    "subreddit = reddit.subreddit(\"redditads\")"
   ]
  },
  {
   "cell_type": "code",
   "execution_count": 5,
   "metadata": {},
   "outputs": [
    {
     "data": {
      "text/plain": [
       "Subreddit(display_name='redditads')"
      ]
     },
     "execution_count": 5,
     "metadata": {},
     "output_type": "execute_result"
    }
   ],
   "source": [
    "subreddit"
   ]
  },
  {
   "cell_type": "code",
   "execution_count": 7,
   "metadata": {},
   "outputs": [],
   "source": [
    "new_redditads = subreddit.new(limit=5)"
   ]
  },
  {
   "cell_type": "code",
   "execution_count": 8,
   "metadata": {},
   "outputs": [
    {
     "name": "stdout",
     "output_type": "stream",
     "text": [
      "d4eiry\n",
      "d4ap6s\n",
      "d43rsh\n",
      "d3nrxq\n",
      "d3h8dl\n"
     ]
    }
   ],
   "source": [
    "# how to get the ID\n",
    "for submission in new_redditads:\n",
    "    print(submission)"
   ]
  },
  {
   "cell_type": "code",
   "execution_count": 9,
   "metadata": {},
   "outputs": [],
   "source": []
  },
  {
   "cell_type": "code",
   "execution_count": null,
   "metadata": {},
   "outputs": [],
   "source": []
  }
 ],
 "metadata": {
  "kernelspec": {
   "display_name": "Python 3",
   "language": "python",
   "name": "python3"
  },
  "language_info": {
   "codemirror_mode": {
    "name": "ipython",
    "version": 3
   },
   "file_extension": ".py",
   "mimetype": "text/x-python",
   "name": "python",
   "nbconvert_exporter": "python",
   "pygments_lexer": "ipython3",
   "version": "3.6.7"
  }
 },
 "nbformat": 4,
 "nbformat_minor": 2
}
