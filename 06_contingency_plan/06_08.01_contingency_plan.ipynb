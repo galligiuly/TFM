{
 "cells": [
  {
   "cell_type": "markdown",
   "metadata": {
    "colab_type": "text",
    "id": "RCpiUvbci77N"
   },
   "source": [
    "# Contingency plan"
   ]
  },
  {
   "cell_type": "markdown",
   "metadata": {
    "colab_type": "text",
    "id": "7qZlfctTjCRy"
   },
   "source": [
    "## Filter the data"
   ]
  },
  {
   "cell_type": "markdown",
   "metadata": {
    "colab_type": "text",
    "id": "FVVsqA4tjFFL"
   },
   "source": [
    "As I could see from the previous steps, the large amount of data don't allow me to experiment ML techniques with the tools I have.\n",
    "\n",
    "My contingency plan is to show that I can follow all the steps through preprocessing, cleaning, adapting it, and modelling Machine Learning techniques.\n",
    "\n",
    "To do so, I'll reduce my original data to approximately 1/5 and apply all the steps I've been doing so far in order to get finally a complete processed ML model."
   ]
  },
  {
   "cell_type": "code",
   "execution_count": 0,
   "metadata": {
    "colab": {
     "base_uri": "https://localhost:8080/",
     "height": 34
    },
    "colab_type": "code",
    "executionInfo": {
     "elapsed": 19227,
     "status": "ok",
     "timestamp": 1574971028480,
     "user": {
      "displayName": "Giulia Galli",
      "photoUrl": "https://lh3.googleusercontent.com/a-/AAuE7mA0mR9HBpRsWYUC7iO9dMkjqV1INApvYj8BR6Jzrg=s64",
      "userId": "04241558194917102873"
     },
     "user_tz": -60
    },
    "id": "xc2maLqyi2dB",
    "outputId": "576479a8-4fb1-499f-d9ef-aec75170e7d6"
   },
   "outputs": [
    {
     "name": "stdout",
     "output_type": "stream",
     "text": [
      "Authenticated\n"
     ]
    }
   ],
   "source": [
    "from google.colab import auth\n",
    "auth.authenticate_user()\n",
    "print('Authenticated')"
   ]
  },
  {
   "cell_type": "code",
   "execution_count": 0,
   "metadata": {
    "colab": {
     "base_uri": "https://localhost:8080/",
     "height": 258
    },
    "colab_type": "code",
    "executionInfo": {
     "elapsed": 41849,
     "status": "ok",
     "timestamp": 1574973132369,
     "user": {
      "displayName": "Giulia Galli",
      "photoUrl": "https://lh3.googleusercontent.com/a-/AAuE7mA0mR9HBpRsWYUC7iO9dMkjqV1INApvYj8BR6Jzrg=s64",
      "userId": "04241558194917102873"
     },
     "user_tz": -60
    },
    "id": "8Vn3ENdQtiMe",
    "outputId": "2b1b6072-9c7b-49eb-bfa1-ef5aa2846521"
   },
   "outputs": [
    {
     "name": "stdout",
     "output_type": "stream",
     "text": [
      "Go to the following link in your browser:\n",
      "\n",
      "    https://accounts.google.com/o/oauth2/auth?code_challenge=xTmrgghaNbMq0vonHqTXNb2jOKouAEVBgrSPjGlA4Uk&prompt=select_account&code_challenge_method=S256&access_type=offline&redirect_uri=urn%3Aietf%3Awg%3Aoauth%3A2.0%3Aoob&response_type=code&client_id=32555940559.apps.googleusercontent.com&scope=https%3A%2F%2Fwww.googleapis.com%2Fauth%2Fuserinfo.email+https%3A%2F%2Fwww.googleapis.com%2Fauth%2Fcloud-platform+https%3A%2F%2Fwww.googleapis.com%2Fauth%2Fappengine.admin+https%3A%2F%2Fwww.googleapis.com%2Fauth%2Fcompute+https%3A%2F%2Fwww.googleapis.com%2Fauth%2Faccounts.reauth\n",
      "\n",
      "\n",
      "Enter verification code: 4/twFpG67ZETE6JPtBd4Gq8w4BzvTStDe5JIKMmoaBoIUk7GqUhJBSR60\n",
      "\u001b[1;33mWARNING:\u001b[0m `gcloud auth login` no longer writes application default credentials.\n",
      "If you need to use ADC, see:\n",
      "  gcloud auth application-default --help\n",
      "\n",
      "You are now logged in as [galli.giuly@gmail.com].\n",
      "Your current project is [None].  You can change this setting by running:\n",
      "  $ gcloud config set project PROJECT_ID\n"
     ]
    }
   ],
   "source": [
    "!gcloud auth login"
   ]
  },
  {
   "cell_type": "code",
   "execution_count": 0,
   "metadata": {
    "colab": {
     "base_uri": "https://localhost:8080/",
     "height": 34
    },
    "colab_type": "code",
    "executionInfo": {
     "elapsed": 922,
     "status": "ok",
     "timestamp": 1574971039741,
     "user": {
      "displayName": "Giulia Galli",
      "photoUrl": "https://lh3.googleusercontent.com/a-/AAuE7mA0mR9HBpRsWYUC7iO9dMkjqV1INApvYj8BR6Jzrg=s64",
      "userId": "04241558194917102873"
     },
     "user_tz": -60
    },
    "id": "2oZMnIc-llSm",
    "outputId": "01d46b20-64c9-4f36-ba2c-30d35553c7af"
   },
   "outputs": [
    {
     "name": "stdout",
     "output_type": "stream",
     "text": [
      "env: GCLOUD_PROJECT=reddit-254019\n"
     ]
    }
   ],
   "source": [
    "%env GCLOUD_PROJECT=reddit-254019"
   ]
  },
  {
   "cell_type": "markdown",
   "metadata": {
    "colab_type": "text",
    "id": "rTEULU-FoMV7"
   },
   "source": [
    "### Reddit comments - BQ download"
   ]
  },
  {
   "cell_type": "markdown",
   "metadata": {
    "colab_type": "text",
    "id": "9v7tOA-Vmlo_"
   },
   "source": [
    "I'll run the query below for `reddit_comments` where the limit it's now 153643 for each subreddit and the length of the body I've change to > 50. \n",
    "\n",
    "The final result is **reduced_comments_2018**\n",
    "\n",
    "\n",
    "```sql\n",
    "SELECT\n",
    "  *\n",
    "FROM (\n",
    "  SELECT\n",
    "    subreddit,\n",
    "    body\n",
    "  FROM\n",
    "    `fh-bigquery.reddit_comments.2018*`\n",
    "  WHERE\n",
    "    subreddit = 'politics'\n",
    "    AND LENGTH(body) > 50\n",
    "    AND body != '[deleted]'\n",
    "    AND body != '[removed]'\n",
    "    AND body != '[ Removed by reddit in response to a copyright notice. ]'\n",
    "    AND body != 'NaN'\n",
    "    AND body != ''\n",
    "  LIMIT\n",
    "    153643)\n",
    "UNION ALL (\n",
    "  SELECT\n",
    "    subreddit,\n",
    "    body\n",
    "  FROM\n",
    "    `fh-bigquery.reddit_comments.2018*`\n",
    "  WHERE\n",
    "    subreddit = 'funny'\n",
    "    AND LENGTH(body) > 50\n",
    "    AND body != '[deleted]'\n",
    "    AND body != '[removed]'\n",
    "    AND body != '[ Removed by reddit in response to a copyright notice. ]'\n",
    "    AND body != 'NaN'\n",
    "    AND body != ''\n",
    "  LIMIT\n",
    "    153643)\n",
    "UNION ALL (\n",
    "  SELECT\n",
    "    subreddit,\n",
    "    body\n",
    "  FROM\n",
    "    `fh-bigquery.reddit_comments.2018*`\n",
    "  WHERE\n",
    "    subreddit = 'gaming'\n",
    "    AND LENGTH(body) > 50\n",
    "    AND body != '[deleted]'\n",
    "    AND body != '[removed]'\n",
    "    AND body != '[ Removed by reddit in response to a copyright notice. ]'\n",
    "    AND body != 'NaN'\n",
    "    AND body != ''\n",
    "  LIMIT\n",
    "    153643)\n",
    "UNION ALL (\n",
    "  SELECT\n",
    "    subreddit,\n",
    "    body\n",
    "  FROM\n",
    "    `fh-bigquery.reddit_comments.2018*`\n",
    "  WHERE\n",
    "    subreddit = 'nba'\n",
    "    AND LENGTH(body) > 50\n",
    "    AND body != '[deleted]'\n",
    "    AND body != '[removed]'\n",
    "    AND body != '[ Removed by reddit in response to a copyright notice. ]'\n",
    "    AND body != 'NaN'\n",
    "    AND body != ''\n",
    "  LIMIT\n",
    "    153643)\n",
    "UNION ALL (\n",
    "  SELECT\n",
    "    subreddit,\n",
    "    body\n",
    "  FROM\n",
    "    `fh-bigquery.reddit_comments.2018*`\n",
    "  WHERE\n",
    "    subreddit = 'worldnews'\n",
    "    AND LENGTH(body) > 50\n",
    "    AND body != '[deleted]'\n",
    "    AND body != '[removed]'\n",
    "    AND body != '[ Removed by reddit in response to a copyright notice. ]'\n",
    "    AND body != 'NaN'\n",
    "    AND body != ''\n",
    "  LIMIT\n",
    "    153643)\n",
    "UNION ALL (\n",
    "  SELECT\n",
    "    subreddit,\n",
    "    body\n",
    "  FROM\n",
    "    `fh-bigquery.reddit_comments.2018*`\n",
    "  WHERE\n",
    "    subreddit = 'todayilearned'\n",
    "    AND LENGTH(body) > 50\n",
    "    AND body != '[deleted]'\n",
    "    AND body != '[removed]'\n",
    "    AND body != '[ Removed by reddit in response to a copyright notice. ]'\n",
    "    AND body != 'NaN'\n",
    "    AND body != ''\n",
    "  LIMIT\n",
    "    153643)\n",
    "UNION ALL (\n",
    "  SELECT\n",
    "    subreddit,\n",
    "    body\n",
    "  FROM\n",
    "    `fh-bigquery.reddit_comments.2018*`\n",
    "  WHERE\n",
    "    subreddit = 'movies'\n",
    "    AND LENGTH(body) > 50\n",
    "    AND body != '[deleted]'\n",
    "    AND body != '[removed]'\n",
    "    AND body != '[ Removed by reddit in response to a copyright notice. ]'\n",
    "    AND body != 'NaN'\n",
    "    AND body != ''\n",
    "  LIMIT\n",
    "    153643)\n",
    "UNION ALL (\n",
    "  SELECT\n",
    "    subreddit,\n",
    "    body\n",
    "  FROM\n",
    "    `fh-bigquery.reddit_comments.2018*`\n",
    "  WHERE\n",
    "    subreddit = 'IAmA'\n",
    "    AND LENGTH(body) > 50\n",
    "    AND body != '[deleted]'\n",
    "    AND body != '[removed]'\n",
    "    AND body != '[ Removed by reddit in response to a copyright notice. ]'\n",
    "    AND body != 'NaN'\n",
    "    AND body != ''\n",
    "  LIMIT\n",
    "    153643)\n",
    "UNION ALL (\n",
    "  SELECT\n",
    "    subreddit,\n",
    "    body\n",
    "  FROM\n",
    "    `fh-bigquery.reddit_comments.2018*`\n",
    "  WHERE\n",
    "    subreddit = 'atheism'\n",
    "    AND LENGTH(body) > 50\n",
    "    AND body != '[deleted]'\n",
    "    AND body != '[removed]'\n",
    "    AND body != '[ Removed by reddit in response to a copyright notice. ]'\n",
    "    AND body != 'NaN'\n",
    "    AND body != ''\n",
    "  LIMIT\n",
    "    153643)\n",
    "UNION ALL (\n",
    "  SELECT\n",
    "    subreddit,\n",
    "    body\n",
    "  FROM\n",
    "    `fh-bigquery.reddit_comments.2018*`\n",
    "  WHERE\n",
    "    subreddit = 'aww'\n",
    "    AND LENGTH(body) > 50\n",
    "    AND body != '[deleted]'\n",
    "    AND body != '[removed]'\n",
    "    AND body != '[ Removed by reddit in response to a copyright notice. ]'\n",
    "    AND body != 'NaN'\n",
    "    AND body != ''\n",
    "  LIMIT\n",
    "    153643)\n",
    "UNION ALL (\n",
    "  SELECT\n",
    "    subreddit,\n",
    "    body\n",
    "  FROM\n",
    "    `fh-bigquery.reddit_comments.2018*`\n",
    "  WHERE\n",
    "    subreddit = 'technology'\n",
    "    AND LENGTH(body) > 50\n",
    "    AND body != '[deleted]'\n",
    "    AND body != '[removed]'\n",
    "    AND body != '[ Removed by reddit in response to a copyright notice. ]'\n",
    "    AND body != 'NaN'\n",
    "    AND body != ''\n",
    "  LIMIT\n",
    "    153643)\n",
    "UNION ALL (\n",
    "  SELECT\n",
    "    subreddit,\n",
    "    body\n",
    "  FROM\n",
    "    `fh-bigquery.reddit_comments.2018*`\n",
    "  WHERE\n",
    "    subreddit = 'Fitness'\n",
    "    AND LENGTH(body) > 50\n",
    "    AND body != '[deleted]'\n",
    "    AND body != '[removed]'\n",
    "    AND body != '[ Removed by reddit in response to a copyright notice. ]'\n",
    "    AND body != 'NaN'\n",
    "    AND body != ''\n",
    "  LIMIT\n",
    "    153643)\n",
    "UNION ALL (\n",
    "  SELECT\n",
    "    subreddit,\n",
    "    body\n",
    "  FROM\n",
    "    `fh-bigquery.reddit_comments.2018*`\n",
    "  WHERE\n",
    "    subreddit = 'europe'\n",
    "    AND LENGTH(body) > 50\n",
    "    AND body != '[deleted]'\n",
    "    AND body != '[removed]'\n",
    "    AND body != '[ Removed by reddit in response to a copyright notice. ]'\n",
    "    AND body != 'NaN'\n",
    "    AND body != ''\n",
    "  LIMIT\n",
    "    153643)\n",
    "UNION ALL (\n",
    "  SELECT\n",
    "    subreddit,\n",
    "    body\n",
    "  FROM\n",
    "    `fh-bigquery.reddit_comments.2018*`\n",
    "  WHERE\n",
    "    subreddit = 'science'\n",
    "    AND LENGTH(body) > 50 \n",
    "    AND body != '[deleted]'\n",
    "    AND body != '[removed]'\n",
    "    AND body != '[ Removed by reddit in response to a copyright notice. ]'\n",
    "    AND body != 'NaN'\n",
    "    AND body != ''\n",
    "  LIMIT\n",
    "    153643)\n",
    "\n",
    "```\n"
   ]
  },
  {
   "cell_type": "markdown",
   "metadata": {
    "colab_type": "text",
    "id": "mgFQJLgToKb_"
   },
   "source": [
    "### Reddit posts - BQ downoload"
   ]
  },
  {
   "cell_type": "markdown",
   "metadata": {
    "colab_type": "text",
    "id": "n4ddICPwoJz8"
   },
   "source": [
    "I'll run the query below for `reddit_posts` where the limit it's now 153643 for each subreddit and the length of the selftext I've change to > 10.\n",
    "\n",
    "The final result is **reduced_posts_2018**\n",
    "\n",
    "\n",
    "```sql\n",
    "SELECT\n",
    "  *\n",
    "FROM (\n",
    "  SELECT\n",
    "    subreddit,\n",
    "    title,\n",
    "    selftext\n",
    "  FROM\n",
    "    `fh-bigquery.reddit_posts.2018*`\n",
    "  WHERE\n",
    "    subreddit = 'politics'\n",
    "    AND ((LENGTH(title) > 5\n",
    "        AND LENGTH(selftext) > 10)\n",
    "      OR ((selftext != '[deleted]'\n",
    "          AND LENGTH(title) > 5)\n",
    "        AND (selftext != '[removed]'\n",
    "          AND LENGTH(title) > 5)\n",
    "        AND (selftext != '[ Removed by reddit in response to a copyright notice. ]'\n",
    "          AND LENGTH(title) > 5)\n",
    "        AND (selftext != 'NaN'\n",
    "          AND LENGTH(title) > 5)\n",
    "        AND (selftext != ''\n",
    "          AND LENGTH(title) > 5)))\n",
    "  LIMIT\n",
    "    1581)\n",
    "UNION ALL (\n",
    "  SELECT\n",
    "    subreddit,\n",
    "    title,\n",
    "    selftext\n",
    "  FROM\n",
    "    `fh-bigquery.reddit_posts.2018*`\n",
    "  WHERE\n",
    "    subreddit = 'funny'\n",
    "    AND ((LENGTH(title) > 5\n",
    "        AND LENGTH(selftext) > 10)\n",
    "      OR ((selftext != '[deleted]'\n",
    "          AND LENGTH(title) > 5)\n",
    "        AND (selftext != '[removed]'\n",
    "          AND LENGTH(title) > 5)\n",
    "        AND (selftext != '[ Removed by reddit in response to a copyright notice. ]'\n",
    "          AND LENGTH(title) > 5)\n",
    "        AND (selftext != 'NaN'\n",
    "          AND LENGTH(title) > 5)\n",
    "        AND (selftext != ''\n",
    "          AND LENGTH(title) > 5)))\n",
    "  LIMIT\n",
    "    1581)\n",
    "UNION ALL (\n",
    "  SELECT\n",
    "    subreddit,\n",
    "    title,\n",
    "    selftext\n",
    "  FROM\n",
    "    `fh-bigquery.reddit_posts.2018*`\n",
    "  WHERE\n",
    "    subreddit = 'gaming'\n",
    "    AND ((LENGTH(title) > 5\n",
    "        AND LENGTH(selftext) > 10)\n",
    "      OR ((selftext != '[deleted]'\n",
    "          AND LENGTH(title) > 5)\n",
    "        AND (selftext != '[removed]'\n",
    "          AND LENGTH(title) > 5)\n",
    "        AND (selftext != '[ Removed by reddit in response to a copyright notice. ]'\n",
    "          AND LENGTH(title) > 5)\n",
    "        AND (selftext != 'NaN'\n",
    "          AND LENGTH(title) > 5)\n",
    "        AND (selftext != ''\n",
    "          AND LENGTH(title) > 5)))\n",
    "  LIMIT\n",
    "    1581)\n",
    "UNION ALL (\n",
    "  SELECT\n",
    "    subreddit,\n",
    "    title,\n",
    "    selftext\n",
    "  FROM\n",
    "    `fh-bigquery.reddit_posts.2018*`\n",
    "  WHERE\n",
    "    subreddit = 'nba'\n",
    "    AND ((LENGTH(title) > 5\n",
    "        AND LENGTH(selftext) > 10)\n",
    "      OR ((selftext != '[deleted]'\n",
    "          AND LENGTH(title) > 5)\n",
    "        AND (selftext != '[removed]'\n",
    "          AND LENGTH(title) > 5)\n",
    "        AND (selftext != '[ Removed by reddit in response to a copyright notice. ]'\n",
    "          AND LENGTH(title) > 5)\n",
    "        AND (selftext != 'NaN'\n",
    "          AND LENGTH(title) > 5)\n",
    "        AND (selftext != ''\n",
    "          AND LENGTH(title) > 5)))\n",
    "  LIMIT\n",
    "    1581)\n",
    "UNION ALL (\n",
    "  SELECT\n",
    "    subreddit,\n",
    "    title,\n",
    "    selftext\n",
    "  FROM\n",
    "    `fh-bigquery.reddit_posts.2018*`\n",
    "  WHERE\n",
    "    subreddit = 'worldnews'\n",
    "    AND ((LENGTH(title) > 5\n",
    "        AND LENGTH(selftext) > 10)\n",
    "      OR ((selftext != '[deleted]'\n",
    "          AND LENGTH(title) > 5)\n",
    "        AND (selftext != '[removed]'\n",
    "          AND LENGTH(title) > 5)\n",
    "        AND (selftext != '[ Removed by reddit in response to a copyright notice. ]'\n",
    "          AND LENGTH(title) > 5)\n",
    "        AND (selftext != 'NaN'\n",
    "          AND LENGTH(title) > 5)\n",
    "        AND (selftext != ''\n",
    "          AND LENGTH(title) > 5)))\n",
    "  LIMIT\n",
    "    1581)\n",
    "UNION ALL (\n",
    "  SELECT\n",
    "    subreddit,\n",
    "    title,\n",
    "    selftext\n",
    "  FROM\n",
    "    `fh-bigquery.reddit_posts.2018*`\n",
    "  WHERE\n",
    "    subreddit = 'todayilearned'\n",
    "    AND ((LENGTH(title) > 5\n",
    "        AND LENGTH(selftext) > 10)\n",
    "      OR ((selftext != '[deleted]'\n",
    "          AND LENGTH(title) > 5)\n",
    "        AND (selftext != '[removed]'\n",
    "          AND LENGTH(title) > 5)\n",
    "        AND (selftext != '[ Removed by reddit in response to a copyright notice. ]'\n",
    "          AND LENGTH(title) > 5)\n",
    "        AND (selftext != 'NaN'\n",
    "          AND LENGTH(title) > 5)\n",
    "        AND (selftext != ''\n",
    "          AND LENGTH(title) > 5)))\n",
    "  LIMIT\n",
    "    1581)\n",
    "UNION ALL (\n",
    "  SELECT\n",
    "    subreddit,\n",
    "    title,\n",
    "    selftext\n",
    "  FROM\n",
    "    `fh-bigquery.reddit_posts.2018*`\n",
    "  WHERE\n",
    "    subreddit = 'movies'\n",
    "    AND ((LENGTH(title) > 5\n",
    "        AND LENGTH(selftext) > 10)\n",
    "      OR ((selftext != '[deleted]'\n",
    "          AND LENGTH(title) > 5)\n",
    "        AND (selftext != '[removed]'\n",
    "          AND LENGTH(title) > 5)\n",
    "        AND (selftext != '[ Removed by reddit in response to a copyright notice. ]'\n",
    "          AND LENGTH(title) > 5)\n",
    "        AND (selftext != 'NaN'\n",
    "          AND LENGTH(title) > 5)\n",
    "        AND (selftext != ''\n",
    "          AND LENGTH(title) > 5)))\n",
    "  LIMIT\n",
    "    1581)\n",
    "UNION ALL (\n",
    "  SELECT\n",
    "    subreddit,\n",
    "    title,\n",
    "    selftext\n",
    "  FROM\n",
    "    `fh-bigquery.reddit_posts.2018*`\n",
    "  WHERE\n",
    "    subreddit = 'IAmA'\n",
    "    AND ((LENGTH(title) > 5\n",
    "        AND LENGTH(selftext) > 10)\n",
    "      OR ((selftext != '[deleted]'\n",
    "          AND LENGTH(title) > 5)\n",
    "        AND (selftext != '[removed]'\n",
    "          AND LENGTH(title) > 5)\n",
    "        AND (selftext != '[ Removed by reddit in response to a copyright notice. ]'\n",
    "          AND LENGTH(title) > 5)\n",
    "        AND (selftext != 'NaN'\n",
    "          AND LENGTH(title) > 5)\n",
    "        AND (selftext != ''\n",
    "          AND LENGTH(title) > 5)))\n",
    "  LIMIT\n",
    "    1581)\n",
    "UNION ALL (\n",
    "  SELECT\n",
    "    subreddit,\n",
    "    title,\n",
    "    selftext\n",
    "  FROM\n",
    "    `fh-bigquery.reddit_posts.2018*`\n",
    "  WHERE\n",
    "    subreddit = 'atheism'\n",
    "    AND ((LENGTH(title) > 5\n",
    "        AND LENGTH(selftext) > 10)\n",
    "      OR ((selftext != '[deleted]'\n",
    "          AND LENGTH(title) > 5)\n",
    "        AND (selftext != '[removed]'\n",
    "          AND LENGTH(title) > 5)\n",
    "        AND (selftext != '[ Removed by reddit in response to a copyright notice. ]'\n",
    "          AND LENGTH(title) > 5)\n",
    "        AND (selftext != 'NaN'\n",
    "          AND LENGTH(title) > 5)\n",
    "        AND (selftext != ''\n",
    "          AND LENGTH(title) > 5)))\n",
    "  LIMIT\n",
    "    1581)\n",
    "UNION ALL (\n",
    "  SELECT\n",
    "    subreddit,\n",
    "    title,\n",
    "    selftext\n",
    "  FROM\n",
    "    `fh-bigquery.reddit_posts.2018*`\n",
    "  WHERE\n",
    "    subreddit = 'aww'\n",
    "    AND ((LENGTH(title) > 5\n",
    "        AND LENGTH(selftext) > 10)\n",
    "      OR ((selftext != '[deleted]'\n",
    "          AND LENGTH(title) > 5)\n",
    "        AND (selftext != '[removed]'\n",
    "          AND LENGTH(title) > 5)\n",
    "        AND (selftext != '[ Removed by reddit in response to a copyright notice. ]'\n",
    "          AND LENGTH(title) > 5)\n",
    "        AND (selftext != 'NaN'\n",
    "          AND LENGTH(title) > 5)\n",
    "        AND (selftext != ''\n",
    "          AND LENGTH(title) > 5)))\n",
    "  LIMIT\n",
    "    1581)\n",
    "UNION ALL (\n",
    "  SELECT\n",
    "    subreddit,\n",
    "    title,\n",
    "    selftext\n",
    "  FROM\n",
    "    `fh-bigquery.reddit_posts.2018*`\n",
    "  WHERE\n",
    "    subreddit = 'technology'\n",
    "    AND ((LENGTH(title) > 5\n",
    "        AND LENGTH(selftext) > 10)\n",
    "      OR ((selftext != '[deleted]'\n",
    "          AND LENGTH(title) > 5)\n",
    "        AND (selftext != '[removed]'\n",
    "          AND LENGTH(title) > 5)\n",
    "        AND (selftext != '[ Removed by reddit in response to a copyright notice. ]'\n",
    "          AND LENGTH(title) > 5)\n",
    "        AND (selftext != 'NaN'\n",
    "          AND LENGTH(title) > 5)\n",
    "        AND (selftext != ''\n",
    "          AND LENGTH(title) > 5)))\n",
    "  LIMIT\n",
    "    1581)\n",
    "UNION ALL (\n",
    "  SELECT\n",
    "    subreddit,\n",
    "    title,\n",
    "    selftext\n",
    "  FROM\n",
    "    `fh-bigquery.reddit_posts.2018*`\n",
    "  WHERE\n",
    "    subreddit = 'Fitness'\n",
    "    AND ((LENGTH(title) > 5\n",
    "        AND LENGTH(selftext) > 10)\n",
    "      OR ((selftext != '[deleted]'\n",
    "          AND LENGTH(title) > 5)\n",
    "        AND (selftext != '[removed]'\n",
    "          AND LENGTH(title) > 5)\n",
    "        AND (selftext != '[ Removed by reddit in response to a copyright notice. ]'\n",
    "          AND LENGTH(title) > 5)\n",
    "        AND (selftext != 'NaN'\n",
    "          AND LENGTH(title) > 5)\n",
    "        AND (selftext != ''\n",
    "          AND LENGTH(title) > 5)))\n",
    "  LIMIT\n",
    "    1581)\n",
    "UNION ALL (\n",
    "  SELECT\n",
    "    subreddit,\n",
    "    title,\n",
    "    selftext\n",
    "  FROM\n",
    "    `fh-bigquery.reddit_posts.2018*`\n",
    "  WHERE\n",
    "    subreddit = 'europe'\n",
    "    AND ((LENGTH(title) > 5\n",
    "        AND LENGTH(selftext) > 10)\n",
    "      OR ((selftext != '[deleted]'\n",
    "          AND LENGTH(title) > 5)\n",
    "        AND (selftext != '[removed]'\n",
    "          AND LENGTH(title) > 5)\n",
    "        AND (selftext != '[ Removed by reddit in response to a copyright notice. ]'\n",
    "          AND LENGTH(title) > 5)\n",
    "        AND (selftext != 'NaN'\n",
    "          AND LENGTH(title) > 5)\n",
    "        AND (selftext != ''\n",
    "          AND LENGTH(title) > 5)))\n",
    "  LIMIT\n",
    "    1581)\n",
    "UNION ALL (\n",
    "  SELECT\n",
    "    subreddit,\n",
    "    title,\n",
    "    selftext\n",
    "  FROM\n",
    "    `fh-bigquery.reddit_posts.2018*`\n",
    "  WHERE\n",
    "    subreddit = 'science'\n",
    "    AND ((LENGTH(title) > 5\n",
    "        AND LENGTH(selftext) > 10)\n",
    "      OR ((selftext != '[deleted]'\n",
    "          AND LENGTH(title) > 5)\n",
    "        AND (selftext != '[removed]'\n",
    "          AND LENGTH(title) > 5)\n",
    "        AND (selftext != '[ Removed by reddit in response to a copyright notice. ]'\n",
    "          AND LENGTH(title) > 5)\n",
    "        AND (selftext != 'NaN'\n",
    "          AND LENGTH(title) > 5)\n",
    "        AND (selftext != ''\n",
    "          AND LENGTH(title) > 5)))\n",
    "  LIMIT\n",
    "    1581)\n",
    "\n",
    "```"
   ]
  },
  {
   "cell_type": "markdown",
   "metadata": {
    "colab_type": "text",
    "id": "9f5-VfH9sZnE"
   },
   "source": [
    "## Assembly data"
   ]
  },
  {
   "cell_type": "code",
   "execution_count": 0,
   "metadata": {
    "colab": {},
    "colab_type": "code",
    "id": "rmtwLIUVltvt"
   },
   "outputs": [],
   "source": [
    "import pandas as pd\n",
    "import re\n",
    "import numpy as np\n",
    "import pickle\n",
    "import spacy \n",
    "import ast\n",
    "\n",
    "\n",
    "from google.colab import files\n",
    "from spacy.lang.en.stop_words import STOP_WORDS\n",
    "from spacy.lang.en import English\n",
    "from sklearn import preprocessing\n",
    "from nltk.stem.snowball import SnowballStemmer\n",
    "from sklearn.model_selection import train_test_split"
   ]
  },
  {
   "cell_type": "markdown",
   "metadata": {
    "colab_type": "text",
    "id": "vbEsCYDQsylM"
   },
   "source": [
    "### Comments"
   ]
  },
  {
   "cell_type": "code",
   "execution_count": 0,
   "metadata": {
    "colab": {
     "base_uri": "https://localhost:8080/",
     "height": 68
    },
    "colab_type": "code",
    "executionInfo": {
     "elapsed": 11553,
     "status": "ok",
     "timestamp": 1574973162173,
     "user": {
      "displayName": "Giulia Galli",
      "photoUrl": "https://lh3.googleusercontent.com/a-/AAuE7mA0mR9HBpRsWYUC7iO9dMkjqV1INApvYj8BR6Jzrg=s64",
      "userId": "04241558194917102873"
     },
     "user_tz": -60
    },
    "id": "etnw3BiDsx9e",
    "outputId": "19c98ba9-fc7e-4621-a1b7-74afec90b3b0"
   },
   "outputs": [
    {
     "name": "stdout",
     "output_type": "stream",
     "text": [
      "Copying gs://reddit_comments_master/reduced_comments_2018-000000000000...\n",
      "/ [1 files][532.8 MiB/532.8 MiB]                                                \n",
      "Operation completed over 1 objects/532.8 MiB.                                    \n"
     ]
    }
   ],
   "source": [
    "!gsutil cp gs://reddit_comments_master/reduced_comments_2018-000000000000 ."
   ]
  },
  {
   "cell_type": "code",
   "execution_count": 0,
   "metadata": {
    "colab": {},
    "colab_type": "code",
    "id": "XSRUz9NasdDS"
   },
   "outputs": [],
   "source": [
    "red_comments_df = pd.read_csv(\"reduced_comments_2018-000000000000\")"
   ]
  },
  {
   "cell_type": "code",
   "execution_count": 0,
   "metadata": {
    "colab": {
     "base_uri": "https://localhost:8080/",
     "height": 204
    },
    "colab_type": "code",
    "executionInfo": {
     "elapsed": 707,
     "status": "ok",
     "timestamp": 1574973614391,
     "user": {
      "displayName": "Giulia Galli",
      "photoUrl": "https://lh3.googleusercontent.com/a-/AAuE7mA0mR9HBpRsWYUC7iO9dMkjqV1INApvYj8BR6Jzrg=s64",
      "userId": "04241558194917102873"
     },
     "user_tz": -60
    },
    "id": "PR-G_8QXuOlk",
    "outputId": "d18d90bf-10ff-45a9-84cd-6b7d94731447"
   },
   "outputs": [
    {
     "data": {
      "text/html": [
       "<div>\n",
       "<style scoped>\n",
       "    .dataframe tbody tr th:only-of-type {\n",
       "        vertical-align: middle;\n",
       "    }\n",
       "\n",
       "    .dataframe tbody tr th {\n",
       "        vertical-align: top;\n",
       "    }\n",
       "\n",
       "    .dataframe thead th {\n",
       "        text-align: right;\n",
       "    }\n",
       "</style>\n",
       "<table border=\"1\" class=\"dataframe\">\n",
       "  <thead>\n",
       "    <tr style=\"text-align: right;\">\n",
       "      <th></th>\n",
       "      <th>subreddit</th>\n",
       "      <th>body</th>\n",
       "    </tr>\n",
       "  </thead>\n",
       "  <tbody>\n",
       "    <tr>\n",
       "      <th>0</th>\n",
       "      <td>funny</td>\n",
       "      <td>Did a hell of a job with the blue duck then if...</td>\n",
       "    </tr>\n",
       "    <tr>\n",
       "      <th>1</th>\n",
       "      <td>funny</td>\n",
       "      <td>And the ones who don't will settle because at ...</td>\n",
       "    </tr>\n",
       "    <tr>\n",
       "      <th>2</th>\n",
       "      <td>funny</td>\n",
       "      <td>My grand father fished cods like this 50 years...</td>\n",
       "    </tr>\n",
       "    <tr>\n",
       "      <th>3</th>\n",
       "      <td>funny</td>\n",
       "      <td>It’s fake yes but how did they do it?  The eff...</td>\n",
       "    </tr>\n",
       "    <tr>\n",
       "      <th>4</th>\n",
       "      <td>funny</td>\n",
       "      <td>They should have smoke bombs that have bug poi...</td>\n",
       "    </tr>\n",
       "  </tbody>\n",
       "</table>\n",
       "</div>"
      ],
      "text/plain": [
       "  subreddit                                               body\n",
       "0     funny  Did a hell of a job with the blue duck then if...\n",
       "1     funny  And the ones who don't will settle because at ...\n",
       "2     funny  My grand father fished cods like this 50 years...\n",
       "3     funny  It’s fake yes but how did they do it?  The eff...\n",
       "4     funny  They should have smoke bombs that have bug poi..."
      ]
     },
     "execution_count": 13,
     "metadata": {
      "tags": []
     },
     "output_type": "execute_result"
    }
   ],
   "source": [
    "red_comments_df.head()"
   ]
  },
  {
   "cell_type": "code",
   "execution_count": 0,
   "metadata": {
    "colab": {
     "base_uri": "https://localhost:8080/",
     "height": 68
    },
    "colab_type": "code",
    "executionInfo": {
     "elapsed": 1471,
     "status": "ok",
     "timestamp": 1574973618479,
     "user": {
      "displayName": "Giulia Galli",
      "photoUrl": "https://lh3.googleusercontent.com/a-/AAuE7mA0mR9HBpRsWYUC7iO9dMkjqV1INApvYj8BR6Jzrg=s64",
      "userId": "04241558194917102873"
     },
     "user_tz": -60
    },
    "id": "Al4s831hsdCU",
    "outputId": "59b7f3f4-52fc-4b10-9781-5ad49311c4ad"
   },
   "outputs": [
    {
     "data": {
      "text/plain": [
       "subreddit    0\n",
       "body         0\n",
       "dtype: int64"
      ]
     },
     "execution_count": 14,
     "metadata": {
      "tags": []
     },
     "output_type": "execute_result"
    }
   ],
   "source": [
    "red_comments_df.isnull().sum()"
   ]
  },
  {
   "cell_type": "code",
   "execution_count": 0,
   "metadata": {
    "colab": {
     "base_uri": "https://localhost:8080/",
     "height": 34
    },
    "colab_type": "code",
    "executionInfo": {
     "elapsed": 1346,
     "status": "ok",
     "timestamp": 1574973657785,
     "user": {
      "displayName": "Giulia Galli",
      "photoUrl": "https://lh3.googleusercontent.com/a-/AAuE7mA0mR9HBpRsWYUC7iO9dMkjqV1INApvYj8BR6Jzrg=s64",
      "userId": "04241558194917102873"
     },
     "user_tz": -60
    },
    "id": "cQyiVCj0sdAb",
    "outputId": "8ca0864a-d906-46ff-fb95-83d4064b8277"
   },
   "outputs": [
    {
     "data": {
      "text/plain": [
       "(2151002, 2)"
      ]
     },
     "execution_count": 16,
     "metadata": {
      "tags": []
     },
     "output_type": "execute_result"
    }
   ],
   "source": [
    "red_comments_df.shape"
   ]
  },
  {
   "cell_type": "code",
   "execution_count": 0,
   "metadata": {
    "colab": {
     "base_uri": "https://localhost:8080/",
     "height": 68
    },
    "colab_type": "code",
    "executionInfo": {
     "elapsed": 1183,
     "status": "ok",
     "timestamp": 1574974069657,
     "user": {
      "displayName": "Giulia Galli",
      "photoUrl": "https://lh3.googleusercontent.com/a-/AAuE7mA0mR9HBpRsWYUC7iO9dMkjqV1INApvYj8BR6Jzrg=s64",
      "userId": "04241558194917102873"
     },
     "user_tz": -60
    },
    "id": "n_iLgAmww1U_",
    "outputId": "72ddcb5e-1446-4171-9e37-b5d9551ccebf"
   },
   "outputs": [
    {
     "data": {
      "text/plain": [
       "array(['funny', 'nba', 'europe', 'gaming', 'worldnews', 'movies',\n",
       "       'technology', 'aww', 'todayilearned', 'politics', 'Fitness',\n",
       "       'atheism', 'science', 'IAmA'], dtype=object)"
      ]
     },
     "execution_count": 32,
     "metadata": {
      "tags": []
     },
     "output_type": "execute_result"
    }
   ],
   "source": [
    "red_comments_df['subreddit'].unique()"
   ]
  },
  {
   "cell_type": "markdown",
   "metadata": {
    "colab_type": "text",
    "id": "7M53M_mnvy0P"
   },
   "source": [
    "### Posts"
   ]
  },
  {
   "cell_type": "code",
   "execution_count": 0,
   "metadata": {
    "colab": {
     "base_uri": "https://localhost:8080/",
     "height": 68
    },
    "colab_type": "code",
    "executionInfo": {
     "elapsed": 5616,
     "status": "ok",
     "timestamp": 1574973723007,
     "user": {
      "displayName": "Giulia Galli",
      "photoUrl": "https://lh3.googleusercontent.com/a-/AAuE7mA0mR9HBpRsWYUC7iO9dMkjqV1INApvYj8BR6Jzrg=s64",
      "userId": "04241558194917102873"
     },
     "user_tz": -60
    },
    "id": "rK1iBRrmsc9g",
    "outputId": "1bd4e3de-e8df-47bb-8909-7aa86783c224"
   },
   "outputs": [
    {
     "name": "stdout",
     "output_type": "stream",
     "text": [
      "Copying gs://reddit_posts_master/reduced_posts_2018...\n",
      "/ [1 files][ 12.9 MiB/ 12.9 MiB]                                                \n",
      "Operation completed over 1 objects/12.9 MiB.                                     \n"
     ]
    }
   ],
   "source": [
    "!gsutil cp gs://reddit_posts_master/reduced_posts_2018 ."
   ]
  },
  {
   "cell_type": "code",
   "execution_count": 0,
   "metadata": {
    "colab": {},
    "colab_type": "code",
    "id": "6HbZgAQTsc6a"
   },
   "outputs": [],
   "source": [
    "red_posts_df = pd.read_csv(\"reduced_posts_2018\")"
   ]
  },
  {
   "cell_type": "code",
   "execution_count": 0,
   "metadata": {
    "colab": {
     "base_uri": "https://localhost:8080/",
     "height": 204
    },
    "colab_type": "code",
    "executionInfo": {
     "elapsed": 1001,
     "status": "ok",
     "timestamp": 1574973779810,
     "user": {
      "displayName": "Giulia Galli",
      "photoUrl": "https://lh3.googleusercontent.com/a-/AAuE7mA0mR9HBpRsWYUC7iO9dMkjqV1INApvYj8BR6Jzrg=s64",
      "userId": "04241558194917102873"
     },
     "user_tz": -60
    },
    "id": "Dq1A98Uqsc20",
    "outputId": "821fad17-4113-432b-82fe-5179af22ba0e"
   },
   "outputs": [
    {
     "data": {
      "text/html": [
       "<div>\n",
       "<style scoped>\n",
       "    .dataframe tbody tr th:only-of-type {\n",
       "        vertical-align: middle;\n",
       "    }\n",
       "\n",
       "    .dataframe tbody tr th {\n",
       "        vertical-align: top;\n",
       "    }\n",
       "\n",
       "    .dataframe thead th {\n",
       "        text-align: right;\n",
       "    }\n",
       "</style>\n",
       "<table border=\"1\" class=\"dataframe\">\n",
       "  <thead>\n",
       "    <tr style=\"text-align: right;\">\n",
       "      <th></th>\n",
       "      <th>subreddit</th>\n",
       "      <th>title</th>\n",
       "      <th>selftext</th>\n",
       "    </tr>\n",
       "  </thead>\n",
       "  <tbody>\n",
       "    <tr>\n",
       "      <th>0</th>\n",
       "      <td>Fitness</td>\n",
       "      <td>How do you work more deadlifting into a strong...</td>\n",
       "      <td>I recently started lifting regularly and have ...</td>\n",
       "    </tr>\n",
       "    <tr>\n",
       "      <th>1</th>\n",
       "      <td>Fitness</td>\n",
       "      <td>Macro targets too low within calorie range??</td>\n",
       "      <td>Hi,\\n\\nI'm Male, 6'2, around 202lb (92kg).\\n\\n...</td>\n",
       "    </tr>\n",
       "    <tr>\n",
       "      <th>2</th>\n",
       "      <td>Fitness</td>\n",
       "      <td>How fast can I gain back lost muscle?</td>\n",
       "      <td>I've heard of \"Muscle memory\" and various theo...</td>\n",
       "    </tr>\n",
       "    <tr>\n",
       "      <th>3</th>\n",
       "      <td>Fitness</td>\n",
       "      <td>Sources for 'Foam rolling your lower back bein...</td>\n",
       "      <td>Hi, I recently found out that foam rolling you...</td>\n",
       "    </tr>\n",
       "    <tr>\n",
       "      <th>4</th>\n",
       "      <td>Fitness</td>\n",
       "      <td>Little to no progress after a year and a half ...</td>\n",
       "      <td>I've been lifting for a year and a half now, a...</td>\n",
       "    </tr>\n",
       "  </tbody>\n",
       "</table>\n",
       "</div>"
      ],
      "text/plain": [
       "  subreddit  ...                                           selftext\n",
       "0   Fitness  ...  I recently started lifting regularly and have ...\n",
       "1   Fitness  ...  Hi,\\n\\nI'm Male, 6'2, around 202lb (92kg).\\n\\n...\n",
       "2   Fitness  ...  I've heard of \"Muscle memory\" and various theo...\n",
       "3   Fitness  ...  Hi, I recently found out that foam rolling you...\n",
       "4   Fitness  ...  I've been lifting for a year and a half now, a...\n",
       "\n",
       "[5 rows x 3 columns]"
      ]
     },
     "execution_count": 19,
     "metadata": {
      "tags": []
     },
     "output_type": "execute_result"
    }
   ],
   "source": [
    "red_posts_df.head()"
   ]
  },
  {
   "cell_type": "code",
   "execution_count": 0,
   "metadata": {
    "colab": {
     "base_uri": "https://localhost:8080/",
     "height": 85
    },
    "colab_type": "code",
    "executionInfo": {
     "elapsed": 1546,
     "status": "ok",
     "timestamp": 1574973802392,
     "user": {
      "displayName": "Giulia Galli",
      "photoUrl": "https://lh3.googleusercontent.com/a-/AAuE7mA0mR9HBpRsWYUC7iO9dMkjqV1INApvYj8BR6Jzrg=s64",
      "userId": "04241558194917102873"
     },
     "user_tz": -60
    },
    "id": "otb36IV-sc0X",
    "outputId": "0dee52a4-0677-45db-b1c0-511998809ab2"
   },
   "outputs": [
    {
     "data": {
      "text/plain": [
       "subreddit    0\n",
       "title        0\n",
       "selftext     0\n",
       "dtype: int64"
      ]
     },
     "execution_count": 20,
     "metadata": {
      "tags": []
     },
     "output_type": "execute_result"
    }
   ],
   "source": [
    "red_posts_df.isnull().sum()"
   ]
  },
  {
   "cell_type": "code",
   "execution_count": 0,
   "metadata": {
    "colab": {
     "base_uri": "https://localhost:8080/",
     "height": 34
    },
    "colab_type": "code",
    "executionInfo": {
     "elapsed": 1194,
     "status": "ok",
     "timestamp": 1574973809832,
     "user": {
      "displayName": "Giulia Galli",
      "photoUrl": "https://lh3.googleusercontent.com/a-/AAuE7mA0mR9HBpRsWYUC7iO9dMkjqV1INApvYj8BR6Jzrg=s64",
      "userId": "04241558194917102873"
     },
     "user_tz": -60
    },
    "id": "KupYTIYzwQDt",
    "outputId": "b2cc347b-07db-48d2-d033-b79f25fc3dfd"
   },
   "outputs": [
    {
     "data": {
      "text/plain": [
       "(13567, 3)"
      ]
     },
     "execution_count": 21,
     "metadata": {
      "tags": []
     },
     "output_type": "execute_result"
    }
   ],
   "source": [
    "red_posts_df.shape"
   ]
  },
  {
   "cell_type": "markdown",
   "metadata": {
    "colab_type": "text",
    "id": "NG3DNVMSwYJG"
   },
   "source": [
    "#### Assembling corpus posts"
   ]
  },
  {
   "cell_type": "code",
   "execution_count": 0,
   "metadata": {
    "colab": {},
    "colab_type": "code",
    "id": "LysTgwG2wRwv"
   },
   "outputs": [],
   "source": [
    "red_posts_df['body']= red_posts_df.title + \" \" + red_posts_df.selftext"
   ]
  },
  {
   "cell_type": "code",
   "execution_count": 0,
   "metadata": {
    "colab": {
     "base_uri": "https://localhost:8080/",
     "height": 204
    },
    "colab_type": "code",
    "executionInfo": {
     "elapsed": 966,
     "status": "ok",
     "timestamp": 1574973887675,
     "user": {
      "displayName": "Giulia Galli",
      "photoUrl": "https://lh3.googleusercontent.com/a-/AAuE7mA0mR9HBpRsWYUC7iO9dMkjqV1INApvYj8BR6Jzrg=s64",
      "userId": "04241558194917102873"
     },
     "user_tz": -60
    },
    "id": "v-FcsrEWwh4H",
    "outputId": "4c9a04d0-6b61-445a-ea01-df62e49deee4"
   },
   "outputs": [
    {
     "data": {
      "text/html": [
       "<div>\n",
       "<style scoped>\n",
       "    .dataframe tbody tr th:only-of-type {\n",
       "        vertical-align: middle;\n",
       "    }\n",
       "\n",
       "    .dataframe tbody tr th {\n",
       "        vertical-align: top;\n",
       "    }\n",
       "\n",
       "    .dataframe thead th {\n",
       "        text-align: right;\n",
       "    }\n",
       "</style>\n",
       "<table border=\"1\" class=\"dataframe\">\n",
       "  <thead>\n",
       "    <tr style=\"text-align: right;\">\n",
       "      <th></th>\n",
       "      <th>subreddit</th>\n",
       "      <th>title</th>\n",
       "      <th>selftext</th>\n",
       "      <th>body</th>\n",
       "    </tr>\n",
       "  </thead>\n",
       "  <tbody>\n",
       "    <tr>\n",
       "      <th>0</th>\n",
       "      <td>Fitness</td>\n",
       "      <td>How do you work more deadlifting into a strong...</td>\n",
       "      <td>I recently started lifting regularly and have ...</td>\n",
       "      <td>How do you work more deadlifting into a strong...</td>\n",
       "    </tr>\n",
       "    <tr>\n",
       "      <th>1</th>\n",
       "      <td>Fitness</td>\n",
       "      <td>Macro targets too low within calorie range??</td>\n",
       "      <td>Hi,\\n\\nI'm Male, 6'2, around 202lb (92kg).\\n\\n...</td>\n",
       "      <td>Macro targets too low within calorie range?? H...</td>\n",
       "    </tr>\n",
       "    <tr>\n",
       "      <th>2</th>\n",
       "      <td>Fitness</td>\n",
       "      <td>How fast can I gain back lost muscle?</td>\n",
       "      <td>I've heard of \"Muscle memory\" and various theo...</td>\n",
       "      <td>How fast can I gain back lost muscle? I've hea...</td>\n",
       "    </tr>\n",
       "    <tr>\n",
       "      <th>3</th>\n",
       "      <td>Fitness</td>\n",
       "      <td>Sources for 'Foam rolling your lower back bein...</td>\n",
       "      <td>Hi, I recently found out that foam rolling you...</td>\n",
       "      <td>Sources for 'Foam rolling your lower back bein...</td>\n",
       "    </tr>\n",
       "    <tr>\n",
       "      <th>4</th>\n",
       "      <td>Fitness</td>\n",
       "      <td>Little to no progress after a year and a half ...</td>\n",
       "      <td>I've been lifting for a year and a half now, a...</td>\n",
       "      <td>Little to no progress after a year and a half ...</td>\n",
       "    </tr>\n",
       "  </tbody>\n",
       "</table>\n",
       "</div>"
      ],
      "text/plain": [
       "  subreddit  ...                                               body\n",
       "0   Fitness  ...  How do you work more deadlifting into a strong...\n",
       "1   Fitness  ...  Macro targets too low within calorie range?? H...\n",
       "2   Fitness  ...  How fast can I gain back lost muscle? I've hea...\n",
       "3   Fitness  ...  Sources for 'Foam rolling your lower back bein...\n",
       "4   Fitness  ...  Little to no progress after a year and a half ...\n",
       "\n",
       "[5 rows x 4 columns]"
      ]
     },
     "execution_count": 23,
     "metadata": {
      "tags": []
     },
     "output_type": "execute_result"
    }
   ],
   "source": [
    "red_posts_df.head()"
   ]
  },
  {
   "cell_type": "code",
   "execution_count": 0,
   "metadata": {
    "colab": {},
    "colab_type": "code",
    "id": "jrUqQURIwkqk"
   },
   "outputs": [],
   "source": [
    "red_posts_corpus_df = red_posts_df.drop(['title', 'selftext'], axis=1)"
   ]
  },
  {
   "cell_type": "code",
   "execution_count": 0,
   "metadata": {
    "colab": {
     "base_uri": "https://localhost:8080/",
     "height": 204
    },
    "colab_type": "code",
    "executionInfo": {
     "elapsed": 2998,
     "status": "ok",
     "timestamp": 1574973940151,
     "user": {
      "displayName": "Giulia Galli",
      "photoUrl": "https://lh3.googleusercontent.com/a-/AAuE7mA0mR9HBpRsWYUC7iO9dMkjqV1INApvYj8BR6Jzrg=s64",
      "userId": "04241558194917102873"
     },
     "user_tz": -60
    },
    "id": "6jUOZUYuwt1X",
    "outputId": "beeeb6a5-dce5-4a01-9934-71120bed3d46"
   },
   "outputs": [
    {
     "data": {
      "text/html": [
       "<div>\n",
       "<style scoped>\n",
       "    .dataframe tbody tr th:only-of-type {\n",
       "        vertical-align: middle;\n",
       "    }\n",
       "\n",
       "    .dataframe tbody tr th {\n",
       "        vertical-align: top;\n",
       "    }\n",
       "\n",
       "    .dataframe thead th {\n",
       "        text-align: right;\n",
       "    }\n",
       "</style>\n",
       "<table border=\"1\" class=\"dataframe\">\n",
       "  <thead>\n",
       "    <tr style=\"text-align: right;\">\n",
       "      <th></th>\n",
       "      <th>subreddit</th>\n",
       "      <th>body</th>\n",
       "    </tr>\n",
       "  </thead>\n",
       "  <tbody>\n",
       "    <tr>\n",
       "      <th>13562</th>\n",
       "      <td>technology</td>\n",
       "      <td>Apparently spectrum is changing settings to di...</td>\n",
       "    </tr>\n",
       "    <tr>\n",
       "      <th>13563</th>\n",
       "      <td>technology</td>\n",
       "      <td>I quit all social media except for Reddit. Thi...</td>\n",
       "    </tr>\n",
       "    <tr>\n",
       "      <th>13564</th>\n",
       "      <td>technology</td>\n",
       "      <td>Why is Apple not suing Xiaomi And Huawei for c...</td>\n",
       "    </tr>\n",
       "    <tr>\n",
       "      <th>13565</th>\n",
       "      <td>technology</td>\n",
       "      <td>any thoughts on the coming paid prioritization...</td>\n",
       "    </tr>\n",
       "    <tr>\n",
       "      <th>13566</th>\n",
       "      <td>technology</td>\n",
       "      <td>XFINITY Outage FYI: If you have Comcast XFINIT...</td>\n",
       "    </tr>\n",
       "  </tbody>\n",
       "</table>\n",
       "</div>"
      ],
      "text/plain": [
       "        subreddit                                               body\n",
       "13562  technology  Apparently spectrum is changing settings to di...\n",
       "13563  technology  I quit all social media except for Reddit. Thi...\n",
       "13564  technology  Why is Apple not suing Xiaomi And Huawei for c...\n",
       "13565  technology  any thoughts on the coming paid prioritization...\n",
       "13566  technology  XFINITY Outage FYI: If you have Comcast XFINIT..."
      ]
     },
     "execution_count": 25,
     "metadata": {
      "tags": []
     },
     "output_type": "execute_result"
    }
   ],
   "source": [
    "red_posts_corpus_df.tail()"
   ]
  },
  {
   "cell_type": "code",
   "execution_count": 0,
   "metadata": {
    "colab": {
     "base_uri": "https://localhost:8080/",
     "height": 68
    },
    "colab_type": "code",
    "executionInfo": {
     "elapsed": 1056,
     "status": "ok",
     "timestamp": 1574974091321,
     "user": {
      "displayName": "Giulia Galli",
      "photoUrl": "https://lh3.googleusercontent.com/a-/AAuE7mA0mR9HBpRsWYUC7iO9dMkjqV1INApvYj8BR6Jzrg=s64",
      "userId": "04241558194917102873"
     },
     "user_tz": -60
    },
    "id": "sw2BOutUwxBW",
    "outputId": "acf25be6-6b4f-4357-b93e-e1ed923f45c8"
   },
   "outputs": [
    {
     "data": {
      "text/plain": [
       "array(['Fitness', 'nba', 'gaming', 'atheism', 'movies', 'funny', 'IAmA',\n",
       "       'europe', 'aww', 'worldnews', 'science', 'todayilearned',\n",
       "       'politics', 'technology'], dtype=object)"
      ]
     },
     "execution_count": 33,
     "metadata": {
      "tags": []
     },
     "output_type": "execute_result"
    }
   ],
   "source": [
    "red_posts_corpus_df['subreddit'].unique()"
   ]
  },
  {
   "cell_type": "markdown",
   "metadata": {
    "colab_type": "text",
    "id": "4TYH4Y5exbwN"
   },
   "source": [
    "### Unifing comments and posts"
   ]
  },
  {
   "cell_type": "code",
   "execution_count": 0,
   "metadata": {
    "colab": {},
    "colab_type": "code",
    "id": "-u05TdhSxWuc"
   },
   "outputs": [],
   "source": [
    "red_comments_posts_df = pd.concat([red_comments_df, red_posts_corpus_df], axis=0, ignore_index=True)"
   ]
  },
  {
   "cell_type": "code",
   "execution_count": 0,
   "metadata": {
    "colab": {
     "base_uri": "https://localhost:8080/",
     "height": 204
    },
    "colab_type": "code",
    "executionInfo": {
     "elapsed": 1336,
     "status": "ok",
     "timestamp": 1574974181753,
     "user": {
      "displayName": "Giulia Galli",
      "photoUrl": "https://lh3.googleusercontent.com/a-/AAuE7mA0mR9HBpRsWYUC7iO9dMkjqV1INApvYj8BR6Jzrg=s64",
      "userId": "04241558194917102873"
     },
     "user_tz": -60
    },
    "id": "k8sUlL4Kxp4s",
    "outputId": "fb466c32-9d6f-457b-e747-f1788c334987"
   },
   "outputs": [
    {
     "data": {
      "text/html": [
       "<div>\n",
       "<style scoped>\n",
       "    .dataframe tbody tr th:only-of-type {\n",
       "        vertical-align: middle;\n",
       "    }\n",
       "\n",
       "    .dataframe tbody tr th {\n",
       "        vertical-align: top;\n",
       "    }\n",
       "\n",
       "    .dataframe thead th {\n",
       "        text-align: right;\n",
       "    }\n",
       "</style>\n",
       "<table border=\"1\" class=\"dataframe\">\n",
       "  <thead>\n",
       "    <tr style=\"text-align: right;\">\n",
       "      <th></th>\n",
       "      <th>subreddit</th>\n",
       "      <th>body</th>\n",
       "    </tr>\n",
       "  </thead>\n",
       "  <tbody>\n",
       "    <tr>\n",
       "      <th>0</th>\n",
       "      <td>funny</td>\n",
       "      <td>Did a hell of a job with the blue duck then if...</td>\n",
       "    </tr>\n",
       "    <tr>\n",
       "      <th>1</th>\n",
       "      <td>funny</td>\n",
       "      <td>And the ones who don't will settle because at ...</td>\n",
       "    </tr>\n",
       "    <tr>\n",
       "      <th>2</th>\n",
       "      <td>funny</td>\n",
       "      <td>My grand father fished cods like this 50 years...</td>\n",
       "    </tr>\n",
       "    <tr>\n",
       "      <th>3</th>\n",
       "      <td>funny</td>\n",
       "      <td>It’s fake yes but how did they do it?  The eff...</td>\n",
       "    </tr>\n",
       "    <tr>\n",
       "      <th>4</th>\n",
       "      <td>funny</td>\n",
       "      <td>They should have smoke bombs that have bug poi...</td>\n",
       "    </tr>\n",
       "  </tbody>\n",
       "</table>\n",
       "</div>"
      ],
      "text/plain": [
       "  subreddit                                               body\n",
       "0     funny  Did a hell of a job with the blue duck then if...\n",
       "1     funny  And the ones who don't will settle because at ...\n",
       "2     funny  My grand father fished cods like this 50 years...\n",
       "3     funny  It’s fake yes but how did they do it?  The eff...\n",
       "4     funny  They should have smoke bombs that have bug poi..."
      ]
     },
     "execution_count": 35,
     "metadata": {
      "tags": []
     },
     "output_type": "execute_result"
    }
   ],
   "source": [
    "red_comments_posts_df.head()"
   ]
  },
  {
   "cell_type": "code",
   "execution_count": 0,
   "metadata": {
    "colab": {
     "base_uri": "https://localhost:8080/",
     "height": 34
    },
    "colab_type": "code",
    "executionInfo": {
     "elapsed": 1214,
     "status": "ok",
     "timestamp": 1574974193355,
     "user": {
      "displayName": "Giulia Galli",
      "photoUrl": "https://lh3.googleusercontent.com/a-/AAuE7mA0mR9HBpRsWYUC7iO9dMkjqV1INApvYj8BR6Jzrg=s64",
      "userId": "04241558194917102873"
     },
     "user_tz": -60
    },
    "id": "nzLCEXevxssu",
    "outputId": "92ebfba5-2d46-4db8-c95d-baf423732aa3"
   },
   "outputs": [
    {
     "data": {
      "text/plain": [
       "(2164569, 2)"
      ]
     },
     "execution_count": 36,
     "metadata": {
      "tags": []
     },
     "output_type": "execute_result"
    }
   ],
   "source": [
    "red_comments_posts_df.shape"
   ]
  },
  {
   "cell_type": "code",
   "execution_count": 0,
   "metadata": {
    "colab": {
     "base_uri": "https://localhost:8080/",
     "height": 173
    },
    "colab_type": "code",
    "executionInfo": {
     "elapsed": 7613,
     "status": "ok",
     "timestamp": 1574974265445,
     "user": {
      "displayName": "Giulia Galli",
      "photoUrl": "https://lh3.googleusercontent.com/a-/AAuE7mA0mR9HBpRsWYUC7iO9dMkjqV1INApvYj8BR6Jzrg=s64",
      "userId": "04241558194917102873"
     },
     "user_tz": -60
    },
    "id": "mXWj-qxixvmm",
    "outputId": "ebcd7898-4621-4918-f4f3-ade6fb1c83af"
   },
   "outputs": [
    {
     "data": {
      "text/html": [
       "<div>\n",
       "<style scoped>\n",
       "    .dataframe tbody tr th:only-of-type {\n",
       "        vertical-align: middle;\n",
       "    }\n",
       "\n",
       "    .dataframe tbody tr th {\n",
       "        vertical-align: top;\n",
       "    }\n",
       "\n",
       "    .dataframe thead th {\n",
       "        text-align: right;\n",
       "    }\n",
       "</style>\n",
       "<table border=\"1\" class=\"dataframe\">\n",
       "  <thead>\n",
       "    <tr style=\"text-align: right;\">\n",
       "      <th></th>\n",
       "      <th>subreddit</th>\n",
       "      <th>body</th>\n",
       "    </tr>\n",
       "  </thead>\n",
       "  <tbody>\n",
       "    <tr>\n",
       "      <th>count</th>\n",
       "      <td>2164569</td>\n",
       "      <td>2164569</td>\n",
       "    </tr>\n",
       "    <tr>\n",
       "      <th>unique</th>\n",
       "      <td>14</td>\n",
       "      <td>2136707</td>\n",
       "    </tr>\n",
       "    <tr>\n",
       "      <th>top</th>\n",
       "      <td>europe</td>\n",
       "      <td>\\nAs a reminder, this subreddit [is for civil ...</td>\n",
       "    </tr>\n",
       "    <tr>\n",
       "      <th>freq</th>\n",
       "      <td>155224</td>\n",
       "      <td>3432</td>\n",
       "    </tr>\n",
       "  </tbody>\n",
       "</table>\n",
       "</div>"
      ],
      "text/plain": [
       "       subreddit                                               body\n",
       "count    2164569                                            2164569\n",
       "unique        14                                            2136707\n",
       "top       europe  \\nAs a reminder, this subreddit [is for civil ...\n",
       "freq      155224                                               3432"
      ]
     },
     "execution_count": 37,
     "metadata": {
      "tags": []
     },
     "output_type": "execute_result"
    }
   ],
   "source": [
    "red_comments_posts_df.describe()"
   ]
  },
  {
   "cell_type": "code",
   "execution_count": 0,
   "metadata": {
    "colab": {
     "base_uri": "https://localhost:8080/",
     "height": 34
    },
    "colab_type": "code",
    "executionInfo": {
     "elapsed": 1043,
     "status": "ok",
     "timestamp": 1574974282718,
     "user": {
      "displayName": "Giulia Galli",
      "photoUrl": "https://lh3.googleusercontent.com/a-/AAuE7mA0mR9HBpRsWYUC7iO9dMkjqV1INApvYj8BR6Jzrg=s64",
      "userId": "04241558194917102873"
     },
     "user_tz": -60
    },
    "id": "ME7RYux7x_ni",
    "outputId": "531ecd48-54a0-4500-b6f3-3675e9ee828e"
   },
   "outputs": [
    {
     "data": {
      "text/plain": [
       "0"
      ]
     },
     "execution_count": 38,
     "metadata": {
      "tags": []
     },
     "output_type": "execute_result"
    }
   ],
   "source": [
    "red_comments_posts_df[\"body\"].isna().sum()"
   ]
  },
  {
   "cell_type": "code",
   "execution_count": 0,
   "metadata": {
    "colab": {},
    "colab_type": "code",
    "id": "3UgaJhJbyFdV"
   },
   "outputs": [],
   "source": [
    "# I've purposely not \"cleaned\" the data to use direct into a DL\n",
    "\n",
    "red_comments_posts_df.to_csv('red_comments_posts.csv')"
   ]
  },
  {
   "cell_type": "code",
   "execution_count": 0,
   "metadata": {
    "colab": {
     "base_uri": "https://localhost:8080/",
     "height": 272
    },
    "colab_type": "code",
    "executionInfo": {
     "elapsed": 24030,
     "status": "ok",
     "timestamp": 1574974628228,
     "user": {
      "displayName": "Giulia Galli",
      "photoUrl": "https://lh3.googleusercontent.com/a-/AAuE7mA0mR9HBpRsWYUC7iO9dMkjqV1INApvYj8BR6Jzrg=s64",
      "userId": "04241558194917102873"
     },
     "user_tz": -60
    },
    "id": "uhflJfimy8jt",
    "outputId": "edb1c59f-1ccf-4364-b73e-89a9d5aaa2cb"
   },
   "outputs": [
    {
     "name": "stdout",
     "output_type": "stream",
     "text": [
      "Copying file:///content/red_comments_posts.csv [Content-Type=text/csv]...\n",
      "/ [0 files][    0.0 B/561.1 MiB]                                                \r",
      "==> NOTE: You are uploading one or more large file(s), which would run\n",
      "significantly faster if you enable parallel composite uploads. This\n",
      "feature can be enabled by editing the\n",
      "\"parallel_composite_upload_threshold\" value in your .boto\n",
      "configuration file. However, note that if you do this large files will\n",
      "be uploaded as `composite objects\n",
      "<https://cloud.google.com/storage/docs/composite-objects>`_,which\n",
      "means that any user who downloads such objects will need to have a\n",
      "compiled crcmod installed (see \"gsutil help crcmod\"). This is because\n",
      "without a compiled crcmod, computing checksums on composite objects is\n",
      "so slow that gsutil disables downloads of composite objects.\n",
      "\n",
      "|\n",
      "Operation completed over 1 objects/561.1 MiB.                                    \n"
     ]
    }
   ],
   "source": [
    "!gsutil cp /content/red_comments_posts.csv gs://reddit_final_results/"
   ]
  },
  {
   "cell_type": "markdown",
   "metadata": {
    "colab_type": "text",
    "id": "xdnse2qkz_WR"
   },
   "source": [
    "## Cleaing Data"
   ]
  },
  {
   "cell_type": "code",
   "execution_count": 0,
   "metadata": {
    "colab": {},
    "colab_type": "code",
    "id": "xkLjKOD1zCxr"
   },
   "outputs": [],
   "source": [
    "# cleaning function\n",
    "\n",
    "def remove_urls(text):\n",
    "    clean = re.compile(r'http\\S+')\n",
    "    return re.sub(clean, '', str(text))\n",
    "\n",
    "def remove_line_endings (text):\n",
    "    clean = re.compile(r'\\n')\n",
    "    return re.sub(clean, '', str(text))\n",
    "\n",
    "def remove_symbols (text):\n",
    "    clean = re.compile(r\"[^a-zA-Z0-9' ]\") \n",
    "    return re.sub(clean, '', str(text))\n",
    "\n",
    "def clean_text(text):\n",
    "    return remove_urls(remove_line_endings(remove_symbols(text.lower())))\n",
    "\n",
    "def clean_text_df(df, column):\n",
    "    df[column] = df[column].map(clean_text)"
   ]
  },
  {
   "cell_type": "code",
   "execution_count": 0,
   "metadata": {
    "colab": {},
    "colab_type": "code",
    "id": "_5sBHq4uz-JZ"
   },
   "outputs": [],
   "source": [
    "clean_text_df(red_comments_posts_df,'body')"
   ]
  },
  {
   "cell_type": "code",
   "execution_count": 0,
   "metadata": {
    "colab": {
     "base_uri": "https://localhost:8080/",
     "height": 204
    },
    "colab_type": "code",
    "executionInfo": {
     "elapsed": 1491,
     "status": "ok",
     "timestamp": 1574974971710,
     "user": {
      "displayName": "Giulia Galli",
      "photoUrl": "https://lh3.googleusercontent.com/a-/AAuE7mA0mR9HBpRsWYUC7iO9dMkjqV1INApvYj8BR6Jzrg=s64",
      "userId": "04241558194917102873"
     },
     "user_tz": -60
    },
    "id": "yudQt1090M1j",
    "outputId": "435584e7-02ac-4aea-e137-53c9c1cc90cd"
   },
   "outputs": [
    {
     "data": {
      "text/html": [
       "<div>\n",
       "<style scoped>\n",
       "    .dataframe tbody tr th:only-of-type {\n",
       "        vertical-align: middle;\n",
       "    }\n",
       "\n",
       "    .dataframe tbody tr th {\n",
       "        vertical-align: top;\n",
       "    }\n",
       "\n",
       "    .dataframe thead th {\n",
       "        text-align: right;\n",
       "    }\n",
       "</style>\n",
       "<table border=\"1\" class=\"dataframe\">\n",
       "  <thead>\n",
       "    <tr style=\"text-align: right;\">\n",
       "      <th></th>\n",
       "      <th>subreddit</th>\n",
       "      <th>body</th>\n",
       "    </tr>\n",
       "  </thead>\n",
       "  <tbody>\n",
       "    <tr>\n",
       "      <th>2164564</th>\n",
       "      <td>technology</td>\n",
       "      <td>apparently spectrum is changing settings to di...</td>\n",
       "    </tr>\n",
       "    <tr>\n",
       "      <th>2164565</th>\n",
       "      <td>technology</td>\n",
       "      <td>i quit all social media except for reddit this...</td>\n",
       "    </tr>\n",
       "    <tr>\n",
       "      <th>2164566</th>\n",
       "      <td>technology</td>\n",
       "      <td>why is apple not suing xiaomi and huawei for c...</td>\n",
       "    </tr>\n",
       "    <tr>\n",
       "      <th>2164567</th>\n",
       "      <td>technology</td>\n",
       "      <td>any thoughts on the coming paid prioritization...</td>\n",
       "    </tr>\n",
       "    <tr>\n",
       "      <th>2164568</th>\n",
       "      <td>technology</td>\n",
       "      <td>xfinity outage fyi if you have comcast xfinity...</td>\n",
       "    </tr>\n",
       "  </tbody>\n",
       "</table>\n",
       "</div>"
      ],
      "text/plain": [
       "          subreddit                                               body\n",
       "2164564  technology  apparently spectrum is changing settings to di...\n",
       "2164565  technology  i quit all social media except for reddit this...\n",
       "2164566  technology  why is apple not suing xiaomi and huawei for c...\n",
       "2164567  technology  any thoughts on the coming paid prioritization...\n",
       "2164568  technology  xfinity outage fyi if you have comcast xfinity..."
      ]
     },
     "execution_count": 50,
     "metadata": {
      "tags": []
     },
     "output_type": "execute_result"
    }
   ],
   "source": [
    "red_comments_posts_df.tail()"
   ]
  },
  {
   "cell_type": "markdown",
   "metadata": {
    "colab_type": "text",
    "id": "dXxBLQYk0ybz"
   },
   "source": [
    "## Pre-processing - standardization "
   ]
  },
  {
   "cell_type": "markdown",
   "metadata": {
    "colab_type": "text",
    "id": "xD2f2KDN1EHP"
   },
   "source": [
    "\n",
    "### Encoding the label"
   ]
  },
  {
   "cell_type": "code",
   "execution_count": 0,
   "metadata": {
    "colab": {},
    "colab_type": "code",
    "id": "W-8qbXmC1Dv3"
   },
   "outputs": [],
   "source": [
    "# Encode of the label as subreddit_it\n",
    "\n",
    "red_comments_posts_df['subreddit_id'] = red_comments_posts_df['subreddit']"
   ]
  },
  {
   "cell_type": "code",
   "execution_count": 0,
   "metadata": {
    "colab": {
     "base_uri": "https://localhost:8080/",
     "height": 204
    },
    "colab_type": "code",
    "executionInfo": {
     "elapsed": 1155,
     "status": "ok",
     "timestamp": 1574975138935,
     "user": {
      "displayName": "Giulia Galli",
      "photoUrl": "https://lh3.googleusercontent.com/a-/AAuE7mA0mR9HBpRsWYUC7iO9dMkjqV1INApvYj8BR6Jzrg=s64",
      "userId": "04241558194917102873"
     },
     "user_tz": -60
    },
    "id": "ntUj2TVf0pMz",
    "outputId": "4858622d-1e1c-4544-d7ac-9a8214729d19"
   },
   "outputs": [
    {
     "data": {
      "text/html": [
       "<div>\n",
       "<style scoped>\n",
       "    .dataframe tbody tr th:only-of-type {\n",
       "        vertical-align: middle;\n",
       "    }\n",
       "\n",
       "    .dataframe tbody tr th {\n",
       "        vertical-align: top;\n",
       "    }\n",
       "\n",
       "    .dataframe thead th {\n",
       "        text-align: right;\n",
       "    }\n",
       "</style>\n",
       "<table border=\"1\" class=\"dataframe\">\n",
       "  <thead>\n",
       "    <tr style=\"text-align: right;\">\n",
       "      <th></th>\n",
       "      <th>subreddit</th>\n",
       "      <th>body</th>\n",
       "      <th>subreddit_id</th>\n",
       "    </tr>\n",
       "  </thead>\n",
       "  <tbody>\n",
       "    <tr>\n",
       "      <th>0</th>\n",
       "      <td>funny</td>\n",
       "      <td>did a hell of a job with the blue duck then if...</td>\n",
       "      <td>funny</td>\n",
       "    </tr>\n",
       "    <tr>\n",
       "      <th>1</th>\n",
       "      <td>funny</td>\n",
       "      <td>and the ones who don't will settle because at ...</td>\n",
       "      <td>funny</td>\n",
       "    </tr>\n",
       "    <tr>\n",
       "      <th>2</th>\n",
       "      <td>funny</td>\n",
       "      <td>my grand father fished cods like this 50 years...</td>\n",
       "      <td>funny</td>\n",
       "    </tr>\n",
       "    <tr>\n",
       "      <th>3</th>\n",
       "      <td>funny</td>\n",
       "      <td>its fake yes but how did they do it  the effec...</td>\n",
       "      <td>funny</td>\n",
       "    </tr>\n",
       "    <tr>\n",
       "      <th>4</th>\n",
       "      <td>funny</td>\n",
       "      <td>they should have smoke bombs that have bug poi...</td>\n",
       "      <td>funny</td>\n",
       "    </tr>\n",
       "  </tbody>\n",
       "</table>\n",
       "</div>"
      ],
      "text/plain": [
       "  subreddit                                               body subreddit_id\n",
       "0     funny  did a hell of a job with the blue duck then if...        funny\n",
       "1     funny  and the ones who don't will settle because at ...        funny\n",
       "2     funny  my grand father fished cods like this 50 years...        funny\n",
       "3     funny  its fake yes but how did they do it  the effec...        funny\n",
       "4     funny  they should have smoke bombs that have bug poi...        funny"
      ]
     },
     "execution_count": 53,
     "metadata": {
      "tags": []
     },
     "output_type": "execute_result"
    }
   ],
   "source": [
    "red_comments_posts_df.head(5)"
   ]
  },
  {
   "cell_type": "code",
   "execution_count": 0,
   "metadata": {
    "colab": {},
    "colab_type": "code",
    "id": "Zg97VSUj1T6-"
   },
   "outputs": [],
   "source": [
    "le = preprocessing.LabelEncoder()"
   ]
  },
  {
   "cell_type": "code",
   "execution_count": 0,
   "metadata": {
    "colab": {
     "base_uri": "https://localhost:8080/",
     "height": 34
    },
    "colab_type": "code",
    "executionInfo": {
     "elapsed": 1015,
     "status": "ok",
     "timestamp": 1574975220846,
     "user": {
      "displayName": "Giulia Galli",
      "photoUrl": "https://lh3.googleusercontent.com/a-/AAuE7mA0mR9HBpRsWYUC7iO9dMkjqV1INApvYj8BR6Jzrg=s64",
      "userId": "04241558194917102873"
     },
     "user_tz": -60
    },
    "id": "tICW2CjZ1oKc",
    "outputId": "870cba8b-82f0-4112-d80b-a559aed2a123"
   },
   "outputs": [
    {
     "data": {
      "text/plain": [
       "LabelEncoder()"
      ]
     },
     "execution_count": 56,
     "metadata": {
      "tags": []
     },
     "output_type": "execute_result"
    }
   ],
   "source": [
    "le.fit(red_comments_posts_df['subreddit'])"
   ]
  },
  {
   "cell_type": "code",
   "execution_count": 0,
   "metadata": {
    "colab": {
     "base_uri": "https://localhost:8080/",
     "height": 255
    },
    "colab_type": "code",
    "executionInfo": {
     "elapsed": 982,
     "status": "ok",
     "timestamp": 1574975227975,
     "user": {
      "displayName": "Giulia Galli",
      "photoUrl": "https://lh3.googleusercontent.com/a-/AAuE7mA0mR9HBpRsWYUC7iO9dMkjqV1INApvYj8BR6Jzrg=s64",
      "userId": "04241558194917102873"
     },
     "user_tz": -60
    },
    "id": "lcISKw6w1qgP",
    "outputId": "37aef724-6815-422d-c739-5bc093d52b89"
   },
   "outputs": [
    {
     "data": {
      "text/plain": [
       "['Fitness',\n",
       " 'IAmA',\n",
       " 'atheism',\n",
       " 'aww',\n",
       " 'europe',\n",
       " 'funny',\n",
       " 'gaming',\n",
       " 'movies',\n",
       " 'nba',\n",
       " 'politics',\n",
       " 'science',\n",
       " 'technology',\n",
       " 'todayilearned',\n",
       " 'worldnews']"
      ]
     },
     "execution_count": 57,
     "metadata": {
      "tags": []
     },
     "output_type": "execute_result"
    }
   ],
   "source": [
    "list(le.classes_)"
   ]
  },
  {
   "cell_type": "code",
   "execution_count": 0,
   "metadata": {
    "colab": {},
    "colab_type": "code",
    "id": "GnFwpzVe1sP0"
   },
   "outputs": [],
   "source": [
    "red_comments_posts_df['subreddit_id'] = le.transform(red_comments_posts_df['subreddit']) "
   ]
  },
  {
   "cell_type": "code",
   "execution_count": 0,
   "metadata": {
    "colab": {
     "base_uri": "https://localhost:8080/",
     "height": 204
    },
    "colab_type": "code",
    "executionInfo": {
     "elapsed": 910,
     "status": "ok",
     "timestamp": 1574975283365,
     "user": {
      "displayName": "Giulia Galli",
      "photoUrl": "https://lh3.googleusercontent.com/a-/AAuE7mA0mR9HBpRsWYUC7iO9dMkjqV1INApvYj8BR6Jzrg=s64",
      "userId": "04241558194917102873"
     },
     "user_tz": -60
    },
    "id": "drXhM70f1wMD",
    "outputId": "108e90e4-533c-4193-9aeb-773558f02480"
   },
   "outputs": [
    {
     "data": {
      "text/html": [
       "<div>\n",
       "<style scoped>\n",
       "    .dataframe tbody tr th:only-of-type {\n",
       "        vertical-align: middle;\n",
       "    }\n",
       "\n",
       "    .dataframe tbody tr th {\n",
       "        vertical-align: top;\n",
       "    }\n",
       "\n",
       "    .dataframe thead th {\n",
       "        text-align: right;\n",
       "    }\n",
       "</style>\n",
       "<table border=\"1\" class=\"dataframe\">\n",
       "  <thead>\n",
       "    <tr style=\"text-align: right;\">\n",
       "      <th></th>\n",
       "      <th>subreddit</th>\n",
       "      <th>body</th>\n",
       "      <th>subreddit_id</th>\n",
       "    </tr>\n",
       "  </thead>\n",
       "  <tbody>\n",
       "    <tr>\n",
       "      <th>0</th>\n",
       "      <td>funny</td>\n",
       "      <td>did a hell of a job with the blue duck then if...</td>\n",
       "      <td>5</td>\n",
       "    </tr>\n",
       "    <tr>\n",
       "      <th>1</th>\n",
       "      <td>funny</td>\n",
       "      <td>and the ones who don't will settle because at ...</td>\n",
       "      <td>5</td>\n",
       "    </tr>\n",
       "    <tr>\n",
       "      <th>2</th>\n",
       "      <td>funny</td>\n",
       "      <td>my grand father fished cods like this 50 years...</td>\n",
       "      <td>5</td>\n",
       "    </tr>\n",
       "    <tr>\n",
       "      <th>3</th>\n",
       "      <td>funny</td>\n",
       "      <td>its fake yes but how did they do it  the effec...</td>\n",
       "      <td>5</td>\n",
       "    </tr>\n",
       "    <tr>\n",
       "      <th>4</th>\n",
       "      <td>funny</td>\n",
       "      <td>they should have smoke bombs that have bug poi...</td>\n",
       "      <td>5</td>\n",
       "    </tr>\n",
       "  </tbody>\n",
       "</table>\n",
       "</div>"
      ],
      "text/plain": [
       "  subreddit                                               body  subreddit_id\n",
       "0     funny  did a hell of a job with the blue duck then if...             5\n",
       "1     funny  and the ones who don't will settle because at ...             5\n",
       "2     funny  my grand father fished cods like this 50 years...             5\n",
       "3     funny  its fake yes but how did they do it  the effec...             5\n",
       "4     funny  they should have smoke bombs that have bug poi...             5"
      ]
     },
     "execution_count": 59,
     "metadata": {
      "tags": []
     },
     "output_type": "execute_result"
    }
   ],
   "source": [
    "red_comments_posts_df.head()"
   ]
  },
  {
   "cell_type": "markdown",
   "metadata": {
    "colab_type": "text",
    "id": "Jh7Nyvev17CN"
   },
   "source": [
    "### Tokenization"
   ]
  },
  {
   "cell_type": "code",
   "execution_count": 0,
   "metadata": {
    "colab": {
     "base_uri": "https://localhost:8080/",
     "height": 71
    },
    "colab_type": "code",
    "executionInfo": {
     "elapsed": 953,
     "status": "ok",
     "timestamp": 1574975313823,
     "user": {
      "displayName": "Giulia Galli",
      "photoUrl": "https://lh3.googleusercontent.com/a-/AAuE7mA0mR9HBpRsWYUC7iO9dMkjqV1INApvYj8BR6Jzrg=s64",
      "userId": "04241558194917102873"
     },
     "user_tz": -60
    },
    "id": "AGCn58Uq15mj",
    "outputId": "014f784a-37d7-48a0-a9e2-e14f223a228f"
   },
   "outputs": [
    {
     "name": "stdout",
     "output_type": "stream",
     "text": [
      "Number of stopwords: 326\n",
      "['an', 'top', 'anyway', 'hereupon', 'amongst', '’s', 'hereafter', 'often', 'while', 'under', 'therein', 'put', '‘m', 'fifteen', 'give', 'eleven', 'amount', 'nobody', 'afterwards', 'several', 'thru', 'regarding', 'really', 'first', 'become', 'the', 'whereupon', 'would', 'those', 'throughout', 'beyond', 'alone', 'your', 'as', 'nowhere', 'onto', 'nothing', 'again', 'wherein', 'anyone', 'meanwhile', 'can', 'this', 'within', 'thence', 'around', 'never', 'his', 'ourselves', 'third', 'whole', 'them', 'am', 'how', 'among', 'same', 'side', 'he', 'well', 'own', 'latter', 'down', 'various', 'yet', 'noone', 'least', 'with', 'everywhere', 'and', 'somewhere', 'either', 'because', 'thereupon', 'herein', '‘s', 'six', 'whom', 'where', 'hence', 'could', 'for', 'front', 'once', 'themselves', 'but', 'others', 'fifty', 'always', 'most', 'since', 'due', 'here', 'seeming', 'still', 'done', 'whatever', 'on', 'than', 'just', 'hers', 'doing', 'becoming', 'call', 'per', 'whose', 'herself', 'yours', '‘d', 'another', 'ours', 'whereafter', 'toward', 'to', '‘re', 'its', 'without', 'do', 'along', 'not', 'becomes', 'however', 'only', 'during', 'being', 're', 'together', 'name', 'except', 'did', 'upon', 'behind', 'more', 'is', 'using', 'now', 'sometime', 'of', 'who', 'above', 'such', 'also', 'may', 'whether', '’ll', 'moreover', 'five', '‘ll', 'became', 'nevertheless', 'into', 'former', 'off', 'sixty', 'sometimes', 'that', 'three', 'whither', 'be', 'someone', \"'ll\", 'whenever', 'at', 'been', 'forty', 'hereby', 'does', 'if', 'beforehand', 'nine', 'our', 'she', 'their', 'these', '’m', 'show', 'few', 'something', 'otherwise', 'seems', 'serious', 'other', 'too', 'even', 'all', 'must', 'they', 'thereafter', 'already', 'seem', 'towards', 'wherever', 'less', 'whoever', \"n't\", 'over', '’re', 'n‘t', 'therefore', 'through', 'about', 'next', \"'d\", \"'re\", 'else', 'two', 'me', 'whereby', 'say', 'some', 'somehow', 'take', 'a', 'him', 'anything', 'thus', 'itself', 'after', 'latterly', 'make', 'please', 'up', 'against', 'himself', 'out', 'were', \"'s\", 'her', 'i', 'four', 'from', 'whereas', 'everyone', 'have', 'myself', 'whence', 'used', 'when', '‘ve', 'we', 'any', 'besides', 'formerly', 'part', 'every', 'both', 'was', 'cannot', 'are', 'everything', 'in', 'it', 'much', 'via', 'which', 'between', 'should', 'twenty', 'further', 'anyhow', 'yourselves', 'there', 'has', 'though', 'empty', 'back', 'last', 'why', 'before', \"'m\", 'bottom', 'by', 'will', 'ca', 'indeed', 'ever', 'my', 'full', 'quite', 'get', 'see', 'anywhere', 'although', 'n’t', 'what', 'each', 'namely', 'nor', 'you', 'hundred', 'unless', 'made', 'might', 'thereby', 'us', 'mine', 'go', '’d', 'beside', 'or', 'then', 'below', 'across', 'keep', 'so', 'mostly', 'one', 'almost', 'none', 'elsewhere', 'many', 'enough', 'no', 'rather', 'perhaps', 'seemed', 'ten', 'until', 'very', '’ve', \"'ve\", 'neither', 'had', 'yourself', 'move', 'twelve', 'eight']\n"
     ]
    }
   ],
   "source": [
    "stop_words = spacy.lang.en.stop_words.STOP_WORDS\n",
    "print('Number of stopwords: %d' % len(stop_words))\n",
    "print(list(stop_words))"
   ]
  },
  {
   "cell_type": "code",
   "execution_count": 0,
   "metadata": {
    "colab": {},
    "colab_type": "code",
    "id": "COayXt__2BNQ"
   },
   "outputs": [],
   "source": [
    "# tokenization and stopwords' elimination function\n",
    "\n",
    "parser = English()\n",
    "stemmer = SnowballStemmer(language='english')\n",
    "\n",
    "# tokenization\n",
    "def tokenize(text):\n",
    "    return parser(text)\n",
    "\n",
    "# stopwords\n",
    "def remove_stopwords(tokenized):\n",
    "    without_stopwords = []\n",
    "\n",
    "    for token in tokenized:\n",
    "        if token.text not in stop_words:\n",
    "            without_stopwords.append(token.text)\n",
    "\n",
    "    return without_stopwords\n",
    "\n",
    "# stemming\n",
    "def stem(words):\n",
    "    stemmed_words = []\n",
    "    for word in words:\n",
    "        stemmed_words.append(stemmer.stem(word))\n",
    "    return stemmed_words\n",
    "\n",
    "\n",
    "def pre_process (text):\n",
    "    return stem(remove_stopwords(tokenize(text)))\n",
    "\n",
    "def pre_process_df (df,column):\n",
    "    df[column] = df[column].map(pre_process)\n",
    "    return "
   ]
  },
  {
   "cell_type": "code",
   "execution_count": 0,
   "metadata": {
    "colab": {
     "base_uri": "https://localhost:8080/",
     "height": 359
    },
    "colab_type": "code",
    "executionInfo": {
     "elapsed": 1012,
     "status": "ok",
     "timestamp": 1574975376183,
     "user": {
      "displayName": "Giulia Galli",
      "photoUrl": "https://lh3.googleusercontent.com/a-/AAuE7mA0mR9HBpRsWYUC7iO9dMkjqV1INApvYj8BR6Jzrg=s64",
      "userId": "04241558194917102873"
     },
     "user_tz": -60
    },
    "id": "XE27TXaN2DYr",
    "outputId": "dcb0c3b0-ddff-44a8-c1f2-efeeb1b2b8ba"
   },
   "outputs": [
    {
     "data": {
      "text/html": [
       "<div>\n",
       "<style scoped>\n",
       "    .dataframe tbody tr th:only-of-type {\n",
       "        vertical-align: middle;\n",
       "    }\n",
       "\n",
       "    .dataframe tbody tr th {\n",
       "        vertical-align: top;\n",
       "    }\n",
       "\n",
       "    .dataframe thead th {\n",
       "        text-align: right;\n",
       "    }\n",
       "</style>\n",
       "<table border=\"1\" class=\"dataframe\">\n",
       "  <thead>\n",
       "    <tr style=\"text-align: right;\">\n",
       "      <th></th>\n",
       "      <th>subreddit</th>\n",
       "      <th>body</th>\n",
       "      <th>subreddit_id</th>\n",
       "    </tr>\n",
       "  </thead>\n",
       "  <tbody>\n",
       "    <tr>\n",
       "      <th>1461457</th>\n",
       "      <td>politics</td>\n",
       "      <td>[achiev, s, right, congress, obama, scandal, f...</td>\n",
       "      <td>9</td>\n",
       "    </tr>\n",
       "    <tr>\n",
       "      <th>1810100</th>\n",
       "      <td>science</td>\n",
       "      <td>[yeah, live, 5, hour, away, drive, gas, guzzl,...</td>\n",
       "      <td>10</td>\n",
       "    </tr>\n",
       "    <tr>\n",
       "      <th>1019471</th>\n",
       "      <td>aww</td>\n",
       "      <td>[rule, internet, nt, care, peopl, internet, ma...</td>\n",
       "      <td>3</td>\n",
       "    </tr>\n",
       "    <tr>\n",
       "      <th>1710552</th>\n",
       "      <td>atheism</td>\n",
       "      <td>[teen, coupl, warn, told, scram]</td>\n",
       "      <td>2</td>\n",
       "    </tr>\n",
       "    <tr>\n",
       "      <th>673707</th>\n",
       "      <td>worldnews</td>\n",
       "      <td>[nice, turnaround, work, apologist, stanc]</td>\n",
       "      <td>13</td>\n",
       "    </tr>\n",
       "    <tr>\n",
       "      <th>1793933</th>\n",
       "      <td>atheism</td>\n",
       "      <td>[semant, argument, replac, die, billion, peopl...</td>\n",
       "      <td>2</td>\n",
       "    </tr>\n",
       "    <tr>\n",
       "      <th>1514507</th>\n",
       "      <td>technology</td>\n",
       "      <td>[use, explos, stop, fire, oil, field, nuke, hu...</td>\n",
       "      <td>11</td>\n",
       "    </tr>\n",
       "    <tr>\n",
       "      <th>1863987</th>\n",
       "      <td>science</td>\n",
       "      <td>[regardless, think, laid, decent, case, climat...</td>\n",
       "      <td>10</td>\n",
       "    </tr>\n",
       "    <tr>\n",
       "      <th>1225653</th>\n",
       "      <td>todayilearned</td>\n",
       "      <td>[point, like, look, tabl,  ]</td>\n",
       "      <td>12</td>\n",
       "    </tr>\n",
       "    <tr>\n",
       "      <th>639820</th>\n",
       "      <td>worldnews</td>\n",
       "      <td>[oh, deni, mere, propos, like, turn, intent, c...</td>\n",
       "      <td>13</td>\n",
       "    </tr>\n",
       "  </tbody>\n",
       "</table>\n",
       "</div>"
      ],
      "text/plain": [
       "             subreddit  ... subreddit_id\n",
       "1461457       politics  ...            9\n",
       "1810100        science  ...           10\n",
       "1019471            aww  ...            3\n",
       "1710552        atheism  ...            2\n",
       "673707       worldnews  ...           13\n",
       "1793933        atheism  ...            2\n",
       "1514507     technology  ...           11\n",
       "1863987        science  ...           10\n",
       "1225653  todayilearned  ...           12\n",
       "639820       worldnews  ...           13\n",
       "\n",
       "[10 rows x 3 columns]"
      ]
     },
     "execution_count": 62,
     "metadata": {
      "tags": []
     },
     "output_type": "execute_result"
    }
   ],
   "source": [
    "# testing the pre_process function on a df\n",
    "sample = red_comments_posts_df.sample(10)\n",
    "pre_process_df(sample,'body')\n",
    "sample"
   ]
  },
  {
   "cell_type": "code",
   "execution_count": 0,
   "metadata": {
    "colab": {
     "base_uri": "https://localhost:8080/",
     "height": 51
    },
    "colab_type": "code",
    "executionInfo": {
     "elapsed": 1929502,
     "status": "ok",
     "timestamp": 1574977354682,
     "user": {
      "displayName": "Giulia Galli",
      "photoUrl": "https://lh3.googleusercontent.com/a-/AAuE7mA0mR9HBpRsWYUC7iO9dMkjqV1INApvYj8BR6Jzrg=s64",
      "userId": "04241558194917102873"
     },
     "user_tz": -60
    },
    "id": "hkKIWH9W2Qbb",
    "outputId": "84306d53-14d6-44d0-f826-b5aa2448bef1"
   },
   "outputs": [
    {
     "name": "stdout",
     "output_type": "stream",
     "text": [
      "CPU times: user 31min 59s, sys: 6.63 s, total: 32min 6s\n",
      "Wall time: 32min 8s\n"
     ]
    }
   ],
   "source": [
    "%%time\n",
    "\n",
    "pre_process_df(red_comments_posts_df,'body')"
   ]
  },
  {
   "cell_type": "code",
   "execution_count": 0,
   "metadata": {
    "colab": {
     "base_uri": "https://localhost:8080/",
     "height": 204
    },
    "colab_type": "code",
    "executionInfo": {
     "elapsed": 1048,
     "status": "ok",
     "timestamp": 1574977439766,
     "user": {
      "displayName": "Giulia Galli",
      "photoUrl": "https://lh3.googleusercontent.com/a-/AAuE7mA0mR9HBpRsWYUC7iO9dMkjqV1INApvYj8BR6Jzrg=s64",
      "userId": "04241558194917102873"
     },
     "user_tz": -60
    },
    "id": "1mP9OY8P2cog",
    "outputId": "6e0d3cdf-d82d-4e25-d1f1-baa4b2623493"
   },
   "outputs": [
    {
     "data": {
      "text/html": [
       "<div>\n",
       "<style scoped>\n",
       "    .dataframe tbody tr th:only-of-type {\n",
       "        vertical-align: middle;\n",
       "    }\n",
       "\n",
       "    .dataframe tbody tr th {\n",
       "        vertical-align: top;\n",
       "    }\n",
       "\n",
       "    .dataframe thead th {\n",
       "        text-align: right;\n",
       "    }\n",
       "</style>\n",
       "<table border=\"1\" class=\"dataframe\">\n",
       "  <thead>\n",
       "    <tr style=\"text-align: right;\">\n",
       "      <th></th>\n",
       "      <th>subreddit</th>\n",
       "      <th>body</th>\n",
       "      <th>subreddit_id</th>\n",
       "    </tr>\n",
       "  </thead>\n",
       "  <tbody>\n",
       "    <tr>\n",
       "      <th>0</th>\n",
       "      <td>funny</td>\n",
       "      <td>[hell, job, blue, duck, photo, sourc]</td>\n",
       "      <td>5</td>\n",
       "    </tr>\n",
       "    <tr>\n",
       "      <th>1</th>\n",
       "      <td>funny</td>\n",
       "      <td>[one, settl]</td>\n",
       "      <td>5</td>\n",
       "    </tr>\n",
       "    <tr>\n",
       "      <th>2</th>\n",
       "      <td>funny</td>\n",
       "      <td>[grand, father, fish, cod, like, 50, year, ago]</td>\n",
       "      <td>5</td>\n",
       "    </tr>\n",
       "    <tr>\n",
       "      <th>3</th>\n",
       "      <td>funny</td>\n",
       "      <td>[fake, yes,  , effect, real]</td>\n",
       "      <td>5</td>\n",
       "    </tr>\n",
       "    <tr>\n",
       "      <th>4</th>\n",
       "      <td>funny</td>\n",
       "      <td>[smoke, bomb, bug, poison, combin]</td>\n",
       "      <td>5</td>\n",
       "    </tr>\n",
       "  </tbody>\n",
       "</table>\n",
       "</div>"
      ],
      "text/plain": [
       "  subreddit                                             body  subreddit_id\n",
       "0     funny            [hell, job, blue, duck, photo, sourc]             5\n",
       "1     funny                                     [one, settl]             5\n",
       "2     funny  [grand, father, fish, cod, like, 50, year, ago]             5\n",
       "3     funny                     [fake, yes,  , effect, real]             5\n",
       "4     funny               [smoke, bomb, bug, poison, combin]             5"
      ]
     },
     "execution_count": 65,
     "metadata": {
      "tags": []
     },
     "output_type": "execute_result"
    }
   ],
   "source": [
    "red_comments_posts_df.head()"
   ]
  },
  {
   "cell_type": "code",
   "execution_count": 0,
   "metadata": {
    "colab": {},
    "colab_type": "code",
    "id": "RGM1VZyg-FPu"
   },
   "outputs": [],
   "source": [
    "# saving the cleaned and tokenized DataFrame \n",
    "\n",
    "red_comments_posts_df.to_pickle(\"red_comments_posts_tokenized.pkl\")"
   ]
  },
  {
   "cell_type": "code",
   "execution_count": 0,
   "metadata": {
    "colab": {
     "base_uri": "https://localhost:8080/",
     "height": 272
    },
    "colab_type": "code",
    "executionInfo": {
     "elapsed": 28084,
     "status": "ok",
     "timestamp": 1574977660778,
     "user": {
      "displayName": "Giulia Galli",
      "photoUrl": "https://lh3.googleusercontent.com/a-/AAuE7mA0mR9HBpRsWYUC7iO9dMkjqV1INApvYj8BR6Jzrg=s64",
      "userId": "04241558194917102873"
     },
     "user_tz": -60
    },
    "id": "iS2s8bJe-08s",
    "outputId": "45df868c-3fb2-470d-f057-76f8bcd56353"
   },
   "outputs": [
    {
     "name": "stdout",
     "output_type": "stream",
     "text": [
      "Copying file:///content/red_comments_posts_tokenized.pkl [Content-Type=application/octet-stream]...\n",
      "/ [0 files][    0.0 B/358.1 MiB]                                                \r",
      "==> NOTE: You are uploading one or more large file(s), which would run\n",
      "significantly faster if you enable parallel composite uploads. This\n",
      "feature can be enabled by editing the\n",
      "\"parallel_composite_upload_threshold\" value in your .boto\n",
      "configuration file. However, note that if you do this large files will\n",
      "be uploaded as `composite objects\n",
      "<https://cloud.google.com/storage/docs/composite-objects>`_,which\n",
      "means that any user who downloads such objects will need to have a\n",
      "compiled crcmod installed (see \"gsutil help crcmod\"). This is because\n",
      "without a compiled crcmod, computing checksums on composite objects is\n",
      "so slow that gsutil disables downloads of composite objects.\n",
      "\n",
      "|\n",
      "Operation completed over 1 objects/358.1 MiB.                                    \n"
     ]
    }
   ],
   "source": [
    "!gsutil cp /content/red_comments_posts_tokenized.pkl gs://reddit_final_results/"
   ]
  }
 ],
 "metadata": {
  "accelerator": "GPU",
  "colab": {
   "collapsed_sections": [],
   "name": "08.01_contingency_plan.ipynb",
   "provenance": []
  },
  "kernelspec": {
   "display_name": "Python 3",
   "language": "python",
   "name": "python3"
  },
  "language_info": {
   "codemirror_mode": {
    "name": "ipython",
    "version": 3
   },
   "file_extension": ".py",
   "mimetype": "text/x-python",
   "name": "python",
   "nbconvert_exporter": "python",
   "pygments_lexer": "ipython3",
   "version": "3.7.4"
  }
 },
 "nbformat": 4,
 "nbformat_minor": 1
}
