{
 "cells": [
  {
   "cell_type": "code",
   "execution_count": 3,
   "metadata": {},
   "outputs": [
    {
     "name": "stdout",
     "output_type": "stream",
     "text": [
      "Your browser has been opened to visit:\n",
      "\n",
      "    https://accounts.google.com/o/oauth2/auth?code_challenge=ivb3eqsBHnQybU3MFeMxWJ6XQv9e7TcbGDTY0SPIPk0&prompt=select_account&code_challenge_method=S256&access_type=offline&redirect_uri=http%3A%2F%2Flocalhost%3A8085%2F&response_type=code&client_id=32555940559.apps.googleusercontent.com&scope=https%3A%2F%2Fwww.googleapis.com%2Fauth%2Fuserinfo.email+https%3A%2F%2Fwww.googleapis.com%2Fauth%2Fcloud-platform+https%3A%2F%2Fwww.googleapis.com%2Fauth%2Fappengine.admin+https%3A%2F%2Fwww.googleapis.com%2Fauth%2Fcompute+https%3A%2F%2Fwww.googleapis.com%2Fauth%2Faccounts.reauth\n",
      "\n",
      "\n",
      "\u001b[1;33mWARNING:\u001b[0m `gcloud auth login` no longer writes application default credentials.\n",
      "If you need to use ADC, see:\n",
      "  gcloud auth application-default --help\n",
      "\n",
      "You are now logged in as [galli.giuly@gmail.com].\n",
      "Your current project is [reddit-master].  You can change this setting by running:\n",
      "  $ gcloud config set project PROJECT_ID\n"
     ]
    }
   ],
   "source": [
    "!gcloud auth login"
   ]
  },
  {
   "cell_type": "code",
   "execution_count": 4,
   "metadata": {},
   "outputs": [
    {
     "name": "stdout",
     "output_type": "stream",
     "text": [
      "Updated property [core/project].\r\n"
     ]
    }
   ],
   "source": [
    "!gcloud config set project reddit-master"
   ]
  },
  {
   "cell_type": "code",
   "execution_count": 5,
   "metadata": {},
   "outputs": [],
   "source": [
    "# importing my utils\n",
    "\n",
    "from utils import text_process, label_decoder"
   ]
  },
  {
   "cell_type": "code",
   "execution_count": 7,
   "metadata": {},
   "outputs": [],
   "source": [
    "import pickle as pkl\n",
    "import pandas as pd\n",
    "import keras\n",
    "import tensorflow\n",
    "\n",
    "from keras.models import load_model\n",
    "from keras import backend\n",
    "from keras.preprocessing.sequence import pad_sequences\n"
   ]
  },
  {
   "cell_type": "code",
   "execution_count": 3,
   "metadata": {},
   "outputs": [],
   "source": [
    "# importing keras' tokenizer trained into the las model\n",
    "\n",
    "!gsutil cp gs://reddit_models/tokenizer_keras.pkl .\n",
    "    \n",
    "with open('tokenizer_keras.pkl', 'rb') as file:\n",
    "    tokenizer = pkl.load(file)"
   ]
  },
  {
   "cell_type": "code",
   "execution_count": 4,
   "metadata": {
    "collapsed": true
   },
   "outputs": [
    {
     "name": "stdout",
     "output_type": "stream",
     "text": [
      "WARNING:tensorflow:From /nix/store/cmlh3j1qphz7gnd0p8j0qrs2jx85s3ak-python3.7-tensorflow-1.15.0/lib/python3.7/site-packages/tensorflow_core/python/ops/resource_variable_ops.py:1630: calling BaseResourceVariable.__init__ (from tensorflow.python.ops.resource_variable_ops) with constraint is deprecated and will be removed in a future version.\n",
      "Instructions for updating:\n",
      "If using Keras pass *_constraint arguments to layers.\n",
      "WARNING:tensorflow:From /nix/store/xyywyd9m81qsb3kgb8qq729iiyg8zcn2-python3.7-Keras-2.3.1/lib/python3.7/site-packages/keras/backend/tensorflow_backend.py:422: The name tf.global_variables is deprecated. Please use tf.compat.v1.global_variables instead.\n",
      "\n"
     ]
    }
   ],
   "source": [
    "# importing the final model \n",
    "\n",
    "!gsutil cp gs://reddit_models/red_model_lstm_30_batchsize_150_10_subreddits.h5 .\n",
    "    \n",
    "model = keras.models.load_model(\"red_model_lstm_30_batchsize_150_10_subreddits.h5\")"
   ]
  },
  {
   "cell_type": "markdown",
   "metadata": {},
   "source": [
    "Steps to follow for testing the model:\n",
    "\n",
    "1. go to reddit.com and search for one of the following subreddits:\n",
    "\n",
    "    Fitness\n",
    "    atheism\n",
    "    aww\n",
    "    europe\n",
    "    gaming\n",
    "    movies\n",
    "    nba\n",
    "    politics\n",
    "    science\n",
    "    technology\n",
    "   \n",
    "2. copy the text you want to test\n",
    "    \n",
    "3. go to \"Step 1\" and paste the text once you have executed the correspoding row\n",
    "\n",
    "4. Execute step 2\n",
    "\n",
    "5. Execute step 3 for the result\n",
    "\n",
    "Final test: is the suggestion of my model exactly the subreddit where you picked the text?!\n",
    "\n",
    "![](https://encrypted-tbn0.gstatic.com/images?q=tbn:ANd9GcQvf5CPrE3gN3VXw3b_o0qGeAvzepdfmPbygHb-vNZgL19QvRiCwA&s)\n"
   ]
  },
  {
   "cell_type": "markdown",
   "metadata": {},
   "source": [
    "### Step 1: copy the text or post you what to publush"
   ]
  },
  {
   "cell_type": "code",
   "execution_count": 16,
   "metadata": {},
   "outputs": [
    {
     "name": "stdout",
     "output_type": "stream",
     "text": [
      "Please, enter the text of your blog: Is the story of the death of the Firstborn in Exodus misunderstood?  Often times when people critique the God of the Old Testament, they critique him as being cruel or harsh and it's often stories like this that people point to. However if you read the narrative as well as the interpretive tradition behind the narrative carefully you come away with a completely different impression of what happened. These are the reasons why.  (i)The plagues on Egypt were judgements on the religious foundations of the Egyptian empire. The gods were seen as the backbone of Egypt's empire and so when the 10 plagues were initiated, they were initiated against the gods of Egypt. The last plague targeted Pharaoh because he was seen as a god on earth and so was his heir who would succeed him. The theme here is God passing judgement on the religious foundations for power, domination, oppression and empire.  (ii)When God sent the plague on the firstborn he didn't kill children. Someone being the firstborn in a family doesn't mean they are a child or an infant(which is what most people think). Reuben was the firstborn of Jacob's sons in the Old Testament and yet by the time his brother Joseph was born he was an adult.  (iii)The firstborn would have been part of the system of oppression and slavery that dominated the Israelites. The social status of the firstborn of any family was that he gained the property and inheritance rights of his father. That would have included slaves since slavery was something that was hereditary. So while people like the Pharaoh were perpetrators of this system of oppression, the first born were beneficiaries of it, like the plantation system of the American South.  (iv)In the Jewish interpretive tradition, technically God didn't actually kill the firstborn. It was the Pharaoh. Which might shock people. In the Midrash(Jewish oral traditions) the firstborn protested both against the pharaoh as well as their own fathers for continuing to keep the Hebrew slaves in bondage. Their fathers responded by stubbornly refusing to let the Hebrews go and the Pharaoh responded by breaking their knees. In response to that the firstborn rose up in revolt and killed their fathers. Because the firstborn killed their fathers they were sentenced to death by the Pharaoh. So Pharaoh was actually the one that had them executed in the Jewish interpretive tradition.\n",
      "\n",
      "Text correctly entered, I'll give you that subreddit in a minute\n"
     ]
    }
   ],
   "source": [
    "text = input(\"Please, enter the text of your blog: \") \n",
    "print(\"\")\n",
    "print(\"Text correctly entered, I'll give you that subreddit in a minute\")"
   ]
  },
  {
   "cell_type": "markdown",
   "metadata": {},
   "source": [
    "### Step 2: processing the text"
   ]
  },
  {
   "cell_type": "code",
   "execution_count": 17,
   "metadata": {},
   "outputs": [
    {
     "name": "stdout",
     "output_type": "stream",
     "text": [
      "Shape of data tensor: (1, 450)\n"
     ]
    }
   ],
   "source": [
    "MAX_NB_WORDS = 75000\n",
    "MAX_SEQUENCE_LENGTH = 450\n",
    "EMBEDDING_DIM = 100\n",
    "\n",
    "X = tokenizer.texts_to_sequences([text])\n",
    "X = pad_sequences(X, maxlen=MAX_SEQUENCE_LENGTH)\n",
    "print('Shape of data tensor:', X.shape)"
   ]
  },
  {
   "cell_type": "markdown",
   "metadata": {},
   "source": [
    "### Step 3: get the result "
   ]
  },
  {
   "cell_type": "code",
   "execution_count": 18,
   "metadata": {},
   "outputs": [
    {
     "name": "stdout",
     "output_type": "stream",
     "text": [
      "you should publish your text into the sureddit:  ['atheism']\n"
     ]
    }
   ],
   "source": [
    "result = model.predict(X)\n",
    "\n",
    "def convert_to_cat(arr):\n",
    "    biggest = 0\n",
    "    for x in range(0, len(arr)):\n",
    "        if arr[x] > arr[biggest]:\n",
    "            biggest = x\n",
    "    return biggest\n",
    "\n",
    "category = [label_decoder(convert_to_cat(x)) for x in result]\n",
    "\n",
    "print(\"you should publish your text into the sureddit: \", category)"
   ]
  }
 ],
 "metadata": {
  "kernelspec": {
   "display_name": "Python 3",
   "language": "python",
   "name": "python3"
  },
  "language_info": {
   "codemirror_mode": {
    "name": "ipython",
    "version": 3
   },
   "file_extension": ".py",
   "mimetype": "text/x-python",
   "name": "python",
   "nbconvert_exporter": "python",
   "pygments_lexer": "ipython3",
   "version": "3.7.4"
  }
 },
 "nbformat": 4,
 "nbformat_minor": 2
}
