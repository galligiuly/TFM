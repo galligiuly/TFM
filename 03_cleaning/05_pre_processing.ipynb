{
  "nbformat": 4,
  "nbformat_minor": 0,
  "metadata": {
    "colab": {
      "name": "05_pre-processing.ipynb",
      "provenance": [],
      "collapsed_sections": [],
      "machine_shape": "hm"
    },
    "kernelspec": {
      "name": "python3",
      "display_name": "Python 3"
    },
    "accelerator": "GPU"
  },
  "cells": [
    {
      "cell_type": "markdown",
      "metadata": {
        "id": "tzd0sbU7PyUd",
        "colab_type": "text"
      },
      "source": [
        "# Pre processing - Standardization"
      ]
    },
    {
      "cell_type": "code",
      "metadata": {
        "id": "I3eR7ARFPjiG",
        "colab_type": "code",
        "colab": {
          "base_uri": "https://localhost:8080/",
          "height": 34
        },
        "outputId": "ad0d6cf5-9582-4c38-ea65-10f49363ab3e"
      },
      "source": [
        "from google.colab import auth\n",
        "auth.authenticate_user()\n",
        "print('Authenticated')"
      ],
      "execution_count": 1,
      "outputs": [
        {
          "output_type": "stream",
          "text": [
            "Authenticated\n"
          ],
          "name": "stdout"
        }
      ]
    },
    {
      "cell_type": "code",
      "metadata": {
        "id": "SgpbgJc7UkDM",
        "colab_type": "code",
        "colab": {
          "base_uri": "https://localhost:8080/",
          "height": 258
        },
        "outputId": "1e41eff5-8db9-4065-d312-d6436c981643"
      },
      "source": [
        "!gcloud auth login"
      ],
      "execution_count": 2,
      "outputs": [
        {
          "output_type": "stream",
          "text": [
            "Go to the following link in your browser:\n",
            "\n",
            "    https://accounts.google.com/o/oauth2/auth?code_challenge=_zDicMjuagjLZMmMq57Gz2Xm4FAKzB45gY6iAfEcp9A&prompt=select_account&code_challenge_method=S256&access_type=offline&redirect_uri=urn%3Aietf%3Awg%3Aoauth%3A2.0%3Aoob&response_type=code&client_id=32555940559.apps.googleusercontent.com&scope=https%3A%2F%2Fwww.googleapis.com%2Fauth%2Fuserinfo.email+https%3A%2F%2Fwww.googleapis.com%2Fauth%2Fcloud-platform+https%3A%2F%2Fwww.googleapis.com%2Fauth%2Fappengine.admin+https%3A%2F%2Fwww.googleapis.com%2Fauth%2Fcompute+https%3A%2F%2Fwww.googleapis.com%2Fauth%2Faccounts.reauth\n",
            "\n",
            "\n",
            "Enter verification code: 4/tQG_LUpjV8TFv0kADPbgExTaM7bbCxTWZkbVr67iVaiF7ZTHesmLZwc\n",
            "\u001b[1;33mWARNING:\u001b[0m `gcloud auth login` no longer writes application default credentials.\n",
            "If you need to use ADC, see:\n",
            "  gcloud auth application-default --help\n",
            "\n",
            "You are now logged in as [galli.giuly@gmail.com].\n",
            "Your current project is [None].  You can change this setting by running:\n",
            "  $ gcloud config set project PROJECT_ID\n"
          ],
          "name": "stdout"
        }
      ]
    },
    {
      "cell_type": "code",
      "metadata": {
        "id": "MoP__5QRUkOI",
        "colab_type": "code",
        "colab": {
          "base_uri": "https://localhost:8080/",
          "height": 34
        },
        "outputId": "ba3318aa-3211-4668-9b7d-e3939cd714b2"
      },
      "source": [
        "!gcloud config set project reddit-master"
      ],
      "execution_count": 3,
      "outputs": [
        {
          "output_type": "stream",
          "text": [
            "Updated property [core/project].\n"
          ],
          "name": "stdout"
        }
      ]
    },
    {
      "cell_type": "code",
      "metadata": {
        "id": "1wGJVpi3PmfH",
        "colab_type": "code",
        "colab": {
          "base_uri": "https://localhost:8080/",
          "height": 102
        },
        "outputId": "3850c554-3690-4af7-dfb4-0902f6150cb8"
      },
      "source": [
        "import pandas as pd\n",
        "from nltk.tokenize import word_tokenize\n",
        "import nltk\n",
        "nltk.download('punkt')\n",
        "import nltk\n",
        "nltk.download('stopwords')"
      ],
      "execution_count": 4,
      "outputs": [
        {
          "output_type": "stream",
          "text": [
            "[nltk_data] Downloading package punkt to /root/nltk_data...\n",
            "[nltk_data]   Unzipping tokenizers/punkt.zip.\n",
            "[nltk_data] Downloading package stopwords to /root/nltk_data...\n",
            "[nltk_data]   Unzipping corpora/stopwords.zip.\n"
          ],
          "name": "stdout"
        },
        {
          "output_type": "execute_result",
          "data": {
            "text/plain": [
              "True"
            ]
          },
          "metadata": {
            "tags": []
          },
          "execution_count": 4
        }
      ]
    },
    {
      "cell_type": "code",
      "metadata": {
        "id": "Dj_mckKpVIjL",
        "colab_type": "code",
        "colab": {
          "base_uri": "https://localhost:8080/",
          "height": 68
        },
        "outputId": "54b66a3a-4e9a-4802-b526-351425183579"
      },
      "source": [
        "!gsutil cp gs://reddit_final_results/comments_posts_2018.csv ."
      ],
      "execution_count": 5,
      "outputs": [
        {
          "output_type": "stream",
          "text": [
            "Copying gs://reddit_final_results/comments_posts_2018.csv...\n",
            "- [1 files][  2.0 GiB/  2.0 GiB]   61.8 MiB/s                                   \n",
            "Operation completed over 1 objects/2.0 GiB.                                      \n"
          ],
          "name": "stdout"
        }
      ]
    },
    {
      "cell_type": "code",
      "metadata": {
        "id": "PtxaS20tRPTL",
        "colab_type": "code",
        "colab": {}
      },
      "source": [
        "comments_posts_df = pd.read_csv(\"comments_posts_2018.csv\")"
      ],
      "execution_count": 0,
      "outputs": []
    },
    {
      "cell_type": "code",
      "metadata": {
        "id": "mr-eB-UjYZ_q",
        "colab_type": "code",
        "colab": {
          "base_uri": "https://localhost:8080/",
          "height": 34
        },
        "outputId": "ac0d5ab4-a25c-4918-e168-4dbe78aabb4f"
      },
      "source": [
        "comments_posts_df.columns"
      ],
      "execution_count": 8,
      "outputs": [
        {
          "output_type": "execute_result",
          "data": {
            "text/plain": [
              "Index(['Unnamed: 0', 'subreddit', 'body'], dtype='object')"
            ]
          },
          "metadata": {
            "tags": []
          },
          "execution_count": 8
        }
      ]
    },
    {
      "cell_type": "markdown",
      "metadata": {
        "id": "Z-mEcobjQiqA",
        "colab_type": "text"
      },
      "source": [
        "## Processing lowercase characters"
      ]
    },
    {
      "cell_type": "markdown",
      "metadata": {
        "id": "-q_WEzghQo-n",
        "colab_type": "text"
      },
      "source": [
        "We create a function whose output is lowercase words"
      ]
    },
    {
      "cell_type": "code",
      "metadata": {
        "id": "GBtDjpclV_-U",
        "colab_type": "code",
        "colab": {}
      },
      "source": [
        "sample = comments_posts_df.sample(20)"
      ],
      "execution_count": 0,
      "outputs": []
    },
    {
      "cell_type": "code",
      "metadata": {
        "id": "FugdrWt-WI6s",
        "colab_type": "code",
        "colab": {
          "base_uri": "https://localhost:8080/",
          "height": 204
        },
        "outputId": "d25e0a76-7602-49aa-85fa-de01a6b0c046"
      },
      "source": [
        "sample.head()"
      ],
      "execution_count": 10,
      "outputs": [
        {
          "output_type": "execute_result",
          "data": {
            "text/html": [
              "<div>\n",
              "<style scoped>\n",
              "    .dataframe tbody tr th:only-of-type {\n",
              "        vertical-align: middle;\n",
              "    }\n",
              "\n",
              "    .dataframe tbody tr th {\n",
              "        vertical-align: top;\n",
              "    }\n",
              "\n",
              "    .dataframe thead th {\n",
              "        text-align: right;\n",
              "    }\n",
              "</style>\n",
              "<table border=\"1\" class=\"dataframe\">\n",
              "  <thead>\n",
              "    <tr style=\"text-align: right;\">\n",
              "      <th></th>\n",
              "      <th>Unnamed: 0</th>\n",
              "      <th>subreddit</th>\n",
              "      <th>body</th>\n",
              "    </tr>\n",
              "  </thead>\n",
              "  <tbody>\n",
              "    <tr>\n",
              "      <th>1611114</th>\n",
              "      <td>1611114</td>\n",
              "      <td>IAmA</td>\n",
              "      <td>Biggest and longest rivalry in North London</td>\n",
              "    </tr>\n",
              "    <tr>\n",
              "      <th>8292705</th>\n",
              "      <td>8292705</td>\n",
              "      <td>nba</td>\n",
              "      <td>Klaymond is top 20</td>\n",
              "    </tr>\n",
              "    <tr>\n",
              "      <th>6058165</th>\n",
              "      <td>6058165</td>\n",
              "      <td>funny</td>\n",
              "      <td>Youre right op he is creepy</td>\n",
              "    </tr>\n",
              "    <tr>\n",
              "      <th>10375371</th>\n",
              "      <td>10375371</td>\n",
              "      <td>funny</td>\n",
              "      <td>Mine was free</td>\n",
              "    </tr>\n",
              "    <tr>\n",
              "      <th>4036474</th>\n",
              "      <td>4036474</td>\n",
              "      <td>politics</td>\n",
              "      <td>American exceptionalism is a hell of a drug  S...</td>\n",
              "    </tr>\n",
              "  </tbody>\n",
              "</table>\n",
              "</div>"
            ],
            "text/plain": [
              "          Unnamed: 0  ...                                               body\n",
              "1611114      1611114  ...        Biggest and longest rivalry in North London\n",
              "8292705      8292705  ...                                 Klaymond is top 20\n",
              "6058165      6058165  ...                        Youre right op he is creepy\n",
              "10375371    10375371  ...                                      Mine was free\n",
              "4036474      4036474  ...  American exceptionalism is a hell of a drug  S...\n",
              "\n",
              "[5 rows x 3 columns]"
            ]
          },
          "metadata": {
            "tags": []
          },
          "execution_count": 10
        }
      ]
    },
    {
      "cell_type": "code",
      "metadata": {
        "id": "tfF3BW_CRV6x",
        "colab_type": "code",
        "colab": {}
      },
      "source": [
        "def lowercase_column (df, column):\n",
        "  df[column] = df[column].str.lower()\n",
        "  return df"
      ],
      "execution_count": 0,
      "outputs": []
    },
    {
      "cell_type": "code",
      "metadata": {
        "id": "7taS5sKdWS7W",
        "colab_type": "code",
        "colab": {
          "base_uri": "https://localhost:8080/",
          "height": 669
        },
        "outputId": "efbd2dcb-16d4-4399-f94d-8d60dd5a881f"
      },
      "source": [
        "lowercase_column(sample,'body')"
      ],
      "execution_count": 12,
      "outputs": [
        {
          "output_type": "execute_result",
          "data": {
            "text/html": [
              "<div>\n",
              "<style scoped>\n",
              "    .dataframe tbody tr th:only-of-type {\n",
              "        vertical-align: middle;\n",
              "    }\n",
              "\n",
              "    .dataframe tbody tr th {\n",
              "        vertical-align: top;\n",
              "    }\n",
              "\n",
              "    .dataframe thead th {\n",
              "        text-align: right;\n",
              "    }\n",
              "</style>\n",
              "<table border=\"1\" class=\"dataframe\">\n",
              "  <thead>\n",
              "    <tr style=\"text-align: right;\">\n",
              "      <th></th>\n",
              "      <th>Unnamed: 0</th>\n",
              "      <th>subreddit</th>\n",
              "      <th>body</th>\n",
              "    </tr>\n",
              "  </thead>\n",
              "  <tbody>\n",
              "    <tr>\n",
              "      <th>1611114</th>\n",
              "      <td>1611114</td>\n",
              "      <td>IAmA</td>\n",
              "      <td>biggest and longest rivalry in north london</td>\n",
              "    </tr>\n",
              "    <tr>\n",
              "      <th>8292705</th>\n",
              "      <td>8292705</td>\n",
              "      <td>nba</td>\n",
              "      <td>klaymond is top 20</td>\n",
              "    </tr>\n",
              "    <tr>\n",
              "      <th>6058165</th>\n",
              "      <td>6058165</td>\n",
              "      <td>funny</td>\n",
              "      <td>youre right op he is creepy</td>\n",
              "    </tr>\n",
              "    <tr>\n",
              "      <th>10375371</th>\n",
              "      <td>10375371</td>\n",
              "      <td>funny</td>\n",
              "      <td>mine was free</td>\n",
              "    </tr>\n",
              "    <tr>\n",
              "      <th>4036474</th>\n",
              "      <td>4036474</td>\n",
              "      <td>politics</td>\n",
              "      <td>american exceptionalism is a hell of a drug  s...</td>\n",
              "    </tr>\n",
              "    <tr>\n",
              "      <th>2645814</th>\n",
              "      <td>2645814</td>\n",
              "      <td>atheism</td>\n",
              "      <td>shit thats scary to contemplate</td>\n",
              "    </tr>\n",
              "    <tr>\n",
              "      <th>6175353</th>\n",
              "      <td>6175353</td>\n",
              "      <td>politics</td>\n",
              "      <td>the last thing i would do when innocent of mur...</td>\n",
              "    </tr>\n",
              "    <tr>\n",
              "      <th>6281495</th>\n",
              "      <td>6281495</td>\n",
              "      <td>europe</td>\n",
              "      <td>bruh lets not fool ourselvesthe black sea is s...</td>\n",
              "    </tr>\n",
              "    <tr>\n",
              "      <th>3116012</th>\n",
              "      <td>3116012</td>\n",
              "      <td>aww</td>\n",
              "      <td>aww poor girl what happened sending good thoug...</td>\n",
              "    </tr>\n",
              "    <tr>\n",
              "      <th>2078223</th>\n",
              "      <td>2078223</td>\n",
              "      <td>technology</td>\n",
              "      <td>i have a feeling this was a huge scam and some...</td>\n",
              "    </tr>\n",
              "    <tr>\n",
              "      <th>2783814</th>\n",
              "      <td>2783814</td>\n",
              "      <td>politics</td>\n",
              "      <td>fat fucker is laughing  get em beto</td>\n",
              "    </tr>\n",
              "    <tr>\n",
              "      <th>4960786</th>\n",
              "      <td>4960786</td>\n",
              "      <td>movies</td>\n",
              "      <td>i dont remember this at all and no where near ...</td>\n",
              "    </tr>\n",
              "    <tr>\n",
              "      <th>4771585</th>\n",
              "      <td>4771585</td>\n",
              "      <td>funny</td>\n",
              "      <td>ive raised about 4 litters of kittens in my ti...</td>\n",
              "    </tr>\n",
              "    <tr>\n",
              "      <th>8063752</th>\n",
              "      <td>8063752</td>\n",
              "      <td>IAmA</td>\n",
              "      <td>the bahamas because its such a big brilliant b...</td>\n",
              "    </tr>\n",
              "    <tr>\n",
              "      <th>301598</th>\n",
              "      <td>301598</td>\n",
              "      <td>europe</td>\n",
              "      <td>so rape is bad but killing or enslaving is jus...</td>\n",
              "    </tr>\n",
              "    <tr>\n",
              "      <th>5408797</th>\n",
              "      <td>5408797</td>\n",
              "      <td>worldnews</td>\n",
              "      <td>because its halfway across the world all count...</td>\n",
              "    </tr>\n",
              "    <tr>\n",
              "      <th>4212867</th>\n",
              "      <td>4212867</td>\n",
              "      <td>politics</td>\n",
              "      <td>gtthere are adults in the room indeedbull fuck...</td>\n",
              "    </tr>\n",
              "    <tr>\n",
              "      <th>1308654</th>\n",
              "      <td>1308654</td>\n",
              "      <td>science</td>\n",
              "      <td>companies obviously do this confidently with t...</td>\n",
              "    </tr>\n",
              "    <tr>\n",
              "      <th>323210</th>\n",
              "      <td>323210</td>\n",
              "      <td>science</td>\n",
              "      <td>bulb poopetting</td>\n",
              "    </tr>\n",
              "    <tr>\n",
              "      <th>6531083</th>\n",
              "      <td>6531083</td>\n",
              "      <td>politics</td>\n",
              "      <td>gteven though he probably aligns with 99 of wh...</td>\n",
              "    </tr>\n",
              "  </tbody>\n",
              "</table>\n",
              "</div>"
            ],
            "text/plain": [
              "          Unnamed: 0  ...                                               body\n",
              "1611114      1611114  ...        biggest and longest rivalry in north london\n",
              "8292705      8292705  ...                                 klaymond is top 20\n",
              "6058165      6058165  ...                        youre right op he is creepy\n",
              "10375371    10375371  ...                                      mine was free\n",
              "4036474      4036474  ...  american exceptionalism is a hell of a drug  s...\n",
              "2645814      2645814  ...                    shit thats scary to contemplate\n",
              "6175353      6175353  ...  the last thing i would do when innocent of mur...\n",
              "6281495      6281495  ...  bruh lets not fool ourselvesthe black sea is s...\n",
              "3116012      3116012  ...  aww poor girl what happened sending good thoug...\n",
              "2078223      2078223  ...  i have a feeling this was a huge scam and some...\n",
              "2783814      2783814  ...                fat fucker is laughing  get em beto\n",
              "4960786      4960786  ...  i dont remember this at all and no where near ...\n",
              "4771585      4771585  ...  ive raised about 4 litters of kittens in my ti...\n",
              "8063752      8063752  ...  the bahamas because its such a big brilliant b...\n",
              "301598        301598  ...  so rape is bad but killing or enslaving is jus...\n",
              "5408797      5408797  ...  because its halfway across the world all count...\n",
              "4212867      4212867  ...  gtthere are adults in the room indeedbull fuck...\n",
              "1308654      1308654  ...  companies obviously do this confidently with t...\n",
              "323210        323210  ...                                    bulb poopetting\n",
              "6531083      6531083  ...  gteven though he probably aligns with 99 of wh...\n",
              "\n",
              "[20 rows x 3 columns]"
            ]
          },
          "metadata": {
            "tags": []
          },
          "execution_count": 12
        }
      ]
    },
    {
      "cell_type": "markdown",
      "metadata": {
        "id": "szTYv0FqjjRl",
        "colab_type": "text"
      },
      "source": [
        "Once tested we can apply the function to our df"
      ]
    },
    {
      "cell_type": "code",
      "metadata": {
        "id": "4xdjrh8hWg_c",
        "colab_type": "code",
        "colab": {
          "base_uri": "https://localhost:8080/",
          "height": 419
        },
        "outputId": "b85e9402-6e66-4e15-d565-52c42ba71a45"
      },
      "source": [
        "lowercase_column(comments_posts_df,'body')"
      ],
      "execution_count": 8,
      "outputs": [
        {
          "output_type": "execute_result",
          "data": {
            "text/html": [
              "<div>\n",
              "<style scoped>\n",
              "    .dataframe tbody tr th:only-of-type {\n",
              "        vertical-align: middle;\n",
              "    }\n",
              "\n",
              "    .dataframe tbody tr th {\n",
              "        vertical-align: top;\n",
              "    }\n",
              "\n",
              "    .dataframe thead th {\n",
              "        text-align: right;\n",
              "    }\n",
              "</style>\n",
              "<table border=\"1\" class=\"dataframe\">\n",
              "  <thead>\n",
              "    <tr style=\"text-align: right;\">\n",
              "      <th></th>\n",
              "      <th>Unnamed: 0</th>\n",
              "      <th>subreddit</th>\n",
              "      <th>body</th>\n",
              "    </tr>\n",
              "  </thead>\n",
              "  <tbody>\n",
              "    <tr>\n",
              "      <th>0</th>\n",
              "      <td>0</td>\n",
              "      <td>aww</td>\n",
              "      <td>dont teach him bite</td>\n",
              "    </tr>\n",
              "    <tr>\n",
              "      <th>1</th>\n",
              "      <td>1</td>\n",
              "      <td>aww</td>\n",
              "      <td>shes adorable</td>\n",
              "    </tr>\n",
              "    <tr>\n",
              "      <th>2</th>\n",
              "      <td>2</td>\n",
              "      <td>aww</td>\n",
              "      <td>what an adorable little poser lol</td>\n",
              "    </tr>\n",
              "    <tr>\n",
              "      <th>3</th>\n",
              "      <td>3</td>\n",
              "      <td>aww</td>\n",
              "      <td>hey beautiful come on over here wink wink such...</td>\n",
              "    </tr>\n",
              "    <tr>\n",
              "      <th>4</th>\n",
              "      <td>4</td>\n",
              "      <td>aww</td>\n",
              "      <td>although i do agree that the news should be br...</td>\n",
              "    </tr>\n",
              "    <tr>\n",
              "      <th>...</th>\n",
              "      <td>...</td>\n",
              "      <td>...</td>\n",
              "      <td>...</td>\n",
              "    </tr>\n",
              "    <tr>\n",
              "      <th>10865633</th>\n",
              "      <td>10865633</td>\n",
              "      <td>science</td>\n",
              "      <td>study finds robust sex differences in children...</td>\n",
              "    </tr>\n",
              "    <tr>\n",
              "      <th>10865634</th>\n",
              "      <td>10865634</td>\n",
              "      <td>science</td>\n",
              "      <td>scan technique reveals secret writing in mummy...</td>\n",
              "    </tr>\n",
              "    <tr>\n",
              "      <th>10865635</th>\n",
              "      <td>10865635</td>\n",
              "      <td>science</td>\n",
              "      <td>psychedelic drugs can help relieve the symptom...</td>\n",
              "    </tr>\n",
              "    <tr>\n",
              "      <th>10865636</th>\n",
              "      <td>10865636</td>\n",
              "      <td>science</td>\n",
              "      <td>you are shaped by the genes you inherit and ma...</td>\n",
              "    </tr>\n",
              "    <tr>\n",
              "      <th>10865637</th>\n",
              "      <td>10865637</td>\n",
              "      <td>science</td>\n",
              "      <td>how to make gradient background in pixellab 20...</td>\n",
              "    </tr>\n",
              "  </tbody>\n",
              "</table>\n",
              "<p>10865638 rows × 3 columns</p>\n",
              "</div>"
            ],
            "text/plain": [
              "          Unnamed: 0  ...                                               body\n",
              "0                  0  ...                                dont teach him bite\n",
              "1                  1  ...                                      shes adorable\n",
              "2                  2  ...                 what an adorable little poser lol \n",
              "3                  3  ...  hey beautiful come on over here wink wink such...\n",
              "4                  4  ...  although i do agree that the news should be br...\n",
              "...              ...  ...                                                ...\n",
              "10865633    10865633  ...  study finds robust sex differences in children...\n",
              "10865634    10865634  ...  scan technique reveals secret writing in mummy...\n",
              "10865635    10865635  ...  psychedelic drugs can help relieve the symptom...\n",
              "10865636    10865636  ...  you are shaped by the genes you inherit and ma...\n",
              "10865637    10865637  ...  how to make gradient background in pixellab 20...\n",
              "\n",
              "[10865638 rows x 3 columns]"
            ]
          },
          "metadata": {
            "tags": []
          },
          "execution_count": 8
        }
      ]
    },
    {
      "cell_type": "markdown",
      "metadata": {
        "id": "tm9otiEmpI-1",
        "colab_type": "text"
      },
      "source": [
        "### Tokenization"
      ]
    },
    {
      "cell_type": "code",
      "metadata": {
        "id": "6U07nrkAtYeh",
        "colab_type": "code",
        "colab": {}
      },
      "source": [
        "def tokenize_column(df, column):\n",
        "  df[column] = df.apply(lambda row: nltk.word_tokenize(row[column]), axis=1)"
      ],
      "execution_count": 0,
      "outputs": []
    },
    {
      "cell_type": "code",
      "metadata": {
        "id": "p8G2NN5Gt1zS",
        "colab_type": "code",
        "colab": {}
      },
      "source": [
        "tokenize_column(sample,'body')"
      ],
      "execution_count": 0,
      "outputs": []
    },
    {
      "cell_type": "code",
      "metadata": {
        "id": "fCrWEg3dt1mK",
        "colab_type": "code",
        "colab": {
          "base_uri": "https://localhost:8080/",
          "height": 204
        },
        "outputId": "f9fcc318-4ac1-4d0d-c61d-b29f6fd75691"
      },
      "source": [
        "sample.head()"
      ],
      "execution_count": 16,
      "outputs": [
        {
          "output_type": "execute_result",
          "data": {
            "text/html": [
              "<div>\n",
              "<style scoped>\n",
              "    .dataframe tbody tr th:only-of-type {\n",
              "        vertical-align: middle;\n",
              "    }\n",
              "\n",
              "    .dataframe tbody tr th {\n",
              "        vertical-align: top;\n",
              "    }\n",
              "\n",
              "    .dataframe thead th {\n",
              "        text-align: right;\n",
              "    }\n",
              "</style>\n",
              "<table border=\"1\" class=\"dataframe\">\n",
              "  <thead>\n",
              "    <tr style=\"text-align: right;\">\n",
              "      <th></th>\n",
              "      <th>Unnamed: 0</th>\n",
              "      <th>subreddit</th>\n",
              "      <th>body</th>\n",
              "    </tr>\n",
              "  </thead>\n",
              "  <tbody>\n",
              "    <tr>\n",
              "      <th>4282954</th>\n",
              "      <td>4282954</td>\n",
              "      <td>todayilearned</td>\n",
              "      <td>[put, this, bracelet, on, your, wrist, it, wil...</td>\n",
              "    </tr>\n",
              "    <tr>\n",
              "      <th>10443399</th>\n",
              "      <td>10443399</td>\n",
              "      <td>nba</td>\n",
              "      <td>[you, sound, absurd]</td>\n",
              "    </tr>\n",
              "    <tr>\n",
              "      <th>4409800</th>\n",
              "      <td>4409800</td>\n",
              "      <td>movies</td>\n",
              "      <td>[so, randall, park, was, very, good, at, what,...</td>\n",
              "    </tr>\n",
              "    <tr>\n",
              "      <th>5854805</th>\n",
              "      <td>5854805</td>\n",
              "      <td>funny</td>\n",
              "      <td>[you, say, potato, i, say, poetawtoh]</td>\n",
              "    </tr>\n",
              "    <tr>\n",
              "      <th>8352942</th>\n",
              "      <td>8352942</td>\n",
              "      <td>movies</td>\n",
              "      <td>[deadpool, 2, watched, 1, and, 2, back, to, ba...</td>\n",
              "    </tr>\n",
              "  </tbody>\n",
              "</table>\n",
              "</div>"
            ],
            "text/plain": [
              "          Unnamed: 0  ...                                               body\n",
              "4282954      4282954  ...  [put, this, bracelet, on, your, wrist, it, wil...\n",
              "10443399    10443399  ...                               [you, sound, absurd]\n",
              "4409800      4409800  ...  [so, randall, park, was, very, good, at, what,...\n",
              "5854805      5854805  ...              [you, say, potato, i, say, poetawtoh]\n",
              "8352942      8352942  ...  [deadpool, 2, watched, 1, and, 2, back, to, ba...\n",
              "\n",
              "[5 rows x 3 columns]"
            ]
          },
          "metadata": {
            "tags": []
          },
          "execution_count": 16
        }
      ]
    },
    {
      "cell_type": "markdown",
      "metadata": {
        "id": "8mCpDsIOuXAJ",
        "colab_type": "text"
      },
      "source": [
        "We apply the function to our df but first we need to drop the NaN from our df"
      ]
    },
    {
      "cell_type": "code",
      "metadata": {
        "id": "WCEnc93hwJvQ",
        "colab_type": "code",
        "colab": {
          "base_uri": "https://localhost:8080/",
          "height": 34
        },
        "outputId": "bdf88c45-d486-4709-98ce-38e3cc04af33"
      },
      "source": [
        "comments_posts_df[\"body\"].isna().sum()"
      ],
      "execution_count": 17,
      "outputs": [
        {
          "output_type": "execute_result",
          "data": {
            "text/plain": [
              "0"
            ]
          },
          "metadata": {
            "tags": []
          },
          "execution_count": 17
        }
      ]
    },
    {
      "cell_type": "code",
      "metadata": {
        "id": "6jB5CuWjv9Or",
        "colab_type": "code",
        "colab": {}
      },
      "source": [
        "comments_posts_df = comments_posts_df.dropna()"
      ],
      "execution_count": 0,
      "outputs": []
    },
    {
      "cell_type": "code",
      "metadata": {
        "id": "-wkXXD4AtYOH",
        "colab_type": "code",
        "colab": {}
      },
      "source": [
        "tokenize_column(comments_posts_df,'body')"
      ],
      "execution_count": 0,
      "outputs": []
    },
    {
      "cell_type": "code",
      "metadata": {
        "id": "928UK1yX1qbh",
        "colab_type": "code",
        "colab": {
          "base_uri": "https://localhost:8080/",
          "height": 164
        },
        "outputId": "b638cef4-f786-4e9a-a178-3cbec98a5f90"
      },
      "source": [
        "comments_posts_df.head()"
      ],
      "execution_count": 2,
      "outputs": [
        {
          "output_type": "error",
          "ename": "NameError",
          "evalue": "ignored",
          "traceback": [
            "\u001b[0;31m---------------------------------------------------------------------------\u001b[0m",
            "\u001b[0;31mNameError\u001b[0m                                 Traceback (most recent call last)",
            "\u001b[0;32m<ipython-input-2-49fb409c0611>\u001b[0m in \u001b[0;36m<module>\u001b[0;34m()\u001b[0m\n\u001b[0;32m----> 1\u001b[0;31m \u001b[0mcomments_posts_df\u001b[0m\u001b[0;34m.\u001b[0m\u001b[0mhead\u001b[0m\u001b[0;34m(\u001b[0m\u001b[0;34m)\u001b[0m\u001b[0;34m\u001b[0m\u001b[0;34m\u001b[0m\u001b[0m\n\u001b[0m",
            "\u001b[0;31mNameError\u001b[0m: name 'comments_posts_df' is not defined"
          ]
        }
      ]
    },
    {
      "cell_type": "markdown",
      "metadata": {
        "id": "bkmXu9qn21zp",
        "colab_type": "text"
      },
      "source": [
        "## Removing Stop_words"
      ]
    },
    {
      "cell_type": "code",
      "metadata": {
        "id": "W-l_2oWVkfQB",
        "colab_type": "code",
        "colab": {}
      },
      "source": [
        "stop_words = set(stopwords.words('english'))"
      ],
      "execution_count": 0,
      "outputs": []
    },
    {
      "cell_type": "code",
      "metadata": {
        "id": "C51VyfuXm_u-",
        "colab_type": "code",
        "colab": {}
      },
      "source": [
        "def free_stopwords_column(df, column):\n",
        "  df[column] = df.apply(lambda x: ' '.join([word for word in x.split() if word not in (stop_words)]))"
      ],
      "execution_count": 0,
      "outputs": []
    },
    {
      "cell_type": "code",
      "metadata": {
        "id": "ZPZ7jJx50aZ8",
        "colab_type": "code",
        "colab": {}
      },
      "source": [
        ""
      ],
      "execution_count": 0,
      "outputs": []
    }
  ]
}