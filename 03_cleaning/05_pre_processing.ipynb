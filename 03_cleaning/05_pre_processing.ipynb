{
  "nbformat": 4,
  "nbformat_minor": 0,
  "metadata": {
    "colab": {
      "name": "05_pre-processing.ipynb",
      "provenance": [],
      "collapsed_sections": [],
      "machine_shape": "hm"
    },
    "kernelspec": {
      "name": "python3",
      "display_name": "Python 3"
    },
    "accelerator": "GPU"
  },
  "cells": [
    {
      "cell_type": "markdown",
      "metadata": {
        "id": "tzd0sbU7PyUd",
        "colab_type": "text"
      },
      "source": [
        "# Pre processing - Standardization"
      ]
    },
    {
      "cell_type": "code",
      "metadata": {
        "id": "I3eR7ARFPjiG",
        "colab_type": "code",
        "outputId": "9ddf3eb9-5a1d-4509-df34-8af389739d70",
        "colab": {
          "base_uri": "https://localhost:8080/",
          "height": 34
        }
      },
      "source": [
        "from google.colab import auth\n",
        "auth.authenticate_user()\n",
        "print('Authenticated')"
      ],
      "execution_count": 0,
      "outputs": [
        {
          "output_type": "stream",
          "text": [
            "Authenticated\n"
          ],
          "name": "stdout"
        }
      ]
    },
    {
      "cell_type": "code",
      "metadata": {
        "id": "SgpbgJc7UkDM",
        "colab_type": "code",
        "outputId": "9c957e8e-6c8e-476b-f5ae-b27dac593810",
        "colab": {
          "base_uri": "https://localhost:8080/",
          "height": 258
        }
      },
      "source": [
        "!gcloud auth login"
      ],
      "execution_count": 0,
      "outputs": [
        {
          "output_type": "stream",
          "text": [
            "Go to the following link in your browser:\n",
            "\n",
            "    https://accounts.google.com/o/oauth2/auth?code_challenge=lCp_UjAg4OkTR0gHZgAg_n09K-Na6rWKxAGNaaVfndo&prompt=select_account&code_challenge_method=S256&access_type=offline&redirect_uri=urn%3Aietf%3Awg%3Aoauth%3A2.0%3Aoob&response_type=code&client_id=32555940559.apps.googleusercontent.com&scope=https%3A%2F%2Fwww.googleapis.com%2Fauth%2Fuserinfo.email+https%3A%2F%2Fwww.googleapis.com%2Fauth%2Fcloud-platform+https%3A%2F%2Fwww.googleapis.com%2Fauth%2Fappengine.admin+https%3A%2F%2Fwww.googleapis.com%2Fauth%2Fcompute+https%3A%2F%2Fwww.googleapis.com%2Fauth%2Faccounts.reauth\n",
            "\n",
            "\n",
            "Enter verification code: 4/tQHg09_vfm6yYHM1WlCHSUm-y7xLbp4sB4adSmEF3N3e5LzHTjhVNCk\n",
            "\u001b[1;33mWARNING:\u001b[0m `gcloud auth login` no longer writes application default credentials.\n",
            "If you need to use ADC, see:\n",
            "  gcloud auth application-default --help\n",
            "\n",
            "You are now logged in as [galli.giuly@gmail.com].\n",
            "Your current project is [None].  You can change this setting by running:\n",
            "  $ gcloud config set project PROJECT_ID\n"
          ],
          "name": "stdout"
        }
      ]
    },
    {
      "cell_type": "code",
      "metadata": {
        "id": "MoP__5QRUkOI",
        "colab_type": "code",
        "outputId": "80e53f26-410f-4530-ae76-0e3a562b7d48",
        "colab": {
          "base_uri": "https://localhost:8080/",
          "height": 34
        }
      },
      "source": [
        "!gcloud config set project reddit-master"
      ],
      "execution_count": 0,
      "outputs": [
        {
          "output_type": "stream",
          "text": [
            "Updated property [core/project].\n"
          ],
          "name": "stdout"
        }
      ]
    },
    {
      "cell_type": "code",
      "metadata": {
        "id": "1wGJVpi3PmfH",
        "colab_type": "code",
        "colab": {}
      },
      "source": [
        "import pandas as pd\n",
        "import string\n",
        "import spacy #load spacy\n",
        "\n",
        "from spacy.lang.en.stop_words import STOP_WORDS\n",
        "from spacy.lang.en import English\n",
        "from sklearn import preprocessing\n",
        "from nltk.stem.snowball import SnowballStemmer\n",
        "from sklearn.model_selection import train_test_split\n",
        "\n",
        "\n"
      ],
      "execution_count": 0,
      "outputs": []
    },
    {
      "cell_type": "code",
      "metadata": {
        "id": "Dj_mckKpVIjL",
        "colab_type": "code",
        "outputId": "3660a304-4173-4db9-f8d3-078c0e1269dd",
        "colab": {
          "base_uri": "https://localhost:8080/",
          "height": 68
        }
      },
      "source": [
        "!gsutil cp gs://reddit_final_results/comments_posts_2018_V2.csv ."
      ],
      "execution_count": 0,
      "outputs": [
        {
          "output_type": "stream",
          "text": [
            "Copying gs://reddit_final_results/comments_posts_2018_V2.csv...\n",
            "/ [1 files][  2.0 GiB/  2.0 GiB]   71.2 MiB/s                                   \n",
            "Operation completed over 1 objects/2.0 GiB.                                      \n"
          ],
          "name": "stdout"
        }
      ]
    },
    {
      "cell_type": "code",
      "metadata": {
        "id": "PtxaS20tRPTL",
        "colab_type": "code",
        "colab": {}
      },
      "source": [
        "comments_posts_df = pd.read_csv(\"comments_posts_2018_V2.csv\")"
      ],
      "execution_count": 0,
      "outputs": []
    },
    {
      "cell_type": "code",
      "metadata": {
        "id": "mr-eB-UjYZ_q",
        "colab_type": "code",
        "outputId": "5c277527-b3a8-4464-9ed6-cccdb049eb68",
        "colab": {
          "base_uri": "https://localhost:8080/",
          "height": 34
        }
      },
      "source": [
        "comments_posts_df.columns"
      ],
      "execution_count": 0,
      "outputs": [
        {
          "output_type": "execute_result",
          "data": {
            "text/plain": [
              "Index(['Unnamed: 0', 'subreddit', 'body'], dtype='object')"
            ]
          },
          "metadata": {
            "tags": []
          },
          "execution_count": 8
        }
      ]
    },
    {
      "cell_type": "markdown",
      "metadata": {
        "id": "N8GRawAM6hBA",
        "colab_type": "text"
      },
      "source": [
        "Checking if there are NaN values and delete them"
      ]
    },
    {
      "cell_type": "code",
      "metadata": {
        "id": "7k-Bu3dwoCTo",
        "colab_type": "code",
        "outputId": "2bb72d1d-9131-4b8d-9cac-61836c049ac9",
        "colab": {
          "base_uri": "https://localhost:8080/",
          "height": 34
        }
      },
      "source": [
        "comments_posts_df[\"body\"].isna().sum()"
      ],
      "execution_count": 0,
      "outputs": [
        {
          "output_type": "execute_result",
          "data": {
            "text/plain": [
              "32288"
            ]
          },
          "metadata": {
            "tags": []
          },
          "execution_count": 9
        }
      ]
    },
    {
      "cell_type": "code",
      "metadata": {
        "id": "Z6fDvj6JoWkF",
        "colab_type": "code",
        "colab": {}
      },
      "source": [
        "comments_posts_df = comments_posts_df.dropna()"
      ],
      "execution_count": 0,
      "outputs": []
    },
    {
      "cell_type": "markdown",
      "metadata": {
        "id": "ToWnQjMR6o61",
        "colab_type": "text"
      },
      "source": [
        "## Transformation of the prediction target"
      ]
    },
    {
      "cell_type": "code",
      "metadata": {
        "id": "TC7B2Epn7ujR",
        "colab_type": "code",
        "colab": {}
      },
      "source": [
        "# Create a column named subreddit_id \n",
        "comments_posts_df['subreddit_id'] = comments_posts_df['subreddit']\n"
      ],
      "execution_count": 0,
      "outputs": []
    },
    {
      "cell_type": "code",
      "metadata": {
        "id": "LC7tl6BQ8ArZ",
        "colab_type": "code",
        "outputId": "f8d4e088-5adf-4580-b7f0-a218039351c4",
        "colab": {
          "base_uri": "https://localhost:8080/",
          "height": 204
        }
      },
      "source": [
        "comments_posts_df.head(5)"
      ],
      "execution_count": 0,
      "outputs": [
        {
          "output_type": "execute_result",
          "data": {
            "text/html": [
              "<div>\n",
              "<style scoped>\n",
              "    .dataframe tbody tr th:only-of-type {\n",
              "        vertical-align: middle;\n",
              "    }\n",
              "\n",
              "    .dataframe tbody tr th {\n",
              "        vertical-align: top;\n",
              "    }\n",
              "\n",
              "    .dataframe thead th {\n",
              "        text-align: right;\n",
              "    }\n",
              "</style>\n",
              "<table border=\"1\" class=\"dataframe\">\n",
              "  <thead>\n",
              "    <tr style=\"text-align: right;\">\n",
              "      <th></th>\n",
              "      <th>Unnamed: 0</th>\n",
              "      <th>subreddit</th>\n",
              "      <th>body</th>\n",
              "      <th>subreddit_id</th>\n",
              "    </tr>\n",
              "  </thead>\n",
              "  <tbody>\n",
              "    <tr>\n",
              "      <th>0</th>\n",
              "      <td>0</td>\n",
              "      <td>aww</td>\n",
              "      <td>doubling down with the multiple sub approach g...</td>\n",
              "      <td>aww</td>\n",
              "    </tr>\n",
              "    <tr>\n",
              "      <th>1</th>\n",
              "      <td>1</td>\n",
              "      <td>aww</td>\n",
              "      <td>i 2nd meatball i have a seriously chunky engli...</td>\n",
              "      <td>aww</td>\n",
              "    </tr>\n",
              "    <tr>\n",
              "      <th>2</th>\n",
              "      <td>2</td>\n",
              "      <td>aww</td>\n",
              "      <td>my thoughts as well</td>\n",
              "      <td>aww</td>\n",
              "    </tr>\n",
              "    <tr>\n",
              "      <th>3</th>\n",
              "      <td>3</td>\n",
              "      <td>aww</td>\n",
              "      <td>friends don't eat friends</td>\n",
              "      <td>aww</td>\n",
              "    </tr>\n",
              "    <tr>\n",
              "      <th>4</th>\n",
              "      <td>4</td>\n",
              "      <td>aww</td>\n",
              "      <td>maybe the doctors are waiting with the heart i...</td>\n",
              "      <td>aww</td>\n",
              "    </tr>\n",
              "  </tbody>\n",
              "</table>\n",
              "</div>"
            ],
            "text/plain": [
              "   Unnamed: 0  ... subreddit_id\n",
              "0           0  ...          aww\n",
              "1           1  ...          aww\n",
              "2           2  ...          aww\n",
              "3           3  ...          aww\n",
              "4           4  ...          aww\n",
              "\n",
              "[5 rows x 4 columns]"
            ]
          },
          "metadata": {
            "tags": []
          },
          "execution_count": 12
        }
      ]
    },
    {
      "cell_type": "code",
      "metadata": {
        "id": "hnBsgzvE7A5k",
        "colab_type": "code",
        "colab": {}
      },
      "source": [
        "# Create a label (category) encoder object\n",
        "le = preprocessing.LabelEncoder()"
      ],
      "execution_count": 0,
      "outputs": []
    },
    {
      "cell_type": "code",
      "metadata": {
        "id": "FgTcG1cP7A2E",
        "colab_type": "code",
        "outputId": "cfbc9d4c-5844-4fc0-a08b-36672c6405c7",
        "colab": {
          "base_uri": "https://localhost:8080/",
          "height": 34
        }
      },
      "source": [
        "# Fit the encoder to the pandas column\n",
        "le.fit(comments_posts_df['subreddit'])"
      ],
      "execution_count": 0,
      "outputs": [
        {
          "output_type": "execute_result",
          "data": {
            "text/plain": [
              "LabelEncoder()"
            ]
          },
          "metadata": {
            "tags": []
          },
          "execution_count": 15
        }
      ]
    },
    {
      "cell_type": "code",
      "metadata": {
        "id": "mZu2ijN27AvG",
        "colab_type": "code",
        "outputId": "b749f25d-747f-4d55-ddb5-f767258b7715",
        "colab": {
          "base_uri": "https://localhost:8080/",
          "height": 255
        }
      },
      "source": [
        "# View the labels (if you want)\n",
        "list(le.classes_)"
      ],
      "execution_count": 0,
      "outputs": [
        {
          "output_type": "execute_result",
          "data": {
            "text/plain": [
              "['Fitness',\n",
              " 'IAmA',\n",
              " 'atheism',\n",
              " 'aww',\n",
              " 'europe',\n",
              " 'funny',\n",
              " 'gaming',\n",
              " 'movies',\n",
              " 'nba',\n",
              " 'politics',\n",
              " 'science',\n",
              " 'technology',\n",
              " 'todayilearned',\n",
              " 'worldnews']"
            ]
          },
          "metadata": {
            "tags": []
          },
          "execution_count": 16
        }
      ]
    },
    {
      "cell_type": "code",
      "metadata": {
        "id": "LQwTtQc67Tv3",
        "colab_type": "code",
        "colab": {}
      },
      "source": [
        "# Apply the fitted encoder to the pandas column\n",
        "comments_posts_df['subreddit_id'] = le.transform(comments_posts_df['subreddit']) "
      ],
      "execution_count": 0,
      "outputs": []
    },
    {
      "cell_type": "code",
      "metadata": {
        "id": "G9_2wTCV7Tl4",
        "colab_type": "code",
        "outputId": "5ac2ff05-7abf-42d8-e3d5-384462f86bfd",
        "colab": {
          "base_uri": "https://localhost:8080/",
          "height": 204
        }
      },
      "source": [
        "comments_posts_df.head(5)"
      ],
      "execution_count": 0,
      "outputs": [
        {
          "output_type": "execute_result",
          "data": {
            "text/html": [
              "<div>\n",
              "<style scoped>\n",
              "    .dataframe tbody tr th:only-of-type {\n",
              "        vertical-align: middle;\n",
              "    }\n",
              "\n",
              "    .dataframe tbody tr th {\n",
              "        vertical-align: top;\n",
              "    }\n",
              "\n",
              "    .dataframe thead th {\n",
              "        text-align: right;\n",
              "    }\n",
              "</style>\n",
              "<table border=\"1\" class=\"dataframe\">\n",
              "  <thead>\n",
              "    <tr style=\"text-align: right;\">\n",
              "      <th></th>\n",
              "      <th>Unnamed: 0</th>\n",
              "      <th>subreddit</th>\n",
              "      <th>body</th>\n",
              "      <th>subreddit_id</th>\n",
              "    </tr>\n",
              "  </thead>\n",
              "  <tbody>\n",
              "    <tr>\n",
              "      <th>0</th>\n",
              "      <td>0</td>\n",
              "      <td>aww</td>\n",
              "      <td>doubling down with the multiple sub approach g...</td>\n",
              "      <td>3</td>\n",
              "    </tr>\n",
              "    <tr>\n",
              "      <th>1</th>\n",
              "      <td>1</td>\n",
              "      <td>aww</td>\n",
              "      <td>i 2nd meatball i have a seriously chunky engli...</td>\n",
              "      <td>3</td>\n",
              "    </tr>\n",
              "    <tr>\n",
              "      <th>2</th>\n",
              "      <td>2</td>\n",
              "      <td>aww</td>\n",
              "      <td>my thoughts as well</td>\n",
              "      <td>3</td>\n",
              "    </tr>\n",
              "    <tr>\n",
              "      <th>3</th>\n",
              "      <td>3</td>\n",
              "      <td>aww</td>\n",
              "      <td>friends don't eat friends</td>\n",
              "      <td>3</td>\n",
              "    </tr>\n",
              "    <tr>\n",
              "      <th>4</th>\n",
              "      <td>4</td>\n",
              "      <td>aww</td>\n",
              "      <td>maybe the doctors are waiting with the heart i...</td>\n",
              "      <td>3</td>\n",
              "    </tr>\n",
              "  </tbody>\n",
              "</table>\n",
              "</div>"
            ],
            "text/plain": [
              "   Unnamed: 0  ... subreddit_id\n",
              "0           0  ...            3\n",
              "1           1  ...            3\n",
              "2           2  ...            3\n",
              "3           3  ...            3\n",
              "4           4  ...            3\n",
              "\n",
              "[5 rows x 4 columns]"
            ]
          },
          "metadata": {
            "tags": []
          },
          "execution_count": 18
        }
      ]
    },
    {
      "cell_type": "markdown",
      "metadata": {
        "id": "5jDwjzft_Go3",
        "colab_type": "text"
      },
      "source": [
        "## Tokenization - stopwords - stemming"
      ]
    },
    {
      "cell_type": "code",
      "metadata": {
        "id": "nxyIMEvFyRNe",
        "colab_type": "code",
        "colab": {}
      },
      "source": [
        "nlp = spacy.load(\"en\", disable=['parser', 'ner'])\n",
        "stemmer = SnowballStemmer(language='english')"
      ],
      "execution_count": 0,
      "outputs": []
    },
    {
      "cell_type": "code",
      "metadata": {
        "id": "sgat2HCPCKLb",
        "colab_type": "code",
        "outputId": "e85cf5e0-7d28-4583-a889-3c1024c0cd5a",
        "colab": {
          "base_uri": "https://localhost:8080/",
          "height": 71
        }
      },
      "source": [
        "stop_words = spacy.lang.en.stop_words.STOP_WORDS\n",
        "print('Number of stopwords: %d' % len(stop_words))\n",
        "print(list(stop_words))"
      ],
      "execution_count": 0,
      "outputs": [
        {
          "output_type": "stream",
          "text": [
            "Number of stopwords: 326\n",
            "['’ve', 'nobody', 'hereafter', 'though', 'becomes', 'serious', 'their', 'else', 'somehow', 'alone', 'am', 'seeming', 'used', 'fifty', 'amount', 'using', 'we', \"'d\", 'not', 'did', 'same', 'besides', 'hereby', 'what', 'empty', 'among', 'mostly', 'with', 'from', 'on', 'less', 'through', 'has', 'unless', 'then', '‘s', 'front', 'seemed', 'also', 'there', 'three', 'never', 'whole', 'around', 'was', 'anyone', 'rather', 'once', 'thru', 'via', 'which', 'forty', \"'ve\", 'seems', 'ca', '’re', 'another', 'under', 'until', 'beyond', 'wherein', 'against', 'yet', \"'ll\", 'between', 'hereupon', 'call', 'whose', 'all', 'here', \"'re\", 'wherever', 'since', 'back', 'twelve', 'other', 'move', 'them', 'much', 'whoever', 'may', 'could', 'four', 'nevertheless', 'ours', 'out', 'already', 'see', 'you', 'below', 'go', 'me', 'towards', 'such', 'well', 'done', 'n’t', 'become', 'he', 'top', 'her', 'nor', 'one', '‘ve', 'your', 'whatever', 'along', 'first', 'within', 'six', 'noone', 'in', 'thereby', 'cannot', 'even', 'everything', 'our', 'have', 'throughout', 'whereby', 'except', 'be', 'his', \"'s\", 'who', 'this', 'anything', 'really', 'if', 'none', 'get', 'should', 'otherwise', 'moreover', 'thereafter', 'yours', 'were', 're', 'made', 'him', 'about', 'she', 'doing', 'something', 'various', 'it', 'onto', 'whom', 'always', 'neither', 'why', 'by', 'over', '‘re', 'eleven', 'most', 'whereupon', 'latter', 'again', 'make', 'bottom', 'herself', 'further', 'off', 'put', 'regarding', 'say', 'whereas', 'whether', 'where', 'and', 'himself', 'own', \"n't\", 'my', 'often', 'became', 'more', 'although', 'toward', 'becoming', 'formerly', 'side', 'whereafter', 'meanwhile', 'whenever', 'anyhow', 'its', 'might', 'an', 'give', 'almost', 'i', 'name', 'nothing', 'others', 'across', 'too', 'sometime', '‘ll', 'is', 'above', 'but', 'hers', 'myself', 'enough', 'namely', 'nine', 'quite', 'now', 'show', 'sixty', 'ten', 'thereupon', '’ll', 'after', 'seem', 'are', 'can', 'someone', 'therein', 'yourselves', 'due', 'per', 'during', 'down', 'indeed', 'that', 'because', 'please', 'to', 'beforehand', 'part', 'every', 'before', 'itself', '‘d', 'take', '‘m', 'behind', 'how', 'when', 'hence', 'still', 'as', 'eight', 'however', 'up', '’m', 'n‘t', 'only', 'herein', 'full', 'mine', 'these', 'nowhere', 'ourselves', 'thence', 'two', 'upon', 'former', 'us', 'while', 'few', 'any', 'does', 'many', 'had', 'next', 'than', 'for', 'being', 'everyone', 'some', 'elsewhere', 'sometimes', 'anyway', 'twenty', 'into', '’s', 'afterwards', 'perhaps', 'just', 'they', 'must', 'or', 'very', '’d', \"'m\", 'together', 'amongst', 'everywhere', 'therefore', 'will', 'each', 'either', 'thus', 'at', 'whence', 'those', 'do', 'somewhere', 'keep', 'ever', 'last', 'several', 'least', 'the', 'yourself', 'anywhere', 'both', 'fifteen', 'five', 'hundred', 'latterly', 'so', 'no', 'of', 'themselves', 'third', 'without', 'would', 'beside', 'whither', 'been', 'a']\n"
          ],
          "name": "stdout"
        }
      ]
    },
    {
      "cell_type": "code",
      "metadata": {
        "id": "YPHLD__Y8Zxi",
        "colab_type": "code",
        "colab": {}
      },
      "source": [
        "parser = English()\n",
        "stemmer = SnowballStemmer(language='english')\n",
        "\n",
        "# tokenization\n",
        "def tokenize(text):\n",
        "    return parser(text)\n",
        "\n",
        "# stopwords\n",
        "def remove_stopwords(tokenized):\n",
        "    without_stopwords = []\n",
        "\n",
        "    for token in tokenized:\n",
        "        if token.text not in stop_words:\n",
        "            without_stopwords.append(token.text)\n",
        "\n",
        "    return without_stopwords\n",
        "\n",
        "# stemming\n",
        "def stem(words):\n",
        "    stemmed_words = []\n",
        "    for word in words:\n",
        "        stemmed_words.append(stemmer.stem(word))\n",
        "    return stemmed_words\n",
        "\n",
        "\n",
        "def pre_process (text):\n",
        "    return stem(remove_stopwords(tokenize(text)))\n",
        "\n",
        "def pre_process_df (df,column):\n",
        "    df[column] = df[column].map(pre_process)\n",
        "    return "
      ],
      "execution_count": 0,
      "outputs": []
    },
    {
      "cell_type": "code",
      "metadata": {
        "id": "xZX_yRabFEI-",
        "colab_type": "code",
        "outputId": "ebe9a9af-ec5d-4b40-d142-a281b9bbbe46",
        "colab": {
          "base_uri": "https://localhost:8080/",
          "height": 34
        }
      },
      "source": [
        "# testing the pre_process function on a simple string\n",
        "sample = \"tried try trying to tokenize our text doesn't\"\n",
        "pre_process(sample)"
      ],
      "execution_count": 0,
      "outputs": [
        {
          "output_type": "execute_result",
          "data": {
            "text/plain": [
              "['tri', 'tri', 'tri', 'token', 'text']"
            ]
          },
          "metadata": {
            "tags": []
          },
          "execution_count": 23
        }
      ]
    },
    {
      "cell_type": "code",
      "metadata": {
        "id": "XUGXhgAmJVMi",
        "colab_type": "code",
        "outputId": "b9279ca4-1c62-44af-b02e-40dfdefc3ea7",
        "colab": {
          "base_uri": "https://localhost:8080/",
          "height": 359
        }
      },
      "source": [
        "# testing the pre_process function on a df\n",
        "sample = comments_posts_df.sample(10)\n",
        "pre_process_df(sample,'body')\n",
        "sample"
      ],
      "execution_count": 0,
      "outputs": [
        {
          "output_type": "execute_result",
          "data": {
            "text/html": [
              "<div>\n",
              "<style scoped>\n",
              "    .dataframe tbody tr th:only-of-type {\n",
              "        vertical-align: middle;\n",
              "    }\n",
              "\n",
              "    .dataframe tbody tr th {\n",
              "        vertical-align: top;\n",
              "    }\n",
              "\n",
              "    .dataframe thead th {\n",
              "        text-align: right;\n",
              "    }\n",
              "</style>\n",
              "<table border=\"1\" class=\"dataframe\">\n",
              "  <thead>\n",
              "    <tr style=\"text-align: right;\">\n",
              "      <th></th>\n",
              "      <th>Unnamed: 0</th>\n",
              "      <th>subreddit</th>\n",
              "      <th>body</th>\n",
              "      <th>subreddit_id</th>\n",
              "    </tr>\n",
              "  </thead>\n",
              "  <tbody>\n",
              "    <tr>\n",
              "      <th>942287</th>\n",
              "      <td>942287</td>\n",
              "      <td>aww</td>\n",
              "      <td>[dinner]</td>\n",
              "      <td>3</td>\n",
              "    </tr>\n",
              "    <tr>\n",
              "      <th>7394974</th>\n",
              "      <td>7394974</td>\n",
              "      <td>aww</td>\n",
              "      <td>[stride, pride]</td>\n",
              "      <td>3</td>\n",
              "    </tr>\n",
              "    <tr>\n",
              "      <th>7378554</th>\n",
              "      <td>7378554</td>\n",
              "      <td>nba</td>\n",
              "      <td>[gt, easili, goat, unanim, like, gretzkythat, ...</td>\n",
              "      <td>8</td>\n",
              "    </tr>\n",
              "    <tr>\n",
              "      <th>10411073</th>\n",
              "      <td>10411073</td>\n",
              "      <td>science</td>\n",
              "      <td>[test, testosteron, level, erectil, function, ...</td>\n",
              "      <td>10</td>\n",
              "    </tr>\n",
              "    <tr>\n",
              "      <th>8919081</th>\n",
              "      <td>8919081</td>\n",
              "      <td>atheism</td>\n",
              "      <td>[thisit, simplest, thing, guy, staff, member, ...</td>\n",
              "      <td>2</td>\n",
              "    </tr>\n",
              "    <tr>\n",
              "      <th>5057181</th>\n",
              "      <td>5057181</td>\n",
              "      <td>gaming</td>\n",
              "      <td>[hi, messag, inform, post, comment, remov, bre...</td>\n",
              "      <td>6</td>\n",
              "    </tr>\n",
              "    <tr>\n",
              "      <th>5570466</th>\n",
              "      <td>5570466</td>\n",
              "      <td>europe</td>\n",
              "      <td>[nt, vaccin, kid, risk, contract, danger, dise...</td>\n",
              "      <td>4</td>\n",
              "    </tr>\n",
              "    <tr>\n",
              "      <th>441420</th>\n",
              "      <td>441420</td>\n",
              "      <td>Fitness</td>\n",
              "      <td>[heard, tone, calv, exact, bigger, genet]</td>\n",
              "      <td>0</td>\n",
              "    </tr>\n",
              "    <tr>\n",
              "      <th>10608766</th>\n",
              "      <td>10608766</td>\n",
              "      <td>nba</td>\n",
              "      <td>[19s, game]</td>\n",
              "      <td>8</td>\n",
              "    </tr>\n",
              "    <tr>\n",
              "      <th>6583306</th>\n",
              "      <td>6583306</td>\n",
              "      <td>Fitness</td>\n",
              "      <td>[tell, burn, 5000, calori, day, addit, exercis...</td>\n",
              "      <td>0</td>\n",
              "    </tr>\n",
              "  </tbody>\n",
              "</table>\n",
              "</div>"
            ],
            "text/plain": [
              "          Unnamed: 0  ... subreddit_id\n",
              "942287        942287  ...            3\n",
              "7394974      7394974  ...            3\n",
              "7378554      7378554  ...            8\n",
              "10411073    10411073  ...           10\n",
              "8919081      8919081  ...            2\n",
              "5057181      5057181  ...            6\n",
              "5570466      5570466  ...            4\n",
              "441420        441420  ...            0\n",
              "10608766    10608766  ...            8\n",
              "6583306      6583306  ...            0\n",
              "\n",
              "[10 rows x 4 columns]"
            ]
          },
          "metadata": {
            "tags": []
          },
          "execution_count": 21
        }
      ]
    },
    {
      "cell_type": "code",
      "metadata": {
        "id": "2Yi3syEbyREj",
        "colab_type": "code",
        "colab": {}
      },
      "source": [
        "# appling the pre_process function to our comments_posts_df (%3h)\n",
        "pre_process_df(comments_posts_df,'body')"
      ],
      "execution_count": 0,
      "outputs": []
    },
    {
      "cell_type": "code",
      "metadata": {
        "id": "lQeJTXiHyRBB",
        "colab_type": "code",
        "outputId": "dd7dc6cc-3c71-44d0-f85f-e35aa9b2fb50",
        "colab": {
          "base_uri": "https://localhost:8080/",
          "height": 204
        }
      },
      "source": [
        "comments_posts_df.head()"
      ],
      "execution_count": 0,
      "outputs": [
        {
          "output_type": "execute_result",
          "data": {
            "text/html": [
              "<div>\n",
              "<style scoped>\n",
              "    .dataframe tbody tr th:only-of-type {\n",
              "        vertical-align: middle;\n",
              "    }\n",
              "\n",
              "    .dataframe tbody tr th {\n",
              "        vertical-align: top;\n",
              "    }\n",
              "\n",
              "    .dataframe thead th {\n",
              "        text-align: right;\n",
              "    }\n",
              "</style>\n",
              "<table border=\"1\" class=\"dataframe\">\n",
              "  <thead>\n",
              "    <tr style=\"text-align: right;\">\n",
              "      <th></th>\n",
              "      <th>Unnamed: 0</th>\n",
              "      <th>subreddit</th>\n",
              "      <th>body</th>\n",
              "      <th>subreddit_id</th>\n",
              "    </tr>\n",
              "  </thead>\n",
              "  <tbody>\n",
              "    <tr>\n",
              "      <th>0</th>\n",
              "      <td>0</td>\n",
              "      <td>aww</td>\n",
              "      <td>[doubl, multipl, sub, approach, good, ya, mate]</td>\n",
              "      <td>3</td>\n",
              "    </tr>\n",
              "    <tr>\n",
              "      <th>1</th>\n",
              "      <td>1</td>\n",
              "      <td>aww</td>\n",
              "      <td>[2nd, meatbal, serious, chunki, english, bulld...</td>\n",
              "      <td>3</td>\n",
              "    </tr>\n",
              "    <tr>\n",
              "      <th>2</th>\n",
              "      <td>2</td>\n",
              "      <td>aww</td>\n",
              "      <td>[thought]</td>\n",
              "      <td>3</td>\n",
              "    </tr>\n",
              "    <tr>\n",
              "      <th>3</th>\n",
              "      <td>3</td>\n",
              "      <td>aww</td>\n",
              "      <td>[friend, eat, friend]</td>\n",
              "      <td>3</td>\n",
              "    </tr>\n",
              "    <tr>\n",
              "      <th>4</th>\n",
              "      <td>4</td>\n",
              "      <td>aww</td>\n",
              "      <td>[mayb, doctor, wait, heart, room]</td>\n",
              "      <td>3</td>\n",
              "    </tr>\n",
              "  </tbody>\n",
              "</table>\n",
              "</div>"
            ],
            "text/plain": [
              "   Unnamed: 0  ... subreddit_id\n",
              "0           0  ...            3\n",
              "1           1  ...            3\n",
              "2           2  ...            3\n",
              "3           3  ...            3\n",
              "4           4  ...            3\n",
              "\n",
              "[5 rows x 4 columns]"
            ]
          },
          "metadata": {
            "tags": []
          },
          "execution_count": 31
        }
      ]
    },
    {
      "cell_type": "code",
      "metadata": {
        "id": "PzheKUtYOdbW",
        "colab_type": "code",
        "outputId": "ae9b2b17-6f5f-4de9-f177-f50b864a4355",
        "colab": {
          "base_uri": "https://localhost:8080/",
          "height": 34
        }
      },
      "source": [
        "!pwd"
      ],
      "execution_count": 0,
      "outputs": [
        {
          "output_type": "stream",
          "text": [
            "/content\n"
          ],
          "name": "stdout"
        }
      ]
    },
    {
      "cell_type": "code",
      "metadata": {
        "id": "FVmEfqirOYOH",
        "colab_type": "code",
        "colab": {}
      },
      "source": [
        "comments_posts_df.to_csv('comments_posts_tokenized.csv')"
      ],
      "execution_count": 0,
      "outputs": []
    },
    {
      "cell_type": "code",
      "metadata": {
        "id": "HPRS895aOdTD",
        "colab_type": "code",
        "outputId": "63179b35-ffa1-480c-d249-b8a62c3c72f3",
        "colab": {
          "base_uri": "https://localhost:8080/",
          "height": 272
        }
      },
      "source": [
        "!gsutil cp /content/comments_posts_tokenized.csv gs://reddit_final_results/"
      ],
      "execution_count": 0,
      "outputs": [
        {
          "output_type": "stream",
          "text": [
            "Copying file:///content/comments_posts_tokenized.csv [Content-Type=text/csv]...\n",
            "/ [0 files][    0.0 B/  1.7 GiB]                                                \r==> NOTE: You are uploading one or more large file(s), which would run\n",
            "significantly faster if you enable parallel composite uploads. This\n",
            "feature can be enabled by editing the\n",
            "\"parallel_composite_upload_threshold\" value in your .boto\n",
            "configuration file. However, note that if you do this large files will\n",
            "be uploaded as `composite objects\n",
            "<https://cloud.google.com/storage/docs/composite-objects>`_,which\n",
            "means that any user who downloads such objects will need to have a\n",
            "compiled crcmod installed (see \"gsutil help crcmod\"). This is because\n",
            "without a compiled crcmod, computing checksums on composite objects is\n",
            "so slow that gsutil disables downloads of composite objects.\n",
            "\n",
            "\\\n",
            "Operation completed over 1 objects/1.7 GiB.                                      \n"
          ],
          "name": "stdout"
        }
      ]
    },
    {
      "cell_type": "code",
      "metadata": {
        "id": "ZJJDf-Dxf4yB",
        "colab_type": "code",
        "outputId": "9afcbe5f-7e5c-4e12-dac4-a092719252dc",
        "colab": {
          "base_uri": "https://localhost:8080/",
          "height": 34
        }
      },
      "source": [
        "!zip comments_posts_tokenized.zip comments_posts_tokenized.csv"
      ],
      "execution_count": 0,
      "outputs": [
        {
          "output_type": "stream",
          "text": [
            "  adding: comments_posts_tokenized.csv (deflated 71%)\n"
          ],
          "name": "stdout"
        }
      ]
    },
    {
      "cell_type": "code",
      "metadata": {
        "id": "lQHw6jGMf4iO",
        "colab_type": "code",
        "outputId": "b03e6474-6798-4279-c441-133a645b1923",
        "colab": {
          "base_uri": "https://localhost:8080/",
          "height": 272
        }
      },
      "source": [
        "!gsutil cp /content/comments_posts_tokenized.zip gs://reddit_final_results/"
      ],
      "execution_count": 0,
      "outputs": [
        {
          "output_type": "stream",
          "text": [
            "Copying file:///content/comments_posts_tokenized.zip [Content-Type=application/zip]...\n",
            "/ [0 files][    0.0 B/508.6 MiB]                                                \r==> NOTE: You are uploading one or more large file(s), which would run\n",
            "significantly faster if you enable parallel composite uploads. This\n",
            "feature can be enabled by editing the\n",
            "\"parallel_composite_upload_threshold\" value in your .boto\n",
            "configuration file. However, note that if you do this large files will\n",
            "be uploaded as `composite objects\n",
            "<https://cloud.google.com/storage/docs/composite-objects>`_,which\n",
            "means that any user who downloads such objects will need to have a\n",
            "compiled crcmod installed (see \"gsutil help crcmod\"). This is because\n",
            "without a compiled crcmod, computing checksums on composite objects is\n",
            "so slow that gsutil disables downloads of composite objects.\n",
            "\n",
            "/\n",
            "Operation completed over 1 objects/508.6 MiB.                                    \n"
          ],
          "name": "stdout"
        }
      ]
    }
  ]
}