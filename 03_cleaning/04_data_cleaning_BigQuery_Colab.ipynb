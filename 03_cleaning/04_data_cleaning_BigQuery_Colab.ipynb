{
  "nbformat": 4,
  "nbformat_minor": 0,
  "metadata": {
    "colab": {
      "name": "04_data_cleaning - BigQuery - Colab.ipynb",
      "provenance": [],
      "collapsed_sections": []
    },
    "kernelspec": {
      "name": "python3",
      "display_name": "Python 3"
    },
    "accelerator": "GPU"
  },
  "cells": [
    {
      "cell_type": "markdown",
      "metadata": {
        "id": "mVFqHlBfdfc8",
        "colab_type": "text"
      },
      "source": [
        "# Data cleaning"
      ]
    },
    {
      "cell_type": "code",
      "metadata": {
        "id": "zKc2rOTKcamX",
        "colab_type": "code",
        "colab": {
          "base_uri": "https://localhost:8080/",
          "height": 34
        },
        "outputId": "5fb7f989-a905-4d04-c140-878c4ed93ca2"
      },
      "source": [
        "from google.colab import auth\n",
        "auth.authenticate_user()\n",
        "print('Authenticated')"
      ],
      "execution_count": 1,
      "outputs": [
        {
          "output_type": "stream",
          "text": [
            "Authenticated\n"
          ],
          "name": "stdout"
        }
      ]
    },
    {
      "cell_type": "code",
      "metadata": {
        "id": "1gSXv6ED3opJ",
        "colab_type": "code",
        "colab": {
          "base_uri": "https://localhost:8080/",
          "height": 258
        },
        "outputId": "ad5e84c2-3b36-439e-e72a-51479d259eb7"
      },
      "source": [
        "!gcloud auth login"
      ],
      "execution_count": 2,
      "outputs": [
        {
          "output_type": "stream",
          "text": [
            "Go to the following link in your browser:\n",
            "\n",
            "    https://accounts.google.com/o/oauth2/auth?code_challenge=CiR_VIRVYxcEEki88vHjZE1L56CJVnQvk6VLCB5I1P4&prompt=select_account&code_challenge_method=S256&access_type=offline&redirect_uri=urn%3Aietf%3Awg%3Aoauth%3A2.0%3Aoob&response_type=code&client_id=32555940559.apps.googleusercontent.com&scope=https%3A%2F%2Fwww.googleapis.com%2Fauth%2Fuserinfo.email+https%3A%2F%2Fwww.googleapis.com%2Fauth%2Fcloud-platform+https%3A%2F%2Fwww.googleapis.com%2Fauth%2Fappengine.admin+https%3A%2F%2Fwww.googleapis.com%2Fauth%2Fcompute+https%3A%2F%2Fwww.googleapis.com%2Fauth%2Faccounts.reauth\n",
            "\n",
            "\n",
            "Enter verification code: 4/tQH5BCPk3KVcMPSXzvn-C8_8neesN4chL0eyoAK4bTJPuFD0jLJENHI\n",
            "\u001b[1;33mWARNING:\u001b[0m `gcloud auth login` no longer writes application default credentials.\n",
            "If you need to use ADC, see:\n",
            "  gcloud auth application-default --help\n",
            "\n",
            "You are now logged in as [giuliag.master@gmail.com].\n",
            "Your current project is [reddit-master].  You can change this setting by running:\n",
            "  $ gcloud config set project PROJECT_ID\n"
          ],
          "name": "stdout"
        }
      ]
    },
    {
      "cell_type": "code",
      "metadata": {
        "id": "VXnDCDKEymeE",
        "colab_type": "code",
        "colab": {
          "base_uri": "https://localhost:8080/",
          "height": 34
        },
        "outputId": "5307caa6-004c-4beb-dc8b-12b1cd32bb61"
      },
      "source": [
        "!gcloud config set project reddit-master"
      ],
      "execution_count": 3,
      "outputs": [
        {
          "output_type": "stream",
          "text": [
            "Updated property [core/project].\n"
          ],
          "name": "stdout"
        }
      ]
    },
    {
      "cell_type": "markdown",
      "metadata": {
        "id": "pTbBNIvj9Cqg",
        "colab_type": "text"
      },
      "source": [
        "After being autheticated, we can downloead the final data from the bucket of our project in GCP. "
      ]
    },
    {
      "cell_type": "code",
      "metadata": {
        "id": "LKYcYJY64uPE",
        "colab_type": "code",
        "colab": {}
      },
      "source": [
        "import pandas as pd\n",
        "from glob import glob\n",
        "import re\n",
        "import numpy as np"
      ],
      "execution_count": 0,
      "outputs": []
    },
    {
      "cell_type": "markdown",
      "metadata": {
        "id": "aJScP1god6jP",
        "colab_type": "text"
      },
      "source": [
        "We define a function that cleans the text, with regular expressions, from:\n",
        "*  urls\n",
        "*  line ending \\n\n",
        "*  digits\n",
        "*  punctuation\n",
        "*  symbols"
      ]
    },
    {
      "cell_type": "code",
      "metadata": {
        "id": "hNbdLfscadrZ",
        "colab_type": "code",
        "colab": {}
      },
      "source": [
        "def remove_urls(text):\n",
        "    clean = re.compile(r'http\\S+')\n",
        "    return re.sub(clean, '', str(text))\n",
        "\n",
        "def remove_line_endings (text):\n",
        "    clean = re.compile(r'\\n')\n",
        "    return re.sub(clean, '', str(text))\n",
        "\n",
        "def remove_symbols (text):\n",
        "    clean = re.compile(r\"[^a-zA-Z0-9' ]\") \n",
        "    return re.sub(clean, '', str(text))\n",
        "\n",
        "def clean_text(text):\n",
        "  return remove_urls(remove_line_endings(remove_symbols(text.lower())))\n",
        "\n",
        "def clean_text_df(df, column):\n",
        "  df[column] = df[column].map(clean_text)"
      ],
      "execution_count": 0,
      "outputs": []
    },
    {
      "cell_type": "markdown",
      "metadata": {
        "id": "MNX4cuDUmnC0",
        "colab_type": "text"
      },
      "source": [
        "## Comments"
      ]
    },
    {
      "cell_type": "code",
      "metadata": {
        "id": "P-OjfTmT1LeG",
        "colab_type": "code",
        "colab": {
          "base_uri": "https://localhost:8080/",
          "height": 323
        },
        "outputId": "2a21b8c6-544c-4739-86eb-70df8572f92c"
      },
      "source": [
        "!gsutil cp gs://reddit_comments_master/comments_2018-* ."
      ],
      "execution_count": 6,
      "outputs": [
        {
          "output_type": "stream",
          "text": [
            "Copying gs://reddit_comments_master/comments_2018-000000000000...\n",
            "Copying gs://reddit_comments_master/comments_2018-000000000001...\n",
            "Copying gs://reddit_comments_master/comments_2018-000000000002...\n",
            "Copying gs://reddit_comments_master/comments_2018-000000000003...\n",
            "- [4 files][846.3 MiB/846.3 MiB]                                                \n",
            "==> NOTE: You are performing a sequence of gsutil operations that may\n",
            "run significantly faster if you instead use gsutil -m cp ... Please\n",
            "see the -m section under \"gsutil help options\" for further information\n",
            "about when gsutil -m can be advantageous.\n",
            "\n",
            "Copying gs://reddit_comments_master/comments_2018-000000000004...\n",
            "Copying gs://reddit_comments_master/comments_2018-000000000005...\n",
            "Copying gs://reddit_comments_master/comments_2018-000000000006...\n",
            "Copying gs://reddit_comments_master/comments_2018-000000000007...\n",
            "Copying gs://reddit_comments_master/comments_2018-000000000008...\n",
            "Copying gs://reddit_comments_master/comments_2018-000000000009...\n",
            "- [10 files][  2.1 GiB/  2.1 GiB]  122.2 MiB/s                                  \n",
            "Operation completed over 10 objects/2.1 GiB.                                     \n"
          ],
          "name": "stdout"
        }
      ]
    },
    {
      "cell_type": "code",
      "metadata": {
        "id": "xWmSOMT-5kI6",
        "colab_type": "code",
        "colab": {
          "base_uri": "https://localhost:8080/",
          "height": 34
        },
        "outputId": "c421a0d3-bfa0-4c9f-e856-aaf116b5269f"
      },
      "source": [
        "!pwd"
      ],
      "execution_count": 8,
      "outputs": [
        {
          "output_type": "stream",
          "text": [
            "/content\n"
          ],
          "name": "stdout"
        }
      ]
    },
    {
      "cell_type": "code",
      "metadata": {
        "id": "oXPv6K_A7KSL",
        "colab_type": "code",
        "colab": {
          "base_uri": "https://localhost:8080/",
          "height": 187
        },
        "outputId": "933e6c0a-0507-4708-da49-d96049f38cee"
      },
      "source": [
        "!head comments_2018-000000000004 # checking the file"
      ],
      "execution_count": 9,
      "outputs": [
        {
          "output_type": "stream",
          "text": [
            "subreddit,body\n",
            "aww,So cute..!!♡.♡\n",
            "aww,Shaken baby syndrome \n",
            "aww,She's made her choice\n",
            "aww,\"I have more pics of her but I don't know how to link them and I'm at work, if I figure it out I'll do it when I finish ��\"\n",
            "aww,This is the most adorable thing I have ever seen. Thanks so much for sharing \n",
            "aww,\"Incredibly sweet! I was thinking however, \"\"Who was watching his bag?\"\"\"\n",
            "aww,It did �� so  cute!!!! ❤\n",
            "aww,Link to they toy in the back?\n",
            "aww,Literal speed dating!\n"
          ],
          "name": "stdout"
        }
      ]
    },
    {
      "cell_type": "code",
      "metadata": {
        "id": "VTuJBpng5rkV",
        "colab_type": "code",
        "colab": {}
      },
      "source": [
        "comments_files = glob(\"/content/comments_2018*\") # all files have the same pattern\n",
        "dfs = []\n",
        "\n",
        "for file in comments_files:\n",
        "  df = pd.read_csv(file)\n",
        "  dfs.append(df)\n",
        "\n",
        "df_comments = pd.concat(dfs, axis=0, ignore_index=True)"
      ],
      "execution_count": 0,
      "outputs": []
    },
    {
      "cell_type": "code",
      "metadata": {
        "id": "B6Ve5bxn7tII",
        "colab_type": "code",
        "colab": {
          "base_uri": "https://localhost:8080/",
          "height": 173
        },
        "outputId": "53c4a560-58f7-4ba1-ff68-485a052988fd"
      },
      "source": [
        "df_comments.describe()"
      ],
      "execution_count": 11,
      "outputs": [
        {
          "output_type": "execute_result",
          "data": {
            "text/html": [
              "<div>\n",
              "<style scoped>\n",
              "    .dataframe tbody tr th:only-of-type {\n",
              "        vertical-align: middle;\n",
              "    }\n",
              "\n",
              "    .dataframe tbody tr th {\n",
              "        vertical-align: top;\n",
              "    }\n",
              "\n",
              "    .dataframe thead th {\n",
              "        text-align: right;\n",
              "    }\n",
              "</style>\n",
              "<table border=\"1\" class=\"dataframe\">\n",
              "  <thead>\n",
              "    <tr style=\"text-align: right;\">\n",
              "      <th></th>\n",
              "      <th>subreddit</th>\n",
              "      <th>body</th>\n",
              "    </tr>\n",
              "  </thead>\n",
              "  <tbody>\n",
              "    <tr>\n",
              "      <th>count</th>\n",
              "      <td>10754982</td>\n",
              "      <td>10754982</td>\n",
              "    </tr>\n",
              "    <tr>\n",
              "      <th>unique</th>\n",
              "      <td>14</td>\n",
              "      <td>10424325</td>\n",
              "    </tr>\n",
              "    <tr>\n",
              "      <th>top</th>\n",
              "      <td>nba</td>\n",
              "      <td>Your submission has been automatically removed...</td>\n",
              "    </tr>\n",
              "    <tr>\n",
              "      <th>freq</th>\n",
              "      <td>768213</td>\n",
              "      <td>18649</td>\n",
              "    </tr>\n",
              "  </tbody>\n",
              "</table>\n",
              "</div>"
            ],
            "text/plain": [
              "       subreddit                                               body\n",
              "count   10754982                                           10754982\n",
              "unique        14                                           10424325\n",
              "top          nba  Your submission has been automatically removed...\n",
              "freq      768213                                              18649"
            ]
          },
          "metadata": {
            "tags": []
          },
          "execution_count": 11
        }
      ]
    },
    {
      "cell_type": "markdown",
      "metadata": {
        "id": "NYvbR9YOCGj0",
        "colab_type": "text"
      },
      "source": [
        "**Correct**, we have 14 subreddit each with 768213 comments for a total of 10754982 from 2018."
      ]
    },
    {
      "cell_type": "code",
      "metadata": {
        "id": "hCaCd397ENWR",
        "colab_type": "code",
        "colab": {
          "base_uri": "https://localhost:8080/",
          "height": 204
        },
        "outputId": "643addcd-236e-456d-d5c4-aebe1c564514"
      },
      "source": [
        "df_comments.tail()"
      ],
      "execution_count": 8,
      "outputs": [
        {
          "output_type": "execute_result",
          "data": {
            "text/html": [
              "<div>\n",
              "<style scoped>\n",
              "    .dataframe tbody tr th:only-of-type {\n",
              "        vertical-align: middle;\n",
              "    }\n",
              "\n",
              "    .dataframe tbody tr th {\n",
              "        vertical-align: top;\n",
              "    }\n",
              "\n",
              "    .dataframe thead th {\n",
              "        text-align: right;\n",
              "    }\n",
              "</style>\n",
              "<table border=\"1\" class=\"dataframe\">\n",
              "  <thead>\n",
              "    <tr style=\"text-align: right;\">\n",
              "      <th></th>\n",
              "      <th>subreddit</th>\n",
              "      <th>body</th>\n",
              "    </tr>\n",
              "  </thead>\n",
              "  <tbody>\n",
              "    <tr>\n",
              "      <th>10754977</th>\n",
              "      <td>science</td>\n",
              "      <td>Replace every door and cabinet handle, every d...</td>\n",
              "    </tr>\n",
              "    <tr>\n",
              "      <th>10754978</th>\n",
              "      <td>science</td>\n",
              "      <td>I've never been so happy to live on the west c...</td>\n",
              "    </tr>\n",
              "    <tr>\n",
              "      <th>10754979</th>\n",
              "      <td>science</td>\n",
              "      <td>Can't imagine smoking it every day for hours. ...</td>\n",
              "    </tr>\n",
              "    <tr>\n",
              "      <th>10754980</th>\n",
              "      <td>science</td>\n",
              "      <td>I've been seeing a lot of comments similar to ...</td>\n",
              "    </tr>\n",
              "    <tr>\n",
              "      <th>10754981</th>\n",
              "      <td>science</td>\n",
              "      <td>While earth flaters and anti vaxxers thinks it...</td>\n",
              "    </tr>\n",
              "  </tbody>\n",
              "</table>\n",
              "</div>"
            ],
            "text/plain": [
              "         subreddit                                               body\n",
              "10754977   science  Replace every door and cabinet handle, every d...\n",
              "10754978   science  I've never been so happy to live on the west c...\n",
              "10754979   science  Can't imagine smoking it every day for hours. ...\n",
              "10754980   science  I've been seeing a lot of comments similar to ...\n",
              "10754981   science  While earth flaters and anti vaxxers thinks it..."
            ]
          },
          "metadata": {
            "tags": []
          },
          "execution_count": 8
        }
      ]
    },
    {
      "cell_type": "markdown",
      "metadata": {
        "id": "75FJg5J5idWQ",
        "colab_type": "text"
      },
      "source": [
        "### Pre cleaning filters with SQL\n",
        "\n",
        "The df has been pre \"cleaned\":\n",
        "- no data with body \"deleted\"\n",
        "- no data with body \"removed\"\n",
        "- no data with body \"Removed by reddit in response to a copyright notice.\"\n",
        "- no NAN on body\n",
        "- no empty data on body"
      ]
    },
    {
      "cell_type": "markdown",
      "metadata": {
        "id": "vuxUzsNfi38b",
        "colab_type": "text"
      },
      "source": [
        "### Comments - Data Overview"
      ]
    },
    {
      "cell_type": "code",
      "metadata": {
        "id": "_9oiZuARiMMa",
        "colab_type": "code",
        "colab": {
          "base_uri": "https://localhost:8080/",
          "height": 34
        },
        "outputId": "ffbd9512-dd4d-40af-af67-084787f706c2"
      },
      "source": [
        "df_comments.shape"
      ],
      "execution_count": 13,
      "outputs": [
        {
          "output_type": "execute_result",
          "data": {
            "text/plain": [
              "(10754982, 2)"
            ]
          },
          "metadata": {
            "tags": []
          },
          "execution_count": 13
        }
      ]
    },
    {
      "cell_type": "markdown",
      "metadata": {
        "id": "Ov4GT8pTjEmk",
        "colab_type": "text"
      },
      "source": [
        "Check that there are not null values"
      ]
    },
    {
      "cell_type": "code",
      "metadata": {
        "id": "YrrTmW3DjWwZ",
        "colab_type": "code",
        "colab": {
          "base_uri": "https://localhost:8080/",
          "height": 68
        },
        "outputId": "623dbddd-9beb-4c43-d2f3-59e8ae5bb3c6"
      },
      "source": [
        "df_comments.isnull().sum()"
      ],
      "execution_count": 14,
      "outputs": [
        {
          "output_type": "execute_result",
          "data": {
            "text/plain": [
              "subreddit    0\n",
              "body         0\n",
              "dtype: int64"
            ]
          },
          "metadata": {
            "tags": []
          },
          "execution_count": 14
        }
      ]
    },
    {
      "cell_type": "markdown",
      "metadata": {
        "id": "YernXp_atwgw",
        "colab_type": "text"
      },
      "source": [
        "Check if there are NaN values and delete them\n"
      ]
    },
    {
      "cell_type": "code",
      "metadata": {
        "id": "aGqXc70Vt0DO",
        "colab_type": "code",
        "colab": {
          "base_uri": "https://localhost:8080/",
          "height": 34
        },
        "outputId": "61e32b59-963e-49cf-a95d-8dc871d6b414"
      },
      "source": [
        "df_comments[\"body\"].isna().sum()"
      ],
      "execution_count": 16,
      "outputs": [
        {
          "output_type": "execute_result",
          "data": {
            "text/plain": [
              "0"
            ]
          },
          "metadata": {
            "tags": []
          },
          "execution_count": 16
        }
      ]
    },
    {
      "cell_type": "markdown",
      "metadata": {
        "id": "xOBvPjQgjb00",
        "colab_type": "text"
      },
      "source": [
        "Checking the largest text in our comments\n"
      ]
    },
    {
      "cell_type": "code",
      "metadata": {
        "id": "WZK0itzljb9l",
        "colab_type": "code",
        "colab": {
          "base_uri": "https://localhost:8080/",
          "height": 34
        },
        "outputId": "0c7e5d78-044f-4cc5-a483-31fcf6f7e8e2"
      },
      "source": [
        "df_comments.body.map(lambda x: len(x)).max()"
      ],
      "execution_count": 49,
      "outputs": [
        {
          "output_type": "execute_result",
          "data": {
            "text/plain": [
              "16200"
            ]
          },
          "metadata": {
            "tags": []
          },
          "execution_count": 49
        }
      ]
    },
    {
      "cell_type": "code",
      "metadata": {
        "id": "ekb6a393FWSt",
        "colab_type": "code",
        "colab": {
          "base_uri": "https://localhost:8080/",
          "height": 34
        },
        "outputId": "148b770a-526b-466f-d079-261573201400"
      },
      "source": [
        "df_comments.body.map(lambda x: len(x)).min()"
      ],
      "execution_count": 50,
      "outputs": [
        {
          "output_type": "execute_result",
          "data": {
            "text/plain": [
              "11"
            ]
          },
          "metadata": {
            "tags": []
          },
          "execution_count": 50
        }
      ]
    },
    {
      "cell_type": "markdown",
      "metadata": {
        "id": "kghdqad4goyC",
        "colab_type": "text"
      },
      "source": [
        "### Comments - Data Cleaning"
      ]
    },
    {
      "cell_type": "markdown",
      "metadata": {
        "id": "W_BYu7LIdRii",
        "colab_type": "text"
      },
      "source": [
        "Cleaning `body` column with the function implemented `clean_text_df`"
      ]
    },
    {
      "cell_type": "code",
      "metadata": {
        "id": "U4N-8mxqdVOu",
        "colab_type": "code",
        "colab": {}
      },
      "source": [
        "clean_text_df(df_comments,'body')"
      ],
      "execution_count": 0,
      "outputs": []
    },
    {
      "cell_type": "code",
      "metadata": {
        "id": "ZxnVLY0FypDT",
        "colab_type": "code",
        "colab": {
          "base_uri": "https://localhost:8080/",
          "height": 204
        },
        "outputId": "f969d171-fbea-4bd9-c4cf-fa599be90a6d"
      },
      "source": [
        "df_comments.head()"
      ],
      "execution_count": 10,
      "outputs": [
        {
          "output_type": "execute_result",
          "data": {
            "text/html": [
              "<div>\n",
              "<style scoped>\n",
              "    .dataframe tbody tr th:only-of-type {\n",
              "        vertical-align: middle;\n",
              "    }\n",
              "\n",
              "    .dataframe tbody tr th {\n",
              "        vertical-align: top;\n",
              "    }\n",
              "\n",
              "    .dataframe thead th {\n",
              "        text-align: right;\n",
              "    }\n",
              "</style>\n",
              "<table border=\"1\" class=\"dataframe\">\n",
              "  <thead>\n",
              "    <tr style=\"text-align: right;\">\n",
              "      <th></th>\n",
              "      <th>subreddit</th>\n",
              "      <th>body</th>\n",
              "    </tr>\n",
              "  </thead>\n",
              "  <tbody>\n",
              "    <tr>\n",
              "      <th>0</th>\n",
              "      <td>aww</td>\n",
              "      <td>doubling down with the multiple sub approach g...</td>\n",
              "    </tr>\n",
              "    <tr>\n",
              "      <th>1</th>\n",
              "      <td>aww</td>\n",
              "      <td>i 2nd meatball i have a seriously chunky engli...</td>\n",
              "    </tr>\n",
              "    <tr>\n",
              "      <th>2</th>\n",
              "      <td>aww</td>\n",
              "      <td>my thoughts as well</td>\n",
              "    </tr>\n",
              "    <tr>\n",
              "      <th>3</th>\n",
              "      <td>aww</td>\n",
              "      <td>friends don't eat friends</td>\n",
              "    </tr>\n",
              "    <tr>\n",
              "      <th>4</th>\n",
              "      <td>aww</td>\n",
              "      <td>maybe the doctors are waiting with the heart i...</td>\n",
              "    </tr>\n",
              "  </tbody>\n",
              "</table>\n",
              "</div>"
            ],
            "text/plain": [
              "  subreddit                                               body\n",
              "0       aww  doubling down with the multiple sub approach g...\n",
              "1       aww  i 2nd meatball i have a seriously chunky engli...\n",
              "2       aww                                my thoughts as well\n",
              "3       aww                         friends don't eat friends \n",
              "4       aww  maybe the doctors are waiting with the heart i..."
            ]
          },
          "metadata": {
            "tags": []
          },
          "execution_count": 10
        }
      ]
    },
    {
      "cell_type": "markdown",
      "metadata": {
        "id": "yZSioggik1ef",
        "colab_type": "text"
      },
      "source": [
        "## Posts"
      ]
    },
    {
      "cell_type": "code",
      "metadata": {
        "id": "_XTMyrQfDQg2",
        "colab_type": "code",
        "colab": {
          "base_uri": "https://localhost:8080/",
          "height": 68
        },
        "outputId": "434b96c9-fe3e-41a7-8785-ce54a3b1e1ac"
      },
      "source": [
        "!gsutil cp gs://reddit_posts_master/posts_2018 ."
      ],
      "execution_count": 11,
      "outputs": [
        {
          "output_type": "stream",
          "text": [
            "Copying gs://reddit_posts_master/posts_2018...\n",
            "/ [1 files][ 22.5 MiB/ 22.5 MiB]                                                \n",
            "Operation completed over 1 objects/22.5 MiB.                                     \n"
          ],
          "name": "stdout"
        }
      ]
    },
    {
      "cell_type": "code",
      "metadata": {
        "id": "_7-uYToVDRux",
        "colab_type": "code",
        "colab": {
          "base_uri": "https://localhost:8080/",
          "height": 34
        },
        "outputId": "266f5c15-5200-4fac-e086-a0e6286334bb"
      },
      "source": [
        "!pwd"
      ],
      "execution_count": 12,
      "outputs": [
        {
          "output_type": "stream",
          "text": [
            "/content\n"
          ],
          "name": "stdout"
        }
      ]
    },
    {
      "cell_type": "code",
      "metadata": {
        "id": "xEsEl-PSDRkn",
        "colab_type": "code",
        "colab": {
          "base_uri": "https://localhost:8080/",
          "height": 187
        },
        "outputId": "6791c503-23f6-42ec-9eab-9c6cbf48401e"
      },
      "source": [
        "!head posts_2018"
      ],
      "execution_count": 19,
      "outputs": [
        {
          "output_type": "stream",
          "text": [
            "subreddit,title,selftext\n",
            "funny,Say Alpha Kenny One fast!,Now realise you need Jesus...\n",
            "funny,Mary Poppins sequels,\"Disney has announced the next Mary Poppins Sequels. After Mary Poppins Returns, there will be: \n",
            "\n",
            "*Mary Poppins Forever \n",
            "*Mary Poppins and Jack \n",
            "*Mary Poppins Begins \n",
            "*The Dark Nanny \n",
            "*The Dark Nanny Rises \n",
            "*Mary Poppins v Superman: Dawn of Justice \n"
          ],
          "name": "stdout"
        }
      ]
    },
    {
      "cell_type": "code",
      "metadata": {
        "id": "Xl5-9-FhDTPl",
        "colab_type": "code",
        "colab": {}
      },
      "source": [
        "df_posts = pd.read_csv(\"posts_2018\")"
      ],
      "execution_count": 0,
      "outputs": []
    },
    {
      "cell_type": "code",
      "metadata": {
        "id": "MsEsRDEcDTE1",
        "colab_type": "code",
        "colab": {
          "base_uri": "https://localhost:8080/",
          "height": 173
        },
        "outputId": "224accc8-23b1-4dcf-9233-5daf804f997f"
      },
      "source": [
        "df_posts.describe()"
      ],
      "execution_count": 21,
      "outputs": [
        {
          "output_type": "execute_result",
          "data": {
            "text/html": [
              "<div>\n",
              "<style scoped>\n",
              "    .dataframe tbody tr th:only-of-type {\n",
              "        vertical-align: middle;\n",
              "    }\n",
              "\n",
              "    .dataframe tbody tr th {\n",
              "        vertical-align: top;\n",
              "    }\n",
              "\n",
              "    .dataframe thead th {\n",
              "        text-align: right;\n",
              "    }\n",
              "</style>\n",
              "<table border=\"1\" class=\"dataframe\">\n",
              "  <thead>\n",
              "    <tr style=\"text-align: right;\">\n",
              "      <th></th>\n",
              "      <th>subreddit</th>\n",
              "      <th>title</th>\n",
              "      <th>selftext</th>\n",
              "    </tr>\n",
              "  </thead>\n",
              "  <tbody>\n",
              "    <tr>\n",
              "      <th>count</th>\n",
              "      <td>110656</td>\n",
              "      <td>110656</td>\n",
              "      <td>110656</td>\n",
              "    </tr>\n",
              "    <tr>\n",
              "      <th>unique</th>\n",
              "      <td>14</td>\n",
              "      <td>105581</td>\n",
              "      <td>15710</td>\n",
              "    </tr>\n",
              "    <tr>\n",
              "      <th>top</th>\n",
              "      <td>science</td>\n",
              "      <td>IamA (Blank) AMA!</td>\n",
              "      <td>[deleted]</td>\n",
              "    </tr>\n",
              "    <tr>\n",
              "      <th>freq</th>\n",
              "      <td>7904</td>\n",
              "      <td>67</td>\n",
              "      <td>66247</td>\n",
              "    </tr>\n",
              "  </tbody>\n",
              "</table>\n",
              "</div>"
            ],
            "text/plain": [
              "       subreddit              title   selftext\n",
              "count     110656             110656     110656\n",
              "unique        14             105581      15710\n",
              "top      science  IamA (Blank) AMA!  [deleted]\n",
              "freq        7904                 67      66247"
            ]
          },
          "metadata": {
            "tags": []
          },
          "execution_count": 21
        }
      ]
    },
    {
      "cell_type": "markdown",
      "metadata": {
        "id": "QBRWHkSdD1QW",
        "colab_type": "text"
      },
      "source": [
        "**Correct**, we have 14 subreddit each with 7904 titles/selftext for a total of 110656 from 2018."
      ]
    },
    {
      "cell_type": "code",
      "metadata": {
        "id": "z-OsZ2bjG5ud",
        "colab_type": "code",
        "colab": {
          "base_uri": "https://localhost:8080/",
          "height": 204
        },
        "outputId": "b033b4ea-b608-4a62-cc6a-3070e5148161"
      },
      "source": [
        "df_posts.head()"
      ],
      "execution_count": 22,
      "outputs": [
        {
          "output_type": "execute_result",
          "data": {
            "text/html": [
              "<div>\n",
              "<style scoped>\n",
              "    .dataframe tbody tr th:only-of-type {\n",
              "        vertical-align: middle;\n",
              "    }\n",
              "\n",
              "    .dataframe tbody tr th {\n",
              "        vertical-align: top;\n",
              "    }\n",
              "\n",
              "    .dataframe thead th {\n",
              "        text-align: right;\n",
              "    }\n",
              "</style>\n",
              "<table border=\"1\" class=\"dataframe\">\n",
              "  <thead>\n",
              "    <tr style=\"text-align: right;\">\n",
              "      <th></th>\n",
              "      <th>subreddit</th>\n",
              "      <th>title</th>\n",
              "      <th>selftext</th>\n",
              "    </tr>\n",
              "  </thead>\n",
              "  <tbody>\n",
              "    <tr>\n",
              "      <th>0</th>\n",
              "      <td>funny</td>\n",
              "      <td>Say Alpha Kenny One fast!</td>\n",
              "      <td>Now realise you need Jesus...</td>\n",
              "    </tr>\n",
              "    <tr>\n",
              "      <th>1</th>\n",
              "      <td>funny</td>\n",
              "      <td>Mary Poppins sequels</td>\n",
              "      <td>Disney has announced the next Mary Poppins Seq...</td>\n",
              "    </tr>\n",
              "    <tr>\n",
              "      <th>2</th>\n",
              "      <td>funny</td>\n",
              "      <td>Catbombing my ex girlfriend in the shower.</td>\n",
              "      <td>Few years into our relationship we adopted a k...</td>\n",
              "    </tr>\n",
              "    <tr>\n",
              "      <th>3</th>\n",
              "      <td>funny</td>\n",
              "      <td>Christmas poetry</td>\n",
              "      <td>I saw a lady Santa Clause, a standing on the s...</td>\n",
              "    </tr>\n",
              "    <tr>\n",
              "      <th>4</th>\n",
              "      <td>funny</td>\n",
              "      <td>True story: My brother resembles Santa Claus</td>\n",
              "      <td>His portly frame and salt-and-pepper beard ma...</td>\n",
              "    </tr>\n",
              "  </tbody>\n",
              "</table>\n",
              "</div>"
            ],
            "text/plain": [
              "  subreddit  ...                                           selftext\n",
              "0     funny  ...                      Now realise you need Jesus...\n",
              "1     funny  ...  Disney has announced the next Mary Poppins Seq...\n",
              "2     funny  ...  Few years into our relationship we adopted a k...\n",
              "3     funny  ...  I saw a lady Santa Clause, a standing on the s...\n",
              "4     funny  ...   His portly frame and salt-and-pepper beard ma...\n",
              "\n",
              "[5 rows x 3 columns]"
            ]
          },
          "metadata": {
            "tags": []
          },
          "execution_count": 22
        }
      ]
    },
    {
      "cell_type": "markdown",
      "metadata": {
        "id": "PgENyspOpymK",
        "colab_type": "text"
      },
      "source": [
        "### Pre cleaning filters with SQL\n",
        "\n",
        "The df has been pre \"cleaned\":\n",
        "- no data with selftext \"deleted\" and title length < 5\n",
        "- no data with selftext \"removed\" and title length < 5\n",
        "- no data with selftext \"Removed by reddit in response to a copyright notice.\" and title length < 5\n",
        "- no NAN on selftext and title length < 5\n",
        "- no empty data on selftext and title length < 5"
      ]
    },
    {
      "cell_type": "markdown",
      "metadata": {
        "id": "cr-I8ShoqEvb",
        "colab_type": "text"
      },
      "source": [
        "### Posts - Data Overview"
      ]
    },
    {
      "cell_type": "code",
      "metadata": {
        "id": "zcXxphOvpgVX",
        "colab_type": "code",
        "colab": {
          "base_uri": "https://localhost:8080/",
          "height": 34
        },
        "outputId": "f2bceb26-3350-4f1d-ce35-2c3def45e447"
      },
      "source": [
        "df_posts.shape"
      ],
      "execution_count": 14,
      "outputs": [
        {
          "output_type": "execute_result",
          "data": {
            "text/plain": [
              "(110656, 3)"
            ]
          },
          "metadata": {
            "tags": []
          },
          "execution_count": 14
        }
      ]
    },
    {
      "cell_type": "markdown",
      "metadata": {
        "id": "iDef6ltsqXNt",
        "colab_type": "text"
      },
      "source": [
        "Check that there are not null values"
      ]
    },
    {
      "cell_type": "code",
      "metadata": {
        "id": "QCAVxw2NqXu5",
        "colab_type": "code",
        "colab": {
          "base_uri": "https://localhost:8080/",
          "height": 85
        },
        "outputId": "d95979ce-fe3a-4e18-fc21-361737b6f96e"
      },
      "source": [
        "df_posts.isnull().sum()"
      ],
      "execution_count": 15,
      "outputs": [
        {
          "output_type": "execute_result",
          "data": {
            "text/plain": [
              "subreddit    0\n",
              "title        0\n",
              "selftext     0\n",
              "dtype: int64"
            ]
          },
          "metadata": {
            "tags": []
          },
          "execution_count": 15
        }
      ]
    },
    {
      "cell_type": "markdown",
      "metadata": {
        "id": "g8QJh7WBqcpz",
        "colab_type": "text"
      },
      "source": [
        "Checking the largest title in our posts"
      ]
    },
    {
      "cell_type": "code",
      "metadata": {
        "id": "wTnmX9efqYCN",
        "colab_type": "code",
        "colab": {
          "base_uri": "https://localhost:8080/",
          "height": 34
        },
        "outputId": "17a95f79-452a-4b2e-a8e6-937a143cb302"
      },
      "source": [
        "df_posts.title.map(lambda x: len(x)).max()"
      ],
      "execution_count": 17,
      "outputs": [
        {
          "output_type": "execute_result",
          "data": {
            "text/plain": [
              "316"
            ]
          },
          "metadata": {
            "tags": []
          },
          "execution_count": 17
        }
      ]
    },
    {
      "cell_type": "code",
      "metadata": {
        "id": "2IL_1rLF079c",
        "colab_type": "code",
        "colab": {
          "base_uri": "https://localhost:8080/",
          "height": 34
        },
        "outputId": "8f7b7ebe-e85b-4ce3-816b-0bdaa5854347"
      },
      "source": [
        "df_posts.title.map(lambda x: len(x)).min()"
      ],
      "execution_count": 18,
      "outputs": [
        {
          "output_type": "execute_result",
          "data": {
            "text/plain": [
              "6"
            ]
          },
          "metadata": {
            "tags": []
          },
          "execution_count": 18
        }
      ]
    },
    {
      "cell_type": "code",
      "metadata": {
        "id": "IjYZ-WOuFi1M",
        "colab_type": "code",
        "colab": {
          "base_uri": "https://localhost:8080/",
          "height": 34
        },
        "outputId": "4fe4c30d-dd18-450f-9429-020759de4646"
      },
      "source": [
        "df_posts.selftext.map(lambda x: len(x)).max()"
      ],
      "execution_count": 19,
      "outputs": [
        {
          "output_type": "execute_result",
          "data": {
            "text/plain": [
              "39880"
            ]
          },
          "metadata": {
            "tags": []
          },
          "execution_count": 19
        }
      ]
    },
    {
      "cell_type": "code",
      "metadata": {
        "id": "ZumYxoyn1C1m",
        "colab_type": "code",
        "colab": {
          "base_uri": "https://localhost:8080/",
          "height": 34
        },
        "outputId": "cd021ffe-4ed4-4378-a0b2-c842c4bdd27a"
      },
      "source": [
        "df_posts.selftext.map(lambda x: len(x)).min()"
      ],
      "execution_count": 20,
      "outputs": [
        {
          "output_type": "execute_result",
          "data": {
            "text/plain": [
              "1"
            ]
          },
          "metadata": {
            "tags": []
          },
          "execution_count": 20
        }
      ]
    },
    {
      "cell_type": "markdown",
      "metadata": {
        "id": "PR4_Zmk6qpif",
        "colab_type": "text"
      },
      "source": [
        "### Posts -  Data Cleaning"
      ]
    },
    {
      "cell_type": "markdown",
      "metadata": {
        "id": "-pb1eEkqgxwL",
        "colab_type": "text"
      },
      "source": [
        "Cleaning `title` and `selftext` column with the function implemented `clean_text_df`"
      ]
    },
    {
      "cell_type": "code",
      "metadata": {
        "id": "Avvb2CN5gza7",
        "colab_type": "code",
        "colab": {}
      },
      "source": [
        "clean_text_df(df_posts,'title')\n",
        "clean_text_df(df_posts,'selftext')"
      ],
      "execution_count": 0,
      "outputs": []
    },
    {
      "cell_type": "code",
      "metadata": {
        "id": "ajPmB994g_bx",
        "colab_type": "code",
        "colab": {
          "base_uri": "https://localhost:8080/",
          "height": 204
        },
        "outputId": "ed70b56c-a190-4563-d5fc-e3dfa807cb8a"
      },
      "source": [
        "df_posts.head()"
      ],
      "execution_count": 26,
      "outputs": [
        {
          "output_type": "execute_result",
          "data": {
            "text/html": [
              "<div>\n",
              "<style scoped>\n",
              "    .dataframe tbody tr th:only-of-type {\n",
              "        vertical-align: middle;\n",
              "    }\n",
              "\n",
              "    .dataframe tbody tr th {\n",
              "        vertical-align: top;\n",
              "    }\n",
              "\n",
              "    .dataframe thead th {\n",
              "        text-align: right;\n",
              "    }\n",
              "</style>\n",
              "<table border=\"1\" class=\"dataframe\">\n",
              "  <thead>\n",
              "    <tr style=\"text-align: right;\">\n",
              "      <th></th>\n",
              "      <th>subreddit</th>\n",
              "      <th>title</th>\n",
              "      <th>selftext</th>\n",
              "    </tr>\n",
              "  </thead>\n",
              "  <tbody>\n",
              "    <tr>\n",
              "      <th>0</th>\n",
              "      <td>funny</td>\n",
              "      <td>say alpha kenny one fast</td>\n",
              "      <td>now realise you need jesus</td>\n",
              "    </tr>\n",
              "    <tr>\n",
              "      <th>1</th>\n",
              "      <td>funny</td>\n",
              "      <td>mary poppins sequels</td>\n",
              "      <td>disney has announced the next mary poppins seq...</td>\n",
              "    </tr>\n",
              "    <tr>\n",
              "      <th>2</th>\n",
              "      <td>funny</td>\n",
              "      <td>catbombing my ex girlfriend in the shower</td>\n",
              "      <td>few years into our relationship we adopted a k...</td>\n",
              "    </tr>\n",
              "    <tr>\n",
              "      <th>3</th>\n",
              "      <td>funny</td>\n",
              "      <td>christmas poetry</td>\n",
              "      <td>i saw a lady santa clause a standing on the st...</td>\n",
              "    </tr>\n",
              "    <tr>\n",
              "      <th>4</th>\n",
              "      <td>funny</td>\n",
              "      <td>true story my brother resembles santa claus</td>\n",
              "      <td>his portly frame and saltandpepper beard make...</td>\n",
              "    </tr>\n",
              "  </tbody>\n",
              "</table>\n",
              "</div>"
            ],
            "text/plain": [
              "  subreddit  ...                                           selftext\n",
              "0     funny  ...                         now realise you need jesus\n",
              "1     funny  ...  disney has announced the next mary poppins seq...\n",
              "2     funny  ...  few years into our relationship we adopted a k...\n",
              "3     funny  ...  i saw a lady santa clause a standing on the st...\n",
              "4     funny  ...   his portly frame and saltandpepper beard make...\n",
              "\n",
              "[5 rows x 3 columns]"
            ]
          },
          "metadata": {
            "tags": []
          },
          "execution_count": 26
        }
      ]
    },
    {
      "cell_type": "markdown",
      "metadata": {
        "id": "SKWTCknGffj4",
        "colab_type": "text"
      },
      "source": [
        "### Posts - Assembling Corpus"
      ]
    },
    {
      "cell_type": "markdown",
      "metadata": {
        "id": "2I5Z4AqOfjJx",
        "colab_type": "text"
      },
      "source": [
        "To proceed we wiil need to:\n",
        "- merge, in posts ds, the columns __title__ and __selftext__ together on order to have ony one corpus (body) for the \n",
        "    corresponding subreddit\n",
        "- create a one only ds from comments and posts, with the related score and subreddit"
      ]
    },
    {
      "cell_type": "code",
      "metadata": {
        "id": "pjAGuQMkfjuX",
        "colab_type": "code",
        "colab": {}
      },
      "source": [
        "df_posts['body']= df_posts.title + \" \" + df_posts.selftext"
      ],
      "execution_count": 0,
      "outputs": []
    },
    {
      "cell_type": "code",
      "metadata": {
        "id": "0M48l8rlf6If",
        "colab_type": "code",
        "colab": {
          "base_uri": "https://localhost:8080/",
          "height": 669
        },
        "outputId": "f47b9098-83ad-4df6-e166-05a92ab5b59c"
      },
      "source": [
        "df_posts.head(20) #it works properly"
      ],
      "execution_count": 28,
      "outputs": [
        {
          "output_type": "execute_result",
          "data": {
            "text/html": [
              "<div>\n",
              "<style scoped>\n",
              "    .dataframe tbody tr th:only-of-type {\n",
              "        vertical-align: middle;\n",
              "    }\n",
              "\n",
              "    .dataframe tbody tr th {\n",
              "        vertical-align: top;\n",
              "    }\n",
              "\n",
              "    .dataframe thead th {\n",
              "        text-align: right;\n",
              "    }\n",
              "</style>\n",
              "<table border=\"1\" class=\"dataframe\">\n",
              "  <thead>\n",
              "    <tr style=\"text-align: right;\">\n",
              "      <th></th>\n",
              "      <th>subreddit</th>\n",
              "      <th>title</th>\n",
              "      <th>selftext</th>\n",
              "      <th>body</th>\n",
              "    </tr>\n",
              "  </thead>\n",
              "  <tbody>\n",
              "    <tr>\n",
              "      <th>0</th>\n",
              "      <td>funny</td>\n",
              "      <td>say alpha kenny one fast</td>\n",
              "      <td>now realise you need jesus</td>\n",
              "      <td>say alpha kenny one fast now realise you need ...</td>\n",
              "    </tr>\n",
              "    <tr>\n",
              "      <th>1</th>\n",
              "      <td>funny</td>\n",
              "      <td>mary poppins sequels</td>\n",
              "      <td>disney has announced the next mary poppins seq...</td>\n",
              "      <td>mary poppins sequels disney has announced the ...</td>\n",
              "    </tr>\n",
              "    <tr>\n",
              "      <th>2</th>\n",
              "      <td>funny</td>\n",
              "      <td>catbombing my ex girlfriend in the shower</td>\n",
              "      <td>few years into our relationship we adopted a k...</td>\n",
              "      <td>catbombing my ex girlfriend in the shower few ...</td>\n",
              "    </tr>\n",
              "    <tr>\n",
              "      <th>3</th>\n",
              "      <td>funny</td>\n",
              "      <td>christmas poetry</td>\n",
              "      <td>i saw a lady santa clause a standing on the st...</td>\n",
              "      <td>christmas poetry i saw a lady santa clause a s...</td>\n",
              "    </tr>\n",
              "    <tr>\n",
              "      <th>4</th>\n",
              "      <td>funny</td>\n",
              "      <td>true story my brother resembles santa claus</td>\n",
              "      <td>his portly frame and saltandpepper beard make...</td>\n",
              "      <td>true story my brother resembles santa claus  h...</td>\n",
              "    </tr>\n",
              "    <tr>\n",
              "      <th>5</th>\n",
              "      <td>funny</td>\n",
              "      <td>santa gives bad kids coal</td>\n",
              "      <td>when santa started doing this coal was a home ...</td>\n",
              "      <td>santa gives bad kids coal when santa started d...</td>\n",
              "    </tr>\n",
              "    <tr>\n",
              "      <th>6</th>\n",
              "      <td>funny</td>\n",
              "      <td>my son describing christmas</td>\n",
              "      <td>so i asked my 3 year old son what they did at ...</td>\n",
              "      <td>my son describing christmas so i asked my 3 ye...</td>\n",
              "    </tr>\n",
              "    <tr>\n",
              "      <th>7</th>\n",
              "      <td>funny</td>\n",
              "      <td>how do you spot a blind guy at a nude beach</td>\n",
              "      <td>it's not hard</td>\n",
              "      <td>how do you spot a blind guy at a nude beach it...</td>\n",
              "    </tr>\n",
              "    <tr>\n",
              "      <th>8</th>\n",
              "      <td>funny</td>\n",
              "      <td>hittin those milestones</td>\n",
              "      <td>teens i hate the world20s im going to save the...</td>\n",
              "      <td>hittin those milestones teens i hate the world...</td>\n",
              "    </tr>\n",
              "    <tr>\n",
              "      <th>9</th>\n",
              "      <td>funny</td>\n",
              "      <td>convinced someone i'm a beagle</td>\n",
              "      <td>i was in grade 6 and we had a giant group wher...</td>\n",
              "      <td>convinced someone i'm a beagle i was in grade ...</td>\n",
              "    </tr>\n",
              "    <tr>\n",
              "      <th>10</th>\n",
              "      <td>funny</td>\n",
              "      <td>some dinosaur fam came along to the trampoline...</td>\n",
              "      <td>me and my brother were at ventricle jump and...</td>\n",
              "      <td>some dinosaur fam came along to the trampoline...</td>\n",
              "    </tr>\n",
              "    <tr>\n",
              "      <th>11</th>\n",
              "      <td>funny</td>\n",
              "      <td>my mom said my nephew got a whole bunch of min...</td>\n",
              "      <td>to keep the enderdragon tame probably was not ...</td>\n",
              "      <td>my mom said my nephew got a whole bunch of min...</td>\n",
              "    </tr>\n",
              "    <tr>\n",
              "      <th>12</th>\n",
              "      <td>funny</td>\n",
              "      <td>no days off saving the world</td>\n",
              "      <td>ampx200b</td>\n",
              "      <td>no days off saving the world ampx200b</td>\n",
              "    </tr>\n",
              "    <tr>\n",
              "      <th>13</th>\n",
              "      <td>funny</td>\n",
              "      <td>where is the please dont talk to me i only cam...</td>\n",
              "      <td>ampx200b</td>\n",
              "      <td>where is the please dont talk to me i only cam...</td>\n",
              "    </tr>\n",
              "    <tr>\n",
              "      <th>14</th>\n",
              "      <td>funny</td>\n",
              "      <td>what did jabba the hutt want from solo</td>\n",
              "      <td>a han job</td>\n",
              "      <td>what did jabba the hutt want from solo a han job</td>\n",
              "    </tr>\n",
              "    <tr>\n",
              "      <th>15</th>\n",
              "      <td>funny</td>\n",
              "      <td>what should i name my two rats</td>\n",
              "      <td>i don't know what to name them and i want funn...</td>\n",
              "      <td>what should i name my two rats i don't know wh...</td>\n",
              "    </tr>\n",
              "    <tr>\n",
              "      <th>16</th>\n",
              "      <td>funny</td>\n",
              "      <td>everyone does this on christmas right</td>\n",
              "      <td>everyone  does this for christmas right</td>\n",
              "      <td>everyone does this on christmas right everyone...</td>\n",
              "    </tr>\n",
              "    <tr>\n",
              "      <th>17</th>\n",
              "      <td>funny</td>\n",
              "      <td>hate bankers but gotta love this one</td>\n",
              "      <td>so im a the bank waiting in line and this guy ...</td>\n",
              "      <td>hate bankers but gotta love this one so im a t...</td>\n",
              "    </tr>\n",
              "    <tr>\n",
              "      <th>18</th>\n",
              "      <td>funny</td>\n",
              "      <td>i once visited a museum and wiped a stringy bo...</td>\n",
              "      <td>the teacher asked for whoever did it to own up...</td>\n",
              "      <td>i once visited a museum and wiped a stringy bo...</td>\n",
              "    </tr>\n",
              "    <tr>\n",
              "      <th>19</th>\n",
              "      <td>funny</td>\n",
              "      <td>merry christmas</td>\n",
              "      <td>merry christmas or happy holidays which ever y...</td>\n",
              "      <td>merry christmas merry christmas or happy holid...</td>\n",
              "    </tr>\n",
              "  </tbody>\n",
              "</table>\n",
              "</div>"
            ],
            "text/plain": [
              "   subreddit  ...                                               body\n",
              "0      funny  ...  say alpha kenny one fast now realise you need ...\n",
              "1      funny  ...  mary poppins sequels disney has announced the ...\n",
              "2      funny  ...  catbombing my ex girlfriend in the shower few ...\n",
              "3      funny  ...  christmas poetry i saw a lady santa clause a s...\n",
              "4      funny  ...  true story my brother resembles santa claus  h...\n",
              "5      funny  ...  santa gives bad kids coal when santa started d...\n",
              "6      funny  ...  my son describing christmas so i asked my 3 ye...\n",
              "7      funny  ...  how do you spot a blind guy at a nude beach it...\n",
              "8      funny  ...  hittin those milestones teens i hate the world...\n",
              "9      funny  ...  convinced someone i'm a beagle i was in grade ...\n",
              "10     funny  ...  some dinosaur fam came along to the trampoline...\n",
              "11     funny  ...  my mom said my nephew got a whole bunch of min...\n",
              "12     funny  ...              no days off saving the world ampx200b\n",
              "13     funny  ...  where is the please dont talk to me i only cam...\n",
              "14     funny  ...   what did jabba the hutt want from solo a han job\n",
              "15     funny  ...  what should i name my two rats i don't know wh...\n",
              "16     funny  ...  everyone does this on christmas right everyone...\n",
              "17     funny  ...  hate bankers but gotta love this one so im a t...\n",
              "18     funny  ...  i once visited a museum and wiped a stringy bo...\n",
              "19     funny  ...  merry christmas merry christmas or happy holid...\n",
              "\n",
              "[20 rows x 4 columns]"
            ]
          },
          "metadata": {
            "tags": []
          },
          "execution_count": 28
        }
      ]
    },
    {
      "cell_type": "markdown",
      "metadata": {
        "id": "jchFpiyPgFN8",
        "colab_type": "text"
      },
      "source": [
        "Let's keep only the column `body` so we have the same structure in both df"
      ]
    },
    {
      "cell_type": "code",
      "metadata": {
        "id": "51J-bieHgSa5",
        "colab_type": "code",
        "colab": {}
      },
      "source": [
        "df_posts_corpus = df_posts.drop(['title', 'selftext'], axis=1)"
      ],
      "execution_count": 0,
      "outputs": []
    },
    {
      "cell_type": "code",
      "metadata": {
        "id": "GTJQnGbKgaeM",
        "colab_type": "code",
        "colab": {
          "base_uri": "https://localhost:8080/",
          "height": 204
        },
        "outputId": "544b9e3b-6db4-4215-f877-7bb1bd15ef27"
      },
      "source": [
        "df_posts_corpus.tail(5)"
      ],
      "execution_count": 30,
      "outputs": [
        {
          "output_type": "execute_result",
          "data": {
            "text/html": [
              "<div>\n",
              "<style scoped>\n",
              "    .dataframe tbody tr th:only-of-type {\n",
              "        vertical-align: middle;\n",
              "    }\n",
              "\n",
              "    .dataframe tbody tr th {\n",
              "        vertical-align: top;\n",
              "    }\n",
              "\n",
              "    .dataframe thead th {\n",
              "        text-align: right;\n",
              "    }\n",
              "</style>\n",
              "<table border=\"1\" class=\"dataframe\">\n",
              "  <thead>\n",
              "    <tr style=\"text-align: right;\">\n",
              "      <th></th>\n",
              "      <th>subreddit</th>\n",
              "      <th>body</th>\n",
              "    </tr>\n",
              "  </thead>\n",
              "  <tbody>\n",
              "    <tr>\n",
              "      <th>110651</th>\n",
              "      <td>science</td>\n",
              "      <td>study finds robust sex differences in children...</td>\n",
              "    </tr>\n",
              "    <tr>\n",
              "      <th>110652</th>\n",
              "      <td>science</td>\n",
              "      <td>scan technique reveals secret writing in mummy...</td>\n",
              "    </tr>\n",
              "    <tr>\n",
              "      <th>110653</th>\n",
              "      <td>science</td>\n",
              "      <td>psychedelic drugs can help relieve the symptom...</td>\n",
              "    </tr>\n",
              "    <tr>\n",
              "      <th>110654</th>\n",
              "      <td>science</td>\n",
              "      <td>you are shaped by the genes you inherit and ma...</td>\n",
              "    </tr>\n",
              "    <tr>\n",
              "      <th>110655</th>\n",
              "      <td>science</td>\n",
              "      <td>how to make gradient background in pixellab 20...</td>\n",
              "    </tr>\n",
              "  </tbody>\n",
              "</table>\n",
              "</div>"
            ],
            "text/plain": [
              "       subreddit                                               body\n",
              "110651   science  study finds robust sex differences in children...\n",
              "110652   science  scan technique reveals secret writing in mummy...\n",
              "110653   science  psychedelic drugs can help relieve the symptom...\n",
              "110654   science  you are shaped by the genes you inherit and ma...\n",
              "110655   science  how to make gradient background in pixellab 20..."
            ]
          },
          "metadata": {
            "tags": []
          },
          "execution_count": 30
        }
      ]
    },
    {
      "cell_type": "markdown",
      "metadata": {
        "id": "yK81q-mImysQ",
        "colab_type": "text"
      },
      "source": [
        "## New global ds \"comments_posts_clear\""
      ]
    },
    {
      "cell_type": "markdown",
      "metadata": {
        "id": "Gpe1c3FYnX_Z",
        "colab_type": "text"
      },
      "source": [
        "Unification of the two datasets.\n",
        "\n",
        "Remembering the shape of comments and posts, I can check if the final df has been correctly created like a sum of them."
      ]
    },
    {
      "cell_type": "code",
      "metadata": {
        "id": "OLJIMIeVne18",
        "colab_type": "code",
        "colab": {
          "base_uri": "https://localhost:8080/",
          "height": 34
        },
        "outputId": "ebb9e3b3-4e7b-4c88-8142-c845f1861113"
      },
      "source": [
        "df_comments.shape"
      ],
      "execution_count": 31,
      "outputs": [
        {
          "output_type": "execute_result",
          "data": {
            "text/plain": [
              "(10754982, 2)"
            ]
          },
          "metadata": {
            "tags": []
          },
          "execution_count": 31
        }
      ]
    },
    {
      "cell_type": "code",
      "metadata": {
        "id": "ojDqgoeLnudD",
        "colab_type": "code",
        "colab": {
          "base_uri": "https://localhost:8080/",
          "height": 34
        },
        "outputId": "d6a7c0a3-ac97-4c2d-c250-7f972db7a75a"
      },
      "source": [
        "df_posts_corpus.shape"
      ],
      "execution_count": 32,
      "outputs": [
        {
          "output_type": "execute_result",
          "data": {
            "text/plain": [
              "(110656, 2)"
            ]
          },
          "metadata": {
            "tags": []
          },
          "execution_count": 32
        }
      ]
    },
    {
      "cell_type": "code",
      "metadata": {
        "id": "01_9oAuHnuog",
        "colab_type": "code",
        "colab": {}
      },
      "source": [
        "df_comments_posts = pd.concat([df_comments, df_posts_corpus], axis=0, ignore_index=True)"
      ],
      "execution_count": 0,
      "outputs": []
    },
    {
      "cell_type": "code",
      "metadata": {
        "id": "Ay0kRyUynuxW",
        "colab_type": "code",
        "colab": {
          "base_uri": "https://localhost:8080/",
          "height": 34
        },
        "outputId": "5df1b1ec-78c0-4047-c710-decd6fcb1adb"
      },
      "source": [
        "df_comments_posts.shape #the sum confirm that the ds are now joint in one only"
      ],
      "execution_count": 34,
      "outputs": [
        {
          "output_type": "execute_result",
          "data": {
            "text/plain": [
              "(10865638, 2)"
            ]
          },
          "metadata": {
            "tags": []
          },
          "execution_count": 34
        }
      ]
    },
    {
      "cell_type": "code",
      "metadata": {
        "id": "4l1yHZASJiae",
        "colab_type": "code",
        "colab": {
          "base_uri": "https://localhost:8080/",
          "height": 173
        },
        "outputId": "fbe790fd-dda1-41d1-d511-7ee8f8d2fe76"
      },
      "source": [
        "df_comments_posts.describe() # and the number of my subreddit didn't changed"
      ],
      "execution_count": 35,
      "outputs": [
        {
          "output_type": "execute_result",
          "data": {
            "text/html": [
              "<div>\n",
              "<style scoped>\n",
              "    .dataframe tbody tr th:only-of-type {\n",
              "        vertical-align: middle;\n",
              "    }\n",
              "\n",
              "    .dataframe tbody tr th {\n",
              "        vertical-align: top;\n",
              "    }\n",
              "\n",
              "    .dataframe thead th {\n",
              "        text-align: right;\n",
              "    }\n",
              "</style>\n",
              "<table border=\"1\" class=\"dataframe\">\n",
              "  <thead>\n",
              "    <tr style=\"text-align: right;\">\n",
              "      <th></th>\n",
              "      <th>subreddit</th>\n",
              "      <th>body</th>\n",
              "    </tr>\n",
              "  </thead>\n",
              "  <tbody>\n",
              "    <tr>\n",
              "      <th>count</th>\n",
              "      <td>10865638</td>\n",
              "      <td>10865638</td>\n",
              "    </tr>\n",
              "    <tr>\n",
              "      <th>unique</th>\n",
              "      <td>14</td>\n",
              "      <td>10327835</td>\n",
              "    </tr>\n",
              "    <tr>\n",
              "      <th>top</th>\n",
              "      <td>todayilearned</td>\n",
              "      <td></td>\n",
              "    </tr>\n",
              "    <tr>\n",
              "      <th>freq</th>\n",
              "      <td>776117</td>\n",
              "      <td>32288</td>\n",
              "    </tr>\n",
              "  </tbody>\n",
              "</table>\n",
              "</div>"
            ],
            "text/plain": [
              "            subreddit      body\n",
              "count        10865638  10865638\n",
              "unique             14  10327835\n",
              "top     todayilearned          \n",
              "freq           776117     32288"
            ]
          },
          "metadata": {
            "tags": []
          },
          "execution_count": 35
        }
      ]
    },
    {
      "cell_type": "code",
      "metadata": {
        "id": "7jtx0xgSnu7G",
        "colab_type": "code",
        "colab": {
          "base_uri": "https://localhost:8080/",
          "height": 669
        },
        "outputId": "5cafa371-b47a-4dba-df9e-96795b3e0110"
      },
      "source": [
        "df_comments_posts.head(20)"
      ],
      "execution_count": 36,
      "outputs": [
        {
          "output_type": "execute_result",
          "data": {
            "text/html": [
              "<div>\n",
              "<style scoped>\n",
              "    .dataframe tbody tr th:only-of-type {\n",
              "        vertical-align: middle;\n",
              "    }\n",
              "\n",
              "    .dataframe tbody tr th {\n",
              "        vertical-align: top;\n",
              "    }\n",
              "\n",
              "    .dataframe thead th {\n",
              "        text-align: right;\n",
              "    }\n",
              "</style>\n",
              "<table border=\"1\" class=\"dataframe\">\n",
              "  <thead>\n",
              "    <tr style=\"text-align: right;\">\n",
              "      <th></th>\n",
              "      <th>subreddit</th>\n",
              "      <th>body</th>\n",
              "    </tr>\n",
              "  </thead>\n",
              "  <tbody>\n",
              "    <tr>\n",
              "      <th>0</th>\n",
              "      <td>aww</td>\n",
              "      <td>doubling down with the multiple sub approach g...</td>\n",
              "    </tr>\n",
              "    <tr>\n",
              "      <th>1</th>\n",
              "      <td>aww</td>\n",
              "      <td>i 2nd meatball i have a seriously chunky engli...</td>\n",
              "    </tr>\n",
              "    <tr>\n",
              "      <th>2</th>\n",
              "      <td>aww</td>\n",
              "      <td>my thoughts as well</td>\n",
              "    </tr>\n",
              "    <tr>\n",
              "      <th>3</th>\n",
              "      <td>aww</td>\n",
              "      <td>friends don't eat friends</td>\n",
              "    </tr>\n",
              "    <tr>\n",
              "      <th>4</th>\n",
              "      <td>aww</td>\n",
              "      <td>maybe the doctors are waiting with the heart i...</td>\n",
              "    </tr>\n",
              "    <tr>\n",
              "      <th>5</th>\n",
              "      <td>aww</td>\n",
              "      <td>tell him if he wants to stay hell have to shave</td>\n",
              "    </tr>\n",
              "    <tr>\n",
              "      <th>6</th>\n",
              "      <td>aww</td>\n",
              "      <td>that's just mean</td>\n",
              "    </tr>\n",
              "    <tr>\n",
              "      <th>7</th>\n",
              "      <td>aww</td>\n",
              "      <td>that's awesome</td>\n",
              "    </tr>\n",
              "    <tr>\n",
              "      <th>8</th>\n",
              "      <td>aww</td>\n",
              "      <td>is this in san diego because there are posters...</td>\n",
              "    </tr>\n",
              "    <tr>\n",
              "      <th>9</th>\n",
              "      <td>aww</td>\n",
              "      <td>lil bun is my new rapper name</td>\n",
              "    </tr>\n",
              "    <tr>\n",
              "      <th>10</th>\n",
              "      <td>aww</td>\n",
              "      <td>and what breed is she</td>\n",
              "    </tr>\n",
              "    <tr>\n",
              "      <th>11</th>\n",
              "      <td>aww</td>\n",
              "      <td>try furries then</td>\n",
              "    </tr>\n",
              "    <tr>\n",
              "      <th>12</th>\n",
              "      <td>aww</td>\n",
              "      <td>wouldve adopted them both if i could but with ...</td>\n",
              "    </tr>\n",
              "    <tr>\n",
              "      <th>13</th>\n",
              "      <td>aww</td>\n",
              "      <td>no artax noooo</td>\n",
              "    </tr>\n",
              "    <tr>\n",
              "      <th>14</th>\n",
              "      <td>aww</td>\n",
              "      <td>general kenobi</td>\n",
              "    </tr>\n",
              "    <tr>\n",
              "      <th>15</th>\n",
              "      <td>aww</td>\n",
              "      <td>try a cat they dobt give a fuck when uve been ...</td>\n",
              "    </tr>\n",
              "    <tr>\n",
              "      <th>16</th>\n",
              "      <td>aww</td>\n",
              "      <td>yeah you 's fucked jig</td>\n",
              "    </tr>\n",
              "    <tr>\n",
              "      <th>17</th>\n",
              "      <td>aww</td>\n",
              "      <td>probably tortured into responding like that so...</td>\n",
              "    </tr>\n",
              "    <tr>\n",
              "      <th>18</th>\n",
              "      <td>aww</td>\n",
              "      <td>downvoted for like and share</td>\n",
              "    </tr>\n",
              "    <tr>\n",
              "      <th>19</th>\n",
              "      <td>aww</td>\n",
              "      <td>ah what is this ungodly thing oh it's my leg</td>\n",
              "    </tr>\n",
              "  </tbody>\n",
              "</table>\n",
              "</div>"
            ],
            "text/plain": [
              "   subreddit                                               body\n",
              "0        aww  doubling down with the multiple sub approach g...\n",
              "1        aww  i 2nd meatball i have a seriously chunky engli...\n",
              "2        aww                                my thoughts as well\n",
              "3        aww                         friends don't eat friends \n",
              "4        aww  maybe the doctors are waiting with the heart i...\n",
              "5        aww   tell him if he wants to stay hell have to shave \n",
              "6        aww                                   that's just mean\n",
              "7        aww                                    that's awesome \n",
              "8        aww  is this in san diego because there are posters...\n",
              "9        aww                      lil bun is my new rapper name\n",
              "10       aww                              and what breed is she\n",
              "11       aww                                   try furries then\n",
              "12       aww  wouldve adopted them both if i could but with ...\n",
              "13       aww                                     no artax noooo\n",
              "14       aww                                     general kenobi\n",
              "15       aww  try a cat they dobt give a fuck when uve been ...\n",
              "16       aww                             yeah you 's fucked jig\n",
              "17       aww  probably tortured into responding like that so...\n",
              "18       aww                      downvoted for like and share \n",
              "19       aww      ah what is this ungodly thing oh it's my leg "
            ]
          },
          "metadata": {
            "tags": []
          },
          "execution_count": 36
        }
      ]
    },
    {
      "cell_type": "code",
      "metadata": {
        "id": "-4mA8mEzJX95",
        "colab_type": "code",
        "colab": {
          "base_uri": "https://localhost:8080/",
          "height": 669
        },
        "outputId": "f05254a1-abe9-4daa-8624-f54b4ca74b39"
      },
      "source": [
        "df_comments_posts.tail(20)"
      ],
      "execution_count": 37,
      "outputs": [
        {
          "output_type": "execute_result",
          "data": {
            "text/html": [
              "<div>\n",
              "<style scoped>\n",
              "    .dataframe tbody tr th:only-of-type {\n",
              "        vertical-align: middle;\n",
              "    }\n",
              "\n",
              "    .dataframe tbody tr th {\n",
              "        vertical-align: top;\n",
              "    }\n",
              "\n",
              "    .dataframe thead th {\n",
              "        text-align: right;\n",
              "    }\n",
              "</style>\n",
              "<table border=\"1\" class=\"dataframe\">\n",
              "  <thead>\n",
              "    <tr style=\"text-align: right;\">\n",
              "      <th></th>\n",
              "      <th>subreddit</th>\n",
              "      <th>body</th>\n",
              "    </tr>\n",
              "  </thead>\n",
              "  <tbody>\n",
              "    <tr>\n",
              "      <th>10865618</th>\n",
              "      <td>science</td>\n",
              "      <td>the evolution of man's face over the course of...</td>\n",
              "    </tr>\n",
              "    <tr>\n",
              "      <th>10865619</th>\n",
              "      <td>science</td>\n",
              "      <td>nanofabricator would change everything deleted</td>\n",
              "    </tr>\n",
              "    <tr>\n",
              "      <th>10865620</th>\n",
              "      <td>science</td>\n",
              "      <td>obscure vomiting illness linked to longterm po...</td>\n",
              "    </tr>\n",
              "    <tr>\n",
              "      <th>10865621</th>\n",
              "      <td>science</td>\n",
              "      <td>the dark side of led lightbulbs deleted</td>\n",
              "    </tr>\n",
              "    <tr>\n",
              "      <th>10865622</th>\n",
              "      <td>science</td>\n",
              "      <td>skywatchers see 'super blue blood moon' deleted</td>\n",
              "    </tr>\n",
              "    <tr>\n",
              "      <th>10865623</th>\n",
              "      <td>science</td>\n",
              "      <td>obese fat becomes inflamed and scarred which m...</td>\n",
              "    </tr>\n",
              "    <tr>\n",
              "      <th>10865624</th>\n",
              "      <td>science</td>\n",
              "      <td>the neuroscience of proactive vs hyperreactive...</td>\n",
              "    </tr>\n",
              "    <tr>\n",
              "      <th>10865625</th>\n",
              "      <td>science</td>\n",
              "      <td>74 things that blew our minds in 2017 deleted</td>\n",
              "    </tr>\n",
              "    <tr>\n",
              "      <th>10865626</th>\n",
              "      <td>science</td>\n",
              "      <td>new oxford university research has revealed th...</td>\n",
              "    </tr>\n",
              "    <tr>\n",
              "      <th>10865627</th>\n",
              "      <td>science</td>\n",
              "      <td>fourdimensional physics in two dimensions deleted</td>\n",
              "    </tr>\n",
              "    <tr>\n",
              "      <th>10865628</th>\n",
              "      <td>science</td>\n",
              "      <td>do cyclists make better drivers associations b...</td>\n",
              "    </tr>\n",
              "    <tr>\n",
              "      <th>10865629</th>\n",
              "      <td>science</td>\n",
              "      <td>ancient dna results end 4000yearold egyptian m...</td>\n",
              "    </tr>\n",
              "    <tr>\n",
              "      <th>10865630</th>\n",
              "      <td>science</td>\n",
              "      <td>genie a girl never spoken to and beaten if she...</td>\n",
              "    </tr>\n",
              "    <tr>\n",
              "      <th>10865631</th>\n",
              "      <td>science</td>\n",
              "      <td>your smartphone is making you stupid antisocia...</td>\n",
              "    </tr>\n",
              "    <tr>\n",
              "      <th>10865632</th>\n",
              "      <td>science</td>\n",
              "      <td>bad weather affects us voter turnout and elect...</td>\n",
              "    </tr>\n",
              "    <tr>\n",
              "      <th>10865633</th>\n",
              "      <td>science</td>\n",
              "      <td>study finds robust sex differences in children...</td>\n",
              "    </tr>\n",
              "    <tr>\n",
              "      <th>10865634</th>\n",
              "      <td>science</td>\n",
              "      <td>scan technique reveals secret writing in mummy...</td>\n",
              "    </tr>\n",
              "    <tr>\n",
              "      <th>10865635</th>\n",
              "      <td>science</td>\n",
              "      <td>psychedelic drugs can help relieve the symptom...</td>\n",
              "    </tr>\n",
              "    <tr>\n",
              "      <th>10865636</th>\n",
              "      <td>science</td>\n",
              "      <td>you are shaped by the genes you inherit and ma...</td>\n",
              "    </tr>\n",
              "    <tr>\n",
              "      <th>10865637</th>\n",
              "      <td>science</td>\n",
              "      <td>how to make gradient background in pixellab 20...</td>\n",
              "    </tr>\n",
              "  </tbody>\n",
              "</table>\n",
              "</div>"
            ],
            "text/plain": [
              "         subreddit                                               body\n",
              "10865618   science  the evolution of man's face over the course of...\n",
              "10865619   science     nanofabricator would change everything deleted\n",
              "10865620   science  obscure vomiting illness linked to longterm po...\n",
              "10865621   science            the dark side of led lightbulbs deleted\n",
              "10865622   science    skywatchers see 'super blue blood moon' deleted\n",
              "10865623   science  obese fat becomes inflamed and scarred which m...\n",
              "10865624   science  the neuroscience of proactive vs hyperreactive...\n",
              "10865625   science      74 things that blew our minds in 2017 deleted\n",
              "10865626   science  new oxford university research has revealed th...\n",
              "10865627   science  fourdimensional physics in two dimensions deleted\n",
              "10865628   science  do cyclists make better drivers associations b...\n",
              "10865629   science  ancient dna results end 4000yearold egyptian m...\n",
              "10865630   science  genie a girl never spoken to and beaten if she...\n",
              "10865631   science  your smartphone is making you stupid antisocia...\n",
              "10865632   science  bad weather affects us voter turnout and elect...\n",
              "10865633   science  study finds robust sex differences in children...\n",
              "10865634   science  scan technique reveals secret writing in mummy...\n",
              "10865635   science  psychedelic drugs can help relieve the symptom...\n",
              "10865636   science  you are shaped by the genes you inherit and ma...\n",
              "10865637   science  how to make gradient background in pixellab 20..."
            ]
          },
          "metadata": {
            "tags": []
          },
          "execution_count": 37
        }
      ]
    },
    {
      "cell_type": "markdown",
      "metadata": {
        "id": "Ar0ezriP2KDf",
        "colab_type": "text"
      },
      "source": [
        "Check if there are NaN values and delete them"
      ]
    },
    {
      "cell_type": "code",
      "metadata": {
        "id": "1LkKJcx22KVS",
        "colab_type": "code",
        "colab": {
          "base_uri": "https://localhost:8080/",
          "height": 34
        },
        "outputId": "3fd9772f-e241-431b-a52a-86f2b85806b0"
      },
      "source": [
        "df_comments_posts[\"body\"].isna().sum()"
      ],
      "execution_count": 39,
      "outputs": [
        {
          "output_type": "execute_result",
          "data": {
            "text/plain": [
              "0"
            ]
          },
          "metadata": {
            "tags": []
          },
          "execution_count": 39
        }
      ]
    },
    {
      "cell_type": "markdown",
      "metadata": {
        "id": "xb_ux2tfw87-",
        "colab_type": "text"
      },
      "source": [
        "Now we \"freeze\" our dataset into a csv file using `to_csv`"
      ]
    },
    {
      "cell_type": "code",
      "metadata": {
        "id": "ltrmokp8w6iB",
        "colab_type": "code",
        "colab": {}
      },
      "source": [
        "from google.colab import files\n",
        "df_comments_posts.to_csv('comments_posts_2018_V2.csv')"
      ],
      "execution_count": 0,
      "outputs": []
    },
    {
      "cell_type": "code",
      "metadata": {
        "id": "KB8Ix9aLMPSX",
        "colab_type": "code",
        "colab": {
          "base_uri": "https://localhost:8080/",
          "height": 136
        },
        "outputId": "74a23fbd-1820-420a-a42a-725ec5ea1ffa"
      },
      "source": [
        "!ls"
      ],
      "execution_count": 41,
      "outputs": [
        {
          "output_type": "stream",
          "text": [
            "adc.json\t\t    comments_2018-000000000006\n",
            "comments_2018-000000000000  comments_2018-000000000007\n",
            "comments_2018-000000000001  comments_2018-000000000008\n",
            "comments_2018-000000000002  comments_2018-000000000009\n",
            "comments_2018-000000000003  comments_posts_2018_V2.csv\n",
            "comments_2018-000000000004  posts_2018\n",
            "comments_2018-000000000005  sample_data\n"
          ],
          "name": "stdout"
        }
      ]
    },
    {
      "cell_type": "code",
      "metadata": {
        "id": "H7fQBofDy4gn",
        "colab_type": "code",
        "colab": {
          "base_uri": "https://localhost:8080/",
          "height": 34
        },
        "outputId": "7317c20f-3703-4723-8751-c99ddafb8884"
      },
      "source": [
        "import os\n",
        "os.stat('comments_posts_2018_V2.csv').st_size"
      ],
      "execution_count": 42,
      "outputs": [
        {
          "output_type": "execute_result",
          "data": {
            "text/plain": [
              "2166253816"
            ]
          },
          "metadata": {
            "tags": []
          },
          "execution_count": 42
        }
      ]
    },
    {
      "cell_type": "markdown",
      "metadata": {
        "id": "qfWkV8u0yC0y",
        "colab_type": "text"
      },
      "source": [
        "Finally we can upload it to my result's bucket"
      ]
    },
    {
      "cell_type": "code",
      "metadata": {
        "id": "yK2ncWe9azMt",
        "colab_type": "code",
        "colab": {
          "base_uri": "https://localhost:8080/",
          "height": 272
        },
        "outputId": "383a7302-5000-4440-c4e1-27615dec0761"
      },
      "source": [
        "!gsutil cp /content/comments_posts_2018_V2.csv gs://reddit_final_results/"
      ],
      "execution_count": 43,
      "outputs": [
        {
          "output_type": "stream",
          "text": [
            "Copying file:///content/comments_posts_2018_V2.csv [Content-Type=text/csv]...\n",
            "/ [0 files][    0.0 B/  2.0 GiB]                                                \r==> NOTE: You are uploading one or more large file(s), which would run\n",
            "significantly faster if you enable parallel composite uploads. This\n",
            "feature can be enabled by editing the\n",
            "\"parallel_composite_upload_threshold\" value in your .boto\n",
            "configuration file. However, note that if you do this large files will\n",
            "be uploaded as `composite objects\n",
            "<https://cloud.google.com/storage/docs/composite-objects>`_,which\n",
            "means that any user who downloads such objects will need to have a\n",
            "compiled crcmod installed (see \"gsutil help crcmod\"). This is because\n",
            "without a compiled crcmod, computing checksums on composite objects is\n",
            "so slow that gsutil disables downloads of composite objects.\n",
            "\n",
            "/\n",
            "Operation completed over 1 objects/2.0 GiB.                                      \n"
          ],
          "name": "stdout"
        }
      ]
    },
    {
      "cell_type": "markdown",
      "metadata": {
        "id": "tEUTdacab5qT",
        "colab_type": "text"
      },
      "source": [
        "Just in case I will need it, I updload also the zip file of `comments_posts_2018`"
      ]
    },
    {
      "cell_type": "code",
      "metadata": {
        "id": "XSO7mWFyPP3f",
        "colab_type": "code",
        "colab": {
          "base_uri": "https://localhost:8080/",
          "height": 34
        },
        "outputId": "138226c1-ea49-4cbd-b9ae-95705b6ae74c"
      },
      "source": [
        "!zip /content/comments_posts_2018_V2.zip /content/comments_posts_2018_V2.csv"
      ],
      "execution_count": 44,
      "outputs": [
        {
          "output_type": "stream",
          "text": [
            "  adding: content/comments_posts_2018_V2.csv (deflated 64%)\n"
          ],
          "name": "stdout"
        }
      ]
    },
    {
      "cell_type": "code",
      "metadata": {
        "id": "Eq43aWEvVFSw",
        "colab_type": "code",
        "colab": {
          "base_uri": "https://localhost:8080/",
          "height": 51
        },
        "outputId": "2886c4f6-6905-40f9-8937-698159897f4f"
      },
      "source": [
        "!du -ch /content/comments_posts_2018_V2.zip"
      ],
      "execution_count": 45,
      "outputs": [
        {
          "output_type": "stream",
          "text": [
            "745M\t/content/comments_posts_2018_V2.zip\n",
            "745M\ttotal\n"
          ],
          "name": "stdout"
        }
      ]
    },
    {
      "cell_type": "code",
      "metadata": {
        "id": "hnTgBE44x_hd",
        "colab_type": "code",
        "colab": {
          "base_uri": "https://localhost:8080/",
          "height": 272
        },
        "outputId": "157db9d7-1919-437d-f85b-84790e9c61fc"
      },
      "source": [
        "!gsutil cp /content/comments_posts_2018_V2.zip gs://reddit_final_results/"
      ],
      "execution_count": 46,
      "outputs": [
        {
          "output_type": "stream",
          "text": [
            "Copying file:///content/comments_posts_2018_V2.zip [Content-Type=application/zip]...\n",
            "/ [0 files][    0.0 B/744.9 MiB]                                                \r==> NOTE: You are uploading one or more large file(s), which would run\n",
            "significantly faster if you enable parallel composite uploads. This\n",
            "feature can be enabled by editing the\n",
            "\"parallel_composite_upload_threshold\" value in your .boto\n",
            "configuration file. However, note that if you do this large files will\n",
            "be uploaded as `composite objects\n",
            "<https://cloud.google.com/storage/docs/composite-objects>`_,which\n",
            "means that any user who downloads such objects will need to have a\n",
            "compiled crcmod installed (see \"gsutil help crcmod\"). This is because\n",
            "without a compiled crcmod, computing checksums on composite objects is\n",
            "so slow that gsutil disables downloads of composite objects.\n",
            "\n",
            "/\n",
            "Operation completed over 1 objects/744.9 MiB.                                    \n"
          ],
          "name": "stdout"
        }
      ]
    },
    {
      "cell_type": "code",
      "metadata": {
        "id": "1j8zbaEdKWai",
        "colab_type": "code",
        "colab": {}
      },
      "source": [
        ""
      ],
      "execution_count": 0,
      "outputs": []
    }
  ]
}