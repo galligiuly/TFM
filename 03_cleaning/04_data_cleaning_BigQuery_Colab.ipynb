{
  "nbformat": 4,
  "nbformat_minor": 0,
  "metadata": {
    "colab": {
      "name": "04_data_cleaning - BigQuery - Colab.ipynb",
      "provenance": [],
      "collapsed_sections": []
    },
    "kernelspec": {
      "name": "python3",
      "display_name": "Python 3"
    },
    "accelerator": "GPU"
  },
  "cells": [
    {
      "cell_type": "markdown",
      "metadata": {
        "id": "mVFqHlBfdfc8",
        "colab_type": "text"
      },
      "source": [
        "# Data cleaning"
      ]
    },
    {
      "cell_type": "code",
      "metadata": {
        "id": "zKc2rOTKcamX",
        "colab_type": "code",
        "colab": {
          "base_uri": "https://localhost:8080/",
          "height": 34
        },
        "outputId": "2cd4b28b-81bf-48a2-da38-b65ab797674c"
      },
      "source": [
        "from google.colab import auth\n",
        "auth.authenticate_user()\n",
        "print('Authenticated')"
      ],
      "execution_count": 3,
      "outputs": [
        {
          "output_type": "stream",
          "text": [
            "Authenticated\n"
          ],
          "name": "stdout"
        }
      ]
    },
    {
      "cell_type": "code",
      "metadata": {
        "id": "1gSXv6ED3opJ",
        "colab_type": "code",
        "colab": {
          "base_uri": "https://localhost:8080/",
          "height": 258
        },
        "outputId": "bdc38a4f-df6e-4dd1-d089-bc9f4022eb53"
      },
      "source": [
        "!gcloud auth login"
      ],
      "execution_count": 7,
      "outputs": [
        {
          "output_type": "stream",
          "text": [
            "Go to the following link in your browser:\n",
            "\n",
            "    https://accounts.google.com/o/oauth2/auth?code_challenge=ibnO7d81msPacZTiKQUQ3Oq_e_MuuEfzhmudgbtpZjA&prompt=select_account&code_challenge_method=S256&access_type=offline&redirect_uri=urn%3Aietf%3Awg%3Aoauth%3A2.0%3Aoob&response_type=code&client_id=32555940559.apps.googleusercontent.com&scope=https%3A%2F%2Fwww.googleapis.com%2Fauth%2Fuserinfo.email+https%3A%2F%2Fwww.googleapis.com%2Fauth%2Fcloud-platform+https%3A%2F%2Fwww.googleapis.com%2Fauth%2Fappengine.admin+https%3A%2F%2Fwww.googleapis.com%2Fauth%2Fcompute+https%3A%2F%2Fwww.googleapis.com%2Fauth%2Faccounts.reauth\n",
            "\n",
            "\n",
            "Enter verification code: 4/tQHwfnB0T7ftuwvKcWxBp9Perhp9RWItfr90Ts7ITZQSL5Uryw1KH2Q\n",
            "\u001b[1;33mWARNING:\u001b[0m `gcloud auth login` no longer writes application default credentials.\n",
            "If you need to use ADC, see:\n",
            "  gcloud auth application-default --help\n",
            "\n",
            "You are now logged in as [giuliag.master@gmail.com].\n",
            "Your current project is [reddit-master].  You can change this setting by running:\n",
            "  $ gcloud config set project PROJECT_ID\n"
          ],
          "name": "stdout"
        }
      ]
    },
    {
      "cell_type": "code",
      "metadata": {
        "id": "VXnDCDKEymeE",
        "colab_type": "code",
        "colab": {
          "base_uri": "https://localhost:8080/",
          "height": 34
        },
        "outputId": "84a8cd67-2d12-43be-e0ae-57656d07686a"
      },
      "source": [
        "!gcloud config set project reddit-master"
      ],
      "execution_count": 5,
      "outputs": [
        {
          "output_type": "stream",
          "text": [
            "Updated property [core/project].\n"
          ],
          "name": "stdout"
        }
      ]
    },
    {
      "cell_type": "markdown",
      "metadata": {
        "id": "pTbBNIvj9Cqg",
        "colab_type": "text"
      },
      "source": [
        "After being autheticated, we can downloead the final data from the bucket of our project in GCP. "
      ]
    },
    {
      "cell_type": "code",
      "metadata": {
        "id": "LKYcYJY64uPE",
        "colab_type": "code",
        "colab": {}
      },
      "source": [
        "import pandas as pd\n",
        "from glob import glob\n",
        "import re\n",
        "import numpy as np"
      ],
      "execution_count": 0,
      "outputs": []
    },
    {
      "cell_type": "markdown",
      "metadata": {
        "id": "aJScP1god6jP",
        "colab_type": "text"
      },
      "source": [
        "We define a function that cleans the text, with regular expressions, from:\n",
        "*  urls\n",
        "*  line ending \\n\n",
        "*  digits\n",
        "*  punctuation\n",
        "*  symbols"
      ]
    },
    {
      "cell_type": "code",
      "metadata": {
        "id": "hNbdLfscadrZ",
        "colab_type": "code",
        "colab": {}
      },
      "source": [
        "def remove_urls(text):\n",
        "    clean = re.compile(r'http\\S+')\n",
        "    return re.sub(clean, '', str(text))\n",
        "\n",
        "def remove_lineEndings (text):\n",
        "    clean = re.compile(r'\\n')\n",
        "    return re.sub(clean, '', str(text))\n",
        "\n",
        "def remove_symbols (text):\n",
        "    clean = re.compile(r'[^a-zA-Z0-9 r/]') #r/ is how to call a subreddit, I want keep it\n",
        "    return re.sub(clean, '', str(text))\n",
        "\n",
        "def clean_text(text):\n",
        "  return remove_urls(remove_lineEndings(remove_symbols(text)))\n",
        "\n",
        "def clean_text_df(df, column):\n",
        "  df[column] = df[column].map(clean_text)"
      ],
      "execution_count": 0,
      "outputs": []
    },
    {
      "cell_type": "markdown",
      "metadata": {
        "id": "MNX4cuDUmnC0",
        "colab_type": "text"
      },
      "source": [
        "## Comments"
      ]
    },
    {
      "cell_type": "code",
      "metadata": {
        "id": "P-OjfTmT1LeG",
        "colab_type": "code",
        "colab": {
          "base_uri": "https://localhost:8080/",
          "height": 323
        },
        "outputId": "311f7d6f-d02b-4e1a-a344-9ae49346676c"
      },
      "source": [
        "!gsutil cp gs://reddit_comments_master/comments_2018-* ."
      ],
      "execution_count": 10,
      "outputs": [
        {
          "output_type": "stream",
          "text": [
            "Copying gs://reddit_comments_master/comments_2018-000000000000...\n",
            "Copying gs://reddit_comments_master/comments_2018-000000000001...\n",
            "Copying gs://reddit_comments_master/comments_2018-000000000002...\n",
            "Copying gs://reddit_comments_master/comments_2018-000000000003...\n",
            "- [4 files][846.3 MiB/846.3 MiB]                                                \n",
            "==> NOTE: You are performing a sequence of gsutil operations that may\n",
            "run significantly faster if you instead use gsutil -m cp ... Please\n",
            "see the -m section under \"gsutil help options\" for further information\n",
            "about when gsutil -m can be advantageous.\n",
            "\n",
            "Copying gs://reddit_comments_master/comments_2018-000000000004...\n",
            "Copying gs://reddit_comments_master/comments_2018-000000000005...\n",
            "Copying gs://reddit_comments_master/comments_2018-000000000006...\n",
            "Copying gs://reddit_comments_master/comments_2018-000000000007...\n",
            "Copying gs://reddit_comments_master/comments_2018-000000000008...\n",
            "Copying gs://reddit_comments_master/comments_2018-000000000009...\n",
            "- [10 files][  2.1 GiB/  2.1 GiB]  129.9 MiB/s                                  \n",
            "Operation completed over 10 objects/2.1 GiB.                                     \n"
          ],
          "name": "stdout"
        }
      ]
    },
    {
      "cell_type": "code",
      "metadata": {
        "id": "xWmSOMT-5kI6",
        "colab_type": "code",
        "colab": {
          "base_uri": "https://localhost:8080/",
          "height": 34
        },
        "outputId": "ad14e344-2df0-45ee-d678-792703fcb839"
      },
      "source": [
        "!pwd"
      ],
      "execution_count": 11,
      "outputs": [
        {
          "output_type": "stream",
          "text": [
            "/content\n"
          ],
          "name": "stdout"
        }
      ]
    },
    {
      "cell_type": "code",
      "metadata": {
        "id": "oXPv6K_A7KSL",
        "colab_type": "code",
        "colab": {
          "base_uri": "https://localhost:8080/",
          "height": 187
        },
        "outputId": "aeed0233-b018-42c2-a859-76951fa48d14"
      },
      "source": [
        "!head comments_2018-000000000004 # checking the file"
      ],
      "execution_count": 12,
      "outputs": [
        {
          "output_type": "stream",
          "text": [
            "subreddit,body\n",
            "aww,So cute..!!♡.♡\n",
            "aww,Shaken baby syndrome \n",
            "aww,She's made her choice\n",
            "aww,\"I have more pics of her but I don't know how to link them and I'm at work, if I figure it out I'll do it when I finish ��\"\n",
            "aww,This is the most adorable thing I have ever seen. Thanks so much for sharing \n",
            "aww,\"Incredibly sweet! I was thinking however, \"\"Who was watching his bag?\"\"\"\n",
            "aww,It did �� so  cute!!!! ❤\n",
            "aww,Link to they toy in the back?\n",
            "aww,Literal speed dating!\n"
          ],
          "name": "stdout"
        }
      ]
    },
    {
      "cell_type": "code",
      "metadata": {
        "id": "VTuJBpng5rkV",
        "colab_type": "code",
        "colab": {}
      },
      "source": [
        "comments_files = glob(\"/content/comments_2018*\") # all files have the same pattern\n",
        "dfs = []\n",
        "\n",
        "for file in comments_files:\n",
        "  df = pd.read_csv(file)\n",
        "  dfs.append(df)\n",
        "\n",
        "df_comments = pd.concat(dfs, axis=0, ignore_index=True)"
      ],
      "execution_count": 0,
      "outputs": []
    },
    {
      "cell_type": "code",
      "metadata": {
        "id": "B6Ve5bxn7tII",
        "colab_type": "code",
        "colab": {
          "base_uri": "https://localhost:8080/",
          "height": 173
        },
        "outputId": "5eebcb49-3581-4ace-b467-af352a65e6e3"
      },
      "source": [
        "df_comments.describe()"
      ],
      "execution_count": 14,
      "outputs": [
        {
          "output_type": "execute_result",
          "data": {
            "text/html": [
              "<div>\n",
              "<style scoped>\n",
              "    .dataframe tbody tr th:only-of-type {\n",
              "        vertical-align: middle;\n",
              "    }\n",
              "\n",
              "    .dataframe tbody tr th {\n",
              "        vertical-align: top;\n",
              "    }\n",
              "\n",
              "    .dataframe thead th {\n",
              "        text-align: right;\n",
              "    }\n",
              "</style>\n",
              "<table border=\"1\" class=\"dataframe\">\n",
              "  <thead>\n",
              "    <tr style=\"text-align: right;\">\n",
              "      <th></th>\n",
              "      <th>subreddit</th>\n",
              "      <th>body</th>\n",
              "    </tr>\n",
              "  </thead>\n",
              "  <tbody>\n",
              "    <tr>\n",
              "      <th>count</th>\n",
              "      <td>10754982</td>\n",
              "      <td>10754982</td>\n",
              "    </tr>\n",
              "    <tr>\n",
              "      <th>unique</th>\n",
              "      <td>14</td>\n",
              "      <td>10424325</td>\n",
              "    </tr>\n",
              "    <tr>\n",
              "      <th>top</th>\n",
              "      <td>IAmA</td>\n",
              "      <td>Your submission has been automatically removed...</td>\n",
              "    </tr>\n",
              "    <tr>\n",
              "      <th>freq</th>\n",
              "      <td>768213</td>\n",
              "      <td>18649</td>\n",
              "    </tr>\n",
              "  </tbody>\n",
              "</table>\n",
              "</div>"
            ],
            "text/plain": [
              "       subreddit                                               body\n",
              "count   10754982                                           10754982\n",
              "unique        14                                           10424325\n",
              "top         IAmA  Your submission has been automatically removed...\n",
              "freq      768213                                              18649"
            ]
          },
          "metadata": {
            "tags": []
          },
          "execution_count": 14
        }
      ]
    },
    {
      "cell_type": "markdown",
      "metadata": {
        "id": "NYvbR9YOCGj0",
        "colab_type": "text"
      },
      "source": [
        "**Correct**, we have 14 subreddit each with 768213 comments for a total of 10754982 from 2018."
      ]
    },
    {
      "cell_type": "code",
      "metadata": {
        "id": "hCaCd397ENWR",
        "colab_type": "code",
        "colab": {
          "base_uri": "https://localhost:8080/",
          "height": 204
        },
        "outputId": "8dcef837-5bea-4faf-a538-6a16d425ac05"
      },
      "source": [
        "df_comments.tail()"
      ],
      "execution_count": 16,
      "outputs": [
        {
          "output_type": "execute_result",
          "data": {
            "text/html": [
              "<div>\n",
              "<style scoped>\n",
              "    .dataframe tbody tr th:only-of-type {\n",
              "        vertical-align: middle;\n",
              "    }\n",
              "\n",
              "    .dataframe tbody tr th {\n",
              "        vertical-align: top;\n",
              "    }\n",
              "\n",
              "    .dataframe thead th {\n",
              "        text-align: right;\n",
              "    }\n",
              "</style>\n",
              "<table border=\"1\" class=\"dataframe\">\n",
              "  <thead>\n",
              "    <tr style=\"text-align: right;\">\n",
              "      <th></th>\n",
              "      <th>subreddit</th>\n",
              "      <th>body</th>\n",
              "    </tr>\n",
              "  </thead>\n",
              "  <tbody>\n",
              "    <tr>\n",
              "      <th>10754977</th>\n",
              "      <td>science</td>\n",
              "      <td>Thunder snow?\\n\\n I'm not familiar, we don't g...</td>\n",
              "    </tr>\n",
              "    <tr>\n",
              "      <th>10754978</th>\n",
              "      <td>science</td>\n",
              "      <td>Is this a newly discovered super parasite or s...</td>\n",
              "    </tr>\n",
              "    <tr>\n",
              "      <th>10754979</th>\n",
              "      <td>science</td>\n",
              "      <td>This all presupposes gender inequality to be f...</td>\n",
              "    </tr>\n",
              "    <tr>\n",
              "      <th>10754980</th>\n",
              "      <td>science</td>\n",
              "      <td>Ah yes of course, the \"not my problem\" approach</td>\n",
              "    </tr>\n",
              "    <tr>\n",
              "      <th>10754981</th>\n",
              "      <td>science</td>\n",
              "      <td>If drank in excess, yes. My comment was not me...</td>\n",
              "    </tr>\n",
              "  </tbody>\n",
              "</table>\n",
              "</div>"
            ],
            "text/plain": [
              "         subreddit                                               body\n",
              "10754977   science  Thunder snow?\\n\\n I'm not familiar, we don't g...\n",
              "10754978   science  Is this a newly discovered super parasite or s...\n",
              "10754979   science  This all presupposes gender inequality to be f...\n",
              "10754980   science    Ah yes of course, the \"not my problem\" approach\n",
              "10754981   science  If drank in excess, yes. My comment was not me..."
            ]
          },
          "metadata": {
            "tags": []
          },
          "execution_count": 16
        }
      ]
    },
    {
      "cell_type": "markdown",
      "metadata": {
        "id": "75FJg5J5idWQ",
        "colab_type": "text"
      },
      "source": [
        "### Pre cleaning filters with SQL\n",
        "\n",
        "The df has been pre \"cleaned\":\n",
        "- no data with body \"deleted\"\n",
        "- no data with body \"removed\"\n",
        "- no data with body \"Removed by reddit in response to a copyright notice.\"\n",
        "- no NAN on body\n",
        "- no empty data on body"
      ]
    },
    {
      "cell_type": "markdown",
      "metadata": {
        "id": "vuxUzsNfi38b",
        "colab_type": "text"
      },
      "source": [
        "### Comments - Data Overview"
      ]
    },
    {
      "cell_type": "code",
      "metadata": {
        "id": "_9oiZuARiMMa",
        "colab_type": "code",
        "colab": {
          "base_uri": "https://localhost:8080/",
          "height": 34
        },
        "outputId": "40baf926-60e6-47b6-b55c-25db5f51099b"
      },
      "source": [
        "df_comments.shape"
      ],
      "execution_count": 47,
      "outputs": [
        {
          "output_type": "execute_result",
          "data": {
            "text/plain": [
              "(10754982, 2)"
            ]
          },
          "metadata": {
            "tags": []
          },
          "execution_count": 47
        }
      ]
    },
    {
      "cell_type": "markdown",
      "metadata": {
        "id": "Ov4GT8pTjEmk",
        "colab_type": "text"
      },
      "source": [
        "Check that there are not NaN values"
      ]
    },
    {
      "cell_type": "code",
      "metadata": {
        "id": "YrrTmW3DjWwZ",
        "colab_type": "code",
        "colab": {
          "base_uri": "https://localhost:8080/",
          "height": 68
        },
        "outputId": "c9a2b4b7-e2a5-4ffd-b200-e121d431b591"
      },
      "source": [
        "df_comments.isnull().sum()"
      ],
      "execution_count": 48,
      "outputs": [
        {
          "output_type": "execute_result",
          "data": {
            "text/plain": [
              "subreddit    0\n",
              "body         0\n",
              "dtype: int64"
            ]
          },
          "metadata": {
            "tags": []
          },
          "execution_count": 48
        }
      ]
    },
    {
      "cell_type": "markdown",
      "metadata": {
        "id": "xOBvPjQgjb00",
        "colab_type": "text"
      },
      "source": [
        "Checking the largest text in our comments\n"
      ]
    },
    {
      "cell_type": "code",
      "metadata": {
        "id": "WZK0itzljb9l",
        "colab_type": "code",
        "colab": {
          "base_uri": "https://localhost:8080/",
          "height": 34
        },
        "outputId": "0c7e5d78-044f-4cc5-a483-31fcf6f7e8e2"
      },
      "source": [
        "df_comments.body.map(lambda x: len(x)).max()"
      ],
      "execution_count": 49,
      "outputs": [
        {
          "output_type": "execute_result",
          "data": {
            "text/plain": [
              "16200"
            ]
          },
          "metadata": {
            "tags": []
          },
          "execution_count": 49
        }
      ]
    },
    {
      "cell_type": "code",
      "metadata": {
        "id": "ekb6a393FWSt",
        "colab_type": "code",
        "colab": {
          "base_uri": "https://localhost:8080/",
          "height": 34
        },
        "outputId": "148b770a-526b-466f-d079-261573201400"
      },
      "source": [
        "df_comments.body.map(lambda x: len(x)).min()"
      ],
      "execution_count": 50,
      "outputs": [
        {
          "output_type": "execute_result",
          "data": {
            "text/plain": [
              "11"
            ]
          },
          "metadata": {
            "tags": []
          },
          "execution_count": 50
        }
      ]
    },
    {
      "cell_type": "markdown",
      "metadata": {
        "id": "kghdqad4goyC",
        "colab_type": "text"
      },
      "source": [
        "### Comments - Data Cleaning"
      ]
    },
    {
      "cell_type": "markdown",
      "metadata": {
        "id": "W_BYu7LIdRii",
        "colab_type": "text"
      },
      "source": [
        "Cleaning `body` column with the function implemented `clean_text_df`"
      ]
    },
    {
      "cell_type": "code",
      "metadata": {
        "id": "U4N-8mxqdVOu",
        "colab_type": "code",
        "colab": {}
      },
      "source": [
        "clean_text_df(df_comments,'body')"
      ],
      "execution_count": 0,
      "outputs": []
    },
    {
      "cell_type": "markdown",
      "metadata": {
        "id": "yZSioggik1ef",
        "colab_type": "text"
      },
      "source": [
        "## Posts"
      ]
    },
    {
      "cell_type": "code",
      "metadata": {
        "id": "_XTMyrQfDQg2",
        "colab_type": "code",
        "colab": {
          "base_uri": "https://localhost:8080/",
          "height": 68
        },
        "outputId": "651b6661-34ef-4306-ebca-a22a784c4caa"
      },
      "source": [
        "!gsutil cp gs://reddit_posts_master/posts_2018 ."
      ],
      "execution_count": 21,
      "outputs": [
        {
          "output_type": "stream",
          "text": [
            "Copying gs://reddit_posts_master/posts_2018...\n",
            "/ [1 files][ 22.5 MiB/ 22.5 MiB]                                                \n",
            "Operation completed over 1 objects/22.5 MiB.                                     \n"
          ],
          "name": "stdout"
        }
      ]
    },
    {
      "cell_type": "code",
      "metadata": {
        "id": "_7-uYToVDRux",
        "colab_type": "code",
        "colab": {
          "base_uri": "https://localhost:8080/",
          "height": 34
        },
        "outputId": "6f7f3d5e-677f-4891-d923-defeb630789c"
      },
      "source": [
        "!pwd"
      ],
      "execution_count": 22,
      "outputs": [
        {
          "output_type": "stream",
          "text": [
            "/content\n"
          ],
          "name": "stdout"
        }
      ]
    },
    {
      "cell_type": "code",
      "metadata": {
        "id": "xEsEl-PSDRkn",
        "colab_type": "code",
        "colab": {
          "base_uri": "https://localhost:8080/",
          "height": 187
        },
        "outputId": "c90679c9-a722-4d36-9893-b8a43815f1d6"
      },
      "source": [
        "!head posts_2018"
      ],
      "execution_count": 23,
      "outputs": [
        {
          "output_type": "stream",
          "text": [
            "subreddit,title,selftext\n",
            "funny,Say Alpha Kenny One fast!,Now realise you need Jesus...\n",
            "funny,Mary Poppins sequels,\"Disney has announced the next Mary Poppins Sequels. After Mary Poppins Returns, there will be: \n",
            "\n",
            "*Mary Poppins Forever \n",
            "*Mary Poppins and Jack \n",
            "*Mary Poppins Begins \n",
            "*The Dark Nanny \n",
            "*The Dark Nanny Rises \n",
            "*Mary Poppins v Superman: Dawn of Justice \n"
          ],
          "name": "stdout"
        }
      ]
    },
    {
      "cell_type": "code",
      "metadata": {
        "id": "Xl5-9-FhDTPl",
        "colab_type": "code",
        "colab": {}
      },
      "source": [
        "df_posts = pd.read_csv(\"posts_2018\")"
      ],
      "execution_count": 0,
      "outputs": []
    },
    {
      "cell_type": "code",
      "metadata": {
        "id": "MsEsRDEcDTE1",
        "colab_type": "code",
        "colab": {
          "base_uri": "https://localhost:8080/",
          "height": 173
        },
        "outputId": "7af63abe-ee47-44d1-a790-9857e0128720"
      },
      "source": [
        "df_posts.describe()"
      ],
      "execution_count": 25,
      "outputs": [
        {
          "output_type": "execute_result",
          "data": {
            "text/html": [
              "<div>\n",
              "<style scoped>\n",
              "    .dataframe tbody tr th:only-of-type {\n",
              "        vertical-align: middle;\n",
              "    }\n",
              "\n",
              "    .dataframe tbody tr th {\n",
              "        vertical-align: top;\n",
              "    }\n",
              "\n",
              "    .dataframe thead th {\n",
              "        text-align: right;\n",
              "    }\n",
              "</style>\n",
              "<table border=\"1\" class=\"dataframe\">\n",
              "  <thead>\n",
              "    <tr style=\"text-align: right;\">\n",
              "      <th></th>\n",
              "      <th>subreddit</th>\n",
              "      <th>title</th>\n",
              "      <th>selftext</th>\n",
              "    </tr>\n",
              "  </thead>\n",
              "  <tbody>\n",
              "    <tr>\n",
              "      <th>count</th>\n",
              "      <td>110656</td>\n",
              "      <td>110656</td>\n",
              "      <td>110656</td>\n",
              "    </tr>\n",
              "    <tr>\n",
              "      <th>unique</th>\n",
              "      <td>14</td>\n",
              "      <td>105581</td>\n",
              "      <td>15710</td>\n",
              "    </tr>\n",
              "    <tr>\n",
              "      <th>top</th>\n",
              "      <td>worldnews</td>\n",
              "      <td>IamA (Blank) AMA!</td>\n",
              "      <td>[deleted]</td>\n",
              "    </tr>\n",
              "    <tr>\n",
              "      <th>freq</th>\n",
              "      <td>7904</td>\n",
              "      <td>67</td>\n",
              "      <td>66247</td>\n",
              "    </tr>\n",
              "  </tbody>\n",
              "</table>\n",
              "</div>"
            ],
            "text/plain": [
              "        subreddit              title   selftext\n",
              "count      110656             110656     110656\n",
              "unique         14             105581      15710\n",
              "top     worldnews  IamA (Blank) AMA!  [deleted]\n",
              "freq         7904                 67      66247"
            ]
          },
          "metadata": {
            "tags": []
          },
          "execution_count": 25
        }
      ]
    },
    {
      "cell_type": "markdown",
      "metadata": {
        "id": "QBRWHkSdD1QW",
        "colab_type": "text"
      },
      "source": [
        "**Correct**, we have 14 subreddit each with 7904 titles/selftext for a total of 110656 from 2018."
      ]
    },
    {
      "cell_type": "code",
      "metadata": {
        "id": "z-OsZ2bjG5ud",
        "colab_type": "code",
        "colab": {
          "base_uri": "https://localhost:8080/",
          "height": 204
        },
        "outputId": "71d577c4-3625-4c93-8492-0bc2d6664d41"
      },
      "source": [
        "df_posts.head()"
      ],
      "execution_count": 27,
      "outputs": [
        {
          "output_type": "execute_result",
          "data": {
            "text/html": [
              "<div>\n",
              "<style scoped>\n",
              "    .dataframe tbody tr th:only-of-type {\n",
              "        vertical-align: middle;\n",
              "    }\n",
              "\n",
              "    .dataframe tbody tr th {\n",
              "        vertical-align: top;\n",
              "    }\n",
              "\n",
              "    .dataframe thead th {\n",
              "        text-align: right;\n",
              "    }\n",
              "</style>\n",
              "<table border=\"1\" class=\"dataframe\">\n",
              "  <thead>\n",
              "    <tr style=\"text-align: right;\">\n",
              "      <th></th>\n",
              "      <th>subreddit</th>\n",
              "      <th>title</th>\n",
              "      <th>selftext</th>\n",
              "    </tr>\n",
              "  </thead>\n",
              "  <tbody>\n",
              "    <tr>\n",
              "      <th>0</th>\n",
              "      <td>funny</td>\n",
              "      <td>Say Alpha Kenny One fast!</td>\n",
              "      <td>Now realise you need Jesus...</td>\n",
              "    </tr>\n",
              "    <tr>\n",
              "      <th>1</th>\n",
              "      <td>funny</td>\n",
              "      <td>Mary Poppins sequels</td>\n",
              "      <td>Disney has announced the next Mary Poppins Seq...</td>\n",
              "    </tr>\n",
              "    <tr>\n",
              "      <th>2</th>\n",
              "      <td>funny</td>\n",
              "      <td>Catbombing my ex girlfriend in the shower.</td>\n",
              "      <td>Few years into our relationship we adopted a k...</td>\n",
              "    </tr>\n",
              "    <tr>\n",
              "      <th>3</th>\n",
              "      <td>funny</td>\n",
              "      <td>Christmas poetry</td>\n",
              "      <td>I saw a lady Santa Clause, a standing on the s...</td>\n",
              "    </tr>\n",
              "    <tr>\n",
              "      <th>4</th>\n",
              "      <td>funny</td>\n",
              "      <td>True story: My brother resembles Santa Claus</td>\n",
              "      <td>His portly frame and salt-and-pepper beard ma...</td>\n",
              "    </tr>\n",
              "  </tbody>\n",
              "</table>\n",
              "</div>"
            ],
            "text/plain": [
              "  subreddit  ...                                           selftext\n",
              "0     funny  ...                      Now realise you need Jesus...\n",
              "1     funny  ...  Disney has announced the next Mary Poppins Seq...\n",
              "2     funny  ...  Few years into our relationship we adopted a k...\n",
              "3     funny  ...  I saw a lady Santa Clause, a standing on the s...\n",
              "4     funny  ...   His portly frame and salt-and-pepper beard ma...\n",
              "\n",
              "[5 rows x 3 columns]"
            ]
          },
          "metadata": {
            "tags": []
          },
          "execution_count": 27
        }
      ]
    },
    {
      "cell_type": "markdown",
      "metadata": {
        "id": "PgENyspOpymK",
        "colab_type": "text"
      },
      "source": [
        "### Pre cleaning filters with SQL\n",
        "\n",
        "The df has been pre \"cleaned\":\n",
        "- no data with selftext \"deleted\" and title length < 5\n",
        "- no data with selftext \"removed\" and title length < 5\n",
        "- no data with selftext \"Removed by reddit in response to a copyright notice.\" and title length < 5\n",
        "- no NAN on selftext and title length < 5\n",
        "- no empty data on selftext and title length < 5"
      ]
    },
    {
      "cell_type": "markdown",
      "metadata": {
        "id": "cr-I8ShoqEvb",
        "colab_type": "text"
      },
      "source": [
        "### Posts - Data Overview"
      ]
    },
    {
      "cell_type": "code",
      "metadata": {
        "id": "zcXxphOvpgVX",
        "colab_type": "code",
        "colab": {
          "base_uri": "https://localhost:8080/",
          "height": 34
        },
        "outputId": "4c1c1825-508d-4336-8653-57209badd053"
      },
      "source": [
        "df_posts.shape"
      ],
      "execution_count": 28,
      "outputs": [
        {
          "output_type": "execute_result",
          "data": {
            "text/plain": [
              "(110656, 3)"
            ]
          },
          "metadata": {
            "tags": []
          },
          "execution_count": 28
        }
      ]
    },
    {
      "cell_type": "markdown",
      "metadata": {
        "id": "iDef6ltsqXNt",
        "colab_type": "text"
      },
      "source": [
        "Check that there are not NaN values"
      ]
    },
    {
      "cell_type": "code",
      "metadata": {
        "id": "QCAVxw2NqXu5",
        "colab_type": "code",
        "colab": {
          "base_uri": "https://localhost:8080/",
          "height": 85
        },
        "outputId": "4bf6da0c-9623-4ed5-b339-28df0e850266"
      },
      "source": [
        "df_posts.isnull().sum()"
      ],
      "execution_count": 65,
      "outputs": [
        {
          "output_type": "execute_result",
          "data": {
            "text/plain": [
              "subreddit    0\n",
              "title        0\n",
              "selftext     0\n",
              "dtype: int64"
            ]
          },
          "metadata": {
            "tags": []
          },
          "execution_count": 65
        }
      ]
    },
    {
      "cell_type": "markdown",
      "metadata": {
        "id": "g8QJh7WBqcpz",
        "colab_type": "text"
      },
      "source": [
        "Checking the largest title in our posts"
      ]
    },
    {
      "cell_type": "code",
      "metadata": {
        "id": "wTnmX9efqYCN",
        "colab_type": "code",
        "colab": {
          "base_uri": "https://localhost:8080/",
          "height": 34
        },
        "outputId": "f1e9f779-ab1b-4a1f-e22d-865ba1bb2d3f"
      },
      "source": [
        "df_posts.title.map(lambda x: len(x)).max()"
      ],
      "execution_count": 29,
      "outputs": [
        {
          "output_type": "execute_result",
          "data": {
            "text/plain": [
              "316"
            ]
          },
          "metadata": {
            "tags": []
          },
          "execution_count": 29
        }
      ]
    },
    {
      "cell_type": "code",
      "metadata": {
        "id": "NxKIXT_wqpXU",
        "colab_type": "code",
        "colab": {
          "base_uri": "https://localhost:8080/",
          "height": 34
        },
        "outputId": "27e896d0-86e3-4866-f6b7-8d769180f1af"
      },
      "source": [
        "df_posts.selftext.map(lambda x: len(x)).max()"
      ],
      "execution_count": 30,
      "outputs": [
        {
          "output_type": "execute_result",
          "data": {
            "text/plain": [
              "39880"
            ]
          },
          "metadata": {
            "tags": []
          },
          "execution_count": 30
        }
      ]
    },
    {
      "cell_type": "code",
      "metadata": {
        "id": "IjYZ-WOuFi1M",
        "colab_type": "code",
        "colab": {
          "base_uri": "https://localhost:8080/",
          "height": 34
        },
        "outputId": "3c57bcc5-0423-45ed-fcc0-1556785a4385"
      },
      "source": [
        "df_posts.title.map(lambda x: len(x)).min()"
      ],
      "execution_count": 31,
      "outputs": [
        {
          "output_type": "execute_result",
          "data": {
            "text/plain": [
              "6"
            ]
          },
          "metadata": {
            "tags": []
          },
          "execution_count": 31
        }
      ]
    },
    {
      "cell_type": "code",
      "metadata": {
        "id": "knNqtNb8Fitr",
        "colab_type": "code",
        "colab": {
          "base_uri": "https://localhost:8080/",
          "height": 34
        },
        "outputId": "c802d7eb-70f4-4a79-e4f8-7f86e53ad109"
      },
      "source": [
        "df_posts.selftext.map(lambda x: len(x)).min() # can be, the title can be the principal part of text in this post"
      ],
      "execution_count": 32,
      "outputs": [
        {
          "output_type": "execute_result",
          "data": {
            "text/plain": [
              "1"
            ]
          },
          "metadata": {
            "tags": []
          },
          "execution_count": 32
        }
      ]
    },
    {
      "cell_type": "markdown",
      "metadata": {
        "id": "SKWTCknGffj4",
        "colab_type": "text"
      },
      "source": [
        "### Posts - Assembling Corpus"
      ]
    },
    {
      "cell_type": "markdown",
      "metadata": {
        "id": "2I5Z4AqOfjJx",
        "colab_type": "text"
      },
      "source": [
        "To proceed we wiil need to:\n",
        "- merge, in posts ds, the columns __title__ and __selftext__ together on order to have ony one corpus (body) for the \n",
        "    corresponding subreddit\n",
        "- create a one only ds from comments and posts, with the related score and subreddit"
      ]
    },
    {
      "cell_type": "code",
      "metadata": {
        "id": "pjAGuQMkfjuX",
        "colab_type": "code",
        "colab": {}
      },
      "source": [
        "df_posts['body']= df_posts.title + \" \" + df_posts.selftext"
      ],
      "execution_count": 0,
      "outputs": []
    },
    {
      "cell_type": "code",
      "metadata": {
        "id": "0M48l8rlf6If",
        "colab_type": "code",
        "colab": {
          "base_uri": "https://localhost:8080/",
          "height": 669
        },
        "outputId": "7fee5d73-3d61-4949-f573-e287453c1276"
      },
      "source": [
        "df_posts.head(20) #it works properly"
      ],
      "execution_count": 34,
      "outputs": [
        {
          "output_type": "execute_result",
          "data": {
            "text/html": [
              "<div>\n",
              "<style scoped>\n",
              "    .dataframe tbody tr th:only-of-type {\n",
              "        vertical-align: middle;\n",
              "    }\n",
              "\n",
              "    .dataframe tbody tr th {\n",
              "        vertical-align: top;\n",
              "    }\n",
              "\n",
              "    .dataframe thead th {\n",
              "        text-align: right;\n",
              "    }\n",
              "</style>\n",
              "<table border=\"1\" class=\"dataframe\">\n",
              "  <thead>\n",
              "    <tr style=\"text-align: right;\">\n",
              "      <th></th>\n",
              "      <th>subreddit</th>\n",
              "      <th>title</th>\n",
              "      <th>selftext</th>\n",
              "      <th>body</th>\n",
              "    </tr>\n",
              "  </thead>\n",
              "  <tbody>\n",
              "    <tr>\n",
              "      <th>0</th>\n",
              "      <td>funny</td>\n",
              "      <td>Say Alpha Kenny One fast!</td>\n",
              "      <td>Now realise you need Jesus...</td>\n",
              "      <td>Say Alpha Kenny One fast! Now realise you need...</td>\n",
              "    </tr>\n",
              "    <tr>\n",
              "      <th>1</th>\n",
              "      <td>funny</td>\n",
              "      <td>Mary Poppins sequels</td>\n",
              "      <td>Disney has announced the next Mary Poppins Seq...</td>\n",
              "      <td>Mary Poppins sequels Disney has announced the ...</td>\n",
              "    </tr>\n",
              "    <tr>\n",
              "      <th>2</th>\n",
              "      <td>funny</td>\n",
              "      <td>Catbombing my ex girlfriend in the shower.</td>\n",
              "      <td>Few years into our relationship we adopted a k...</td>\n",
              "      <td>Catbombing my ex girlfriend in the shower. Few...</td>\n",
              "    </tr>\n",
              "    <tr>\n",
              "      <th>3</th>\n",
              "      <td>funny</td>\n",
              "      <td>Christmas poetry</td>\n",
              "      <td>I saw a lady Santa Clause, a standing on the s...</td>\n",
              "      <td>Christmas poetry I saw a lady Santa Clause, a ...</td>\n",
              "    </tr>\n",
              "    <tr>\n",
              "      <th>4</th>\n",
              "      <td>funny</td>\n",
              "      <td>True story: My brother resembles Santa Claus</td>\n",
              "      <td>His portly frame and salt-and-pepper beard ma...</td>\n",
              "      <td>True story: My brother resembles Santa Claus  ...</td>\n",
              "    </tr>\n",
              "    <tr>\n",
              "      <th>5</th>\n",
              "      <td>funny</td>\n",
              "      <td>Santa gives bad kids coal</td>\n",
              "      <td>When Santa started doing this, coal was a home...</td>\n",
              "      <td>Santa gives bad kids coal When Santa started d...</td>\n",
              "    </tr>\n",
              "    <tr>\n",
              "      <th>6</th>\n",
              "      <td>funny</td>\n",
              "      <td>My Son describing Christmas.</td>\n",
              "      <td>So I asked my 3 year old son what they did at ...</td>\n",
              "      <td>My Son describing Christmas. So I asked my 3 y...</td>\n",
              "    </tr>\n",
              "    <tr>\n",
              "      <th>7</th>\n",
              "      <td>funny</td>\n",
              "      <td>How do you spot a blind guy at a nude beach?</td>\n",
              "      <td>It's not hard</td>\n",
              "      <td>How do you spot a blind guy at a nude beach? I...</td>\n",
              "    </tr>\n",
              "    <tr>\n",
              "      <th>8</th>\n",
              "      <td>funny</td>\n",
              "      <td>Hittin’ those milestones</td>\n",
              "      <td>Teens: I HATE the world!\\n\\n20’s: I’m going to...</td>\n",
              "      <td>Hittin’ those milestones Teens: I HATE the wor...</td>\n",
              "    </tr>\n",
              "    <tr>\n",
              "      <th>9</th>\n",
              "      <td>funny</td>\n",
              "      <td>Convinced someone i'm a beagle</td>\n",
              "      <td>I was in grade 6 and we had a giant group wher...</td>\n",
              "      <td>Convinced someone i'm a beagle I was in grade ...</td>\n",
              "    </tr>\n",
              "    <tr>\n",
              "      <th>10</th>\n",
              "      <td>funny</td>\n",
              "      <td>some dinosaur fam came along to the trampoline...</td>\n",
              "      <td>Me and my brother were at ventricle jump, an...</td>\n",
              "      <td>some dinosaur fam came along to the trampoline...</td>\n",
              "    </tr>\n",
              "    <tr>\n",
              "      <th>11</th>\n",
              "      <td>funny</td>\n",
              "      <td>My mom said my nephew got a whole bunch of min...</td>\n",
              "      <td>To keep the enderdragon tame probably was not ...</td>\n",
              "      <td>My mom said my nephew got a whole bunch of min...</td>\n",
              "    </tr>\n",
              "    <tr>\n",
              "      <th>12</th>\n",
              "      <td>funny</td>\n",
              "      <td>No days off saving the world</td>\n",
              "      <td>&amp;amp;#x200B;\\n\\nhttps://i.redd.it/qgfuttp19h62...</td>\n",
              "      <td>No days off saving the world &amp;amp;#x200B;\\n\\nh...</td>\n",
              "    </tr>\n",
              "    <tr>\n",
              "      <th>13</th>\n",
              "      <td>funny</td>\n",
              "      <td>Where is the “please don’t talk to me I only c...</td>\n",
              "      <td>&amp;amp;#x200B;\\n\\nhttps://i.redd.it/h9cfpxn7dh62...</td>\n",
              "      <td>Where is the “please don’t talk to me I only c...</td>\n",
              "    </tr>\n",
              "    <tr>\n",
              "      <th>14</th>\n",
              "      <td>funny</td>\n",
              "      <td>What did Jabba the Hutt want from Solo?</td>\n",
              "      <td>A han job.</td>\n",
              "      <td>What did Jabba the Hutt want from Solo? A han ...</td>\n",
              "    </tr>\n",
              "    <tr>\n",
              "      <th>15</th>\n",
              "      <td>funny</td>\n",
              "      <td>What should I name my two rats?</td>\n",
              "      <td>I don't know what to name them and I want funn...</td>\n",
              "      <td>What should I name my two rats? I don't know w...</td>\n",
              "    </tr>\n",
              "    <tr>\n",
              "      <th>16</th>\n",
              "      <td>funny</td>\n",
              "      <td>Everyone does this on Christmas, right?</td>\n",
              "      <td>Everyone  does this for Christmas, right? http...</td>\n",
              "      <td>Everyone does this on Christmas, right? Everyo...</td>\n",
              "    </tr>\n",
              "    <tr>\n",
              "      <th>17</th>\n",
              "      <td>funny</td>\n",
              "      <td>HATE BANKERS BUT GOTTA LOVE THIS ONE</td>\n",
              "      <td>So im a the bank waiting in line, and this guy...</td>\n",
              "      <td>HATE BANKERS BUT GOTTA LOVE THIS ONE So im a t...</td>\n",
              "    </tr>\n",
              "    <tr>\n",
              "      <th>18</th>\n",
              "      <td>funny</td>\n",
              "      <td>I once visited a museum and wiped a stringy bo...</td>\n",
              "      <td>The teacher asked for whoever did it to own up...</td>\n",
              "      <td>I once visited a museum and wiped a stringy bo...</td>\n",
              "    </tr>\n",
              "    <tr>\n",
              "      <th>19</th>\n",
              "      <td>funny</td>\n",
              "      <td>Merry Christmas</td>\n",
              "      <td>Merry Christmas or Happy holidays which ever y...</td>\n",
              "      <td>Merry Christmas Merry Christmas or Happy holid...</td>\n",
              "    </tr>\n",
              "  </tbody>\n",
              "</table>\n",
              "</div>"
            ],
            "text/plain": [
              "   subreddit  ...                                               body\n",
              "0      funny  ...  Say Alpha Kenny One fast! Now realise you need...\n",
              "1      funny  ...  Mary Poppins sequels Disney has announced the ...\n",
              "2      funny  ...  Catbombing my ex girlfriend in the shower. Few...\n",
              "3      funny  ...  Christmas poetry I saw a lady Santa Clause, a ...\n",
              "4      funny  ...  True story: My brother resembles Santa Claus  ...\n",
              "5      funny  ...  Santa gives bad kids coal When Santa started d...\n",
              "6      funny  ...  My Son describing Christmas. So I asked my 3 y...\n",
              "7      funny  ...  How do you spot a blind guy at a nude beach? I...\n",
              "8      funny  ...  Hittin’ those milestones Teens: I HATE the wor...\n",
              "9      funny  ...  Convinced someone i'm a beagle I was in grade ...\n",
              "10     funny  ...  some dinosaur fam came along to the trampoline...\n",
              "11     funny  ...  My mom said my nephew got a whole bunch of min...\n",
              "12     funny  ...  No days off saving the world &amp;#x200B;\\n\\nh...\n",
              "13     funny  ...  Where is the “please don’t talk to me I only c...\n",
              "14     funny  ...  What did Jabba the Hutt want from Solo? A han ...\n",
              "15     funny  ...  What should I name my two rats? I don't know w...\n",
              "16     funny  ...  Everyone does this on Christmas, right? Everyo...\n",
              "17     funny  ...  HATE BANKERS BUT GOTTA LOVE THIS ONE So im a t...\n",
              "18     funny  ...  I once visited a museum and wiped a stringy bo...\n",
              "19     funny  ...  Merry Christmas Merry Christmas or Happy holid...\n",
              "\n",
              "[20 rows x 4 columns]"
            ]
          },
          "metadata": {
            "tags": []
          },
          "execution_count": 34
        }
      ]
    },
    {
      "cell_type": "markdown",
      "metadata": {
        "id": "jchFpiyPgFN8",
        "colab_type": "text"
      },
      "source": [
        "Let's keep only the column `body` so we have the same structure in both df"
      ]
    },
    {
      "cell_type": "code",
      "metadata": {
        "id": "51J-bieHgSa5",
        "colab_type": "code",
        "colab": {}
      },
      "source": [
        "df_posts_corpus = df_posts.drop(['title', 'selftext'], axis=1)"
      ],
      "execution_count": 0,
      "outputs": []
    },
    {
      "cell_type": "code",
      "metadata": {
        "id": "GTJQnGbKgaeM",
        "colab_type": "code",
        "colab": {
          "base_uri": "https://localhost:8080/",
          "height": 204
        },
        "outputId": "2259e998-fea9-4489-c817-d1e370bcf4ac"
      },
      "source": [
        "df_posts_corpus.tail(5)"
      ],
      "execution_count": 39,
      "outputs": [
        {
          "output_type": "execute_result",
          "data": {
            "text/html": [
              "<div>\n",
              "<style scoped>\n",
              "    .dataframe tbody tr th:only-of-type {\n",
              "        vertical-align: middle;\n",
              "    }\n",
              "\n",
              "    .dataframe tbody tr th {\n",
              "        vertical-align: top;\n",
              "    }\n",
              "\n",
              "    .dataframe thead th {\n",
              "        text-align: right;\n",
              "    }\n",
              "</style>\n",
              "<table border=\"1\" class=\"dataframe\">\n",
              "  <thead>\n",
              "    <tr style=\"text-align: right;\">\n",
              "      <th></th>\n",
              "      <th>subreddit</th>\n",
              "      <th>body</th>\n",
              "    </tr>\n",
              "  </thead>\n",
              "  <tbody>\n",
              "    <tr>\n",
              "      <th>110651</th>\n",
              "      <td>science</td>\n",
              "      <td>Study finds robust sex differences in children...</td>\n",
              "    </tr>\n",
              "    <tr>\n",
              "      <th>110652</th>\n",
              "      <td>science</td>\n",
              "      <td>Scan technique reveals secret writing in mummy...</td>\n",
              "    </tr>\n",
              "    <tr>\n",
              "      <th>110653</th>\n",
              "      <td>science</td>\n",
              "      <td>Psychedelic drugs can help relieve the symptom...</td>\n",
              "    </tr>\n",
              "    <tr>\n",
              "      <th>110654</th>\n",
              "      <td>science</td>\n",
              "      <td>You Are Shaped by the Genes You Inherit And Ma...</td>\n",
              "    </tr>\n",
              "    <tr>\n",
              "      <th>110655</th>\n",
              "      <td>science</td>\n",
              "      <td>How to Make Gradient Background in Pixellab 20...</td>\n",
              "    </tr>\n",
              "  </tbody>\n",
              "</table>\n",
              "</div>"
            ],
            "text/plain": [
              "       subreddit                                               body\n",
              "110651   science  Study finds robust sex differences in children...\n",
              "110652   science  Scan technique reveals secret writing in mummy...\n",
              "110653   science  Psychedelic drugs can help relieve the symptom...\n",
              "110654   science  You Are Shaped by the Genes You Inherit And Ma...\n",
              "110655   science  How to Make Gradient Background in Pixellab 20..."
            ]
          },
          "metadata": {
            "tags": []
          },
          "execution_count": 39
        }
      ]
    },
    {
      "cell_type": "markdown",
      "metadata": {
        "id": "PR4_Zmk6qpif",
        "colab_type": "text"
      },
      "source": [
        "### Posts -  Data Cleaning"
      ]
    },
    {
      "cell_type": "markdown",
      "metadata": {
        "id": "-pb1eEkqgxwL",
        "colab_type": "text"
      },
      "source": [
        "Cleaning `body` column with the function implemented `clean_text_df`"
      ]
    },
    {
      "cell_type": "code",
      "metadata": {
        "id": "Avvb2CN5gza7",
        "colab_type": "code",
        "colab": {}
      },
      "source": [
        "clean_text_df(df_posts_corpus,'body')"
      ],
      "execution_count": 0,
      "outputs": []
    },
    {
      "cell_type": "code",
      "metadata": {
        "id": "ajPmB994g_bx",
        "colab_type": "code",
        "colab": {
          "base_uri": "https://localhost:8080/",
          "height": 204
        },
        "outputId": "3ee109f8-f474-4ceb-fc21-1e641412b571"
      },
      "source": [
        "df_posts_corpus.head()"
      ],
      "execution_count": 38,
      "outputs": [
        {
          "output_type": "execute_result",
          "data": {
            "text/html": [
              "<div>\n",
              "<style scoped>\n",
              "    .dataframe tbody tr th:only-of-type {\n",
              "        vertical-align: middle;\n",
              "    }\n",
              "\n",
              "    .dataframe tbody tr th {\n",
              "        vertical-align: top;\n",
              "    }\n",
              "\n",
              "    .dataframe thead th {\n",
              "        text-align: right;\n",
              "    }\n",
              "</style>\n",
              "<table border=\"1\" class=\"dataframe\">\n",
              "  <thead>\n",
              "    <tr style=\"text-align: right;\">\n",
              "      <th></th>\n",
              "      <th>subreddit</th>\n",
              "      <th>body</th>\n",
              "    </tr>\n",
              "  </thead>\n",
              "  <tbody>\n",
              "    <tr>\n",
              "      <th>0</th>\n",
              "      <td>funny</td>\n",
              "      <td>Say Alpha Kenny One fast Now realise you need ...</td>\n",
              "    </tr>\n",
              "    <tr>\n",
              "      <th>1</th>\n",
              "      <td>funny</td>\n",
              "      <td>Mary Poppins sequels Disney has announced the ...</td>\n",
              "    </tr>\n",
              "    <tr>\n",
              "      <th>2</th>\n",
              "      <td>funny</td>\n",
              "      <td>Catbombing my ex girlfriend in the shower Few ...</td>\n",
              "    </tr>\n",
              "    <tr>\n",
              "      <th>3</th>\n",
              "      <td>funny</td>\n",
              "      <td>Christmas poetry I saw a lady Santa Clause a s...</td>\n",
              "    </tr>\n",
              "    <tr>\n",
              "      <th>4</th>\n",
              "      <td>funny</td>\n",
              "      <td>True story My brother resembles Santa Claus  H...</td>\n",
              "    </tr>\n",
              "  </tbody>\n",
              "</table>\n",
              "</div>"
            ],
            "text/plain": [
              "  subreddit                                               body\n",
              "0     funny  Say Alpha Kenny One fast Now realise you need ...\n",
              "1     funny  Mary Poppins sequels Disney has announced the ...\n",
              "2     funny  Catbombing my ex girlfriend in the shower Few ...\n",
              "3     funny  Christmas poetry I saw a lady Santa Clause a s...\n",
              "4     funny  True story My brother resembles Santa Claus  H..."
            ]
          },
          "metadata": {
            "tags": []
          },
          "execution_count": 38
        }
      ]
    },
    {
      "cell_type": "markdown",
      "metadata": {
        "id": "yK81q-mImysQ",
        "colab_type": "text"
      },
      "source": [
        "## New global ds \"comments_posts_clear\""
      ]
    },
    {
      "cell_type": "markdown",
      "metadata": {
        "id": "Gpe1c3FYnX_Z",
        "colab_type": "text"
      },
      "source": [
        "Unification of the two datasets.\n",
        "\n",
        "Remembering the shape of comments and posts, I can check if the final df has been correctly created like a sum of them."
      ]
    },
    {
      "cell_type": "code",
      "metadata": {
        "id": "OLJIMIeVne18",
        "colab_type": "code",
        "colab": {
          "base_uri": "https://localhost:8080/",
          "height": 34
        },
        "outputId": "6ac6f091-026d-4527-fb54-5155aab617fc"
      },
      "source": [
        "df_comments.shape"
      ],
      "execution_count": 40,
      "outputs": [
        {
          "output_type": "execute_result",
          "data": {
            "text/plain": [
              "(10754982, 2)"
            ]
          },
          "metadata": {
            "tags": []
          },
          "execution_count": 40
        }
      ]
    },
    {
      "cell_type": "code",
      "metadata": {
        "id": "ojDqgoeLnudD",
        "colab_type": "code",
        "colab": {
          "base_uri": "https://localhost:8080/",
          "height": 34
        },
        "outputId": "9449371d-a8c5-4960-8484-256a0f1a6a66"
      },
      "source": [
        "df_posts_corpus.shape"
      ],
      "execution_count": 41,
      "outputs": [
        {
          "output_type": "execute_result",
          "data": {
            "text/plain": [
              "(110656, 2)"
            ]
          },
          "metadata": {
            "tags": []
          },
          "execution_count": 41
        }
      ]
    },
    {
      "cell_type": "code",
      "metadata": {
        "id": "01_9oAuHnuog",
        "colab_type": "code",
        "colab": {}
      },
      "source": [
        "df_comments_posts = pd.concat([df_comments, df_posts_corpus], axis=0, ignore_index=True)"
      ],
      "execution_count": 0,
      "outputs": []
    },
    {
      "cell_type": "code",
      "metadata": {
        "id": "Ay0kRyUynuxW",
        "colab_type": "code",
        "colab": {
          "base_uri": "https://localhost:8080/",
          "height": 34
        },
        "outputId": "565fe288-adeb-4657-be63-a21003565f44"
      },
      "source": [
        "df_comments_posts.shape #the sum confirm that the ds are now joint in one only"
      ],
      "execution_count": 43,
      "outputs": [
        {
          "output_type": "execute_result",
          "data": {
            "text/plain": [
              "(10865638, 2)"
            ]
          },
          "metadata": {
            "tags": []
          },
          "execution_count": 43
        }
      ]
    },
    {
      "cell_type": "code",
      "metadata": {
        "id": "4l1yHZASJiae",
        "colab_type": "code",
        "colab": {
          "base_uri": "https://localhost:8080/",
          "height": 173
        },
        "outputId": "a6546d16-dfeb-4358-c326-42d8a7d60f99"
      },
      "source": [
        "df_comments_posts.describe() # and the number of my subreddit didn't changed"
      ],
      "execution_count": 44,
      "outputs": [
        {
          "output_type": "execute_result",
          "data": {
            "text/html": [
              "<div>\n",
              "<style scoped>\n",
              "    .dataframe tbody tr th:only-of-type {\n",
              "        vertical-align: middle;\n",
              "    }\n",
              "\n",
              "    .dataframe tbody tr th {\n",
              "        vertical-align: top;\n",
              "    }\n",
              "\n",
              "    .dataframe thead th {\n",
              "        text-align: right;\n",
              "    }\n",
              "</style>\n",
              "<table border=\"1\" class=\"dataframe\">\n",
              "  <thead>\n",
              "    <tr style=\"text-align: right;\">\n",
              "      <th></th>\n",
              "      <th>subreddit</th>\n",
              "      <th>body</th>\n",
              "    </tr>\n",
              "  </thead>\n",
              "  <tbody>\n",
              "    <tr>\n",
              "      <th>count</th>\n",
              "      <td>10865638</td>\n",
              "      <td>10865638</td>\n",
              "    </tr>\n",
              "    <tr>\n",
              "      <th>unique</th>\n",
              "      <td>14</td>\n",
              "      <td>10365300</td>\n",
              "    </tr>\n",
              "    <tr>\n",
              "      <th>top</th>\n",
              "      <td>IAmA</td>\n",
              "      <td></td>\n",
              "    </tr>\n",
              "    <tr>\n",
              "      <th>freq</th>\n",
              "      <td>776117</td>\n",
              "      <td>32182</td>\n",
              "    </tr>\n",
              "  </tbody>\n",
              "</table>\n",
              "</div>"
            ],
            "text/plain": [
              "       subreddit      body\n",
              "count   10865638  10865638\n",
              "unique        14  10365300\n",
              "top         IAmA          \n",
              "freq      776117     32182"
            ]
          },
          "metadata": {
            "tags": []
          },
          "execution_count": 44
        }
      ]
    },
    {
      "cell_type": "code",
      "metadata": {
        "id": "7jtx0xgSnu7G",
        "colab_type": "code",
        "colab": {
          "base_uri": "https://localhost:8080/",
          "height": 669
        },
        "outputId": "8bc0ccc9-a572-499b-b2f6-d542bdeb5404"
      },
      "source": [
        "df_comments_posts.head(20)"
      ],
      "execution_count": 45,
      "outputs": [
        {
          "output_type": "execute_result",
          "data": {
            "text/html": [
              "<div>\n",
              "<style scoped>\n",
              "    .dataframe tbody tr th:only-of-type {\n",
              "        vertical-align: middle;\n",
              "    }\n",
              "\n",
              "    .dataframe tbody tr th {\n",
              "        vertical-align: top;\n",
              "    }\n",
              "\n",
              "    .dataframe thead th {\n",
              "        text-align: right;\n",
              "    }\n",
              "</style>\n",
              "<table border=\"1\" class=\"dataframe\">\n",
              "  <thead>\n",
              "    <tr style=\"text-align: right;\">\n",
              "      <th></th>\n",
              "      <th>subreddit</th>\n",
              "      <th>body</th>\n",
              "    </tr>\n",
              "  </thead>\n",
              "  <tbody>\n",
              "    <tr>\n",
              "      <th>0</th>\n",
              "      <td>aww</td>\n",
              "      <td>Dont teach him Bite</td>\n",
              "    </tr>\n",
              "    <tr>\n",
              "      <th>1</th>\n",
              "      <td>aww</td>\n",
              "      <td>Shes adorable</td>\n",
              "    </tr>\n",
              "    <tr>\n",
              "      <th>2</th>\n",
              "      <td>aww</td>\n",
              "      <td>What an adorable little poser lol</td>\n",
              "    </tr>\n",
              "    <tr>\n",
              "      <th>3</th>\n",
              "      <td>aww</td>\n",
              "      <td>Hey beautiful come on over here Wink wink Such...</td>\n",
              "    </tr>\n",
              "    <tr>\n",
              "      <th>4</th>\n",
              "      <td>aww</td>\n",
              "      <td>Although I do agree that the news should be br...</td>\n",
              "    </tr>\n",
              "    <tr>\n",
              "      <th>5</th>\n",
              "      <td>aww</td>\n",
              "      <td>Right after sloth enters and want to participate</td>\n",
              "    </tr>\n",
              "    <tr>\n",
              "      <th>6</th>\n",
              "      <td>aww</td>\n",
              "      <td>What a sweet smile</td>\n",
              "    </tr>\n",
              "    <tr>\n",
              "      <th>7</th>\n",
              "      <td>aww</td>\n",
              "      <td>He looks like chiken from kfc lol</td>\n",
              "    </tr>\n",
              "    <tr>\n",
              "      <th>8</th>\n",
              "      <td>aww</td>\n",
              "      <td>This is why i cant have pets i get too sad whe...</td>\n",
              "    </tr>\n",
              "    <tr>\n",
              "      <th>9</th>\n",
              "      <td>aww</td>\n",
              "      <td>I dont think I like it</td>\n",
              "    </tr>\n",
              "    <tr>\n",
              "      <th>10</th>\n",
              "      <td>aww</td>\n",
              "      <td>Holy shit I almost wet my pants</td>\n",
              "    </tr>\n",
              "    <tr>\n",
              "      <th>11</th>\n",
              "      <td>aww</td>\n",
              "      <td>No Syrian hamsters are solitary and need to be...</td>\n",
              "    </tr>\n",
              "    <tr>\n",
              "      <th>12</th>\n",
              "      <td>aww</td>\n",
              "      <td>Step one You scratch a hole in a box</td>\n",
              "    </tr>\n",
              "    <tr>\n",
              "      <th>13</th>\n",
              "      <td>aww</td>\n",
              "      <td>I want a husky</td>\n",
              "    </tr>\n",
              "    <tr>\n",
              "      <th>14</th>\n",
              "      <td>aww</td>\n",
              "      <td>hes a free doggo now running with the wind and...</td>\n",
              "    </tr>\n",
              "    <tr>\n",
              "      <th>15</th>\n",
              "      <td>aww</td>\n",
              "      <td>None so far</td>\n",
              "    </tr>\n",
              "    <tr>\n",
              "      <th>16</th>\n",
              "      <td>aww</td>\n",
              "      <td>The nurse at the vet did it thank goodness I c...</td>\n",
              "    </tr>\n",
              "    <tr>\n",
              "      <th>17</th>\n",
              "      <td>aww</td>\n",
              "      <td>QUICKLY HIDE THE GAY FROGS</td>\n",
              "    </tr>\n",
              "    <tr>\n",
              "      <th>18</th>\n",
              "      <td>aww</td>\n",
              "      <td>No its a big room</td>\n",
              "    </tr>\n",
              "    <tr>\n",
              "      <th>19</th>\n",
              "      <td>aww</td>\n",
              "      <td>Played in reverse folks get dem potchforks</td>\n",
              "    </tr>\n",
              "  </tbody>\n",
              "</table>\n",
              "</div>"
            ],
            "text/plain": [
              "   subreddit                                               body\n",
              "0        aww                                Dont teach him Bite\n",
              "1        aww                                      Shes adorable\n",
              "2        aww                 What an adorable little poser lol \n",
              "3        aww  Hey beautiful come on over here Wink wink Such...\n",
              "4        aww  Although I do agree that the news should be br...\n",
              "5        aww   Right after sloth enters and want to participate\n",
              "6        aww                                 What a sweet smile\n",
              "7        aww                  He looks like chiken from kfc lol\n",
              "8        aww  This is why i cant have pets i get too sad whe...\n",
              "9        aww                            I dont think I like it \n",
              "10       aww                    Holy shit I almost wet my pants\n",
              "11       aww  No Syrian hamsters are solitary and need to be...\n",
              "12       aww               Step one You scratch a hole in a box\n",
              "13       aww                                    I want a husky \n",
              "14       aww  hes a free doggo now running with the wind and...\n",
              "15       aww                                        None so far\n",
              "16       aww  The nurse at the vet did it thank goodness I c...\n",
              "17       aww                         QUICKLY HIDE THE GAY FROGS\n",
              "18       aww                                  No its a big room\n",
              "19       aww         Played in reverse folks get dem potchforks"
            ]
          },
          "metadata": {
            "tags": []
          },
          "execution_count": 45
        }
      ]
    },
    {
      "cell_type": "code",
      "metadata": {
        "id": "-4mA8mEzJX95",
        "colab_type": "code",
        "colab": {
          "base_uri": "https://localhost:8080/",
          "height": 669
        },
        "outputId": "3d72220c-7957-4c24-ba54-93d009a14e20"
      },
      "source": [
        "df_comments_posts.tail(20)"
      ],
      "execution_count": 46,
      "outputs": [
        {
          "output_type": "execute_result",
          "data": {
            "text/html": [
              "<div>\n",
              "<style scoped>\n",
              "    .dataframe tbody tr th:only-of-type {\n",
              "        vertical-align: middle;\n",
              "    }\n",
              "\n",
              "    .dataframe tbody tr th {\n",
              "        vertical-align: top;\n",
              "    }\n",
              "\n",
              "    .dataframe thead th {\n",
              "        text-align: right;\n",
              "    }\n",
              "</style>\n",
              "<table border=\"1\" class=\"dataframe\">\n",
              "  <thead>\n",
              "    <tr style=\"text-align: right;\">\n",
              "      <th></th>\n",
              "      <th>subreddit</th>\n",
              "      <th>body</th>\n",
              "    </tr>\n",
              "  </thead>\n",
              "  <tbody>\n",
              "    <tr>\n",
              "      <th>10865618</th>\n",
              "      <td>science</td>\n",
              "      <td>The Evolution of Mans Face Over The Course Of ...</td>\n",
              "    </tr>\n",
              "    <tr>\n",
              "      <th>10865619</th>\n",
              "      <td>science</td>\n",
              "      <td>Nanofabricator would change everything deleted</td>\n",
              "    </tr>\n",
              "    <tr>\n",
              "      <th>10865620</th>\n",
              "      <td>science</td>\n",
              "      <td>Obscure Vomiting Illness Linked to LongTerm Po...</td>\n",
              "    </tr>\n",
              "    <tr>\n",
              "      <th>10865621</th>\n",
              "      <td>science</td>\n",
              "      <td>The Dark Side of LED Lightbulbs deleted</td>\n",
              "    </tr>\n",
              "    <tr>\n",
              "      <th>10865622</th>\n",
              "      <td>science</td>\n",
              "      <td>Skywatchers see super blue blood Moon deleted</td>\n",
              "    </tr>\n",
              "    <tr>\n",
              "      <th>10865623</th>\n",
              "      <td>science</td>\n",
              "      <td>Obese fat becomes inflamed and scarred which m...</td>\n",
              "    </tr>\n",
              "    <tr>\n",
              "      <th>10865624</th>\n",
              "      <td>science</td>\n",
              "      <td>The Neuroscience of Proactive vs HyperReactive...</td>\n",
              "    </tr>\n",
              "    <tr>\n",
              "      <th>10865625</th>\n",
              "      <td>science</td>\n",
              "      <td>74 Things That Blew Our Minds in 2017 deleted</td>\n",
              "    </tr>\n",
              "    <tr>\n",
              "      <th>10865626</th>\n",
              "      <td>science</td>\n",
              "      <td>New Oxford University research has revealed th...</td>\n",
              "    </tr>\n",
              "    <tr>\n",
              "      <th>10865627</th>\n",
              "      <td>science</td>\n",
              "      <td>Fourdimensional physics in two dimensions deleted</td>\n",
              "    </tr>\n",
              "    <tr>\n",
              "      <th>10865628</th>\n",
              "      <td>science</td>\n",
              "      <td>Do cyclists make better drivers Associations b...</td>\n",
              "    </tr>\n",
              "    <tr>\n",
              "      <th>10865629</th>\n",
              "      <td>science</td>\n",
              "      <td>Ancient DNA results end 4000yearold Egyptian m...</td>\n",
              "    </tr>\n",
              "    <tr>\n",
              "      <th>10865630</th>\n",
              "      <td>science</td>\n",
              "      <td>Genie a girl never spoken to and beaten if she...</td>\n",
              "    </tr>\n",
              "    <tr>\n",
              "      <th>10865631</th>\n",
              "      <td>science</td>\n",
              "      <td>Your smartphone is making you stupid antisocia...</td>\n",
              "    </tr>\n",
              "    <tr>\n",
              "      <th>10865632</th>\n",
              "      <td>science</td>\n",
              "      <td>Bad weather affects US voter turnout and elect...</td>\n",
              "    </tr>\n",
              "    <tr>\n",
              "      <th>10865633</th>\n",
              "      <td>science</td>\n",
              "      <td>Study finds robust sex differences in children...</td>\n",
              "    </tr>\n",
              "    <tr>\n",
              "      <th>10865634</th>\n",
              "      <td>science</td>\n",
              "      <td>Scan technique reveals secret writing in mummy...</td>\n",
              "    </tr>\n",
              "    <tr>\n",
              "      <th>10865635</th>\n",
              "      <td>science</td>\n",
              "      <td>Psychedelic drugs can help relieve the symptom...</td>\n",
              "    </tr>\n",
              "    <tr>\n",
              "      <th>10865636</th>\n",
              "      <td>science</td>\n",
              "      <td>You Are Shaped by the Genes You Inherit And Ma...</td>\n",
              "    </tr>\n",
              "    <tr>\n",
              "      <th>10865637</th>\n",
              "      <td>science</td>\n",
              "      <td>How to Make Gradient Background in Pixellab 20...</td>\n",
              "    </tr>\n",
              "  </tbody>\n",
              "</table>\n",
              "</div>"
            ],
            "text/plain": [
              "         subreddit                                               body\n",
              "10865618   science  The Evolution of Mans Face Over The Course Of ...\n",
              "10865619   science     Nanofabricator would change everything deleted\n",
              "10865620   science  Obscure Vomiting Illness Linked to LongTerm Po...\n",
              "10865621   science            The Dark Side of LED Lightbulbs deleted\n",
              "10865622   science      Skywatchers see super blue blood Moon deleted\n",
              "10865623   science  Obese fat becomes inflamed and scarred which m...\n",
              "10865624   science  The Neuroscience of Proactive vs HyperReactive...\n",
              "10865625   science      74 Things That Blew Our Minds in 2017 deleted\n",
              "10865626   science  New Oxford University research has revealed th...\n",
              "10865627   science  Fourdimensional physics in two dimensions deleted\n",
              "10865628   science  Do cyclists make better drivers Associations b...\n",
              "10865629   science  Ancient DNA results end 4000yearold Egyptian m...\n",
              "10865630   science  Genie a girl never spoken to and beaten if she...\n",
              "10865631   science  Your smartphone is making you stupid antisocia...\n",
              "10865632   science  Bad weather affects US voter turnout and elect...\n",
              "10865633   science  Study finds robust sex differences in children...\n",
              "10865634   science  Scan technique reveals secret writing in mummy...\n",
              "10865635   science  Psychedelic drugs can help relieve the symptom...\n",
              "10865636   science  You Are Shaped by the Genes You Inherit And Ma...\n",
              "10865637   science  How to Make Gradient Background in Pixellab 20..."
            ]
          },
          "metadata": {
            "tags": []
          },
          "execution_count": 46
        }
      ]
    },
    {
      "cell_type": "markdown",
      "metadata": {
        "id": "xb_ux2tfw87-",
        "colab_type": "text"
      },
      "source": [
        "Now we \"freeze\" our dataset into a csv file using `to_csv`"
      ]
    },
    {
      "cell_type": "code",
      "metadata": {
        "id": "ltrmokp8w6iB",
        "colab_type": "code",
        "colab": {}
      },
      "source": [
        "from google.colab import files\n",
        "df_comments_posts.to_csv('comments_posts_2018.csv')"
      ],
      "execution_count": 0,
      "outputs": []
    },
    {
      "cell_type": "code",
      "metadata": {
        "id": "KB8Ix9aLMPSX",
        "colab_type": "code",
        "colab": {
          "base_uri": "https://localhost:8080/",
          "height": 136
        },
        "outputId": "b38e3d67-8e39-4b16-fc07-669c6d30a002"
      },
      "source": [
        "!ls"
      ],
      "execution_count": 48,
      "outputs": [
        {
          "output_type": "stream",
          "text": [
            "adc.json\t\t    comments_2018-000000000006\n",
            "comments_2018-000000000000  comments_2018-000000000007\n",
            "comments_2018-000000000001  comments_2018-000000000008\n",
            "comments_2018-000000000002  comments_2018-000000000009\n",
            "comments_2018-000000000003  comments_posts_2018.csv\n",
            "comments_2018-000000000004  posts_2018\n",
            "comments_2018-000000000005  sample_data\n"
          ],
          "name": "stdout"
        }
      ]
    },
    {
      "cell_type": "code",
      "metadata": {
        "id": "H7fQBofDy4gn",
        "colab_type": "code",
        "colab": {
          "base_uri": "https://localhost:8080/",
          "height": 34
        },
        "outputId": "4314884c-6c76-428b-c1d8-0eee92558faa"
      },
      "source": [
        "import os\n",
        "os.stat('comments_posts_2018.csv').st_size"
      ],
      "execution_count": 110,
      "outputs": [
        {
          "output_type": "execute_result",
          "data": {
            "text/plain": [
              "2160419359"
            ]
          },
          "metadata": {
            "tags": []
          },
          "execution_count": 110
        }
      ]
    },
    {
      "cell_type": "markdown",
      "metadata": {
        "id": "qfWkV8u0yC0y",
        "colab_type": "text"
      },
      "source": [
        "Finally we can upload it to my result's bucket"
      ]
    },
    {
      "cell_type": "code",
      "metadata": {
        "id": "yK2ncWe9azMt",
        "colab_type": "code",
        "colab": {
          "base_uri": "https://localhost:8080/",
          "height": 272
        },
        "outputId": "7bde948e-7ed5-4180-d5e2-63d1e8ddd071"
      },
      "source": [
        "!gsutil cp /content/comments_posts_2018.csv gs://reddit_final_results/"
      ],
      "execution_count": 127,
      "outputs": [
        {
          "output_type": "stream",
          "text": [
            "Copying file:///content/comments_posts_2018.csv [Content-Type=text/csv]...\n",
            "/ [0 files][    0.0 B/  2.0 GiB]                                                \r==> NOTE: You are uploading one or more large file(s), which would run\n",
            "significantly faster if you enable parallel composite uploads. This\n",
            "feature can be enabled by editing the\n",
            "\"parallel_composite_upload_threshold\" value in your .boto\n",
            "configuration file. However, note that if you do this large files will\n",
            "be uploaded as `composite objects\n",
            "<https://cloud.google.com/storage/docs/composite-objects>`_,which\n",
            "means that any user who downloads such objects will need to have a\n",
            "compiled crcmod installed (see \"gsutil help crcmod\"). This is because\n",
            "without a compiled crcmod, computing checksums on composite objects is\n",
            "so slow that gsutil disables downloads of composite objects.\n",
            "\n",
            "/\n",
            "Operation completed over 1 objects/2.0 GiB.                                      \n"
          ],
          "name": "stdout"
        }
      ]
    },
    {
      "cell_type": "markdown",
      "metadata": {
        "id": "tEUTdacab5qT",
        "colab_type": "text"
      },
      "source": [
        "Just in case I will need it, I updload also the zip file of `comments_posts_2018`"
      ]
    },
    {
      "cell_type": "code",
      "metadata": {
        "id": "XSO7mWFyPP3f",
        "colab_type": "code",
        "colab": {
          "base_uri": "https://localhost:8080/",
          "height": 34
        },
        "outputId": "4f7f569a-fc4e-4b95-f869-9f093814c39c"
      },
      "source": [
        "!zip /content/comments_posts_2018.zip /content/comments_posts_2018.csv"
      ],
      "execution_count": 119,
      "outputs": [
        {
          "output_type": "stream",
          "text": [
            "  adding: content/comments_posts_2018.csv (deflated 63%)\n"
          ],
          "name": "stdout"
        }
      ]
    },
    {
      "cell_type": "code",
      "metadata": {
        "id": "Eq43aWEvVFSw",
        "colab_type": "code",
        "colab": {
          "base_uri": "https://localhost:8080/",
          "height": 51
        },
        "outputId": "5db4af7c-43f8-46e5-ef59-1d17f70d6cb8"
      },
      "source": [
        "!du -ch /content/comments_posts_2018.zip"
      ],
      "execution_count": 122,
      "outputs": [
        {
          "output_type": "stream",
          "text": [
            "771M\t/content/comments_posts_2018.zip\n",
            "771M\ttotal\n"
          ],
          "name": "stdout"
        }
      ]
    },
    {
      "cell_type": "code",
      "metadata": {
        "id": "hnTgBE44x_hd",
        "colab_type": "code",
        "colab": {
          "base_uri": "https://localhost:8080/",
          "height": 272
        },
        "outputId": "7053f87e-af75-4ff3-9d17-dd3530cd3bfb"
      },
      "source": [
        "!gsutil cp /content/comments_posts_2018.zip gs://reddit_final_results/"
      ],
      "execution_count": 129,
      "outputs": [
        {
          "output_type": "stream",
          "text": [
            "Copying file:///content/comments_posts_2018.zip [Content-Type=application/zip]...\n",
            "/ [0 files][    0.0 B/770.6 MiB]                                                \r==> NOTE: You are uploading one or more large file(s), which would run\n",
            "significantly faster if you enable parallel composite uploads. This\n",
            "feature can be enabled by editing the\n",
            "\"parallel_composite_upload_threshold\" value in your .boto\n",
            "configuration file. However, note that if you do this large files will\n",
            "be uploaded as `composite objects\n",
            "<https://cloud.google.com/storage/docs/composite-objects>`_,which\n",
            "means that any user who downloads such objects will need to have a\n",
            "compiled crcmod installed (see \"gsutil help crcmod\"). This is because\n",
            "without a compiled crcmod, computing checksums on composite objects is\n",
            "so slow that gsutil disables downloads of composite objects.\n",
            "\n",
            "\\\n",
            "Operation completed over 1 objects/770.6 MiB.                                    \n"
          ],
          "name": "stdout"
        }
      ]
    },
    {
      "cell_type": "code",
      "metadata": {
        "id": "1j8zbaEdKWai",
        "colab_type": "code",
        "colab": {}
      },
      "source": [
        ""
      ],
      "execution_count": 0,
      "outputs": []
    }
  ]
}