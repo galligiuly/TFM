{
 "cells": [
  {
   "cell_type": "markdown",
   "metadata": {},
   "source": [
    "## Inspection of the compressing data filtered by score"
   ]
  },
  {
   "cell_type": "code",
   "execution_count": 1,
   "metadata": {},
   "outputs": [],
   "source": [
    "import pandas as pd\n",
    "import re\n",
    "import numpy as np"
   ]
  },
  {
   "cell_type": "markdown",
   "metadata": {},
   "source": [
    "The Data Sets are \n",
    "- reddit_comments_03_04_05_by_score.csv\n",
    "- reddit_posts_03_04_05_by_score.csv"
   ]
  },
  {
   "cell_type": "markdown",
   "metadata": {},
   "source": [
    "#### Pre filtering\n",
    "These DS are a sample originally limited to 10.000.000 raws, each file filtered by scores > 80.\n",
    "\n",
    "The samples are from March to May 2019 on each file and the data has been \"cleaned\":\n",
    "- no data with text \"deleted\"\n",
    "- no data with text \"removed\"\n",
    "- no data with text \"Removed by reddit in response to a copyright notice.\"\n",
    "- no NAN on selftext and body\n",
    "- empty data on selftext and body\n",
    "- excluded subreddit \"de\" because of the German lenguage"
   ]
  },
  {
   "cell_type": "code",
   "execution_count": 2,
   "metadata": {},
   "outputs": [],
   "source": [
    "comments = pd.read_csv('/Users/giuliagalli/Documents/GitHub/TFM/01_data/reddit_comments_03_04_05_by_score.csv.gz', compression='gzip', \n",
    "                                 header=0, sep=',', quotechar='\"')"
   ]
  },
  {
   "cell_type": "code",
   "execution_count": 3,
   "metadata": {},
   "outputs": [],
   "source": [
    "posts = pd.read_csv('/Users/giuliagalli/Documents/GitHub/TFM/01_data/reddit_posts_03_04_05_by_score.csv.gz', compression='gzip', \n",
    "                                 header=0, sep=',', quotechar='\"')"
   ]
  },
  {
   "cell_type": "markdown",
   "metadata": {},
   "source": [
    "### Data Overview"
   ]
  },
  {
   "cell_type": "code",
   "execution_count": 4,
   "metadata": {},
   "outputs": [
    {
     "data": {
      "text/plain": [
       "(4806645, 3)"
      ]
     },
     "execution_count": 4,
     "metadata": {},
     "output_type": "execute_result"
    }
   ],
   "source": [
    "comments.shape"
   ]
  },
  {
   "cell_type": "code",
   "execution_count": 5,
   "metadata": {},
   "outputs": [
    {
     "data": {
      "text/html": [
       "<div>\n",
       "<style scoped>\n",
       "    .dataframe tbody tr th:only-of-type {\n",
       "        vertical-align: middle;\n",
       "    }\n",
       "\n",
       "    .dataframe tbody tr th {\n",
       "        vertical-align: top;\n",
       "    }\n",
       "\n",
       "    .dataframe thead th {\n",
       "        text-align: right;\n",
       "    }\n",
       "</style>\n",
       "<table border=\"1\" class=\"dataframe\">\n",
       "  <thead>\n",
       "    <tr style=\"text-align: right;\">\n",
       "      <th></th>\n",
       "      <th>score</th>\n",
       "    </tr>\n",
       "  </thead>\n",
       "  <tbody>\n",
       "    <tr>\n",
       "      <th>count</th>\n",
       "      <td>4.806645e+06</td>\n",
       "    </tr>\n",
       "    <tr>\n",
       "      <th>mean</th>\n",
       "      <td>3.481102e+02</td>\n",
       "    </tr>\n",
       "    <tr>\n",
       "      <th>std</th>\n",
       "      <td>9.753767e+02</td>\n",
       "    </tr>\n",
       "    <tr>\n",
       "      <th>min</th>\n",
       "      <td>8.100000e+01</td>\n",
       "    </tr>\n",
       "    <tr>\n",
       "      <th>25%</th>\n",
       "      <td>1.040000e+02</td>\n",
       "    </tr>\n",
       "    <tr>\n",
       "      <th>50%</th>\n",
       "      <td>1.490000e+02</td>\n",
       "    </tr>\n",
       "    <tr>\n",
       "      <th>75%</th>\n",
       "      <td>2.730000e+02</td>\n",
       "    </tr>\n",
       "    <tr>\n",
       "      <th>max</th>\n",
       "      <td>7.356000e+04</td>\n",
       "    </tr>\n",
       "  </tbody>\n",
       "</table>\n",
       "</div>"
      ],
      "text/plain": [
       "              score\n",
       "count  4.806645e+06\n",
       "mean   3.481102e+02\n",
       "std    9.753767e+02\n",
       "min    8.100000e+01\n",
       "25%    1.040000e+02\n",
       "50%    1.490000e+02\n",
       "75%    2.730000e+02\n",
       "max    7.356000e+04"
      ]
     },
     "execution_count": 5,
     "metadata": {},
     "output_type": "execute_result"
    }
   ],
   "source": [
    "comments.describe()"
   ]
  },
  {
   "cell_type": "code",
   "execution_count": 6,
   "metadata": {},
   "outputs": [
    {
     "data": {
      "text/plain": [
       "(293104, 4)"
      ]
     },
     "execution_count": 6,
     "metadata": {},
     "output_type": "execute_result"
    }
   ],
   "source": [
    "posts.shape"
   ]
  },
  {
   "cell_type": "code",
   "execution_count": 7,
   "metadata": {},
   "outputs": [
    {
     "data": {
      "text/html": [
       "<div>\n",
       "<style scoped>\n",
       "    .dataframe tbody tr th:only-of-type {\n",
       "        vertical-align: middle;\n",
       "    }\n",
       "\n",
       "    .dataframe tbody tr th {\n",
       "        vertical-align: top;\n",
       "    }\n",
       "\n",
       "    .dataframe thead th {\n",
       "        text-align: right;\n",
       "    }\n",
       "</style>\n",
       "<table border=\"1\" class=\"dataframe\">\n",
       "  <thead>\n",
       "    <tr style=\"text-align: right;\">\n",
       "      <th></th>\n",
       "      <th>score</th>\n",
       "    </tr>\n",
       "  </thead>\n",
       "  <tbody>\n",
       "    <tr>\n",
       "      <th>count</th>\n",
       "      <td>293104.00000</td>\n",
       "    </tr>\n",
       "    <tr>\n",
       "      <th>mean</th>\n",
       "      <td>575.17878</td>\n",
       "    </tr>\n",
       "    <tr>\n",
       "      <th>std</th>\n",
       "      <td>2156.38949</td>\n",
       "    </tr>\n",
       "    <tr>\n",
       "      <th>min</th>\n",
       "      <td>81.00000</td>\n",
       "    </tr>\n",
       "    <tr>\n",
       "      <th>25%</th>\n",
       "      <td>109.00000</td>\n",
       "    </tr>\n",
       "    <tr>\n",
       "      <th>50%</th>\n",
       "      <td>168.00000</td>\n",
       "    </tr>\n",
       "    <tr>\n",
       "      <th>75%</th>\n",
       "      <td>350.00000</td>\n",
       "    </tr>\n",
       "    <tr>\n",
       "      <th>max</th>\n",
       "      <td>133101.00000</td>\n",
       "    </tr>\n",
       "  </tbody>\n",
       "</table>\n",
       "</div>"
      ],
      "text/plain": [
       "              score\n",
       "count  293104.00000\n",
       "mean      575.17878\n",
       "std      2156.38949\n",
       "min        81.00000\n",
       "25%       109.00000\n",
       "50%       168.00000\n",
       "75%       350.00000\n",
       "max    133101.00000"
      ]
     },
     "execution_count": 7,
     "metadata": {},
     "output_type": "execute_result"
    }
   ],
   "source": [
    "posts.describe()"
   ]
  },
  {
   "cell_type": "markdown",
   "metadata": {},
   "source": [
    "Let's take a look to our data"
   ]
  },
  {
   "cell_type": "code",
   "execution_count": 8,
   "metadata": {},
   "outputs": [
    {
     "data": {
      "text/html": [
       "<div>\n",
       "<style scoped>\n",
       "    .dataframe tbody tr th:only-of-type {\n",
       "        vertical-align: middle;\n",
       "    }\n",
       "\n",
       "    .dataframe tbody tr th {\n",
       "        vertical-align: top;\n",
       "    }\n",
       "\n",
       "    .dataframe thead th {\n",
       "        text-align: right;\n",
       "    }\n",
       "</style>\n",
       "<table border=\"1\" class=\"dataframe\">\n",
       "  <thead>\n",
       "    <tr style=\"text-align: right;\">\n",
       "      <th></th>\n",
       "      <th>score</th>\n",
       "      <th>subreddit</th>\n",
       "      <th>body</th>\n",
       "    </tr>\n",
       "  </thead>\n",
       "  <tbody>\n",
       "    <tr>\n",
       "      <th>0</th>\n",
       "      <td>125</td>\n",
       "      <td>CCW</td>\n",
       "      <td>Everyone in Brazil is an off duty cop.</td>\n",
       "    </tr>\n",
       "    <tr>\n",
       "      <th>1</th>\n",
       "      <td>147</td>\n",
       "      <td>leagueoflegends</td>\n",
       "      <td>Same with huhi, wtf</td>\n",
       "    </tr>\n",
       "    <tr>\n",
       "      <th>2</th>\n",
       "      <td>149</td>\n",
       "      <td>BlackPeopleTwitter</td>\n",
       "      <td>I’d try it. \\n\\nLooks like a commitment tho......</td>\n",
       "    </tr>\n",
       "    <tr>\n",
       "      <th>3</th>\n",
       "      <td>264</td>\n",
       "      <td>instantkarma</td>\n",
       "      <td>I mean he was kicking the glass hard enough it...</td>\n",
       "    </tr>\n",
       "    <tr>\n",
       "      <th>4</th>\n",
       "      <td>307</td>\n",
       "      <td>ffxiv</td>\n",
       "      <td>That female Ronso. Everyone is all up in arms ...</td>\n",
       "    </tr>\n",
       "    <tr>\n",
       "      <th>5</th>\n",
       "      <td>84</td>\n",
       "      <td>DnD</td>\n",
       "      <td>* DM improvises an ad hoc reason why the party...</td>\n",
       "    </tr>\n",
       "    <tr>\n",
       "      <th>6</th>\n",
       "      <td>129</td>\n",
       "      <td>collegehockey</td>\n",
       "      <td>According to all known laws of aviation, there...</td>\n",
       "    </tr>\n",
       "    <tr>\n",
       "      <th>7</th>\n",
       "      <td>216</td>\n",
       "      <td>todayilearned</td>\n",
       "      <td>Not to brag but I have multiple airs in my wal...</td>\n",
       "    </tr>\n",
       "    <tr>\n",
       "      <th>8</th>\n",
       "      <td>467</td>\n",
       "      <td>aww</td>\n",
       "      <td>i'm Timmy the cat, n so lucky i be\\n\\nmy guy t...</td>\n",
       "    </tr>\n",
       "    <tr>\n",
       "      <th>9</th>\n",
       "      <td>168</td>\n",
       "      <td>Animemes</td>\n",
       "      <td>tbh imho its just the biggest one line meme/in...</td>\n",
       "    </tr>\n",
       "  </tbody>\n",
       "</table>\n",
       "</div>"
      ],
      "text/plain": [
       "   score           subreddit  \\\n",
       "0    125                 CCW   \n",
       "1    147     leagueoflegends   \n",
       "2    149  BlackPeopleTwitter   \n",
       "3    264        instantkarma   \n",
       "4    307               ffxiv   \n",
       "5     84                 DnD   \n",
       "6    129       collegehockey   \n",
       "7    216       todayilearned   \n",
       "8    467                 aww   \n",
       "9    168            Animemes   \n",
       "\n",
       "                                                body  \n",
       "0            Everyone in Brazil is an off duty cop.   \n",
       "1                                Same with huhi, wtf  \n",
       "2  I’d try it. \\n\\nLooks like a commitment tho......  \n",
       "3  I mean he was kicking the glass hard enough it...  \n",
       "4  That female Ronso. Everyone is all up in arms ...  \n",
       "5  * DM improvises an ad hoc reason why the party...  \n",
       "6  According to all known laws of aviation, there...  \n",
       "7  Not to brag but I have multiple airs in my wal...  \n",
       "8  i'm Timmy the cat, n so lucky i be\\n\\nmy guy t...  \n",
       "9  tbh imho its just the biggest one line meme/in...  "
      ]
     },
     "execution_count": 8,
     "metadata": {},
     "output_type": "execute_result"
    }
   ],
   "source": [
    "comments.head(10)"
   ]
  },
  {
   "cell_type": "code",
   "execution_count": 9,
   "metadata": {},
   "outputs": [
    {
     "data": {
      "text/html": [
       "<div>\n",
       "<style scoped>\n",
       "    .dataframe tbody tr th:only-of-type {\n",
       "        vertical-align: middle;\n",
       "    }\n",
       "\n",
       "    .dataframe tbody tr th {\n",
       "        vertical-align: top;\n",
       "    }\n",
       "\n",
       "    .dataframe thead th {\n",
       "        text-align: right;\n",
       "    }\n",
       "</style>\n",
       "<table border=\"1\" class=\"dataframe\">\n",
       "  <thead>\n",
       "    <tr style=\"text-align: right;\">\n",
       "      <th></th>\n",
       "      <th>score</th>\n",
       "      <th>subreddit</th>\n",
       "      <th>title</th>\n",
       "      <th>selftext</th>\n",
       "    </tr>\n",
       "  </thead>\n",
       "  <tbody>\n",
       "    <tr>\n",
       "      <th>0</th>\n",
       "      <td>186</td>\n",
       "      <td>3d6</td>\n",
       "      <td>[5e] Almost 40 AC as a Wizard</td>\n",
       "      <td>Hello everyone, and what I said in the title i...</td>\n",
       "    </tr>\n",
       "    <tr>\n",
       "      <th>1</th>\n",
       "      <td>204</td>\n",
       "      <td>ACT</td>\n",
       "      <td>Adversity Scores</td>\n",
       "      <td>I'm going to be switching to the ACT now, caus...</td>\n",
       "    </tr>\n",
       "    <tr>\n",
       "      <th>2</th>\n",
       "      <td>114</td>\n",
       "      <td>AFL</td>\n",
       "      <td>David Mundy: A star</td>\n",
       "      <td>If Mundy played for any Melbourne based club, ...</td>\n",
       "    </tr>\n",
       "    <tr>\n",
       "      <th>3</th>\n",
       "      <td>109</td>\n",
       "      <td>AJR</td>\n",
       "      <td>Indeed there was a song missing...</td>\n",
       "      <td>I skipped \"Beats\" by accident when I made my p...</td>\n",
       "    </tr>\n",
       "    <tr>\n",
       "      <th>4</th>\n",
       "      <td>241</td>\n",
       "      <td>AMA</td>\n",
       "      <td>I spent 5.5 years on a PhD, and then quit. AMA</td>\n",
       "      <td>I was in a PhD program for 5.5 years.  Got 4.0...</td>\n",
       "    </tr>\n",
       "    <tr>\n",
       "      <th>5</th>\n",
       "      <td>435</td>\n",
       "      <td>AMA</td>\n",
       "      <td>I’m an overweight 21 year old who just started...</td>\n",
       "      <td>Will answer questions after I get off work ton...</td>\n",
       "    </tr>\n",
       "    <tr>\n",
       "      <th>6</th>\n",
       "      <td>145</td>\n",
       "      <td>Amd</td>\n",
       "      <td>TheGoodOldGamer latests IPC video something se...</td>\n",
       "      <td>I was surprised to see TheGoodOldGamer latests...</td>\n",
       "    </tr>\n",
       "    <tr>\n",
       "      <th>7</th>\n",
       "      <td>177</td>\n",
       "      <td>BPD</td>\n",
       "      <td>The need to have ‘someone’.</td>\n",
       "      <td>I recently started using Tinder and other dati...</td>\n",
       "    </tr>\n",
       "    <tr>\n",
       "      <th>8</th>\n",
       "      <td>108</td>\n",
       "      <td>BPD</td>\n",
       "      <td>i just dissociated while driving.</td>\n",
       "      <td>i have plans with a friend in about 15 minutes...</td>\n",
       "    </tr>\n",
       "    <tr>\n",
       "      <th>9</th>\n",
       "      <td>149</td>\n",
       "      <td>CBD</td>\n",
       "      <td>Dog started seizing last night. Shoved a pipet...</td>\n",
       "      <td>I saw a video the other day of a dog getting d...</td>\n",
       "    </tr>\n",
       "  </tbody>\n",
       "</table>\n",
       "</div>"
      ],
      "text/plain": [
       "   score subreddit                                              title  \\\n",
       "0    186       3d6                      [5e] Almost 40 AC as a Wizard   \n",
       "1    204       ACT                                   Adversity Scores   \n",
       "2    114       AFL                                David Mundy: A star   \n",
       "3    109       AJR                 Indeed there was a song missing...   \n",
       "4    241       AMA     I spent 5.5 years on a PhD, and then quit. AMA   \n",
       "5    435       AMA  I’m an overweight 21 year old who just started...   \n",
       "6    145       Amd  TheGoodOldGamer latests IPC video something se...   \n",
       "7    177       BPD                        The need to have ‘someone’.   \n",
       "8    108       BPD                  i just dissociated while driving.   \n",
       "9    149       CBD  Dog started seizing last night. Shoved a pipet...   \n",
       "\n",
       "                                            selftext  \n",
       "0  Hello everyone, and what I said in the title i...  \n",
       "1  I'm going to be switching to the ACT now, caus...  \n",
       "2  If Mundy played for any Melbourne based club, ...  \n",
       "3  I skipped \"Beats\" by accident when I made my p...  \n",
       "4  I was in a PhD program for 5.5 years.  Got 4.0...  \n",
       "5  Will answer questions after I get off work ton...  \n",
       "6  I was surprised to see TheGoodOldGamer latests...  \n",
       "7  I recently started using Tinder and other dati...  \n",
       "8  i have plans with a friend in about 15 minutes...  \n",
       "9  I saw a video the other day of a dog getting d...  "
      ]
     },
     "execution_count": 9,
     "metadata": {},
     "output_type": "execute_result"
    }
   ],
   "source": [
    "posts.head(10)"
   ]
  },
  {
   "cell_type": "markdown",
   "metadata": {},
   "source": [
    "Check that there are not NaN values"
   ]
  },
  {
   "cell_type": "code",
   "execution_count": 10,
   "metadata": {},
   "outputs": [
    {
     "data": {
      "text/plain": [
       "score        0\n",
       "subreddit    0\n",
       "body         0\n",
       "dtype: int64"
      ]
     },
     "execution_count": 10,
     "metadata": {},
     "output_type": "execute_result"
    }
   ],
   "source": [
    "comments.isnull().sum()"
   ]
  },
  {
   "cell_type": "code",
   "execution_count": 11,
   "metadata": {},
   "outputs": [
    {
     "data": {
      "text/plain": [
       "score        0\n",
       "subreddit    0\n",
       "title        0\n",
       "selftext     0\n",
       "dtype: int64"
      ]
     },
     "execution_count": 11,
     "metadata": {},
     "output_type": "execute_result"
    }
   ],
   "source": [
    "posts.isnull().sum()"
   ]
  },
  {
   "cell_type": "markdown",
   "metadata": {},
   "source": [
    "Checking the largest text in our comments and posts"
   ]
  },
  {
   "cell_type": "code",
   "execution_count": 12,
   "metadata": {},
   "outputs": [
    {
     "data": {
      "text/plain": [
       "16140"
      ]
     },
     "execution_count": 12,
     "metadata": {},
     "output_type": "execute_result"
    }
   ],
   "source": [
    "comments.body.map(lambda x: len(x)).max()"
   ]
  },
  {
   "cell_type": "code",
   "execution_count": 13,
   "metadata": {},
   "outputs": [
    {
     "data": {
      "text/plain": [
       "318"
      ]
     },
     "execution_count": 13,
     "metadata": {},
     "output_type": "execute_result"
    }
   ],
   "source": [
    "posts.title.map(lambda x: len(x)).max()"
   ]
  },
  {
   "cell_type": "code",
   "execution_count": 14,
   "metadata": {},
   "outputs": [
    {
     "data": {
      "text/plain": [
       "43750"
      ]
     },
     "execution_count": 14,
     "metadata": {},
     "output_type": "execute_result"
    }
   ],
   "source": [
    "posts.selftext.map(lambda x: len(x)).max()"
   ]
  },
  {
   "cell_type": "markdown",
   "metadata": {},
   "source": [
    "### Data cleaning"
   ]
  },
  {
   "cell_type": "markdown",
   "metadata": {},
   "source": [
    "#### HTML"
   ]
  },
  {
   "cell_type": "markdown",
   "metadata": {},
   "source": [
    "As HTLM data does not add more informatio to our text, we clean it.\n",
    "Do to that, we define a function to clean data with regular expressions. \n",
    "\n",
    "http: matches literal characters\n",
    "\\S+: matches all non-whitespace characters (the end of the url)\n",
    "we replace with the empty string"
   ]
  },
  {
   "cell_type": "markdown",
   "metadata": {},
   "source": [
    "Removing __html__ text from comments"
   ]
  },
  {
   "cell_type": "code",
   "execution_count": 15,
   "metadata": {},
   "outputs": [],
   "source": [
    "def remove_html_tags(text):\n",
    "    clean = re.compile(r'http\\S+')\n",
    "    return re.sub(clean, '', str(text))"
   ]
  },
  {
   "cell_type": "code",
   "execution_count": 16,
   "metadata": {},
   "outputs": [],
   "source": [
    "comments['body'] = comments['body'].map(remove_html_tags)"
   ]
  },
  {
   "cell_type": "markdown",
   "metadata": {},
   "source": [
    "Removing __html__ text from posts"
   ]
  },
  {
   "cell_type": "code",
   "execution_count": 17,
   "metadata": {},
   "outputs": [],
   "source": [
    "posts['title'] = posts['title'].map(remove_html_tags)"
   ]
  },
  {
   "cell_type": "code",
   "execution_count": 18,
   "metadata": {},
   "outputs": [],
   "source": [
    "posts['selftext'] = posts['selftext'].map(remove_html_tags)"
   ]
  },
  {
   "cell_type": "markdown",
   "metadata": {},
   "source": [
    "#### Line endings"
   ]
  },
  {
   "cell_type": "markdown",
   "metadata": {},
   "source": [
    "Removing __\\n__ text from comments"
   ]
  },
  {
   "cell_type": "code",
   "execution_count": 19,
   "metadata": {},
   "outputs": [],
   "source": [
    "def remove_lineEndings (text):\n",
    "    clean = re.compile(r'\\n')\n",
    "    return re.sub(clean, '', str(text))"
   ]
  },
  {
   "cell_type": "code",
   "execution_count": 20,
   "metadata": {},
   "outputs": [],
   "source": [
    "comments['body'] = comments['body'].map(remove_lineEndings)"
   ]
  },
  {
   "cell_type": "markdown",
   "metadata": {},
   "source": [
    "Removing __\\n__ text from posts"
   ]
  },
  {
   "cell_type": "code",
   "execution_count": 21,
   "metadata": {},
   "outputs": [],
   "source": [
    "posts['title'] = posts['title'].map(remove_lineEndings)"
   ]
  },
  {
   "cell_type": "code",
   "execution_count": 22,
   "metadata": {},
   "outputs": [],
   "source": [
    "posts['selftext'] = posts['selftext'].map(remove_lineEndings)"
   ]
  },
  {
   "cell_type": "markdown",
   "metadata": {},
   "source": [
    "#### Digits/Punctuation/Symbols"
   ]
  },
  {
   "cell_type": "markdown",
   "metadata": {},
   "source": [
    "Even if significant information can be hidden in the appearance of the symbols, you’d like to get rid of them."
   ]
  },
  {
   "cell_type": "markdown",
   "metadata": {},
   "source": [
    "Removing __symbols__ text from comments"
   ]
  },
  {
   "cell_type": "code",
   "execution_count": 23,
   "metadata": {},
   "outputs": [],
   "source": [
    "def remove_symbols (text):\n",
    "    clean = re.compile(r'[^a-zA-Z0-9 r/]') #r/ is how to call a subreddit, I want keep it\n",
    "    return re.sub(clean, '', str(text))"
   ]
  },
  {
   "cell_type": "code",
   "execution_count": 24,
   "metadata": {},
   "outputs": [],
   "source": [
    "comments['body'] = comments['body'].map(remove_symbols)"
   ]
  },
  {
   "cell_type": "markdown",
   "metadata": {},
   "source": [
    "Removing __symbols__ text from posts"
   ]
  },
  {
   "cell_type": "code",
   "execution_count": 25,
   "metadata": {},
   "outputs": [],
   "source": [
    "posts['title'] = posts['title'].map(remove_symbols)"
   ]
  },
  {
   "cell_type": "code",
   "execution_count": 26,
   "metadata": {},
   "outputs": [],
   "source": [
    "posts['selftext'] = posts['selftext'].map(remove_symbols)"
   ]
  },
  {
   "cell_type": "markdown",
   "metadata": {},
   "source": [
    "### Balancing data [WIP]"
   ]
  },
  {
   "cell_type": "code",
   "execution_count": null,
   "metadata": {},
   "outputs": [],
   "source": [
    "comments.groupby(\"subreddit\").count().mean()"
   ]
  },
  {
   "cell_type": "markdown",
   "metadata": {},
   "source": [
    "comments - will be keeped all subreddit with more than 100 rows"
   ]
  },
  {
   "cell_type": "code",
   "execution_count": null,
   "metadata": {},
   "outputs": [],
   "source": [
    "posts.groupby(\"subreddit\").count().mean()"
   ]
  },
  {
   "cell_type": "markdown",
   "metadata": {},
   "source": [
    "posts - will be keeped all subreddit with more than 30 rows"
   ]
  },
  {
   "cell_type": "code",
   "execution_count": null,
   "metadata": {},
   "outputs": [],
   "source": [
    "comments['counter'] = comments.body.map(lambda x: len(x))\n",
    "comments.head(5)"
   ]
  },
  {
   "cell_type": "code",
   "execution_count": null,
   "metadata": {},
   "outputs": [],
   "source": [
    "posts['counter_text'] = posts.selftext.map(lambda x: len(x))\n",
    "posts.head(5)"
   ]
  },
  {
   "cell_type": "code",
   "execution_count": null,
   "metadata": {},
   "outputs": [],
   "source": [
    "posts['counter_title'] = posts.title.map(lambda x: len(x))\n",
    "posts.head(5)"
   ]
  },
  {
   "cell_type": "markdown",
   "metadata": {},
   "source": [
    "### Assembling Corpus"
   ]
  },
  {
   "cell_type": "markdown",
   "metadata": {},
   "source": [
    "To proceed we wiil need to:\n",
    "- merge, in posts ds, the columns __title__ and __selftext__ together on order to have ony one corpus (body) for the \n",
    "    corresponding subreddit\n",
    "- create a one only ds from comments and posts, with the related score and subreddit"
   ]
  },
  {
   "cell_type": "markdown",
   "metadata": {},
   "source": [
    "#### Column corpus on posts"
   ]
  },
  {
   "cell_type": "code",
   "execution_count": 27,
   "metadata": {},
   "outputs": [],
   "source": [
    "posts['body']= posts.title + \" \" + posts.selftext"
   ]
  },
  {
   "cell_type": "code",
   "execution_count": 28,
   "metadata": {},
   "outputs": [
    {
     "data": {
      "text/html": [
       "<div>\n",
       "<style scoped>\n",
       "    .dataframe tbody tr th:only-of-type {\n",
       "        vertical-align: middle;\n",
       "    }\n",
       "\n",
       "    .dataframe tbody tr th {\n",
       "        vertical-align: top;\n",
       "    }\n",
       "\n",
       "    .dataframe thead th {\n",
       "        text-align: right;\n",
       "    }\n",
       "</style>\n",
       "<table border=\"1\" class=\"dataframe\">\n",
       "  <thead>\n",
       "    <tr style=\"text-align: right;\">\n",
       "      <th></th>\n",
       "      <th>score</th>\n",
       "      <th>subreddit</th>\n",
       "      <th>title</th>\n",
       "      <th>selftext</th>\n",
       "      <th>body</th>\n",
       "    </tr>\n",
       "  </thead>\n",
       "  <tbody>\n",
       "    <tr>\n",
       "      <th>0</th>\n",
       "      <td>186</td>\n",
       "      <td>3d6</td>\n",
       "      <td>5e Almost 40 AC as a Wizard</td>\n",
       "      <td>Hello everyone and what I said in the title is...</td>\n",
       "      <td>5e Almost 40 AC as a Wizard Hello everyone and...</td>\n",
       "    </tr>\n",
       "    <tr>\n",
       "      <th>1</th>\n",
       "      <td>204</td>\n",
       "      <td>ACT</td>\n",
       "      <td>Adversity Scores</td>\n",
       "      <td>Im going to be switching to the ACT now cause ...</td>\n",
       "      <td>Adversity Scores Im going to be switching to t...</td>\n",
       "    </tr>\n",
       "    <tr>\n",
       "      <th>2</th>\n",
       "      <td>114</td>\n",
       "      <td>AFL</td>\n",
       "      <td>David Mundy A star</td>\n",
       "      <td>If Mundy played for any Melbourne based club t...</td>\n",
       "      <td>David Mundy A star If Mundy played for any Mel...</td>\n",
       "    </tr>\n",
       "    <tr>\n",
       "      <th>3</th>\n",
       "      <td>109</td>\n",
       "      <td>AJR</td>\n",
       "      <td>Indeed there was a song missing</td>\n",
       "      <td>I skipped Beats by accident when I made my pla...</td>\n",
       "      <td>Indeed there was a song missing I skipped Beat...</td>\n",
       "    </tr>\n",
       "    <tr>\n",
       "      <th>4</th>\n",
       "      <td>241</td>\n",
       "      <td>AMA</td>\n",
       "      <td>I spent 55 years on a PhD and then quit AMA</td>\n",
       "      <td>I was in a PhD program for 55 years  Got 40 in...</td>\n",
       "      <td>I spent 55 years on a PhD and then quit AMA I ...</td>\n",
       "    </tr>\n",
       "    <tr>\n",
       "      <th>5</th>\n",
       "      <td>435</td>\n",
       "      <td>AMA</td>\n",
       "      <td>Im an overweight 21 year old who just started ...</td>\n",
       "      <td>Will answer questions after I get off work ton...</td>\n",
       "      <td>Im an overweight 21 year old who just started ...</td>\n",
       "    </tr>\n",
       "    <tr>\n",
       "      <th>6</th>\n",
       "      <td>145</td>\n",
       "      <td>Amd</td>\n",
       "      <td>TheGoodOldGamer latests IPC video something se...</td>\n",
       "      <td>I was surprised to see TheGoodOldGamer latests...</td>\n",
       "      <td>TheGoodOldGamer latests IPC video something se...</td>\n",
       "    </tr>\n",
       "    <tr>\n",
       "      <th>7</th>\n",
       "      <td>177</td>\n",
       "      <td>BPD</td>\n",
       "      <td>The need to have someone</td>\n",
       "      <td>I recently started using Tinder and other dati...</td>\n",
       "      <td>The need to have someone I recently started us...</td>\n",
       "    </tr>\n",
       "    <tr>\n",
       "      <th>8</th>\n",
       "      <td>108</td>\n",
       "      <td>BPD</td>\n",
       "      <td>i just dissociated while driving</td>\n",
       "      <td>i have plans with a friend in about 15 minutes...</td>\n",
       "      <td>i just dissociated while driving i have plans ...</td>\n",
       "    </tr>\n",
       "    <tr>\n",
       "      <th>9</th>\n",
       "      <td>149</td>\n",
       "      <td>CBD</td>\n",
       "      <td>Dog started seizing last night Shoved a pipett...</td>\n",
       "      <td>I saw a video the other day of a dog getting d...</td>\n",
       "      <td>Dog started seizing last night Shoved a pipett...</td>\n",
       "    </tr>\n",
       "    <tr>\n",
       "      <th>10</th>\n",
       "      <td>349</td>\n",
       "      <td>CCW</td>\n",
       "      <td>Just because you draw your gun doesnt mean you...</td>\n",
       "      <td>For fucks sake guys I was just discussing this...</td>\n",
       "      <td>Just because you draw your gun doesnt mean you...</td>\n",
       "    </tr>\n",
       "    <tr>\n",
       "      <th>11</th>\n",
       "      <td>332</td>\n",
       "      <td>CFB</td>\n",
       "      <td>2020 5 SDE Myles Murphy commits to Clemson</td>\n",
       "      <td>Player 247 profile pageSourceMade with the /r/...</td>\n",
       "      <td>2020 5 SDE Myles Murphy commits to Clemson Pla...</td>\n",
       "    </tr>\n",
       "    <tr>\n",
       "      <th>12</th>\n",
       "      <td>702</td>\n",
       "      <td>CFB</td>\n",
       "      <td>2020 Iowa QB commit Deuce Hogan Im going to ma...</td>\n",
       "      <td>Player profile Tweet Article</td>\n",
       "      <td>2020 Iowa QB commit Deuce Hogan Im going to ma...</td>\n",
       "    </tr>\n",
       "    <tr>\n",
       "      <th>13</th>\n",
       "      <td>194</td>\n",
       "      <td>CFB</td>\n",
       "      <td>The Iowa Football Twitter Account has been sus...</td>\n",
       "      <td>Link to profile</td>\n",
       "      <td>The Iowa Football Twitter Account has been sus...</td>\n",
       "    </tr>\n",
       "    <tr>\n",
       "      <th>14</th>\n",
       "      <td>215</td>\n",
       "      <td>CFB</td>\n",
       "      <td>The Iowa State Football Twitter Account has no...</td>\n",
       "      <td>Happened not long ago now both Iowa DI FBS sch...</td>\n",
       "      <td>The Iowa State Football Twitter Account has no...</td>\n",
       "    </tr>\n",
       "    <tr>\n",
       "      <th>15</th>\n",
       "      <td>82</td>\n",
       "      <td>CFB</td>\n",
       "      <td>2020 3 RB Kobe Pryor commits to Clemson</td>\n",
       "      <td></td>\n",
       "      <td>2020 3 RB Kobe Pryor commits to Clemson</td>\n",
       "    </tr>\n",
       "    <tr>\n",
       "      <th>16</th>\n",
       "      <td>128</td>\n",
       "      <td>CFB</td>\n",
       "      <td>If we get NCAA Football back what game modes c...</td>\n",
       "      <td>Here are mine1 RPOs Offenses at all levels hav...</td>\n",
       "      <td>If we get NCAA Football back what game modes c...</td>\n",
       "    </tr>\n",
       "    <tr>\n",
       "      <th>17</th>\n",
       "      <td>83</td>\n",
       "      <td>CFB</td>\n",
       "      <td>2020 3 TE Jonathan Odom commits to Florida</td>\n",
       "      <td></td>\n",
       "      <td>2020 3 TE Jonathan Odom commits to Florida</td>\n",
       "    </tr>\n",
       "    <tr>\n",
       "      <th>18</th>\n",
       "      <td>168</td>\n",
       "      <td>DnD</td>\n",
       "      <td>THE GHOSTS OF SALTMARSH Pregame Thread</td>\n",
       "      <td>The newest book for DampD 5e is Ghosts of Salt...</td>\n",
       "      <td>THE GHOSTS OF SALTMARSH Pregame Thread The new...</td>\n",
       "    </tr>\n",
       "    <tr>\n",
       "      <th>19</th>\n",
       "      <td>141</td>\n",
       "      <td>EDH</td>\n",
       "      <td>NivMizzet Reborn  EDH Budget Deck Tech 25  Gui...</td>\n",
       "      <td>NivMizzet Reborn  EDH Budget Deck Tech 25  Gui...</td>\n",
       "      <td>NivMizzet Reborn  EDH Budget Deck Tech 25  Gui...</td>\n",
       "    </tr>\n",
       "  </tbody>\n",
       "</table>\n",
       "</div>"
      ],
      "text/plain": [
       "    score subreddit                                              title  \\\n",
       "0     186       3d6                        5e Almost 40 AC as a Wizard   \n",
       "1     204       ACT                                   Adversity Scores   \n",
       "2     114       AFL                                 David Mundy A star   \n",
       "3     109       AJR                    Indeed there was a song missing   \n",
       "4     241       AMA        I spent 55 years on a PhD and then quit AMA   \n",
       "5     435       AMA  Im an overweight 21 year old who just started ...   \n",
       "6     145       Amd  TheGoodOldGamer latests IPC video something se...   \n",
       "7     177       BPD                           The need to have someone   \n",
       "8     108       BPD                   i just dissociated while driving   \n",
       "9     149       CBD  Dog started seizing last night Shoved a pipett...   \n",
       "10    349       CCW  Just because you draw your gun doesnt mean you...   \n",
       "11    332       CFB         2020 5 SDE Myles Murphy commits to Clemson   \n",
       "12    702       CFB  2020 Iowa QB commit Deuce Hogan Im going to ma...   \n",
       "13    194       CFB  The Iowa Football Twitter Account has been sus...   \n",
       "14    215       CFB  The Iowa State Football Twitter Account has no...   \n",
       "15     82       CFB            2020 3 RB Kobe Pryor commits to Clemson   \n",
       "16    128       CFB  If we get NCAA Football back what game modes c...   \n",
       "17     83       CFB         2020 3 TE Jonathan Odom commits to Florida   \n",
       "18    168       DnD             THE GHOSTS OF SALTMARSH Pregame Thread   \n",
       "19    141       EDH  NivMizzet Reborn  EDH Budget Deck Tech 25  Gui...   \n",
       "\n",
       "                                             selftext  \\\n",
       "0   Hello everyone and what I said in the title is...   \n",
       "1   Im going to be switching to the ACT now cause ...   \n",
       "2   If Mundy played for any Melbourne based club t...   \n",
       "3   I skipped Beats by accident when I made my pla...   \n",
       "4   I was in a PhD program for 55 years  Got 40 in...   \n",
       "5   Will answer questions after I get off work ton...   \n",
       "6   I was surprised to see TheGoodOldGamer latests...   \n",
       "7   I recently started using Tinder and other dati...   \n",
       "8   i have plans with a friend in about 15 minutes...   \n",
       "9   I saw a video the other day of a dog getting d...   \n",
       "10  For fucks sake guys I was just discussing this...   \n",
       "11  Player 247 profile pageSourceMade with the /r/...   \n",
       "12                      Player profile Tweet Article    \n",
       "13                                   Link to profile    \n",
       "14  Happened not long ago now both Iowa DI FBS sch...   \n",
       "15                                                      \n",
       "16  Here are mine1 RPOs Offenses at all levels hav...   \n",
       "17                                                      \n",
       "18  The newest book for DampD 5e is Ghosts of Salt...   \n",
       "19  NivMizzet Reborn  EDH Budget Deck Tech 25  Gui...   \n",
       "\n",
       "                                                 body  \n",
       "0   5e Almost 40 AC as a Wizard Hello everyone and...  \n",
       "1   Adversity Scores Im going to be switching to t...  \n",
       "2   David Mundy A star If Mundy played for any Mel...  \n",
       "3   Indeed there was a song missing I skipped Beat...  \n",
       "4   I spent 55 years on a PhD and then quit AMA I ...  \n",
       "5   Im an overweight 21 year old who just started ...  \n",
       "6   TheGoodOldGamer latests IPC video something se...  \n",
       "7   The need to have someone I recently started us...  \n",
       "8   i just dissociated while driving i have plans ...  \n",
       "9   Dog started seizing last night Shoved a pipett...  \n",
       "10  Just because you draw your gun doesnt mean you...  \n",
       "11  2020 5 SDE Myles Murphy commits to Clemson Pla...  \n",
       "12  2020 Iowa QB commit Deuce Hogan Im going to ma...  \n",
       "13  The Iowa Football Twitter Account has been sus...  \n",
       "14  The Iowa State Football Twitter Account has no...  \n",
       "15           2020 3 RB Kobe Pryor commits to Clemson   \n",
       "16  If we get NCAA Football back what game modes c...  \n",
       "17        2020 3 TE Jonathan Odom commits to Florida   \n",
       "18  THE GHOSTS OF SALTMARSH Pregame Thread The new...  \n",
       "19  NivMizzet Reborn  EDH Budget Deck Tech 25  Gui...  "
      ]
     },
     "execution_count": 28,
     "metadata": {},
     "output_type": "execute_result"
    }
   ],
   "source": [
    "posts.head(20) #it works properly"
   ]
  },
  {
   "cell_type": "markdown",
   "metadata": {},
   "source": [
    "#### New global ds \"comments_posts_clear\""
   ]
  },
  {
   "cell_type": "markdown",
   "metadata": {},
   "source": [
    "First of all I need to have the same shape of posts ds as comments ds"
   ]
  },
  {
   "cell_type": "code",
   "execution_count": 29,
   "metadata": {},
   "outputs": [],
   "source": [
    "posts_corpus = posts.drop(['title', 'selftext'], axis=1)"
   ]
  },
  {
   "cell_type": "code",
   "execution_count": 30,
   "metadata": {},
   "outputs": [
    {
     "data": {
      "text/html": [
       "<div>\n",
       "<style scoped>\n",
       "    .dataframe tbody tr th:only-of-type {\n",
       "        vertical-align: middle;\n",
       "    }\n",
       "\n",
       "    .dataframe tbody tr th {\n",
       "        vertical-align: top;\n",
       "    }\n",
       "\n",
       "    .dataframe thead th {\n",
       "        text-align: right;\n",
       "    }\n",
       "</style>\n",
       "<table border=\"1\" class=\"dataframe\">\n",
       "  <thead>\n",
       "    <tr style=\"text-align: right;\">\n",
       "      <th></th>\n",
       "      <th>score</th>\n",
       "      <th>subreddit</th>\n",
       "      <th>body</th>\n",
       "    </tr>\n",
       "  </thead>\n",
       "  <tbody>\n",
       "    <tr>\n",
       "      <th>0</th>\n",
       "      <td>186</td>\n",
       "      <td>3d6</td>\n",
       "      <td>5e Almost 40 AC as a Wizard Hello everyone and...</td>\n",
       "    </tr>\n",
       "    <tr>\n",
       "      <th>1</th>\n",
       "      <td>204</td>\n",
       "      <td>ACT</td>\n",
       "      <td>Adversity Scores Im going to be switching to t...</td>\n",
       "    </tr>\n",
       "    <tr>\n",
       "      <th>2</th>\n",
       "      <td>114</td>\n",
       "      <td>AFL</td>\n",
       "      <td>David Mundy A star If Mundy played for any Mel...</td>\n",
       "    </tr>\n",
       "    <tr>\n",
       "      <th>3</th>\n",
       "      <td>109</td>\n",
       "      <td>AJR</td>\n",
       "      <td>Indeed there was a song missing I skipped Beat...</td>\n",
       "    </tr>\n",
       "    <tr>\n",
       "      <th>4</th>\n",
       "      <td>241</td>\n",
       "      <td>AMA</td>\n",
       "      <td>I spent 55 years on a PhD and then quit AMA I ...</td>\n",
       "    </tr>\n",
       "  </tbody>\n",
       "</table>\n",
       "</div>"
      ],
      "text/plain": [
       "   score subreddit                                               body\n",
       "0    186       3d6  5e Almost 40 AC as a Wizard Hello everyone and...\n",
       "1    204       ACT  Adversity Scores Im going to be switching to t...\n",
       "2    114       AFL  David Mundy A star If Mundy played for any Mel...\n",
       "3    109       AJR  Indeed there was a song missing I skipped Beat...\n",
       "4    241       AMA  I spent 55 years on a PhD and then quit AMA I ..."
      ]
     },
     "execution_count": 30,
     "metadata": {},
     "output_type": "execute_result"
    }
   ],
   "source": [
    "posts_corpus.head(5)"
   ]
  },
  {
   "cell_type": "code",
   "execution_count": 31,
   "metadata": {},
   "outputs": [
    {
     "data": {
      "text/html": [
       "<div>\n",
       "<style scoped>\n",
       "    .dataframe tbody tr th:only-of-type {\n",
       "        vertical-align: middle;\n",
       "    }\n",
       "\n",
       "    .dataframe tbody tr th {\n",
       "        vertical-align: top;\n",
       "    }\n",
       "\n",
       "    .dataframe thead th {\n",
       "        text-align: right;\n",
       "    }\n",
       "</style>\n",
       "<table border=\"1\" class=\"dataframe\">\n",
       "  <thead>\n",
       "    <tr style=\"text-align: right;\">\n",
       "      <th></th>\n",
       "      <th>score</th>\n",
       "      <th>subreddit</th>\n",
       "      <th>body</th>\n",
       "    </tr>\n",
       "  </thead>\n",
       "  <tbody>\n",
       "    <tr>\n",
       "      <th>0</th>\n",
       "      <td>125</td>\n",
       "      <td>CCW</td>\n",
       "      <td>Everyone in Brazil is an off duty cop</td>\n",
       "    </tr>\n",
       "    <tr>\n",
       "      <th>1</th>\n",
       "      <td>147</td>\n",
       "      <td>leagueoflegends</td>\n",
       "      <td>Same with huhi wtf</td>\n",
       "    </tr>\n",
       "    <tr>\n",
       "      <th>2</th>\n",
       "      <td>149</td>\n",
       "      <td>BlackPeopleTwitter</td>\n",
       "      <td>Id try it Looks like a commitment thou got no ...</td>\n",
       "    </tr>\n",
       "    <tr>\n",
       "      <th>3</th>\n",
       "      <td>264</td>\n",
       "      <td>instantkarma</td>\n",
       "      <td>I mean he was kicking the glass hard enough it...</td>\n",
       "    </tr>\n",
       "    <tr>\n",
       "      <th>4</th>\n",
       "      <td>307</td>\n",
       "      <td>ffxiv</td>\n",
       "      <td>That female Ronso Everyone is all up in arms a...</td>\n",
       "    </tr>\n",
       "  </tbody>\n",
       "</table>\n",
       "</div>"
      ],
      "text/plain": [
       "   score           subreddit  \\\n",
       "0    125                 CCW   \n",
       "1    147     leagueoflegends   \n",
       "2    149  BlackPeopleTwitter   \n",
       "3    264        instantkarma   \n",
       "4    307               ffxiv   \n",
       "\n",
       "                                                body  \n",
       "0             Everyone in Brazil is an off duty cop   \n",
       "1                                 Same with huhi wtf  \n",
       "2  Id try it Looks like a commitment thou got no ...  \n",
       "3  I mean he was kicking the glass hard enough it...  \n",
       "4  That female Ronso Everyone is all up in arms a...  "
      ]
     },
     "execution_count": 31,
     "metadata": {},
     "output_type": "execute_result"
    }
   ],
   "source": [
    "comments.head(5)"
   ]
  },
  {
   "cell_type": "markdown",
   "metadata": {},
   "source": [
    "Then I can unify our two datasets\n",
    "I can see from the shape of comments and posts if the final ds contains has been correcly created"
   ]
  },
  {
   "cell_type": "code",
   "execution_count": 32,
   "metadata": {},
   "outputs": [
    {
     "data": {
      "text/plain": [
       "(4806645, 3)"
      ]
     },
     "execution_count": 32,
     "metadata": {},
     "output_type": "execute_result"
    }
   ],
   "source": [
    "comments.shape"
   ]
  },
  {
   "cell_type": "code",
   "execution_count": 33,
   "metadata": {},
   "outputs": [
    {
     "data": {
      "text/plain": [
       "(293104, 3)"
      ]
     },
     "execution_count": 33,
     "metadata": {},
     "output_type": "execute_result"
    }
   ],
   "source": [
    "posts_corpus.shape"
   ]
  },
  {
   "cell_type": "code",
   "execution_count": 34,
   "metadata": {},
   "outputs": [],
   "source": [
    "comments_posts_clear = comments.append(posts_corpus)"
   ]
  },
  {
   "cell_type": "code",
   "execution_count": 35,
   "metadata": {},
   "outputs": [
    {
     "data": {
      "text/plain": [
       "(5099749, 3)"
      ]
     },
     "execution_count": 35,
     "metadata": {},
     "output_type": "execute_result"
    }
   ],
   "source": [
    "comments_posts_clear.shape #the sum confirm that the ds are now joint in one only"
   ]
  },
  {
   "cell_type": "code",
   "execution_count": 36,
   "metadata": {},
   "outputs": [
    {
     "data": {
      "text/html": [
       "<div>\n",
       "<style scoped>\n",
       "    .dataframe tbody tr th:only-of-type {\n",
       "        vertical-align: middle;\n",
       "    }\n",
       "\n",
       "    .dataframe tbody tr th {\n",
       "        vertical-align: top;\n",
       "    }\n",
       "\n",
       "    .dataframe thead th {\n",
       "        text-align: right;\n",
       "    }\n",
       "</style>\n",
       "<table border=\"1\" class=\"dataframe\">\n",
       "  <thead>\n",
       "    <tr style=\"text-align: right;\">\n",
       "      <th></th>\n",
       "      <th>score</th>\n",
       "      <th>subreddit</th>\n",
       "      <th>body</th>\n",
       "    </tr>\n",
       "  </thead>\n",
       "  <tbody>\n",
       "    <tr>\n",
       "      <th>0</th>\n",
       "      <td>125</td>\n",
       "      <td>CCW</td>\n",
       "      <td>Everyone in Brazil is an off duty cop</td>\n",
       "    </tr>\n",
       "    <tr>\n",
       "      <th>1</th>\n",
       "      <td>147</td>\n",
       "      <td>leagueoflegends</td>\n",
       "      <td>Same with huhi wtf</td>\n",
       "    </tr>\n",
       "    <tr>\n",
       "      <th>2</th>\n",
       "      <td>149</td>\n",
       "      <td>BlackPeopleTwitter</td>\n",
       "      <td>Id try it Looks like a commitment thou got no ...</td>\n",
       "    </tr>\n",
       "    <tr>\n",
       "      <th>3</th>\n",
       "      <td>264</td>\n",
       "      <td>instantkarma</td>\n",
       "      <td>I mean he was kicking the glass hard enough it...</td>\n",
       "    </tr>\n",
       "    <tr>\n",
       "      <th>4</th>\n",
       "      <td>307</td>\n",
       "      <td>ffxiv</td>\n",
       "      <td>That female Ronso Everyone is all up in arms a...</td>\n",
       "    </tr>\n",
       "  </tbody>\n",
       "</table>\n",
       "</div>"
      ],
      "text/plain": [
       "   score           subreddit  \\\n",
       "0    125                 CCW   \n",
       "1    147     leagueoflegends   \n",
       "2    149  BlackPeopleTwitter   \n",
       "3    264        instantkarma   \n",
       "4    307               ffxiv   \n",
       "\n",
       "                                                body  \n",
       "0             Everyone in Brazil is an off duty cop   \n",
       "1                                 Same with huhi wtf  \n",
       "2  Id try it Looks like a commitment thou got no ...  \n",
       "3  I mean he was kicking the glass hard enough it...  \n",
       "4  That female Ronso Everyone is all up in arms a...  "
      ]
     },
     "execution_count": 36,
     "metadata": {},
     "output_type": "execute_result"
    }
   ],
   "source": [
    "comments_posts_clear.head(5)"
   ]
  },
  {
   "cell_type": "code",
   "execution_count": null,
   "metadata": {},
   "outputs": [],
   "source": []
  },
  {
   "cell_type": "code",
   "execution_count": null,
   "metadata": {},
   "outputs": [],
   "source": []
  },
  {
   "cell_type": "code",
   "execution_count": null,
   "metadata": {},
   "outputs": [],
   "source": []
  },
  {
   "cell_type": "code",
   "execution_count": null,
   "metadata": {},
   "outputs": [],
   "source": []
  },
  {
   "cell_type": "code",
   "execution_count": null,
   "metadata": {},
   "outputs": [],
   "source": []
  },
  {
   "cell_type": "code",
   "execution_count": null,
   "metadata": {},
   "outputs": [],
   "source": []
  },
  {
   "cell_type": "code",
   "execution_count": null,
   "metadata": {},
   "outputs": [],
   "source": []
  },
  {
   "cell_type": "code",
   "execution_count": null,
   "metadata": {},
   "outputs": [],
   "source": []
  },
  {
   "cell_type": "code",
   "execution_count": null,
   "metadata": {},
   "outputs": [],
   "source": []
  }
 ],
 "metadata": {
  "kernelspec": {
   "display_name": "Python 3",
   "language": "python",
   "name": "python3"
  },
  "language_info": {
   "codemirror_mode": {
    "name": "ipython",
    "version": 3
   },
   "file_extension": ".py",
   "mimetype": "text/x-python",
   "name": "python",
   "nbconvert_exporter": "python",
   "pygments_lexer": "ipython3",
   "version": "3.6.7"
  }
 },
 "nbformat": 4,
 "nbformat_minor": 2
}
