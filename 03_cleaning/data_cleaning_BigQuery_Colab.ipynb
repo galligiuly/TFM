{
  "nbformat": 4,
  "nbformat_minor": 0,
  "metadata": {
    "colab": {
      "name": "data_cleaning - BigQuery - Colab.ipynb",
      "provenance": [],
      "collapsed_sections": []
    },
    "kernelspec": {
      "name": "python3",
      "display_name": "Python 3"
    },
    "accelerator": "GPU"
  },
  "cells": [
    {
      "cell_type": "markdown",
      "metadata": {
        "id": "mVFqHlBfdfc8",
        "colab_type": "text"
      },
      "source": [
        "# Data cleaning"
      ]
    },
    {
      "cell_type": "code",
      "metadata": {
        "id": "zKc2rOTKcamX",
        "colab_type": "code",
        "colab": {
          "base_uri": "https://localhost:8080/",
          "height": 34
        },
        "outputId": "d472eda8-5259-4071-dff0-147b7518e670"
      },
      "source": [
        "from google.colab import auth\n",
        "auth.authenticate_user()\n",
        "print('Authenticated')"
      ],
      "execution_count": 33,
      "outputs": [
        {
          "output_type": "stream",
          "text": [
            "Authenticated\n"
          ],
          "name": "stdout"
        }
      ]
    },
    {
      "cell_type": "code",
      "metadata": {
        "id": "Jac_NftOdtn4",
        "colab_type": "code",
        "colab": {
          "base_uri": "https://localhost:8080/",
          "height": 34
        },
        "outputId": "7ed3593d-4a1d-4c92-8879-b0558b410a32"
      },
      "source": [
        "%env GCLOUD_PROJECT=reddit-254019"
      ],
      "execution_count": 5,
      "outputs": [
        {
          "output_type": "stream",
          "text": [
            "env: GCLOUD_PROJECT=reddit-254019\n"
          ],
          "name": "stdout"
        }
      ]
    },
    {
      "cell_type": "markdown",
      "metadata": {
        "id": "MNX4cuDUmnC0",
        "colab_type": "text"
      },
      "source": [
        "## Comments"
      ]
    },
    {
      "cell_type": "code",
      "metadata": {
        "id": "wLE6OObMduFt",
        "colab_type": "code",
        "colab": {}
      },
      "source": [
        "%%bigquery --project reddit-254019 df_comments\n",
        "WITH\n",
        "  q1 AS(\n",
        "  SELECT\n",
        "    subreddit,\n",
        "    body\n",
        "  FROM\n",
        "    `fh-bigquery.reddit_comments.2019_01`\n",
        "  WHERE\n",
        "    LENGTH(body) > 10\n",
        "    AND body != '[deleted]'\n",
        "    AND body != '[removed]'\n",
        "    AND body != '[ Removed by reddit in response to a copyright notice. ]'\n",
        "    AND body != 'NaN'\n",
        "    AND body != '' ),\n",
        "  q2 AS(\n",
        "  SELECT\n",
        "    subreddit,\n",
        "    body\n",
        "  FROM\n",
        "    q1\n",
        "  WHERE\n",
        "    subreddit IN ('politics',\n",
        "      'funny',\n",
        "      'gaming',\n",
        "      'nba',\n",
        "      'worldnews',\n",
        "      'todayilearned',\n",
        "      'movies',\n",
        "      'IAmA',\n",
        "      'atheism',\n",
        "      'aww',\n",
        "      'technology',\n",
        "      'Fitness',\n",
        "      'europe',\n",
        "      'science'))\n",
        "SELECT\n",
        "  subreddit,\n",
        "  body\n",
        "FROM\n",
        "  q2"
      ],
      "execution_count": 0,
      "outputs": []
    },
    {
      "cell_type": "code",
      "metadata": {
        "id": "wOv70iY3mH3S",
        "colab_type": "code",
        "colab": {
          "base_uri": "https://localhost:8080/",
          "height": 204
        },
        "outputId": "97be1e9c-a54c-4076-dfa8-52857ab37006"
      },
      "source": [
        "df_comments.head()"
      ],
      "execution_count": 35,
      "outputs": [
        {
          "output_type": "execute_result",
          "data": {
            "text/html": [
              "<div>\n",
              "<style scoped>\n",
              "    .dataframe tbody tr th:only-of-type {\n",
              "        vertical-align: middle;\n",
              "    }\n",
              "\n",
              "    .dataframe tbody tr th {\n",
              "        vertical-align: top;\n",
              "    }\n",
              "\n",
              "    .dataframe thead th {\n",
              "        text-align: right;\n",
              "    }\n",
              "</style>\n",
              "<table border=\"1\" class=\"dataframe\">\n",
              "  <thead>\n",
              "    <tr style=\"text-align: right;\">\n",
              "      <th></th>\n",
              "      <th>subreddit</th>\n",
              "      <th>body</th>\n",
              "    </tr>\n",
              "  </thead>\n",
              "  <tbody>\n",
              "    <tr>\n",
              "      <th>0</th>\n",
              "      <td>aww</td>\n",
              "      <td>Sigh</td>\n",
              "    </tr>\n",
              "    <tr>\n",
              "      <th>1</th>\n",
              "      <td>aww</td>\n",
              "      <td>Just came here to say that we have exact same ...</td>\n",
              "    </tr>\n",
              "    <tr>\n",
              "      <th>2</th>\n",
              "      <td>aww</td>\n",
              "      <td>Unequivocally “no”</td>\n",
              "    </tr>\n",
              "    <tr>\n",
              "      <th>3</th>\n",
              "      <td>aww</td>\n",
              "      <td>Awesome hubby you have and great FEDEX driver....</td>\n",
              "    </tr>\n",
              "    <tr>\n",
              "      <th>4</th>\n",
              "      <td>aww</td>\n",
              "      <td>He is so handsome. When I was little my parent...</td>\n",
              "    </tr>\n",
              "  </tbody>\n",
              "</table>\n",
              "</div>"
            ],
            "text/plain": [
              "  subreddit                                               body\n",
              "0       aww                                               Sigh\n",
              "1       aww  Just came here to say that we have exact same ...\n",
              "2       aww                                 Unequivocally “no”\n",
              "3       aww  Awesome hubby you have and great FEDEX driver....\n",
              "4       aww  He is so handsome. When I was little my parent..."
            ]
          },
          "metadata": {
            "tags": []
          },
          "execution_count": 35
        }
      ]
    },
    {
      "cell_type": "code",
      "metadata": {
        "id": "Cz85KP7GiLSq",
        "colab_type": "code",
        "colab": {}
      },
      "source": [
        "import pandas as pd\n",
        "import re\n",
        "import numpy as np"
      ],
      "execution_count": 0,
      "outputs": []
    },
    {
      "cell_type": "markdown",
      "metadata": {
        "id": "U66stA5FiQDI",
        "colab_type": "text"
      },
      "source": [
        "The DataSet has been named `df_comments` and it contain comments information of subreddit and body of the comment."
      ]
    },
    {
      "cell_type": "markdown",
      "metadata": {
        "id": "75FJg5J5idWQ",
        "colab_type": "text"
      },
      "source": [
        "### Pre cleaning filters with SQL\n",
        "\n",
        "The df has been pre \"cleaned\":\n",
        "- no data with body \"deleted\"\n",
        "- no data with body \"removed\"\n",
        "- no data with body \"Removed by reddit in response to a copyright notice.\"\n",
        "- no NAN on body\n",
        "- no empty data on body"
      ]
    },
    {
      "cell_type": "markdown",
      "metadata": {
        "id": "vuxUzsNfi38b",
        "colab_type": "text"
      },
      "source": [
        "### Comments - Data Overview"
      ]
    },
    {
      "cell_type": "code",
      "metadata": {
        "id": "_9oiZuARiMMa",
        "colab_type": "code",
        "colab": {
          "base_uri": "https://localhost:8080/",
          "height": 34
        },
        "outputId": "0a34eb17-29ec-41e0-bc60-d96be4511902"
      },
      "source": [
        "df_comments.shape"
      ],
      "execution_count": 37,
      "outputs": [
        {
          "output_type": "execute_result",
          "data": {
            "text/plain": [
              "(8350392, 2)"
            ]
          },
          "metadata": {
            "tags": []
          },
          "execution_count": 37
        }
      ]
    },
    {
      "cell_type": "code",
      "metadata": {
        "id": "Jg-6VIRcjNnm",
        "colab_type": "code",
        "colab": {
          "base_uri": "https://localhost:8080/",
          "height": 173
        },
        "outputId": "79a1d442-1a48-41a6-8ece-99342515202c"
      },
      "source": [
        "df_comments.describe()"
      ],
      "execution_count": 38,
      "outputs": [
        {
          "output_type": "execute_result",
          "data": {
            "text/html": [
              "<div>\n",
              "<style scoped>\n",
              "    .dataframe tbody tr th:only-of-type {\n",
              "        vertical-align: middle;\n",
              "    }\n",
              "\n",
              "    .dataframe tbody tr th {\n",
              "        vertical-align: top;\n",
              "    }\n",
              "\n",
              "    .dataframe thead th {\n",
              "        text-align: right;\n",
              "    }\n",
              "</style>\n",
              "<table border=\"1\" class=\"dataframe\">\n",
              "  <thead>\n",
              "    <tr style=\"text-align: right;\">\n",
              "      <th></th>\n",
              "      <th>subreddit</th>\n",
              "      <th>body</th>\n",
              "    </tr>\n",
              "  </thead>\n",
              "  <tbody>\n",
              "    <tr>\n",
              "      <th>count</th>\n",
              "      <td>8350392</td>\n",
              "      <td>8350392</td>\n",
              "    </tr>\n",
              "    <tr>\n",
              "      <th>unique</th>\n",
              "      <td>14</td>\n",
              "      <td>7906417</td>\n",
              "    </tr>\n",
              "    <tr>\n",
              "      <th>top</th>\n",
              "      <td>politics</td>\n",
              "      <td>\\nAs a reminder, this subreddit [is for civil ...</td>\n",
              "    </tr>\n",
              "    <tr>\n",
              "      <th>freq</th>\n",
              "      <td>2366194</td>\n",
              "      <td>30123</td>\n",
              "    </tr>\n",
              "  </tbody>\n",
              "</table>\n",
              "</div>"
            ],
            "text/plain": [
              "       subreddit                                               body\n",
              "count    8350392                                            8350392\n",
              "unique        14                                            7906417\n",
              "top     politics  \\nAs a reminder, this subreddit [is for civil ...\n",
              "freq     2366194                                              30123"
            ]
          },
          "metadata": {
            "tags": []
          },
          "execution_count": 38
        }
      ]
    },
    {
      "cell_type": "markdown",
      "metadata": {
        "id": "Ov4GT8pTjEmk",
        "colab_type": "text"
      },
      "source": [
        "Check that there are not NaN values"
      ]
    },
    {
      "cell_type": "code",
      "metadata": {
        "id": "YrrTmW3DjWwZ",
        "colab_type": "code",
        "colab": {
          "base_uri": "https://localhost:8080/",
          "height": 68
        },
        "outputId": "73cfd070-7dfd-4b01-ba76-007bf1bee6fa"
      },
      "source": [
        "df_comments.isnull().sum()"
      ],
      "execution_count": 39,
      "outputs": [
        {
          "output_type": "execute_result",
          "data": {
            "text/plain": [
              "subreddit    0\n",
              "body         0\n",
              "dtype: int64"
            ]
          },
          "metadata": {
            "tags": []
          },
          "execution_count": 39
        }
      ]
    },
    {
      "cell_type": "markdown",
      "metadata": {
        "id": "xOBvPjQgjb00",
        "colab_type": "text"
      },
      "source": [
        "Checking the largest text in our comments\n"
      ]
    },
    {
      "cell_type": "code",
      "metadata": {
        "id": "WZK0itzljb9l",
        "colab_type": "code",
        "colab": {
          "base_uri": "https://localhost:8080/",
          "height": 34
        },
        "outputId": "b2c1b6aa-1a5b-4a9e-bae4-9f94e1656ed7"
      },
      "source": [
        "df_comments.body.map(lambda x: len(x)).max()"
      ],
      "execution_count": 40,
      "outputs": [
        {
          "output_type": "execute_result",
          "data": {
            "text/plain": [
              "19983"
            ]
          },
          "metadata": {
            "tags": []
          },
          "execution_count": 40
        }
      ]
    },
    {
      "cell_type": "code",
      "metadata": {
        "id": "ekb6a393FWSt",
        "colab_type": "code",
        "colab": {
          "base_uri": "https://localhost:8080/",
          "height": 34
        },
        "outputId": "ba92b15a-bb71-4ac7-df77-2d8cb1af347e"
      },
      "source": [
        "df_comments.body.map(lambda x: len(x)).min()"
      ],
      "execution_count": 41,
      "outputs": [
        {
          "output_type": "execute_result",
          "data": {
            "text/plain": [
              "1"
            ]
          },
          "metadata": {
            "tags": []
          },
          "execution_count": 41
        }
      ]
    },
    {
      "cell_type": "markdown",
      "metadata": {
        "id": "kZxUetvjjoDU",
        "colab_type": "text"
      },
      "source": [
        "### Comments -  Data Cleaning"
      ]
    },
    {
      "cell_type": "markdown",
      "metadata": {
        "id": "SdEHKJ58j7gk",
        "colab_type": "text"
      },
      "source": [
        "#### HTML\n"
      ]
    },
    {
      "cell_type": "markdown",
      "metadata": {
        "id": "RziZLm4ejqKW",
        "colab_type": "text"
      },
      "source": [
        "As HTLM data does not add more informatio to our text, we clean it. Do to that, we define a function to clean data with regular expressions.\n",
        "\n",
        "http: matches literal characters \\S+: matches all non-whitespace characters (the end of the url) we replace with the empty string"
      ]
    },
    {
      "cell_type": "code",
      "metadata": {
        "id": "Zaaix0ExkDAh",
        "colab_type": "code",
        "colab": {}
      },
      "source": [
        "def remove_html_tags(text):\n",
        "    clean = re.compile(r'http\\S+')\n",
        "    return re.sub(clean, '', str(text))"
      ],
      "execution_count": 0,
      "outputs": []
    },
    {
      "cell_type": "code",
      "metadata": {
        "id": "6K2xjalLkHg9",
        "colab_type": "code",
        "colab": {}
      },
      "source": [
        "df_comments['body'] = df_comments['body'].map(remove_html_tags)"
      ],
      "execution_count": 0,
      "outputs": []
    },
    {
      "cell_type": "markdown",
      "metadata": {
        "id": "_UwTYLS1kGzf",
        "colab_type": "text"
      },
      "source": [
        "#### Line endings\n"
      ]
    },
    {
      "cell_type": "markdown",
      "metadata": {
        "id": "N1whcL_ukRb4",
        "colab_type": "text"
      },
      "source": [
        "Removing **\\n** text from comments"
      ]
    },
    {
      "cell_type": "code",
      "metadata": {
        "id": "mgVQny_rkT5m",
        "colab_type": "code",
        "colab": {}
      },
      "source": [
        "def remove_lineEndings (text):\n",
        "    clean = re.compile(r'\\n')\n",
        "    return re.sub(clean, '', str(text))"
      ],
      "execution_count": 0,
      "outputs": []
    },
    {
      "cell_type": "code",
      "metadata": {
        "id": "vBa1ygMskcn8",
        "colab_type": "code",
        "colab": {}
      },
      "source": [
        "df_comments['body'] = df_comments['body'].map(remove_lineEndings)"
      ],
      "execution_count": 0,
      "outputs": []
    },
    {
      "cell_type": "markdown",
      "metadata": {
        "id": "l3QWsPXukjZq",
        "colab_type": "text"
      },
      "source": [
        "#### Digits/Punctuation/Symbols"
      ]
    },
    {
      "cell_type": "markdown",
      "metadata": {
        "id": "YrWU8yJQkjdY",
        "colab_type": "text"
      },
      "source": [
        "Even if significant information can be hidden in the appearance of the symbols, you’d like to get rid of them."
      ]
    },
    {
      "cell_type": "code",
      "metadata": {
        "id": "F47BZVBBkoF8",
        "colab_type": "code",
        "colab": {}
      },
      "source": [
        "def remove_symbols (text):\n",
        "    clean = re.compile(r'[^a-zA-Z0-9 r/]') #r/ is how to call a subreddit, I want keep it\n",
        "    return re.sub(clean, '', str(text))"
      ],
      "execution_count": 0,
      "outputs": []
    },
    {
      "cell_type": "code",
      "metadata": {
        "id": "6AsfptSqkqo2",
        "colab_type": "code",
        "colab": {}
      },
      "source": [
        "df_comments['body'] = df_comments['body'].map(remove_symbols)"
      ],
      "execution_count": 0,
      "outputs": []
    },
    {
      "cell_type": "markdown",
      "metadata": {
        "id": "yZSioggik1ef",
        "colab_type": "text"
      },
      "source": [
        "## Posts"
      ]
    },
    {
      "cell_type": "code",
      "metadata": {
        "id": "PTKmUFljpSab",
        "colab_type": "code",
        "colab": {}
      },
      "source": [
        "%%bigquery --project reddit-254019 df_posts\n",
        "WITH\n",
        "  q1 AS (\n",
        "  SELECT\n",
        "    subreddit,\n",
        "    title,\n",
        "    selftext\n",
        "  FROM\n",
        "    `fh-bigquery.reddit_posts.2019_01`\n",
        "  WHERE\n",
        "    (LENGTH(title) > 5 AND LENGTH(selftext) > 5)\n",
        "      or ((selftext != '[deleted]' AND length(title) > 5)\n",
        "      AND (selftext != '[removed]' AND length(title) > 5)\n",
        "      AND (selftext != '[ Removed by reddit in response to a copyright notice. ]' AND length(title) > 5)\n",
        "      AND (selftext != 'NaN' AND length(title) > 5)\n",
        "      AND (selftext != '' AND length(title) > 5))),\n",
        "  q2 AS(\n",
        "  SELECT\n",
        "    subreddit,\n",
        "    title,\n",
        "    selftext\n",
        "  FROM\n",
        "    q1\n",
        "  WHERE\n",
        "    subreddit IN ('politics',\n",
        "      'funny',\n",
        "      'gaming',\n",
        "      'nba',\n",
        "      'worldnews',\n",
        "      'todayilearned',\n",
        "      'movies',\n",
        "      'IAmA',\n",
        "      'atheism',\n",
        "      'aww',\n",
        "      'technology',\n",
        "      'Fitness',\n",
        "      'europe',\n",
        "      'science'))\n",
        "SELECT\n",
        "  subreddit,\n",
        "  title, \n",
        "  selftext\n",
        "FROM\n",
        "  q2"
      ],
      "execution_count": 0,
      "outputs": []
    },
    {
      "cell_type": "code",
      "metadata": {
        "id": "X9Bumc7SpdI9",
        "colab_type": "code",
        "colab": {
          "base_uri": "https://localhost:8080/",
          "height": 204
        },
        "outputId": "b8fcca7c-4b06-490e-8934-a758a8d6f7c5"
      },
      "source": [
        "df_posts.head()"
      ],
      "execution_count": 21,
      "outputs": [
        {
          "output_type": "execute_result",
          "data": {
            "text/html": [
              "<div>\n",
              "<style scoped>\n",
              "    .dataframe tbody tr th:only-of-type {\n",
              "        vertical-align: middle;\n",
              "    }\n",
              "\n",
              "    .dataframe tbody tr th {\n",
              "        vertical-align: top;\n",
              "    }\n",
              "\n",
              "    .dataframe thead th {\n",
              "        text-align: right;\n",
              "    }\n",
              "</style>\n",
              "<table border=\"1\" class=\"dataframe\">\n",
              "  <thead>\n",
              "    <tr style=\"text-align: right;\">\n",
              "      <th></th>\n",
              "      <th>subreddit</th>\n",
              "      <th>title</th>\n",
              "      <th>selftext</th>\n",
              "    </tr>\n",
              "  </thead>\n",
              "  <tbody>\n",
              "    <tr>\n",
              "      <th>0</th>\n",
              "      <td>nba</td>\n",
              "      <td>Injury Bug</td>\n",
              "      <td>Out of all of the teams in the league, which o...</td>\n",
              "    </tr>\n",
              "    <tr>\n",
              "      <th>1</th>\n",
              "      <td>nba</td>\n",
              "      <td>Who's the most likely Western Conference All s...</td>\n",
              "      <td>I predict it's going to be Rudy Gobert. He sho...</td>\n",
              "    </tr>\n",
              "    <tr>\n",
              "      <th>2</th>\n",
              "      <td>nba</td>\n",
              "      <td>Trying to compile a comprehensive list of the ...</td>\n",
              "      <td>Would really appreciate y’all’s favorites. I’m...</td>\n",
              "    </tr>\n",
              "    <tr>\n",
              "      <th>3</th>\n",
              "      <td>nba</td>\n",
              "      <td>When talking about bad contracts, why does nob...</td>\n",
              "      <td>Otto Porter has max contract courtesy of the B...</td>\n",
              "    </tr>\n",
              "    <tr>\n",
              "      <th>4</th>\n",
              "      <td>nba</td>\n",
              "      <td>How did Steven Adams get more All Star votes f...</td>\n",
              "      <td>Karl is averaging 23/12/3 with 1.9 blocks and ...</td>\n",
              "    </tr>\n",
              "  </tbody>\n",
              "</table>\n",
              "</div>"
            ],
            "text/plain": [
              "  subreddit  ...                                           selftext\n",
              "0       nba  ...  Out of all of the teams in the league, which o...\n",
              "1       nba  ...  I predict it's going to be Rudy Gobert. He sho...\n",
              "2       nba  ...  Would really appreciate y’all’s favorites. I’m...\n",
              "3       nba  ...  Otto Porter has max contract courtesy of the B...\n",
              "4       nba  ...  Karl is averaging 23/12/3 with 1.9 blocks and ...\n",
              "\n",
              "[5 rows x 3 columns]"
            ]
          },
          "metadata": {
            "tags": []
          },
          "execution_count": 21
        }
      ]
    },
    {
      "cell_type": "markdown",
      "metadata": {
        "id": "bIOBZ2uCpvEu",
        "colab_type": "text"
      },
      "source": [
        "The DataSet has been named `df_postss` and it contain comments information of subreddit title and selftext of a post."
      ]
    },
    {
      "cell_type": "markdown",
      "metadata": {
        "id": "PgENyspOpymK",
        "colab_type": "text"
      },
      "source": [
        "### Pre cleaning filters with SQL\n",
        "\n",
        "The df has been pre \"cleaned\":\n",
        "- no data with selftext \"deleted\" and body length < 5\n",
        "- no data with selftext \"removed\" and body length < 5\n",
        "- no data with selftext \"Removed by reddit in response to a copyright notice.\" and body length < 5\n",
        "- no NAN on selftext and body length < 5\n",
        "- no empty data on selftext and body length < 5"
      ]
    },
    {
      "cell_type": "markdown",
      "metadata": {
        "id": "cr-I8ShoqEvb",
        "colab_type": "text"
      },
      "source": [
        "### Posts - Data Overview"
      ]
    },
    {
      "cell_type": "code",
      "metadata": {
        "id": "zcXxphOvpgVX",
        "colab_type": "code",
        "colab": {
          "base_uri": "https://localhost:8080/",
          "height": 34
        },
        "outputId": "9db86a72-71dc-4c1a-cfd9-85c70649d08f"
      },
      "source": [
        "df_posts.shape"
      ],
      "execution_count": 22,
      "outputs": [
        {
          "output_type": "execute_result",
          "data": {
            "text/plain": [
              "(271117, 3)"
            ]
          },
          "metadata": {
            "tags": []
          },
          "execution_count": 22
        }
      ]
    },
    {
      "cell_type": "code",
      "metadata": {
        "id": "VLE1sG29qOLO",
        "colab_type": "code",
        "colab": {
          "base_uri": "https://localhost:8080/",
          "height": 173
        },
        "outputId": "644590ef-9649-483e-9bbb-a7d6d1f04f8c"
      },
      "source": [
        "df_posts.describe()"
      ],
      "execution_count": 23,
      "outputs": [
        {
          "output_type": "execute_result",
          "data": {
            "text/html": [
              "<div>\n",
              "<style scoped>\n",
              "    .dataframe tbody tr th:only-of-type {\n",
              "        vertical-align: middle;\n",
              "    }\n",
              "\n",
              "    .dataframe tbody tr th {\n",
              "        vertical-align: top;\n",
              "    }\n",
              "\n",
              "    .dataframe thead th {\n",
              "        text-align: right;\n",
              "    }\n",
              "</style>\n",
              "<table border=\"1\" class=\"dataframe\">\n",
              "  <thead>\n",
              "    <tr style=\"text-align: right;\">\n",
              "      <th></th>\n",
              "      <th>subreddit</th>\n",
              "      <th>title</th>\n",
              "      <th>selftext</th>\n",
              "    </tr>\n",
              "  </thead>\n",
              "  <tbody>\n",
              "    <tr>\n",
              "      <th>count</th>\n",
              "      <td>271117</td>\n",
              "      <td>271117</td>\n",
              "      <td>271117</td>\n",
              "    </tr>\n",
              "    <tr>\n",
              "      <th>unique</th>\n",
              "      <td>16</td>\n",
              "      <td>261789</td>\n",
              "      <td>13778</td>\n",
              "    </tr>\n",
              "    <tr>\n",
              "      <th>top</th>\n",
              "      <td>AskReddit</td>\n",
              "      <td>Men, what do you find most confusing about women?</td>\n",
              "      <td>[removed]</td>\n",
              "    </tr>\n",
              "    <tr>\n",
              "      <th>freq</th>\n",
              "      <td>180033</td>\n",
              "      <td>82</td>\n",
              "      <td>141715</td>\n",
              "    </tr>\n",
              "  </tbody>\n",
              "</table>\n",
              "</div>"
            ],
            "text/plain": [
              "        subreddit                                              title   selftext\n",
              "count      271117                                             271117     271117\n",
              "unique         16                                             261789      13778\n",
              "top     AskReddit  Men, what do you find most confusing about women?  [removed]\n",
              "freq       180033                                                 82     141715"
            ]
          },
          "metadata": {
            "tags": []
          },
          "execution_count": 23
        }
      ]
    },
    {
      "cell_type": "markdown",
      "metadata": {
        "id": "iDef6ltsqXNt",
        "colab_type": "text"
      },
      "source": [
        "Check that there are not NaN values"
      ]
    },
    {
      "cell_type": "code",
      "metadata": {
        "id": "QCAVxw2NqXu5",
        "colab_type": "code",
        "colab": {
          "base_uri": "https://localhost:8080/",
          "height": 85
        },
        "outputId": "b81fc4ce-70a8-4bc4-f849-23451495cbf1"
      },
      "source": [
        "df_posts.isnull().sum()"
      ],
      "execution_count": 24,
      "outputs": [
        {
          "output_type": "execute_result",
          "data": {
            "text/plain": [
              "subreddit    0\n",
              "title        0\n",
              "selftext     0\n",
              "dtype: int64"
            ]
          },
          "metadata": {
            "tags": []
          },
          "execution_count": 24
        }
      ]
    },
    {
      "cell_type": "markdown",
      "metadata": {
        "id": "g8QJh7WBqcpz",
        "colab_type": "text"
      },
      "source": [
        "Checking the largest text in our comments"
      ]
    },
    {
      "cell_type": "code",
      "metadata": {
        "id": "wTnmX9efqYCN",
        "colab_type": "code",
        "colab": {
          "base_uri": "https://localhost:8080/",
          "height": 34
        },
        "outputId": "eeb2040a-b5c3-42ea-bd53-32438fe57c85"
      },
      "source": [
        "df_posts.title.map(lambda x: len(x)).max()"
      ],
      "execution_count": 25,
      "outputs": [
        {
          "output_type": "execute_result",
          "data": {
            "text/plain": [
              "320"
            ]
          },
          "metadata": {
            "tags": []
          },
          "execution_count": 25
        }
      ]
    },
    {
      "cell_type": "code",
      "metadata": {
        "id": "NxKIXT_wqpXU",
        "colab_type": "code",
        "colab": {
          "base_uri": "https://localhost:8080/",
          "height": 34
        },
        "outputId": "4c4d75a0-3c25-4463-f2cd-dbd1c28b637d"
      },
      "source": [
        "df_posts.selftext.map(lambda x: len(x)).max()"
      ],
      "execution_count": 26,
      "outputs": [
        {
          "output_type": "execute_result",
          "data": {
            "text/plain": [
              "30407"
            ]
          },
          "metadata": {
            "tags": []
          },
          "execution_count": 26
        }
      ]
    },
    {
      "cell_type": "markdown",
      "metadata": {
        "id": "PR4_Zmk6qpif",
        "colab_type": "text"
      },
      "source": [
        "### Posts -  Data Cleaning"
      ]
    },
    {
      "cell_type": "markdown",
      "metadata": {
        "id": "1yixCuCtqpq2",
        "colab_type": "text"
      },
      "source": [
        "#### HTLM"
      ]
    },
    {
      "cell_type": "markdown",
      "metadata": {
        "id": "2oavD7iQrBZk",
        "colab_type": "text"
      },
      "source": [
        "Removing __html__ text from posts using `remove_html_tags` function"
      ]
    },
    {
      "cell_type": "code",
      "metadata": {
        "id": "1k0JZuryqp5X",
        "colab_type": "code",
        "colab": {}
      },
      "source": [
        "df_posts['title'] = df_posts['title'].map(remove_html_tags)"
      ],
      "execution_count": 0,
      "outputs": []
    },
    {
      "cell_type": "code",
      "metadata": {
        "id": "2wTEwzvTqp8p",
        "colab_type": "code",
        "colab": {}
      },
      "source": [
        "df_posts['selftext'] = df_posts['selftext'].map(remove_html_tags)"
      ],
      "execution_count": 0,
      "outputs": []
    },
    {
      "cell_type": "markdown",
      "metadata": {
        "id": "ZViqZealrK7p",
        "colab_type": "text"
      },
      "source": [
        "#### Line endings"
      ]
    },
    {
      "cell_type": "markdown",
      "metadata": {
        "id": "2HfgYewPrNk6",
        "colab_type": "text"
      },
      "source": [
        "Removing **\\n** text from posts using `remove_lineEndings`function"
      ]
    },
    {
      "cell_type": "code",
      "metadata": {
        "id": "1W4xWif0rLRC",
        "colab_type": "code",
        "colab": {}
      },
      "source": [
        "df_posts['title'] = df_posts['title'].map(remove_lineEndings)"
      ],
      "execution_count": 0,
      "outputs": []
    },
    {
      "cell_type": "code",
      "metadata": {
        "id": "AmKLyEwNrLUj",
        "colab_type": "code",
        "colab": {}
      },
      "source": [
        "df_posts['selftext'] = df_posts['selftext'].map(remove_lineEndings)"
      ],
      "execution_count": 0,
      "outputs": []
    },
    {
      "cell_type": "markdown",
      "metadata": {
        "id": "xX8ZnNoErqBF",
        "colab_type": "text"
      },
      "source": [
        "#### Digits/Punctuation/Symbols"
      ]
    },
    {
      "cell_type": "markdown",
      "metadata": {
        "id": "mnkvNO3rrqM2",
        "colab_type": "text"
      },
      "source": [
        "Removing __symbols__ text from posts usign `remove_symbols`funtction"
      ]
    },
    {
      "cell_type": "code",
      "metadata": {
        "id": "GcSw3HyRrqbW",
        "colab_type": "code",
        "colab": {}
      },
      "source": [
        "df_posts['title'] = df_posts['title'].map(remove_symbols)"
      ],
      "execution_count": 0,
      "outputs": []
    },
    {
      "cell_type": "code",
      "metadata": {
        "id": "hriRANCfrqju",
        "colab_type": "code",
        "colab": {}
      },
      "source": [
        "df_posts['selftext'] = df_posts['selftext'].map(remove_symbols)"
      ],
      "execution_count": 0,
      "outputs": []
    },
    {
      "cell_type": "markdown",
      "metadata": {
        "id": "-IRB8lxRr6_O",
        "colab_type": "text"
      },
      "source": [
        ""
      ]
    }
  ]
}