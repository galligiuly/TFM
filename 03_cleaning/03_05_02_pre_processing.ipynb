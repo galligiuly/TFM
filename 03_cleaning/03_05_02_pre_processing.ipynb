{
  "nbformat": 4,
  "nbformat_minor": 0,
  "metadata": {
    "colab": {
      "name": "05.02_pre-processing.ipynb",
      "provenance": [],
      "collapsed_sections": [],
      "machine_shape": "hm"
    },
    "kernelspec": {
      "name": "python3",
      "display_name": "Python 3"
    },
    "accelerator": "GPU"
  },
  "cells": [
    {
      "cell_type": "markdown",
      "metadata": {
        "id": "VMpUWXNXW_9h",
        "colab_type": "text"
      },
      "source": [
        "# Splitting the origina df"
      ]
    },
    {
      "cell_type": "markdown",
      "metadata": {
        "id": "KDK_Jy8iXI8R",
        "colab_type": "text"
      },
      "source": [
        "Split the dataframe into smallers df with just one subreddit each."
      ]
    },
    {
      "cell_type": "code",
      "metadata": {
        "id": "Y_BLRSIfW4BR",
        "colab_type": "code",
        "outputId": "bc0e1fbf-971f-488e-e34c-d665b20e38a6",
        "colab": {
          "base_uri": "https://localhost:8080/",
          "height": 34
        }
      },
      "source": [
        "from google.colab import auth\n",
        "auth.authenticate_user()\n",
        "print('Authenticated')"
      ],
      "execution_count": 0,
      "outputs": [
        {
          "output_type": "stream",
          "text": [
            "Authenticated\n"
          ],
          "name": "stdout"
        }
      ]
    },
    {
      "cell_type": "code",
      "metadata": {
        "id": "zKMD31vwXTut",
        "colab_type": "code",
        "outputId": "c5be2858-e153-4ce9-8824-be091d2e75e2",
        "colab": {
          "base_uri": "https://localhost:8080/",
          "height": 258
        }
      },
      "source": [
        "!gcloud auth login"
      ],
      "execution_count": 0,
      "outputs": [
        {
          "output_type": "stream",
          "text": [
            "Go to the following link in your browser:\n",
            "\n",
            "    https://accounts.google.com/o/oauth2/auth?code_challenge=lDldjfDaNSBxAXy75YFvJlUZW0CLHVGzI6kdC3cmyYY&prompt=select_account&code_challenge_method=S256&access_type=offline&redirect_uri=urn%3Aietf%3Awg%3Aoauth%3A2.0%3Aoob&response_type=code&client_id=32555940559.apps.googleusercontent.com&scope=https%3A%2F%2Fwww.googleapis.com%2Fauth%2Fuserinfo.email+https%3A%2F%2Fwww.googleapis.com%2Fauth%2Fcloud-platform+https%3A%2F%2Fwww.googleapis.com%2Fauth%2Fappengine.admin+https%3A%2F%2Fwww.googleapis.com%2Fauth%2Fcompute+https%3A%2F%2Fwww.googleapis.com%2Fauth%2Faccounts.reauth\n",
            "\n",
            "\n",
            "Enter verification code: 4/tgEVKC1M-rHJm8P9vsY9jouD3NdH4SUtL0lvkUUVy24Ir5w4z1RIGl0\n",
            "\u001b[1;33mWARNING:\u001b[0m `gcloud auth login` no longer writes application default credentials.\n",
            "If you need to use ADC, see:\n",
            "  gcloud auth application-default --help\n",
            "\n",
            "You are now logged in as [galli.giuly@gmail.com].\n",
            "Your current project is [None].  You can change this setting by running:\n",
            "  $ gcloud config set project PROJECT_ID\n"
          ],
          "name": "stdout"
        }
      ]
    },
    {
      "cell_type": "code",
      "metadata": {
        "id": "EsTk3d69XTre",
        "colab_type": "code",
        "outputId": "690394d7-d5f1-4619-98b4-93ca26d9636a",
        "colab": {
          "base_uri": "https://localhost:8080/",
          "height": 34
        }
      },
      "source": [
        "!gcloud config set project reddit-master"
      ],
      "execution_count": 0,
      "outputs": [
        {
          "output_type": "stream",
          "text": [
            "Updated property [core/project].\n"
          ],
          "name": "stdout"
        }
      ]
    },
    {
      "cell_type": "code",
      "metadata": {
        "id": "0heGDXuQXToi",
        "colab_type": "code",
        "colab": {}
      },
      "source": [
        "import pandas as pd\n",
        "import numpy as np\n",
        "import pickle"
      ],
      "execution_count": 0,
      "outputs": []
    },
    {
      "cell_type": "code",
      "metadata": {
        "id": "rG1P2HO0XTlc",
        "colab_type": "code",
        "outputId": "e8413edd-77ab-437a-dedb-d04bc6696478",
        "colab": {
          "base_uri": "https://localhost:8080/",
          "height": 68
        }
      },
      "source": [
        "!gsutil cp gs://reddit_final_results/comments_posts_tokenized_df_gzip.pkl ."
      ],
      "execution_count": 0,
      "outputs": [
        {
          "output_type": "stream",
          "text": [
            "Copying gs://reddit_final_results/comments_posts_tokenized_df_gzip.pkl...\n",
            "- [1 files][488.7 MiB/488.7 MiB]   31.5 MiB/s                                   \n",
            "Operation completed over 1 objects/488.7 MiB.                                    \n"
          ],
          "name": "stdout"
        }
      ]
    },
    {
      "cell_type": "code",
      "metadata": {
        "id": "B3b8128MXTjB",
        "colab_type": "code",
        "colab": {}
      },
      "source": [
        "comments_posts_tokenized_df = pd.read_pickle(\"/content/comments_posts_tokenized_df_gzip.pkl\", compression=\"gzip\")"
      ],
      "execution_count": 0,
      "outputs": []
    },
    {
      "cell_type": "code",
      "metadata": {
        "id": "mnWLmEDrYxN5",
        "colab_type": "code",
        "outputId": "2cf55bb6-ea7d-4a94-fff4-546007679366",
        "colab": {
          "base_uri": "https://localhost:8080/",
          "height": 68
        }
      },
      "source": [
        "comments_posts_tokenized_df['subreddit'].unique()"
      ],
      "execution_count": 0,
      "outputs": [
        {
          "output_type": "execute_result",
          "data": {
            "text/plain": [
              "array(['aww', 'nba', 'movies', 'todayilearned', 'IAmA', 'Fitness',\n",
              "       'worldnews', 'technology', 'europe', 'politics', 'atheism',\n",
              "       'science', 'funny', 'gaming'], dtype=object)"
            ]
          },
          "metadata": {
            "tags": []
          },
          "execution_count": 10
        }
      ]
    },
    {
      "cell_type": "code",
      "metadata": {
        "id": "6NG1Fp8dYzds",
        "colab_type": "code",
        "outputId": "1303bbc9-ddd4-43d7-fe35-46e26a650944",
        "colab": {
          "base_uri": "https://localhost:8080/",
          "height": 1000
        }
      },
      "source": [
        "for subreddit in comments_posts_tokenized_df['subreddit'].unique():\n",
        "    filename = \"comments_posts_\" + subreddit + \".pkl\"\n",
        "    print(\"working with \" + filename)\n",
        "    df = comments_posts_tokenized_df[comments_posts_tokenized_df['subreddit'] == subreddit]\n",
        "    df.to_pickle(filename)\n",
        "    print(\"finished splitting \" + filename)\n",
        "\n",
        "    !gsutil cp {filename} gs://reddit_final_results/\n",
        "    print(\"uploaded \" + filename)"
      ],
      "execution_count": 0,
      "outputs": [
        {
          "output_type": "stream",
          "text": [
            "working with comments_posts_aww.pkl\n",
            "finished splitting comments_posts_aww.pkl\n",
            "Copying file://comments_posts_aww.pkl [Content-Type=application/octet-stream]...\n",
            "|\n",
            "Operation completed over 1 objects/63.8 MiB.                                     \n",
            "uploaded comments_posts_aww.pkl\n",
            "working with comments_posts_nba.pkl\n",
            "finished splitting comments_posts_nba.pkl\n",
            "Copying file://comments_posts_nba.pkl [Content-Type=application/octet-stream]...\n",
            "|\n",
            "Operation completed over 1 objects/88.3 MiB.                                     \n",
            "uploaded comments_posts_nba.pkl\n",
            "working with comments_posts_movies.pkl\n",
            "finished splitting comments_posts_movies.pkl\n",
            "Copying file://comments_posts_movies.pkl [Content-Type=application/octet-stream]...\n",
            "|\n",
            "Operation completed over 1 objects/103.2 MiB.                                    \n",
            "uploaded comments_posts_movies.pkl\n",
            "working with comments_posts_todayilearned.pkl\n",
            "finished splitting comments_posts_todayilearned.pkl\n",
            "Copying file://comments_posts_todayilearned.pkl [Content-Type=application/octet-stream]...\n",
            "|\n",
            "Operation completed over 1 objects/101.1 MiB.                                    \n",
            "uploaded comments_posts_todayilearned.pkl\n",
            "working with comments_posts_IAmA.pkl\n",
            "finished splitting comments_posts_IAmA.pkl\n",
            "Copying file://comments_posts_IAmA.pkl [Content-Type=application/octet-stream]...\n",
            "|\n",
            "Operation completed over 1 objects/132.8 MiB.                                    \n",
            "uploaded comments_posts_IAmA.pkl\n",
            "working with comments_posts_Fitness.pkl\n",
            "finished splitting comments_posts_Fitness.pkl\n",
            "Copying file://comments_posts_Fitness.pkl [Content-Type=application/octet-stream]...\n",
            "|\n",
            "Operation completed over 1 objects/144.0 MiB.                                    \n",
            "uploaded comments_posts_Fitness.pkl\n",
            "working with comments_posts_worldnews.pkl\n",
            "finished splitting comments_posts_worldnews.pkl\n",
            "Copying file://comments_posts_worldnews.pkl [Content-Type=application/octet-stream]...\n",
            "/\n",
            "Operation completed over 1 objects/134.8 MiB.                                    \n",
            "uploaded comments_posts_worldnews.pkl\n",
            "working with comments_posts_technology.pkl\n",
            "finished splitting comments_posts_technology.pkl\n",
            "Copying file://comments_posts_technology.pkl [Content-Type=application/octet-stream]...\n",
            "/\n",
            "Operation completed over 1 objects/136.2 MiB.                                    \n",
            "uploaded comments_posts_technology.pkl\n",
            "working with comments_posts_europe.pkl\n",
            "finished splitting comments_posts_europe.pkl\n",
            "Copying file://comments_posts_europe.pkl [Content-Type=application/octet-stream]...\n",
            "/\n",
            "Operation completed over 1 objects/128.4 MiB.                                    \n",
            "uploaded comments_posts_europe.pkl\n",
            "working with comments_posts_politics.pkl\n",
            "finished splitting comments_posts_politics.pkl\n",
            "Copying file://comments_posts_politics.pkl [Content-Type=application/octet-stream]...\n",
            "/\n",
            "Operation completed over 1 objects/118.7 MiB.                                    \n",
            "uploaded comments_posts_politics.pkl\n",
            "working with comments_posts_atheism.pkl\n",
            "finished splitting comments_posts_atheism.pkl\n",
            "Copying file://comments_posts_atheism.pkl [Content-Type=application/octet-stream]...\n",
            "/\n",
            "Operation completed over 1 objects/144.0 MiB.                                    \n",
            "uploaded comments_posts_atheism.pkl\n",
            "working with comments_posts_science.pkl\n",
            "finished splitting comments_posts_science.pkl\n",
            "Copying file://comments_posts_science.pkl [Content-Type=application/octet-stream]...\n",
            "/\n",
            "Operation completed over 1 objects/147.5 MiB.                                    \n",
            "uploaded comments_posts_science.pkl\n",
            "working with comments_posts_funny.pkl\n",
            "finished splitting comments_posts_funny.pkl\n",
            "Copying file://comments_posts_funny.pkl [Content-Type=application/octet-stream]...\n",
            "|\n",
            "Operation completed over 1 objects/69.3 MiB.                                     \n",
            "uploaded comments_posts_funny.pkl\n",
            "working with comments_posts_gaming.pkl\n",
            "finished splitting comments_posts_gaming.pkl\n",
            "Copying file://comments_posts_gaming.pkl [Content-Type=application/octet-stream]...\n",
            "|\n",
            "Operation completed over 1 objects/79.4 MiB.                                     \n",
            "uploaded comments_posts_gaming.pkl\n"
          ],
          "name": "stdout"
        }
      ]
    }
  ]
}